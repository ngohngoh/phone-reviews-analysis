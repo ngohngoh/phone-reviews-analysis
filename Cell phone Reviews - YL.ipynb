{
 "cells": [
  {
   "cell_type": "markdown",
   "metadata": {},
   "source": [
    "# Mobile Phone Reviews Analysis - Text Mining"
   ]
  },
  {
   "cell_type": "markdown",
   "metadata": {},
   "source": [
    "## Importing data "
   ]
  },
  {
   "cell_type": "code",
   "execution_count": 64,
   "metadata": {
    "ExecuteTime": {
     "end_time": "2020-03-19T07:28:07.952975Z",
     "start_time": "2020-03-19T07:28:07.947989Z"
    }
   },
   "outputs": [],
   "source": [
    "import pandas as pd\n",
    "import os\n",
    "import datetime\n",
    "import nltk \n",
    "import re\n",
    "import numpy as np\n",
    "import gensim\n",
    "\n",
    "#Note: You will need to install the packages below to use them\n",
    "#from textblob import TextBlob\n",
    "#from vaderSentiment.vaderSentiment import SentimentIntensityAnalyzer"
   ]
  },
  {
   "cell_type": "code",
   "execution_count": 65,
   "metadata": {
    "ExecuteTime": {
     "end_time": "2020-03-19T07:28:17.855560Z",
     "start_time": "2020-03-19T07:28:08.448855Z"
    }
   },
   "outputs": [],
   "source": [
    "#Just write your directory here\n",
    "#data_dir = 'C:/Users/owzhe/Downloads/14-million-cell-phone-reviews/'\n",
    "data_dir = 'C:/Users/Eugene/Desktop/Modules/Text Mining and Language Processing (IS450)/Project/Potential datasets/14-million-cell-phone-reviews/'\n",
    "reviews_files = os.listdir(data_dir)\n",
    "\n",
    "reviews_df = pd.DataFrame()\n",
    "\n",
    "for file in reviews_files:\n",
    "    current = pd.read_csv(data_dir + file, encoding = \"ISO-8859-1\")\n",
    "    reviews_df = reviews_df.append(current)\n",
    "    "
   ]
  },
  {
   "cell_type": "code",
   "execution_count": 66,
   "metadata": {
    "ExecuteTime": {
     "end_time": "2020-03-19T07:28:17.976237Z",
     "start_time": "2020-03-19T07:28:17.857554Z"
    }
   },
   "outputs": [
    {
     "name": "stdout",
     "output_type": "stream",
     "text": [
      "1415133\n"
     ]
    },
    {
     "data": {
      "text/html": [
       "<div>\n",
       "<style scoped>\n",
       "    .dataframe tbody tr th:only-of-type {\n",
       "        vertical-align: middle;\n",
       "    }\n",
       "\n",
       "    .dataframe tbody tr th {\n",
       "        vertical-align: top;\n",
       "    }\n",
       "\n",
       "    .dataframe thead th {\n",
       "        text-align: right;\n",
       "    }\n",
       "</style>\n",
       "<table border=\"1\" class=\"dataframe\">\n",
       "  <thead>\n",
       "    <tr style=\"text-align: right;\">\n",
       "      <th></th>\n",
       "      <th>phone_url</th>\n",
       "      <th>date</th>\n",
       "      <th>lang</th>\n",
       "      <th>country</th>\n",
       "      <th>source</th>\n",
       "      <th>domain</th>\n",
       "      <th>score</th>\n",
       "      <th>score_max</th>\n",
       "      <th>extract</th>\n",
       "      <th>author</th>\n",
       "      <th>product</th>\n",
       "    </tr>\n",
       "  </thead>\n",
       "  <tbody>\n",
       "    <tr>\n",
       "      <th>0</th>\n",
       "      <td>/cellphones/samsung-galaxy-s8/</td>\n",
       "      <td>5/2/2017</td>\n",
       "      <td>en</td>\n",
       "      <td>us</td>\n",
       "      <td>Verizon Wireless</td>\n",
       "      <td>verizonwireless.com</td>\n",
       "      <td>10.0</td>\n",
       "      <td>10.0</td>\n",
       "      <td>As a diehard Samsung fan who has had every Sam...</td>\n",
       "      <td>CarolAnn35</td>\n",
       "      <td>Samsung Galaxy S8</td>\n",
       "    </tr>\n",
       "    <tr>\n",
       "      <th>1</th>\n",
       "      <td>/cellphones/samsung-galaxy-s8/</td>\n",
       "      <td>4/28/2017</td>\n",
       "      <td>en</td>\n",
       "      <td>us</td>\n",
       "      <td>Phone Arena</td>\n",
       "      <td>phonearena.com</td>\n",
       "      <td>10.0</td>\n",
       "      <td>10.0</td>\n",
       "      <td>Love the phone. the phone is sleek and smooth ...</td>\n",
       "      <td>james0923</td>\n",
       "      <td>Samsung Galaxy S8</td>\n",
       "    </tr>\n",
       "    <tr>\n",
       "      <th>2</th>\n",
       "      <td>/cellphones/samsung-galaxy-s8/</td>\n",
       "      <td>5/4/2017</td>\n",
       "      <td>en</td>\n",
       "      <td>us</td>\n",
       "      <td>Amazon</td>\n",
       "      <td>amazon.com</td>\n",
       "      <td>6.0</td>\n",
       "      <td>10.0</td>\n",
       "      <td>Adequate feel. Nice heft. Processor's still sl...</td>\n",
       "      <td>R. Craig</td>\n",
       "      <td>Samsung Galaxy S8 (64GB) G950U 5.8\" 4G LTE Unl...</td>\n",
       "    </tr>\n",
       "    <tr>\n",
       "      <th>3</th>\n",
       "      <td>/cellphones/samsung-galaxy-s8/</td>\n",
       "      <td>5/2/2017</td>\n",
       "      <td>en</td>\n",
       "      <td>us</td>\n",
       "      <td>Samsung</td>\n",
       "      <td>samsung.com</td>\n",
       "      <td>9.2</td>\n",
       "      <td>10.0</td>\n",
       "      <td>Never disappointed. One of the reasons I've be...</td>\n",
       "      <td>Buster2020</td>\n",
       "      <td>Samsung Galaxy S8 64GB (AT&amp;T)</td>\n",
       "    </tr>\n",
       "    <tr>\n",
       "      <th>4</th>\n",
       "      <td>/cellphones/samsung-galaxy-s8/</td>\n",
       "      <td>5/11/2017</td>\n",
       "      <td>en</td>\n",
       "      <td>us</td>\n",
       "      <td>Verizon Wireless</td>\n",
       "      <td>verizonwireless.com</td>\n",
       "      <td>4.0</td>\n",
       "      <td>10.0</td>\n",
       "      <td>I've now found that i'm in a group of people t...</td>\n",
       "      <td>S Ate Mine</td>\n",
       "      <td>Samsung Galaxy S8</td>\n",
       "    </tr>\n",
       "  </tbody>\n",
       "</table>\n",
       "</div>"
      ],
      "text/plain": [
       "                        phone_url       date lang country            source  \\\n",
       "0  /cellphones/samsung-galaxy-s8/   5/2/2017   en      us  Verizon Wireless   \n",
       "1  /cellphones/samsung-galaxy-s8/  4/28/2017   en      us       Phone Arena   \n",
       "2  /cellphones/samsung-galaxy-s8/   5/4/2017   en      us            Amazon   \n",
       "3  /cellphones/samsung-galaxy-s8/   5/2/2017   en      us           Samsung   \n",
       "4  /cellphones/samsung-galaxy-s8/  5/11/2017   en      us  Verizon Wireless   \n",
       "\n",
       "                domain  score  score_max  \\\n",
       "0  verizonwireless.com   10.0       10.0   \n",
       "1       phonearena.com   10.0       10.0   \n",
       "2           amazon.com    6.0       10.0   \n",
       "3          samsung.com    9.2       10.0   \n",
       "4  verizonwireless.com    4.0       10.0   \n",
       "\n",
       "                                             extract       author  \\\n",
       "0  As a diehard Samsung fan who has had every Sam...   CarolAnn35   \n",
       "1  Love the phone. the phone is sleek and smooth ...    james0923   \n",
       "2  Adequate feel. Nice heft. Processor's still sl...     R. Craig   \n",
       "3  Never disappointed. One of the reasons I've be...  Buster2020    \n",
       "4  I've now found that i'm in a group of people t...   S Ate Mine   \n",
       "\n",
       "                                             product  \n",
       "0                                  Samsung Galaxy S8  \n",
       "1                                  Samsung Galaxy S8  \n",
       "2  Samsung Galaxy S8 (64GB) G950U 5.8\" 4G LTE Unl...  \n",
       "3                      Samsung Galaxy S8 64GB (AT&T)  \n",
       "4                                  Samsung Galaxy S8  "
      ]
     },
     "execution_count": 66,
     "metadata": {},
     "output_type": "execute_result"
    }
   ],
   "source": [
    "print(len(reviews_df))\n",
    "reviews_df.head()"
   ]
  },
  {
   "cell_type": "markdown",
   "metadata": {},
   "source": [
    "## EDA "
   ]
  },
  {
   "cell_type": "code",
   "execution_count": 67,
   "metadata": {
    "ExecuteTime": {
     "end_time": "2020-03-19T07:28:20.362312Z",
     "start_time": "2020-03-19T07:28:19.922375Z"
    }
   },
   "outputs": [
    {
     "name": "stdout",
     "output_type": "stream",
     "text": [
      "554746\n"
     ]
    },
    {
     "data": {
      "text/html": [
       "<div>\n",
       "<style scoped>\n",
       "    .dataframe tbody tr th:only-of-type {\n",
       "        vertical-align: middle;\n",
       "    }\n",
       "\n",
       "    .dataframe tbody tr th {\n",
       "        vertical-align: top;\n",
       "    }\n",
       "\n",
       "    .dataframe thead th {\n",
       "        text-align: right;\n",
       "    }\n",
       "</style>\n",
       "<table border=\"1\" class=\"dataframe\">\n",
       "  <thead>\n",
       "    <tr style=\"text-align: right;\">\n",
       "      <th></th>\n",
       "      <th>phone_url</th>\n",
       "      <th>date</th>\n",
       "      <th>lang</th>\n",
       "      <th>country</th>\n",
       "      <th>source</th>\n",
       "      <th>domain</th>\n",
       "      <th>score</th>\n",
       "      <th>score_max</th>\n",
       "      <th>extract</th>\n",
       "      <th>author</th>\n",
       "      <th>product</th>\n",
       "    </tr>\n",
       "  </thead>\n",
       "  <tbody>\n",
       "    <tr>\n",
       "      <th>0</th>\n",
       "      <td>/cellphones/samsung-galaxy-s8/</td>\n",
       "      <td>5/2/2017</td>\n",
       "      <td>en</td>\n",
       "      <td>us</td>\n",
       "      <td>Verizon Wireless</td>\n",
       "      <td>verizonwireless.com</td>\n",
       "      <td>10.0</td>\n",
       "      <td>10.0</td>\n",
       "      <td>As a diehard Samsung fan who has had every Sam...</td>\n",
       "      <td>CarolAnn35</td>\n",
       "      <td>Samsung Galaxy S8</td>\n",
       "    </tr>\n",
       "    <tr>\n",
       "      <th>1</th>\n",
       "      <td>/cellphones/samsung-galaxy-s8/</td>\n",
       "      <td>4/28/2017</td>\n",
       "      <td>en</td>\n",
       "      <td>us</td>\n",
       "      <td>Phone Arena</td>\n",
       "      <td>phonearena.com</td>\n",
       "      <td>10.0</td>\n",
       "      <td>10.0</td>\n",
       "      <td>Love the phone. the phone is sleek and smooth ...</td>\n",
       "      <td>james0923</td>\n",
       "      <td>Samsung Galaxy S8</td>\n",
       "    </tr>\n",
       "    <tr>\n",
       "      <th>2</th>\n",
       "      <td>/cellphones/samsung-galaxy-s8/</td>\n",
       "      <td>5/4/2017</td>\n",
       "      <td>en</td>\n",
       "      <td>us</td>\n",
       "      <td>Amazon</td>\n",
       "      <td>amazon.com</td>\n",
       "      <td>6.0</td>\n",
       "      <td>10.0</td>\n",
       "      <td>Adequate feel. Nice heft. Processor's still sl...</td>\n",
       "      <td>R. Craig</td>\n",
       "      <td>Samsung Galaxy S8 (64GB) G950U 5.8\" 4G LTE Unl...</td>\n",
       "    </tr>\n",
       "    <tr>\n",
       "      <th>3</th>\n",
       "      <td>/cellphones/samsung-galaxy-s8/</td>\n",
       "      <td>5/2/2017</td>\n",
       "      <td>en</td>\n",
       "      <td>us</td>\n",
       "      <td>Samsung</td>\n",
       "      <td>samsung.com</td>\n",
       "      <td>9.2</td>\n",
       "      <td>10.0</td>\n",
       "      <td>Never disappointed. One of the reasons I've be...</td>\n",
       "      <td>Buster2020</td>\n",
       "      <td>Samsung Galaxy S8 64GB (AT&amp;T)</td>\n",
       "    </tr>\n",
       "    <tr>\n",
       "      <th>4</th>\n",
       "      <td>/cellphones/samsung-galaxy-s8/</td>\n",
       "      <td>5/11/2017</td>\n",
       "      <td>en</td>\n",
       "      <td>us</td>\n",
       "      <td>Verizon Wireless</td>\n",
       "      <td>verizonwireless.com</td>\n",
       "      <td>4.0</td>\n",
       "      <td>10.0</td>\n",
       "      <td>I've now found that i'm in a group of people t...</td>\n",
       "      <td>S Ate Mine</td>\n",
       "      <td>Samsung Galaxy S8</td>\n",
       "    </tr>\n",
       "  </tbody>\n",
       "</table>\n",
       "</div>"
      ],
      "text/plain": [
       "                        phone_url       date lang country            source  \\\n",
       "0  /cellphones/samsung-galaxy-s8/   5/2/2017   en      us  Verizon Wireless   \n",
       "1  /cellphones/samsung-galaxy-s8/  4/28/2017   en      us       Phone Arena   \n",
       "2  /cellphones/samsung-galaxy-s8/   5/4/2017   en      us            Amazon   \n",
       "3  /cellphones/samsung-galaxy-s8/   5/2/2017   en      us           Samsung   \n",
       "4  /cellphones/samsung-galaxy-s8/  5/11/2017   en      us  Verizon Wireless   \n",
       "\n",
       "                domain  score  score_max  \\\n",
       "0  verizonwireless.com   10.0       10.0   \n",
       "1       phonearena.com   10.0       10.0   \n",
       "2           amazon.com    6.0       10.0   \n",
       "3          samsung.com    9.2       10.0   \n",
       "4  verizonwireless.com    4.0       10.0   \n",
       "\n",
       "                                             extract       author  \\\n",
       "0  As a diehard Samsung fan who has had every Sam...   CarolAnn35   \n",
       "1  Love the phone. the phone is sleek and smooth ...    james0923   \n",
       "2  Adequate feel. Nice heft. Processor's still sl...     R. Craig   \n",
       "3  Never disappointed. One of the reasons I've be...  Buster2020    \n",
       "4  I've now found that i'm in a group of people t...   S Ate Mine   \n",
       "\n",
       "                                             product  \n",
       "0                                  Samsung Galaxy S8  \n",
       "1                                  Samsung Galaxy S8  \n",
       "2  Samsung Galaxy S8 (64GB) G950U 5.8\" 4G LTE Unl...  \n",
       "3                      Samsung Galaxy S8 64GB (AT&T)  \n",
       "4                                  Samsung Galaxy S8  "
      ]
     },
     "execution_count": 67,
     "metadata": {},
     "output_type": "execute_result"
    }
   ],
   "source": [
    "# Taking only the reviews that are in english\n",
    "reviews_en_df = reviews_df[reviews_df['lang'] == 'en']\n",
    "print(len(reviews_en_df))\n",
    "reviews_en_df.head()"
   ]
  },
  {
   "cell_type": "code",
   "execution_count": 68,
   "metadata": {
    "ExecuteTime": {
     "end_time": "2020-03-19T07:28:21.829608Z",
     "start_time": "2020-03-19T07:28:21.710960Z"
    }
   },
   "outputs": [
    {
     "name": "stdout",
     "output_type": "stream",
     "text": [
      "4533\n",
      "['/cellphones/samsung-galaxy-s8/'\n",
      " '/cellphones/samsung-galaxy-s6-edgeplus/'\n",
      " '/cellphones/samsung-galaxy-s8-plus/' ... '/cellphones/ericsson-pf-768/'\n",
      " '/cellphones/motorola-m3288/' '/cellphones/maxon-mx-3204/']\n"
     ]
    }
   ],
   "source": [
    "print(len(reviews_en_df['phone_url'].unique()))\n",
    "print(reviews_en_df['phone_url'].unique())"
   ]
  },
  {
   "cell_type": "code",
   "execution_count": 69,
   "metadata": {
    "ExecuteTime": {
     "end_time": "2020-03-19T07:28:23.999567Z",
     "start_time": "2020-03-19T07:28:23.995541Z"
    }
   },
   "outputs": [],
   "source": [
    "# Creating the function to return the phone model from the URL\n",
    "def phone_model(url):\n",
    "    phone_type = ' '.join(url[12:-1].split('-')).title()\n",
    "    return phone_type"
   ]
  },
  {
   "cell_type": "code",
   "execution_count": 70,
   "metadata": {
    "ExecuteTime": {
     "end_time": "2020-03-19T07:28:25.111269Z",
     "start_time": "2020-03-19T07:28:24.263184Z"
    }
   },
   "outputs": [
    {
     "name": "stderr",
     "output_type": "stream",
     "text": [
      "C:\\Users\\Eugene\\Anaconda3\\lib\\site-packages\\ipykernel_launcher.py:2: SettingWithCopyWarning: \n",
      "A value is trying to be set on a copy of a slice from a DataFrame.\n",
      "Try using .loc[row_indexer,col_indexer] = value instead\n",
      "\n",
      "See the caveats in the documentation: https://pandas.pydata.org/pandas-docs/stable/user_guide/indexing.html#returning-a-view-versus-a-copy\n",
      "  \n"
     ]
    }
   ],
   "source": [
    "# Applying the phone_model function on the url \n",
    "reviews_en_df['phone_model'] = reviews_en_df['phone_url'].apply(phone_model)"
   ]
  },
  {
   "cell_type": "code",
   "execution_count": 71,
   "metadata": {
    "ExecuteTime": {
     "end_time": "2020-03-19T07:28:26.379619Z",
     "start_time": "2020-03-19T07:28:26.332807Z"
    }
   },
   "outputs": [
    {
     "name": "stdout",
     "output_type": "stream",
     "text": [
      "4533\n"
     ]
    }
   ],
   "source": [
    "print(len(reviews_en_df['phone_model'].unique()))"
   ]
  },
  {
   "cell_type": "code",
   "execution_count": 72,
   "metadata": {
    "ExecuteTime": {
     "end_time": "2020-03-19T07:28:28.009884Z",
     "start_time": "2020-03-19T07:28:27.843799Z"
    },
    "scrolled": true
   },
   "outputs": [],
   "source": [
    "# Creating another copy of the reviews_df\n",
    "reviews_copy_df = reviews_en_df.copy()"
   ]
  },
  {
   "cell_type": "code",
   "execution_count": 73,
   "metadata": {
    "ExecuteTime": {
     "end_time": "2020-03-19T07:28:28.462405Z",
     "start_time": "2020-03-19T07:28:28.458386Z"
    }
   },
   "outputs": [],
   "source": [
    "# Found out that the dates are abit off - majority are in month/day/year but there is around 20k that is day/month/year\n",
    "def check_date(row_date):\n",
    "    month, day, year = row_date.split('/')\n",
    "    isValid = True\n",
    "    try:\n",
    "        datetime.datetime(int(year), int(month), int(day))\n",
    "    except:\n",
    "        isValid = False\n",
    "    \n",
    "    return isValid"
   ]
  },
  {
   "cell_type": "code",
   "execution_count": 74,
   "metadata": {
    "ExecuteTime": {
     "end_time": "2020-03-19T07:28:29.534587Z",
     "start_time": "2020-03-19T07:28:29.530596Z"
    }
   },
   "outputs": [],
   "source": [
    "# Creating a year column\n",
    "def review_year(row_date):\n",
    "    month, day, year = row_date.split('/')\n",
    "\n",
    "    return year"
   ]
  },
  {
   "cell_type": "code",
   "execution_count": 75,
   "metadata": {
    "ExecuteTime": {
     "end_time": "2020-03-19T07:31:13.968752Z",
     "start_time": "2020-03-19T07:31:13.067735Z"
    }
   },
   "outputs": [
    {
     "data": {
      "text/html": [
       "<div>\n",
       "<style scoped>\n",
       "    .dataframe tbody tr th:only-of-type {\n",
       "        vertical-align: middle;\n",
       "    }\n",
       "\n",
       "    .dataframe tbody tr th {\n",
       "        vertical-align: top;\n",
       "    }\n",
       "\n",
       "    .dataframe thead th {\n",
       "        text-align: right;\n",
       "    }\n",
       "</style>\n",
       "<table border=\"1\" class=\"dataframe\">\n",
       "  <thead>\n",
       "    <tr style=\"text-align: right;\">\n",
       "      <th></th>\n",
       "      <th>phone_url</th>\n",
       "      <th>date</th>\n",
       "      <th>lang</th>\n",
       "      <th>country</th>\n",
       "      <th>source</th>\n",
       "      <th>domain</th>\n",
       "      <th>score</th>\n",
       "      <th>score_max</th>\n",
       "      <th>extract</th>\n",
       "      <th>author</th>\n",
       "      <th>product</th>\n",
       "      <th>phone_model</th>\n",
       "      <th>date_check</th>\n",
       "      <th>year</th>\n",
       "    </tr>\n",
       "  </thead>\n",
       "  <tbody>\n",
       "    <tr>\n",
       "      <th>0</th>\n",
       "      <td>/cellphones/samsung-galaxy-s8/</td>\n",
       "      <td>5/2/2017</td>\n",
       "      <td>en</td>\n",
       "      <td>us</td>\n",
       "      <td>Verizon Wireless</td>\n",
       "      <td>verizonwireless.com</td>\n",
       "      <td>10.0</td>\n",
       "      <td>10.0</td>\n",
       "      <td>As a diehard Samsung fan who has had every Sam...</td>\n",
       "      <td>CarolAnn35</td>\n",
       "      <td>Samsung Galaxy S8</td>\n",
       "      <td>Samsung Galaxy S8</td>\n",
       "      <td>True</td>\n",
       "      <td>2017</td>\n",
       "    </tr>\n",
       "    <tr>\n",
       "      <th>1</th>\n",
       "      <td>/cellphones/samsung-galaxy-s8/</td>\n",
       "      <td>4/28/2017</td>\n",
       "      <td>en</td>\n",
       "      <td>us</td>\n",
       "      <td>Phone Arena</td>\n",
       "      <td>phonearena.com</td>\n",
       "      <td>10.0</td>\n",
       "      <td>10.0</td>\n",
       "      <td>Love the phone. the phone is sleek and smooth ...</td>\n",
       "      <td>james0923</td>\n",
       "      <td>Samsung Galaxy S8</td>\n",
       "      <td>Samsung Galaxy S8</td>\n",
       "      <td>True</td>\n",
       "      <td>2017</td>\n",
       "    </tr>\n",
       "    <tr>\n",
       "      <th>2</th>\n",
       "      <td>/cellphones/samsung-galaxy-s8/</td>\n",
       "      <td>5/4/2017</td>\n",
       "      <td>en</td>\n",
       "      <td>us</td>\n",
       "      <td>Amazon</td>\n",
       "      <td>amazon.com</td>\n",
       "      <td>6.0</td>\n",
       "      <td>10.0</td>\n",
       "      <td>Adequate feel. Nice heft. Processor's still sl...</td>\n",
       "      <td>R. Craig</td>\n",
       "      <td>Samsung Galaxy S8 (64GB) G950U 5.8\" 4G LTE Unl...</td>\n",
       "      <td>Samsung Galaxy S8</td>\n",
       "      <td>True</td>\n",
       "      <td>2017</td>\n",
       "    </tr>\n",
       "    <tr>\n",
       "      <th>3</th>\n",
       "      <td>/cellphones/samsung-galaxy-s8/</td>\n",
       "      <td>5/2/2017</td>\n",
       "      <td>en</td>\n",
       "      <td>us</td>\n",
       "      <td>Samsung</td>\n",
       "      <td>samsung.com</td>\n",
       "      <td>9.2</td>\n",
       "      <td>10.0</td>\n",
       "      <td>Never disappointed. One of the reasons I've be...</td>\n",
       "      <td>Buster2020</td>\n",
       "      <td>Samsung Galaxy S8 64GB (AT&amp;T)</td>\n",
       "      <td>Samsung Galaxy S8</td>\n",
       "      <td>True</td>\n",
       "      <td>2017</td>\n",
       "    </tr>\n",
       "    <tr>\n",
       "      <th>4</th>\n",
       "      <td>/cellphones/samsung-galaxy-s8/</td>\n",
       "      <td>5/11/2017</td>\n",
       "      <td>en</td>\n",
       "      <td>us</td>\n",
       "      <td>Verizon Wireless</td>\n",
       "      <td>verizonwireless.com</td>\n",
       "      <td>4.0</td>\n",
       "      <td>10.0</td>\n",
       "      <td>I've now found that i'm in a group of people t...</td>\n",
       "      <td>S Ate Mine</td>\n",
       "      <td>Samsung Galaxy S8</td>\n",
       "      <td>Samsung Galaxy S8</td>\n",
       "      <td>True</td>\n",
       "      <td>2017</td>\n",
       "    </tr>\n",
       "  </tbody>\n",
       "</table>\n",
       "</div>"
      ],
      "text/plain": [
       "                        phone_url       date lang country            source  \\\n",
       "0  /cellphones/samsung-galaxy-s8/   5/2/2017   en      us  Verizon Wireless   \n",
       "1  /cellphones/samsung-galaxy-s8/  4/28/2017   en      us       Phone Arena   \n",
       "2  /cellphones/samsung-galaxy-s8/   5/4/2017   en      us            Amazon   \n",
       "3  /cellphones/samsung-galaxy-s8/   5/2/2017   en      us           Samsung   \n",
       "4  /cellphones/samsung-galaxy-s8/  5/11/2017   en      us  Verizon Wireless   \n",
       "\n",
       "                domain  score  score_max  \\\n",
       "0  verizonwireless.com   10.0       10.0   \n",
       "1       phonearena.com   10.0       10.0   \n",
       "2           amazon.com    6.0       10.0   \n",
       "3          samsung.com    9.2       10.0   \n",
       "4  verizonwireless.com    4.0       10.0   \n",
       "\n",
       "                                             extract       author  \\\n",
       "0  As a diehard Samsung fan who has had every Sam...   CarolAnn35   \n",
       "1  Love the phone. the phone is sleek and smooth ...    james0923   \n",
       "2  Adequate feel. Nice heft. Processor's still sl...     R. Craig   \n",
       "3  Never disappointed. One of the reasons I've be...  Buster2020    \n",
       "4  I've now found that i'm in a group of people t...   S Ate Mine   \n",
       "\n",
       "                                             product        phone_model  \\\n",
       "0                                  Samsung Galaxy S8  Samsung Galaxy S8   \n",
       "1                                  Samsung Galaxy S8  Samsung Galaxy S8   \n",
       "2  Samsung Galaxy S8 (64GB) G950U 5.8\" 4G LTE Unl...  Samsung Galaxy S8   \n",
       "3                      Samsung Galaxy S8 64GB (AT&T)  Samsung Galaxy S8   \n",
       "4                                  Samsung Galaxy S8  Samsung Galaxy S8   \n",
       "\n",
       "   date_check  year  \n",
       "0        True  2017  \n",
       "1        True  2017  \n",
       "2        True  2017  \n",
       "3        True  2017  \n",
       "4        True  2017  "
      ]
     },
     "execution_count": 75,
     "metadata": {},
     "output_type": "execute_result"
    }
   ],
   "source": [
    "reviews_copy_df['date_check'] = reviews_copy_df['date'].apply(check_date)\n",
    "reviews_copy_df['year'] = reviews_copy_df['date'].apply(review_year)\n",
    "reviews_copy_df.head()"
   ]
  },
  {
   "cell_type": "code",
   "execution_count": 76,
   "metadata": {
    "ExecuteTime": {
     "end_time": "2020-03-19T07:31:45.210157Z",
     "start_time": "2020-03-19T07:31:45.050434Z"
    }
   },
   "outputs": [
    {
     "name": "stdout",
     "output_type": "stream",
     "text": [
      "No. of wrong dates: 23448\n",
      "No. of correct dates: 531298\n"
     ]
    }
   ],
   "source": [
    "# Checking the number of wrong and correct dates \n",
    "wrong_dates = reviews_copy_df[reviews_copy_df['date_check'] == False]\n",
    "print('No. of wrong dates:', len(wrong_dates))\n",
    "\n",
    "correct_dates = reviews_copy_df[reviews_copy_df['date_check'] == True]\n",
    "print('No. of correct dates:', len(correct_dates))"
   ]
  },
  {
   "cell_type": "code",
   "execution_count": 77,
   "metadata": {
    "ExecuteTime": {
     "end_time": "2020-03-19T07:31:45.596668Z",
     "start_time": "2020-03-19T07:31:45.590686Z"
    }
   },
   "outputs": [],
   "source": [
    "# Created a function to clean the date for the incorrect date format\n",
    "def clean_date(date):\n",
    "    month, day, year = date.split('/')\n",
    "    return '/'.join([day, month, year])\n",
    "\n",
    "#     for index, row in reviews_df.iterrows():\n",
    "#         month, day, year = row['date'].split('/')\n",
    "#         if row['date_check'] == False:\n",
    "#             reviews_df.loc[index, 'date'] = '/'.join([day, month, year])\n",
    "#             row['date_check'] = True\n",
    "#     return reviews_df"
   ]
  },
  {
   "cell_type": "code",
   "execution_count": 78,
   "metadata": {
    "ExecuteTime": {
     "end_time": "2020-03-19T07:31:46.674979Z",
     "start_time": "2020-03-19T07:31:46.436607Z"
    },
    "scrolled": true
   },
   "outputs": [
    {
     "name": "stderr",
     "output_type": "stream",
     "text": [
      "C:\\Users\\Eugene\\Anaconda3\\lib\\site-packages\\ipykernel_launcher.py:2: SettingWithCopyWarning: \n",
      "A value is trying to be set on a copy of a slice from a DataFrame.\n",
      "Try using .loc[row_indexer,col_indexer] = value instead\n",
      "\n",
      "See the caveats in the documentation: https://pandas.pydata.org/pandas-docs/stable/user_guide/indexing.html#returning-a-view-versus-a-copy\n",
      "  \n"
     ]
    },
    {
     "data": {
      "text/html": [
       "<div>\n",
       "<style scoped>\n",
       "    .dataframe tbody tr th:only-of-type {\n",
       "        vertical-align: middle;\n",
       "    }\n",
       "\n",
       "    .dataframe tbody tr th {\n",
       "        vertical-align: top;\n",
       "    }\n",
       "\n",
       "    .dataframe thead th {\n",
       "        text-align: right;\n",
       "    }\n",
       "</style>\n",
       "<table border=\"1\" class=\"dataframe\">\n",
       "  <thead>\n",
       "    <tr style=\"text-align: right;\">\n",
       "      <th></th>\n",
       "      <th>phone_url</th>\n",
       "      <th>date</th>\n",
       "      <th>lang</th>\n",
       "      <th>country</th>\n",
       "      <th>source</th>\n",
       "      <th>domain</th>\n",
       "      <th>score</th>\n",
       "      <th>score_max</th>\n",
       "      <th>extract</th>\n",
       "      <th>author</th>\n",
       "      <th>product</th>\n",
       "      <th>phone_model</th>\n",
       "      <th>date_check</th>\n",
       "      <th>year</th>\n",
       "    </tr>\n",
       "  </thead>\n",
       "  <tbody>\n",
       "    <tr>\n",
       "      <th>1</th>\n",
       "      <td>/cellphones/samsung-s7262-duos-galaxy-ace/</td>\n",
       "      <td>11/17/2015</td>\n",
       "      <td>en</td>\n",
       "      <td>in</td>\n",
       "      <td>Zopper</td>\n",
       "      <td>zopper.com</td>\n",
       "      <td>10.0</td>\n",
       "      <td>10.0</td>\n",
       "      <td>Decent Functions and Easy to Operate Pros:- Th...</td>\n",
       "      <td>Expert Review</td>\n",
       "      <td>Samsung Galaxy Star Pro S7262 Black</td>\n",
       "      <td>Samsung S7262 Duos Galaxy Ace</td>\n",
       "      <td>False</td>\n",
       "      <td>2015</td>\n",
       "    </tr>\n",
       "    <tr>\n",
       "      <th>2</th>\n",
       "      <td>/cellphones/samsung-s7262-duos-galaxy-ace/</td>\n",
       "      <td>10/29/2015</td>\n",
       "      <td>en</td>\n",
       "      <td>in</td>\n",
       "      <td>Amazon</td>\n",
       "      <td>amazon.in</td>\n",
       "      <td>4.0</td>\n",
       "      <td>10.0</td>\n",
       "      <td>Not Good Phone such price. Hang too much and v...</td>\n",
       "      <td>Amazon Customer</td>\n",
       "      <td>Samsung Galaxy Star Pro GT-S7262 (Midnight Black)</td>\n",
       "      <td>Samsung S7262 Duos Galaxy Ace</td>\n",
       "      <td>False</td>\n",
       "      <td>2015</td>\n",
       "    </tr>\n",
       "    <tr>\n",
       "      <th>3</th>\n",
       "      <td>/cellphones/samsung-s7262-duos-galaxy-ace/</td>\n",
       "      <td>10/29/2015</td>\n",
       "      <td>en</td>\n",
       "      <td>in</td>\n",
       "      <td>Amazon</td>\n",
       "      <td>amazon.in</td>\n",
       "      <td>6.0</td>\n",
       "      <td>10.0</td>\n",
       "      <td>not bad for features</td>\n",
       "      <td>Amazon Customer</td>\n",
       "      <td>Samsung Galaxy Star Pro GT-S7262 (Midnight Black)</td>\n",
       "      <td>Samsung S7262 Duos Galaxy Ace</td>\n",
       "      <td>False</td>\n",
       "      <td>2015</td>\n",
       "    </tr>\n",
       "    <tr>\n",
       "      <th>4</th>\n",
       "      <td>/cellphones/samsung-s7262-duos-galaxy-ace/</td>\n",
       "      <td>10/29/2015</td>\n",
       "      <td>en</td>\n",
       "      <td>in</td>\n",
       "      <td>Amazon</td>\n",
       "      <td>amazon.in</td>\n",
       "      <td>10.0</td>\n",
       "      <td>10.0</td>\n",
       "      <td>Excellent product</td>\n",
       "      <td>NHK</td>\n",
       "      <td>Samsung Galaxy Star Pro GT-S7262 (Midnight Black)</td>\n",
       "      <td>Samsung S7262 Duos Galaxy Ace</td>\n",
       "      <td>False</td>\n",
       "      <td>2015</td>\n",
       "    </tr>\n",
       "    <tr>\n",
       "      <th>5</th>\n",
       "      <td>/cellphones/samsung-s7262-duos-galaxy-ace/</td>\n",
       "      <td>10/27/2015</td>\n",
       "      <td>en</td>\n",
       "      <td>in</td>\n",
       "      <td>Amazon</td>\n",
       "      <td>amazon.in</td>\n",
       "      <td>8.0</td>\n",
       "      <td>10.0</td>\n",
       "      <td>Good in reasonable price</td>\n",
       "      <td>Rupali</td>\n",
       "      <td>Samsung Galaxy Star Pro GT-S7262 (Midnight Black)</td>\n",
       "      <td>Samsung S7262 Duos Galaxy Ace</td>\n",
       "      <td>False</td>\n",
       "      <td>2015</td>\n",
       "    </tr>\n",
       "    <tr>\n",
       "      <th>...</th>\n",
       "      <td>...</td>\n",
       "      <td>...</td>\n",
       "      <td>...</td>\n",
       "      <td>...</td>\n",
       "      <td>...</td>\n",
       "      <td>...</td>\n",
       "      <td>...</td>\n",
       "      <td>...</td>\n",
       "      <td>...</td>\n",
       "      <td>...</td>\n",
       "      <td>...</td>\n",
       "      <td>...</td>\n",
       "      <td>...</td>\n",
       "      <td>...</td>\n",
       "    </tr>\n",
       "    <tr>\n",
       "      <th>97303</th>\n",
       "      <td>/cellphones/motorola-razr-432872/</td>\n",
       "      <td>5/13/2006</td>\n",
       "      <td>en</td>\n",
       "      <td>gb</td>\n",
       "      <td>Ciao</td>\n",
       "      <td>ciao.co.uk</td>\n",
       "      <td>8.0</td>\n",
       "      <td>10.0</td>\n",
       "      <td>I bought this phone originally because I decid...</td>\n",
       "      <td>tblake7</td>\n",
       "      <td>Motorola RAZR</td>\n",
       "      <td>Motorola Razr 432872</td>\n",
       "      <td>False</td>\n",
       "      <td>2006</td>\n",
       "    </tr>\n",
       "    <tr>\n",
       "      <th>97304</th>\n",
       "      <td>/cellphones/motorola-razr-432872/</td>\n",
       "      <td>3/18/2006</td>\n",
       "      <td>en</td>\n",
       "      <td>gb</td>\n",
       "      <td>Ciao</td>\n",
       "      <td>ciao.co.uk</td>\n",
       "      <td>8.0</td>\n",
       "      <td>10.0</td>\n",
       "      <td>After making the switch from an old V60 TDMA, ...</td>\n",
       "      <td>sting_of_the_scorpion</td>\n",
       "      <td>Motorola RAZR</td>\n",
       "      <td>Motorola Razr 432872</td>\n",
       "      <td>False</td>\n",
       "      <td>2006</td>\n",
       "    </tr>\n",
       "    <tr>\n",
       "      <th>97906</th>\n",
       "      <td>/cellphones/alcatel-ot-918d/</td>\n",
       "      <td>1/30/2015</td>\n",
       "      <td>en</td>\n",
       "      <td>us</td>\n",
       "      <td>Amazon</td>\n",
       "      <td>amazon.com</td>\n",
       "      <td>10.0</td>\n",
       "      <td>10.0</td>\n",
       "      <td>Excelente producto</td>\n",
       "      <td>norbys moreno</td>\n",
       "      <td>Alcatel One Touch 918S Mix Unlocked GSM Phone ...</td>\n",
       "      <td>Alcatel Ot 918D</td>\n",
       "      <td>False</td>\n",
       "      <td>2015</td>\n",
       "    </tr>\n",
       "    <tr>\n",
       "      <th>97910</th>\n",
       "      <td>/cellphones/alcatel-ot-918d/</td>\n",
       "      <td>11/25/2013</td>\n",
       "      <td>en</td>\n",
       "      <td>us</td>\n",
       "      <td>Amazon</td>\n",
       "      <td>amazon.com</td>\n",
       "      <td>4.0</td>\n",
       "      <td>10.0</td>\n",
       "      <td>Older Android version, too many junky apps and...</td>\n",
       "      <td>Amazon Customer \"Jarod\"</td>\n",
       "      <td>Alcatel One Touch 918S Mix Unlocked GSM Phone ...</td>\n",
       "      <td>Alcatel Ot 918D</td>\n",
       "      <td>False</td>\n",
       "      <td>2013</td>\n",
       "    </tr>\n",
       "    <tr>\n",
       "      <th>98243</th>\n",
       "      <td>/cellphones/alcatel-ot-908/</td>\n",
       "      <td>9/21/2011</td>\n",
       "      <td>en</td>\n",
       "      <td>us</td>\n",
       "      <td>Phone Arena</td>\n",
       "      <td>phonearena.com</td>\n",
       "      <td>9.0</td>\n",
       "      <td>10.0</td>\n",
       "      <td>Great value phone. Android 2.2.2(Froyo) out of...</td>\n",
       "      <td>Mihai30Rav</td>\n",
       "      <td>Alcatel OT-908</td>\n",
       "      <td>Alcatel Ot 908</td>\n",
       "      <td>False</td>\n",
       "      <td>2011</td>\n",
       "    </tr>\n",
       "  </tbody>\n",
       "</table>\n",
       "<p>23448 rows × 14 columns</p>\n",
       "</div>"
      ],
      "text/plain": [
       "                                        phone_url        date lang country  \\\n",
       "1      /cellphones/samsung-s7262-duos-galaxy-ace/  11/17/2015   en      in   \n",
       "2      /cellphones/samsung-s7262-duos-galaxy-ace/  10/29/2015   en      in   \n",
       "3      /cellphones/samsung-s7262-duos-galaxy-ace/  10/29/2015   en      in   \n",
       "4      /cellphones/samsung-s7262-duos-galaxy-ace/  10/29/2015   en      in   \n",
       "5      /cellphones/samsung-s7262-duos-galaxy-ace/  10/27/2015   en      in   \n",
       "...                                           ...         ...  ...     ...   \n",
       "97303           /cellphones/motorola-razr-432872/   5/13/2006   en      gb   \n",
       "97304           /cellphones/motorola-razr-432872/   3/18/2006   en      gb   \n",
       "97906                /cellphones/alcatel-ot-918d/   1/30/2015   en      us   \n",
       "97910                /cellphones/alcatel-ot-918d/  11/25/2013   en      us   \n",
       "98243                 /cellphones/alcatel-ot-908/   9/21/2011   en      us   \n",
       "\n",
       "            source          domain  score  score_max  \\\n",
       "1           Zopper      zopper.com   10.0       10.0   \n",
       "2           Amazon       amazon.in    4.0       10.0   \n",
       "3           Amazon       amazon.in    6.0       10.0   \n",
       "4           Amazon       amazon.in   10.0       10.0   \n",
       "5           Amazon       amazon.in    8.0       10.0   \n",
       "...            ...             ...    ...        ...   \n",
       "97303         Ciao      ciao.co.uk    8.0       10.0   \n",
       "97304         Ciao      ciao.co.uk    8.0       10.0   \n",
       "97906       Amazon      amazon.com   10.0       10.0   \n",
       "97910       Amazon      amazon.com    4.0       10.0   \n",
       "98243  Phone Arena  phonearena.com    9.0       10.0   \n",
       "\n",
       "                                                 extract  \\\n",
       "1      Decent Functions and Easy to Operate Pros:- Th...   \n",
       "2      Not Good Phone such price. Hang too much and v...   \n",
       "3                                   not bad for features   \n",
       "4                                      Excellent product   \n",
       "5                               Good in reasonable price   \n",
       "...                                                  ...   \n",
       "97303  I bought this phone originally because I decid...   \n",
       "97304  After making the switch from an old V60 TDMA, ...   \n",
       "97906                                 Excelente producto   \n",
       "97910  Older Android version, too many junky apps and...   \n",
       "98243  Great value phone. Android 2.2.2(Froyo) out of...   \n",
       "\n",
       "                        author  \\\n",
       "1                Expert Review   \n",
       "2              Amazon Customer   \n",
       "3              Amazon Customer   \n",
       "4                          NHK   \n",
       "5                       Rupali   \n",
       "...                        ...   \n",
       "97303                  tblake7   \n",
       "97304    sting_of_the_scorpion   \n",
       "97906            norbys moreno   \n",
       "97910  Amazon Customer \"Jarod\"   \n",
       "98243               Mihai30Rav   \n",
       "\n",
       "                                                 product  \\\n",
       "1                    Samsung Galaxy Star Pro S7262 Black   \n",
       "2      Samsung Galaxy Star Pro GT-S7262 (Midnight Black)   \n",
       "3      Samsung Galaxy Star Pro GT-S7262 (Midnight Black)   \n",
       "4      Samsung Galaxy Star Pro GT-S7262 (Midnight Black)   \n",
       "5      Samsung Galaxy Star Pro GT-S7262 (Midnight Black)   \n",
       "...                                                  ...   \n",
       "97303                                      Motorola RAZR   \n",
       "97304                                      Motorola RAZR   \n",
       "97906  Alcatel One Touch 918S Mix Unlocked GSM Phone ...   \n",
       "97910  Alcatel One Touch 918S Mix Unlocked GSM Phone ...   \n",
       "98243                                     Alcatel OT-908   \n",
       "\n",
       "                         phone_model  date_check  year  \n",
       "1      Samsung S7262 Duos Galaxy Ace       False  2015  \n",
       "2      Samsung S7262 Duos Galaxy Ace       False  2015  \n",
       "3      Samsung S7262 Duos Galaxy Ace       False  2015  \n",
       "4      Samsung S7262 Duos Galaxy Ace       False  2015  \n",
       "5      Samsung S7262 Duos Galaxy Ace       False  2015  \n",
       "...                              ...         ...   ...  \n",
       "97303           Motorola Razr 432872       False  2006  \n",
       "97304           Motorola Razr 432872       False  2006  \n",
       "97906                Alcatel Ot 918D       False  2015  \n",
       "97910                Alcatel Ot 918D       False  2013  \n",
       "98243                 Alcatel Ot 908       False  2011  \n",
       "\n",
       "[23448 rows x 14 columns]"
      ]
     },
     "execution_count": 78,
     "metadata": {},
     "output_type": "execute_result"
    }
   ],
   "source": [
    "# Clean up the date format of the dataframe with wrong dates\n",
    "wrong_dates['date'] = wrong_dates['date'].apply(clean_date)\n",
    "wrong_dates"
   ]
  },
  {
   "cell_type": "code",
   "execution_count": 79,
   "metadata": {
    "ExecuteTime": {
     "end_time": "2020-03-19T07:32:37.702990Z",
     "start_time": "2020-03-19T07:32:37.001453Z"
    }
   },
   "outputs": [],
   "source": [
    "# Returning the cleaned dataframe use for analysis \n",
    "cleaned_df = correct_dates.append(wrong_dates, ignore_index=True)\n",
    "cleaned_df = cleaned_df[cleaned_df['year'].astype(int) >= 2013]\n",
    "cleaned_df.drop(columns=['phone_url', 'date_check', 'year'], inplace=True)"
   ]
  },
  {
   "cell_type": "code",
   "execution_count": 80,
   "metadata": {
    "ExecuteTime": {
     "end_time": "2020-03-19T07:32:38.008580Z",
     "start_time": "2020-03-19T07:32:37.704949Z"
    }
   },
   "outputs": [
    {
     "data": {
      "text/plain": [
       "score         158\n",
       "score_max     158\n",
       "extract      3448\n",
       "author        305\n",
       "dtype: int64"
      ]
     },
     "execution_count": 80,
     "metadata": {},
     "output_type": "execute_result"
    }
   ],
   "source": [
    "# Checking null rows\n",
    "null_columns = cleaned_df.columns[cleaned_df.isna().any()]\n",
    "cleaned_df[null_columns].isna().sum()"
   ]
  },
  {
   "cell_type": "code",
   "execution_count": 81,
   "metadata": {
    "ExecuteTime": {
     "end_time": "2020-03-19T07:32:38.140740Z",
     "start_time": "2020-03-19T07:32:38.010574Z"
    }
   },
   "outputs": [
    {
     "data": {
      "text/plain": [
       "400063"
      ]
     },
     "execution_count": 81,
     "metadata": {},
     "output_type": "execute_result"
    }
   ],
   "source": [
    "cleaned_df.dropna(subset=['extract'], inplace=True)\n",
    "len(cleaned_df)"
   ]
  },
  {
   "cell_type": "code",
   "execution_count": 82,
   "metadata": {},
   "outputs": [],
   "source": [
    "#Removing pre-2007 reviews\n",
    "# date_list = cleaned_df.loc[:,'date'].tolist()\n",
    "# year_list = []\n",
    "# for dates in date_list:\n",
    "#     year = dates[-4:]\n",
    "#     if (int(year)>=2007):\n",
    "#         year_list.append(year)\n",
    "#     else:\n",
    "#         year_list.append(\"drop\")\n",
    "# cleaned_df.insert(0, 'year', year_list)\n",
    "# cleaned_df.drop( cleaned_df[ cleaned_df['year'] == \"drop\" ].index , inplace=True)\n",
    "# cleaned_df.drop(['year'], axis=1, inplace = True)\n",
    "# len(cleaned_df)"
   ]
  },
  {
   "cell_type": "markdown",
   "metadata": {},
   "source": [
    "## Storing/Opening pickle file for the cleaned dataframe "
   ]
  },
  {
   "cell_type": "code",
   "execution_count": 83,
   "metadata": {
    "ExecuteTime": {
     "end_time": "2020-03-21T15:47:20.116098Z",
     "start_time": "2020-03-21T15:47:17.961898Z"
    }
   },
   "outputs": [],
   "source": [
    "import pickle \n",
    "\n",
    "###@@@@@@@@@ THIS IS TO ***SAVE*** THE CLEANED DATAFRAME FROM ABOVE @@@@@@@@@###\n",
    "# pickle.dump(cleaned_df, open(\"cleaned_reviews_df.pkl\", \"wb\"))\n",
    "\n",
    "###@@@@@@@@@ THIS IS TO ***OPEN*** THE CLEANED DATAFRAME FROM THE STORED PICKLE FILE @@@@@@@@@###\n",
    "### CHECKPOINT - can just load the pickle file and start running your analysis\n",
    "#cleaned_df = pickle.load(open(\"C:/Users/owzhe/OneDrive/Documents/GitHub/phone-reviews-analysis/Pickle Files/cleaned_reviews_df.pkl\", \"rb\"))"
   ]
  },
  {
   "cell_type": "code",
   "execution_count": 84,
   "metadata": {
    "ExecuteTime": {
     "end_time": "2020-03-21T15:48:00.172126Z",
     "start_time": "2020-03-21T15:48:00.158164Z"
    }
   },
   "outputs": [
    {
     "data": {
      "text/html": [
       "<div>\n",
       "<style scoped>\n",
       "    .dataframe tbody tr th:only-of-type {\n",
       "        vertical-align: middle;\n",
       "    }\n",
       "\n",
       "    .dataframe tbody tr th {\n",
       "        vertical-align: top;\n",
       "    }\n",
       "\n",
       "    .dataframe thead th {\n",
       "        text-align: right;\n",
       "    }\n",
       "</style>\n",
       "<table border=\"1\" class=\"dataframe\">\n",
       "  <thead>\n",
       "    <tr style=\"text-align: right;\">\n",
       "      <th></th>\n",
       "      <th>date</th>\n",
       "      <th>lang</th>\n",
       "      <th>country</th>\n",
       "      <th>source</th>\n",
       "      <th>domain</th>\n",
       "      <th>score</th>\n",
       "      <th>score_max</th>\n",
       "      <th>extract</th>\n",
       "      <th>author</th>\n",
       "      <th>product</th>\n",
       "      <th>phone_model</th>\n",
       "    </tr>\n",
       "  </thead>\n",
       "  <tbody>\n",
       "    <tr>\n",
       "      <th>0</th>\n",
       "      <td>5/2/2017</td>\n",
       "      <td>en</td>\n",
       "      <td>us</td>\n",
       "      <td>Verizon Wireless</td>\n",
       "      <td>verizonwireless.com</td>\n",
       "      <td>10.0</td>\n",
       "      <td>10.0</td>\n",
       "      <td>As a diehard Samsung fan who has had every Sam...</td>\n",
       "      <td>CarolAnn35</td>\n",
       "      <td>Samsung Galaxy S8</td>\n",
       "      <td>Samsung Galaxy S8</td>\n",
       "    </tr>\n",
       "    <tr>\n",
       "      <th>1</th>\n",
       "      <td>4/28/2017</td>\n",
       "      <td>en</td>\n",
       "      <td>us</td>\n",
       "      <td>Phone Arena</td>\n",
       "      <td>phonearena.com</td>\n",
       "      <td>10.0</td>\n",
       "      <td>10.0</td>\n",
       "      <td>Love the phone. the phone is sleek and smooth ...</td>\n",
       "      <td>james0923</td>\n",
       "      <td>Samsung Galaxy S8</td>\n",
       "      <td>Samsung Galaxy S8</td>\n",
       "    </tr>\n",
       "    <tr>\n",
       "      <th>2</th>\n",
       "      <td>5/4/2017</td>\n",
       "      <td>en</td>\n",
       "      <td>us</td>\n",
       "      <td>Amazon</td>\n",
       "      <td>amazon.com</td>\n",
       "      <td>6.0</td>\n",
       "      <td>10.0</td>\n",
       "      <td>Adequate feel. Nice heft. Processor's still sl...</td>\n",
       "      <td>R. Craig</td>\n",
       "      <td>Samsung Galaxy S8 (64GB) G950U 5.8\" 4G LTE Unl...</td>\n",
       "      <td>Samsung Galaxy S8</td>\n",
       "    </tr>\n",
       "    <tr>\n",
       "      <th>3</th>\n",
       "      <td>5/2/2017</td>\n",
       "      <td>en</td>\n",
       "      <td>us</td>\n",
       "      <td>Samsung</td>\n",
       "      <td>samsung.com</td>\n",
       "      <td>9.2</td>\n",
       "      <td>10.0</td>\n",
       "      <td>Never disappointed. One of the reasons I've be...</td>\n",
       "      <td>Buster2020</td>\n",
       "      <td>Samsung Galaxy S8 64GB (AT&amp;T)</td>\n",
       "      <td>Samsung Galaxy S8</td>\n",
       "    </tr>\n",
       "    <tr>\n",
       "      <th>4</th>\n",
       "      <td>5/11/2017</td>\n",
       "      <td>en</td>\n",
       "      <td>us</td>\n",
       "      <td>Verizon Wireless</td>\n",
       "      <td>verizonwireless.com</td>\n",
       "      <td>4.0</td>\n",
       "      <td>10.0</td>\n",
       "      <td>I've now found that i'm in a group of people t...</td>\n",
       "      <td>S Ate Mine</td>\n",
       "      <td>Samsung Galaxy S8</td>\n",
       "      <td>Samsung Galaxy S8</td>\n",
       "    </tr>\n",
       "  </tbody>\n",
       "</table>\n",
       "</div>"
      ],
      "text/plain": [
       "        date lang country            source               domain  score  \\\n",
       "0   5/2/2017   en      us  Verizon Wireless  verizonwireless.com   10.0   \n",
       "1  4/28/2017   en      us       Phone Arena       phonearena.com   10.0   \n",
       "2   5/4/2017   en      us            Amazon           amazon.com    6.0   \n",
       "3   5/2/2017   en      us           Samsung          samsung.com    9.2   \n",
       "4  5/11/2017   en      us  Verizon Wireless  verizonwireless.com    4.0   \n",
       "\n",
       "   score_max                                            extract       author  \\\n",
       "0       10.0  As a diehard Samsung fan who has had every Sam...   CarolAnn35   \n",
       "1       10.0  Love the phone. the phone is sleek and smooth ...    james0923   \n",
       "2       10.0  Adequate feel. Nice heft. Processor's still sl...     R. Craig   \n",
       "3       10.0  Never disappointed. One of the reasons I've be...  Buster2020    \n",
       "4       10.0  I've now found that i'm in a group of people t...   S Ate Mine   \n",
       "\n",
       "                                             product        phone_model  \n",
       "0                                  Samsung Galaxy S8  Samsung Galaxy S8  \n",
       "1                                  Samsung Galaxy S8  Samsung Galaxy S8  \n",
       "2  Samsung Galaxy S8 (64GB) G950U 5.8\" 4G LTE Unl...  Samsung Galaxy S8  \n",
       "3                      Samsung Galaxy S8 64GB (AT&T)  Samsung Galaxy S8  \n",
       "4                                  Samsung Galaxy S8  Samsung Galaxy S8  "
      ]
     },
     "execution_count": 84,
     "metadata": {},
     "output_type": "execute_result"
    }
   ],
   "source": [
    "cleaned_df.head()"
   ]
  },
  {
   "cell_type": "code",
   "execution_count": 85,
   "metadata": {
    "ExecuteTime": {
     "end_time": "2020-03-21T15:48:19.368094Z",
     "start_time": "2020-03-21T15:48:19.361113Z"
    }
   },
   "outputs": [
    {
     "data": {
      "text/html": [
       "<div>\n",
       "<style scoped>\n",
       "    .dataframe tbody tr th:only-of-type {\n",
       "        vertical-align: middle;\n",
       "    }\n",
       "\n",
       "    .dataframe tbody tr th {\n",
       "        vertical-align: top;\n",
       "    }\n",
       "\n",
       "    .dataframe thead th {\n",
       "        text-align: right;\n",
       "    }\n",
       "</style>\n",
       "<table border=\"1\" class=\"dataframe\">\n",
       "  <thead>\n",
       "    <tr style=\"text-align: right;\">\n",
       "      <th></th>\n",
       "      <th>date</th>\n",
       "      <th>lang</th>\n",
       "      <th>country</th>\n",
       "      <th>source</th>\n",
       "      <th>domain</th>\n",
       "      <th>score</th>\n",
       "      <th>score_max</th>\n",
       "      <th>extract</th>\n",
       "      <th>author</th>\n",
       "      <th>product</th>\n",
       "      <th>phone_model</th>\n",
       "      <th>index</th>\n",
       "    </tr>\n",
       "  </thead>\n",
       "  <tbody>\n",
       "    <tr>\n",
       "      <th>0</th>\n",
       "      <td>5/2/2017</td>\n",
       "      <td>en</td>\n",
       "      <td>us</td>\n",
       "      <td>Verizon Wireless</td>\n",
       "      <td>verizonwireless.com</td>\n",
       "      <td>10.0</td>\n",
       "      <td>10.0</td>\n",
       "      <td>As a diehard Samsung fan who has had every Sam...</td>\n",
       "      <td>CarolAnn35</td>\n",
       "      <td>Samsung Galaxy S8</td>\n",
       "      <td>Samsung Galaxy S8</td>\n",
       "      <td>0</td>\n",
       "    </tr>\n",
       "    <tr>\n",
       "      <th>1</th>\n",
       "      <td>4/28/2017</td>\n",
       "      <td>en</td>\n",
       "      <td>us</td>\n",
       "      <td>Phone Arena</td>\n",
       "      <td>phonearena.com</td>\n",
       "      <td>10.0</td>\n",
       "      <td>10.0</td>\n",
       "      <td>Love the phone. the phone is sleek and smooth ...</td>\n",
       "      <td>james0923</td>\n",
       "      <td>Samsung Galaxy S8</td>\n",
       "      <td>Samsung Galaxy S8</td>\n",
       "      <td>1</td>\n",
       "    </tr>\n",
       "    <tr>\n",
       "      <th>2</th>\n",
       "      <td>5/4/2017</td>\n",
       "      <td>en</td>\n",
       "      <td>us</td>\n",
       "      <td>Amazon</td>\n",
       "      <td>amazon.com</td>\n",
       "      <td>6.0</td>\n",
       "      <td>10.0</td>\n",
       "      <td>Adequate feel. Nice heft. Processor's still sl...</td>\n",
       "      <td>R. Craig</td>\n",
       "      <td>Samsung Galaxy S8 (64GB) G950U 5.8\" 4G LTE Unl...</td>\n",
       "      <td>Samsung Galaxy S8</td>\n",
       "      <td>2</td>\n",
       "    </tr>\n",
       "    <tr>\n",
       "      <th>3</th>\n",
       "      <td>5/2/2017</td>\n",
       "      <td>en</td>\n",
       "      <td>us</td>\n",
       "      <td>Samsung</td>\n",
       "      <td>samsung.com</td>\n",
       "      <td>9.2</td>\n",
       "      <td>10.0</td>\n",
       "      <td>Never disappointed. One of the reasons I've be...</td>\n",
       "      <td>Buster2020</td>\n",
       "      <td>Samsung Galaxy S8 64GB (AT&amp;T)</td>\n",
       "      <td>Samsung Galaxy S8</td>\n",
       "      <td>3</td>\n",
       "    </tr>\n",
       "    <tr>\n",
       "      <th>4</th>\n",
       "      <td>5/11/2017</td>\n",
       "      <td>en</td>\n",
       "      <td>us</td>\n",
       "      <td>Verizon Wireless</td>\n",
       "      <td>verizonwireless.com</td>\n",
       "      <td>4.0</td>\n",
       "      <td>10.0</td>\n",
       "      <td>I've now found that i'm in a group of people t...</td>\n",
       "      <td>S Ate Mine</td>\n",
       "      <td>Samsung Galaxy S8</td>\n",
       "      <td>Samsung Galaxy S8</td>\n",
       "      <td>4</td>\n",
       "    </tr>\n",
       "    <tr>\n",
       "      <th>...</th>\n",
       "      <td>...</td>\n",
       "      <td>...</td>\n",
       "      <td>...</td>\n",
       "      <td>...</td>\n",
       "      <td>...</td>\n",
       "      <td>...</td>\n",
       "      <td>...</td>\n",
       "      <td>...</td>\n",
       "      <td>...</td>\n",
       "      <td>...</td>\n",
       "      <td>...</td>\n",
       "      <td>...</td>\n",
       "    </tr>\n",
       "    <tr>\n",
       "      <th>554608</th>\n",
       "      <td>3/18/2014</td>\n",
       "      <td>en</td>\n",
       "      <td>us</td>\n",
       "      <td>Amazon</td>\n",
       "      <td>amazon.com</td>\n",
       "      <td>8.0</td>\n",
       "      <td>10.0</td>\n",
       "      <td>I love this phone! The only problem I have is ...</td>\n",
       "      <td>Brandi \"Brandi\"</td>\n",
       "      <td>Motorola Droid RAZR 4G LTE Android Smartphone ...</td>\n",
       "      <td>Motorola Razr 432872</td>\n",
       "      <td>400058</td>\n",
       "    </tr>\n",
       "    <tr>\n",
       "      <th>554609</th>\n",
       "      <td>1/21/2014</td>\n",
       "      <td>en</td>\n",
       "      <td>us</td>\n",
       "      <td>Amazon</td>\n",
       "      <td>amazon.com</td>\n",
       "      <td>10.0</td>\n",
       "      <td>10.0</td>\n",
       "      <td>I love the 4G internet. I like all of the appl...</td>\n",
       "      <td>Amazon Customer</td>\n",
       "      <td>Motorola Droid RAZR 4G LTE Android Smartphone ...</td>\n",
       "      <td>Motorola Razr 432872</td>\n",
       "      <td>400059</td>\n",
       "    </tr>\n",
       "    <tr>\n",
       "      <th>554610</th>\n",
       "      <td>8/30/2013</td>\n",
       "      <td>en</td>\n",
       "      <td>us</td>\n",
       "      <td>Amazon</td>\n",
       "      <td>amazon.com</td>\n",
       "      <td>10.0</td>\n",
       "      <td>10.0</td>\n",
       "      <td>This phone works great. Is in good condition. ...</td>\n",
       "      <td>roshanda</td>\n",
       "      <td>Motorola Droid RAZR 4G LTE Android Smartphone ...</td>\n",
       "      <td>Motorola Razr 432872</td>\n",
       "      <td>400060</td>\n",
       "    </tr>\n",
       "    <tr>\n",
       "      <th>554743</th>\n",
       "      <td>1/30/2015</td>\n",
       "      <td>en</td>\n",
       "      <td>us</td>\n",
       "      <td>Amazon</td>\n",
       "      <td>amazon.com</td>\n",
       "      <td>10.0</td>\n",
       "      <td>10.0</td>\n",
       "      <td>Excelente producto</td>\n",
       "      <td>norbys moreno</td>\n",
       "      <td>Alcatel One Touch 918S Mix Unlocked GSM Phone ...</td>\n",
       "      <td>Alcatel Ot 918D</td>\n",
       "      <td>400061</td>\n",
       "    </tr>\n",
       "    <tr>\n",
       "      <th>554744</th>\n",
       "      <td>11/25/2013</td>\n",
       "      <td>en</td>\n",
       "      <td>us</td>\n",
       "      <td>Amazon</td>\n",
       "      <td>amazon.com</td>\n",
       "      <td>4.0</td>\n",
       "      <td>10.0</td>\n",
       "      <td>Older Android version, too many junky apps and...</td>\n",
       "      <td>Amazon Customer \"Jarod\"</td>\n",
       "      <td>Alcatel One Touch 918S Mix Unlocked GSM Phone ...</td>\n",
       "      <td>Alcatel Ot 918D</td>\n",
       "      <td>400062</td>\n",
       "    </tr>\n",
       "  </tbody>\n",
       "</table>\n",
       "<p>400063 rows × 12 columns</p>\n",
       "</div>"
      ],
      "text/plain": [
       "              date lang country            source               domain  score  \\\n",
       "0         5/2/2017   en      us  Verizon Wireless  verizonwireless.com   10.0   \n",
       "1        4/28/2017   en      us       Phone Arena       phonearena.com   10.0   \n",
       "2         5/4/2017   en      us            Amazon           amazon.com    6.0   \n",
       "3         5/2/2017   en      us           Samsung          samsung.com    9.2   \n",
       "4        5/11/2017   en      us  Verizon Wireless  verizonwireless.com    4.0   \n",
       "...            ...  ...     ...               ...                  ...    ...   \n",
       "554608   3/18/2014   en      us            Amazon           amazon.com    8.0   \n",
       "554609   1/21/2014   en      us            Amazon           amazon.com   10.0   \n",
       "554610   8/30/2013   en      us            Amazon           amazon.com   10.0   \n",
       "554743   1/30/2015   en      us            Amazon           amazon.com   10.0   \n",
       "554744  11/25/2013   en      us            Amazon           amazon.com    4.0   \n",
       "\n",
       "        score_max                                            extract  \\\n",
       "0            10.0  As a diehard Samsung fan who has had every Sam...   \n",
       "1            10.0  Love the phone. the phone is sleek and smooth ...   \n",
       "2            10.0  Adequate feel. Nice heft. Processor's still sl...   \n",
       "3            10.0  Never disappointed. One of the reasons I've be...   \n",
       "4            10.0  I've now found that i'm in a group of people t...   \n",
       "...           ...                                                ...   \n",
       "554608       10.0  I love this phone! The only problem I have is ...   \n",
       "554609       10.0  I love the 4G internet. I like all of the appl...   \n",
       "554610       10.0  This phone works great. Is in good condition. ...   \n",
       "554743       10.0                                 Excelente producto   \n",
       "554744       10.0  Older Android version, too many junky apps and...   \n",
       "\n",
       "                         author  \\\n",
       "0                    CarolAnn35   \n",
       "1                     james0923   \n",
       "2                      R. Craig   \n",
       "3                   Buster2020    \n",
       "4                    S Ate Mine   \n",
       "...                         ...   \n",
       "554608          Brandi \"Brandi\"   \n",
       "554609          Amazon Customer   \n",
       "554610                 roshanda   \n",
       "554743            norbys moreno   \n",
       "554744  Amazon Customer \"Jarod\"   \n",
       "\n",
       "                                                  product  \\\n",
       "0                                       Samsung Galaxy S8   \n",
       "1                                       Samsung Galaxy S8   \n",
       "2       Samsung Galaxy S8 (64GB) G950U 5.8\" 4G LTE Unl...   \n",
       "3                           Samsung Galaxy S8 64GB (AT&T)   \n",
       "4                                       Samsung Galaxy S8   \n",
       "...                                                   ...   \n",
       "554608  Motorola Droid RAZR 4G LTE Android Smartphone ...   \n",
       "554609  Motorola Droid RAZR 4G LTE Android Smartphone ...   \n",
       "554610  Motorola Droid RAZR 4G LTE Android Smartphone ...   \n",
       "554743  Alcatel One Touch 918S Mix Unlocked GSM Phone ...   \n",
       "554744  Alcatel One Touch 918S Mix Unlocked GSM Phone ...   \n",
       "\n",
       "                 phone_model   index  \n",
       "0          Samsung Galaxy S8       0  \n",
       "1          Samsung Galaxy S8       1  \n",
       "2          Samsung Galaxy S8       2  \n",
       "3          Samsung Galaxy S8       3  \n",
       "4          Samsung Galaxy S8       4  \n",
       "...                      ...     ...  \n",
       "554608  Motorola Razr 432872  400058  \n",
       "554609  Motorola Razr 432872  400059  \n",
       "554610  Motorola Razr 432872  400060  \n",
       "554743       Alcatel Ot 918D  400061  \n",
       "554744       Alcatel Ot 918D  400062  \n",
       "\n",
       "[400063 rows x 12 columns]"
      ]
     },
     "execution_count": 85,
     "metadata": {},
     "output_type": "execute_result"
    }
   ],
   "source": [
    "## Create an index series to find back the actual extract later on\n",
    "import numpy as np\n",
    "import pandas as pd\n",
    "\n",
    "data_len = len(cleaned_df)\n",
    "index_series = np.arange(data_len)\n",
    "\n",
    "cleaned_df['index'] = index_series\n",
    "\n",
    "cleaned_df"
   ]
  },
  {
   "cell_type": "code",
   "execution_count": 86,
   "metadata": {
    "ExecuteTime": {
     "end_time": "2020-03-21T15:48:21.848889Z",
     "start_time": "2020-03-21T15:48:20.859065Z"
    }
   },
   "outputs": [],
   "source": [
    "sentence_list = []\n",
    "index_list = []\n",
    "scores = cleaned_df['score'].tolist()\n",
    "index_score_list = []\n",
    "\n",
    "extract_list = list(cleaned_df['extract'])\n",
    "\n",
    "for num in index_series:\n",
    "    sentences = extract_list[num]\n",
    "    sentence_break = sentences.split('.')\n",
    "    for sentence in sentence_break:\n",
    "        if len(sentence) > 0:\n",
    "            sentence_list.append(sentence.strip())\n",
    "            index_list.append(num)\n",
    "            index_score_list.append(scores[num])"
   ]
  },
  {
   "cell_type": "code",
   "execution_count": 87,
   "metadata": {
    "ExecuteTime": {
     "end_time": "2020-03-21T15:48:23.314630Z",
     "start_time": "2020-03-21T15:48:22.538808Z"
    }
   },
   "outputs": [
    {
     "data": {
      "text/html": [
       "<div>\n",
       "<style scoped>\n",
       "    .dataframe tbody tr th:only-of-type {\n",
       "        vertical-align: middle;\n",
       "    }\n",
       "\n",
       "    .dataframe tbody tr th {\n",
       "        vertical-align: top;\n",
       "    }\n",
       "\n",
       "    .dataframe thead th {\n",
       "        text-align: right;\n",
       "    }\n",
       "</style>\n",
       "<table border=\"1\" class=\"dataframe\">\n",
       "  <thead>\n",
       "    <tr style=\"text-align: right;\">\n",
       "      <th></th>\n",
       "      <th>sentence</th>\n",
       "      <th>index</th>\n",
       "    </tr>\n",
       "  </thead>\n",
       "  <tbody>\n",
       "    <tr>\n",
       "      <th>0</th>\n",
       "      <td>As a diehard Samsung fan who has had every Sam...</td>\n",
       "      <td>0</td>\n",
       "    </tr>\n",
       "    <tr>\n",
       "      <th>1</th>\n",
       "      <td>I am amazed at some of the reviews and think p...</td>\n",
       "      <td>0</td>\n",
       "    </tr>\n",
       "    <tr>\n",
       "      <th>2</th>\n",
       "      <td>The battery life is amazing</td>\n",
       "      <td>0</td>\n",
       "    </tr>\n",
       "    <tr>\n",
       "      <th>3</th>\n",
       "      <td>Love the phone</td>\n",
       "      <td>1</td>\n",
       "    </tr>\n",
       "    <tr>\n",
       "      <th>4</th>\n",
       "      <td>the phone is sleek and smooth and beautiful I ...</td>\n",
       "      <td>1</td>\n",
       "    </tr>\n",
       "    <tr>\n",
       "      <th>...</th>\n",
       "      <td>...</td>\n",
       "      <td>...</td>\n",
       "    </tr>\n",
       "    <tr>\n",
       "      <th>983119</th>\n",
       "      <td>Came right on timr</td>\n",
       "      <td>400060</td>\n",
       "    </tr>\n",
       "    <tr>\n",
       "      <th>983120</th>\n",
       "      <td>Excelente producto</td>\n",
       "      <td>400061</td>\n",
       "    </tr>\n",
       "    <tr>\n",
       "      <th>983121</th>\n",
       "      <td>Older Android version, too many junky apps and...</td>\n",
       "      <td>400062</td>\n",
       "    </tr>\n",
       "    <tr>\n",
       "      <th>983122</th>\n",
       "      <td>I had one die and returned it to my cell provi...</td>\n",
       "      <td>400062</td>\n",
       "    </tr>\n",
       "    <tr>\n",
       "      <th>983123</th>\n",
       "      <td>Unfortunately, they just gave me another one</td>\n",
       "      <td>400062</td>\n",
       "    </tr>\n",
       "  </tbody>\n",
       "</table>\n",
       "<p>983124 rows × 2 columns</p>\n",
       "</div>"
      ],
      "text/plain": [
       "                                                 sentence   index\n",
       "0       As a diehard Samsung fan who has had every Sam...       0\n",
       "1       I am amazed at some of the reviews and think p...       0\n",
       "2                             The battery life is amazing       0\n",
       "3                                          Love the phone       1\n",
       "4       the phone is sleek and smooth and beautiful I ...       1\n",
       "...                                                   ...     ...\n",
       "983119                                 Came right on timr  400060\n",
       "983120                                 Excelente producto  400061\n",
       "983121  Older Android version, too many junky apps and...  400062\n",
       "983122  I had one die and returned it to my cell provi...  400062\n",
       "983123       Unfortunately, they just gave me another one  400062\n",
       "\n",
       "[983124 rows x 2 columns]"
      ]
     },
     "execution_count": 87,
     "metadata": {},
     "output_type": "execute_result"
    }
   ],
   "source": [
    "sentences_df = pd.DataFrame()\n",
    "sentences_df['sentence'] = sentence_list\n",
    "sentences_df['index'] = index_list\n",
    "\n",
    "sentences_df.dropna(inplace=True)\n",
    "\n",
    "sentences_df"
   ]
  },
  {
   "cell_type": "markdown",
   "metadata": {},
   "source": [
    "#  #1 LDA Gensim Model - All Text "
   ]
  },
  {
   "cell_type": "code",
   "execution_count": 88,
   "metadata": {
    "ExecuteTime": {
     "end_time": "2020-03-21T16:26:09.009015Z",
     "start_time": "2020-03-21T16:26:09.003070Z"
    }
   },
   "outputs": [],
   "source": [
    "import nltk \n",
    "import re\n",
    "\n",
    "def clean_sentence(sentence_list):\n",
    "    stop_list = nltk.corpus.stopwords.words('english')\n",
    "    tokenizer = nltk.tokenize.word_tokenize\n",
    "\n",
    "    sentence_list  = [tokenizer(sentence.lower()) for sentence in sentence_list]\n",
    "    sentence_list = [[w for w in sentence if re.search('^[a-z]+$',w)] for sentence in sentence_list]\n",
    "    sentence_list = [[w for w in sentence if w not in stop_list] for sentence in sentence_list]\n",
    "\n",
    "    return sentence_list"
   ]
  },
  {
   "cell_type": "code",
   "execution_count": 89,
   "metadata": {
    "ExecuteTime": {
     "end_time": "2020-03-21T16:29:01.965649Z",
     "start_time": "2020-03-21T16:26:10.151405Z"
    }
   },
   "outputs": [
    {
     "ename": "KeyboardInterrupt",
     "evalue": "",
     "output_type": "error",
     "traceback": [
      "\u001b[1;31m---------------------------------------------------------------------------\u001b[0m",
      "\u001b[1;31mKeyboardInterrupt\u001b[0m                         Traceback (most recent call last)",
      "\u001b[1;32m<ipython-input-89-9616f79ab442>\u001b[0m in \u001b[0;36m<module>\u001b[1;34m\u001b[0m\n\u001b[0;32m      1\u001b[0m \u001b[0msentence_list\u001b[0m \u001b[1;33m=\u001b[0m \u001b[0msentences_df\u001b[0m\u001b[1;33m[\u001b[0m\u001b[1;34m'sentence'\u001b[0m\u001b[1;33m]\u001b[0m\u001b[1;33m.\u001b[0m\u001b[0mvalues\u001b[0m\u001b[1;33m.\u001b[0m\u001b[0mtolist\u001b[0m\u001b[1;33m(\u001b[0m\u001b[1;33m)\u001b[0m\u001b[1;33m\u001b[0m\u001b[1;33m\u001b[0m\u001b[0m\n\u001b[1;32m----> 2\u001b[1;33m \u001b[0msentences_df\u001b[0m\u001b[1;33m[\u001b[0m\u001b[1;34m'bag of words'\u001b[0m\u001b[1;33m]\u001b[0m \u001b[1;33m=\u001b[0m \u001b[0mclean_sentence\u001b[0m\u001b[1;33m(\u001b[0m\u001b[0msentence_list\u001b[0m\u001b[1;33m)\u001b[0m\u001b[1;33m\u001b[0m\u001b[1;33m\u001b[0m\u001b[0m\n\u001b[0m",
      "\u001b[1;32m<ipython-input-88-025efa9b2b5b>\u001b[0m in \u001b[0;36mclean_sentence\u001b[1;34m(sentence_list)\u001b[0m\n\u001b[0;32m      8\u001b[0m     \u001b[0msentence_list\u001b[0m  \u001b[1;33m=\u001b[0m \u001b[1;33m[\u001b[0m\u001b[0mtokenizer\u001b[0m\u001b[1;33m(\u001b[0m\u001b[0msentence\u001b[0m\u001b[1;33m.\u001b[0m\u001b[0mlower\u001b[0m\u001b[1;33m(\u001b[0m\u001b[1;33m)\u001b[0m\u001b[1;33m)\u001b[0m \u001b[1;32mfor\u001b[0m \u001b[0msentence\u001b[0m \u001b[1;32min\u001b[0m \u001b[0msentence_list\u001b[0m\u001b[1;33m]\u001b[0m\u001b[1;33m\u001b[0m\u001b[1;33m\u001b[0m\u001b[0m\n\u001b[0;32m      9\u001b[0m     \u001b[0msentence_list\u001b[0m \u001b[1;33m=\u001b[0m \u001b[1;33m[\u001b[0m\u001b[1;33m[\u001b[0m\u001b[0mw\u001b[0m \u001b[1;32mfor\u001b[0m \u001b[0mw\u001b[0m \u001b[1;32min\u001b[0m \u001b[0msentence\u001b[0m \u001b[1;32mif\u001b[0m \u001b[0mre\u001b[0m\u001b[1;33m.\u001b[0m\u001b[0msearch\u001b[0m\u001b[1;33m(\u001b[0m\u001b[1;34m'^[a-z]+$'\u001b[0m\u001b[1;33m,\u001b[0m\u001b[0mw\u001b[0m\u001b[1;33m)\u001b[0m\u001b[1;33m]\u001b[0m \u001b[1;32mfor\u001b[0m \u001b[0msentence\u001b[0m \u001b[1;32min\u001b[0m \u001b[0msentence_list\u001b[0m\u001b[1;33m]\u001b[0m\u001b[1;33m\u001b[0m\u001b[1;33m\u001b[0m\u001b[0m\n\u001b[1;32m---> 10\u001b[1;33m     \u001b[0msentence_list\u001b[0m \u001b[1;33m=\u001b[0m \u001b[1;33m[\u001b[0m\u001b[1;33m[\u001b[0m\u001b[0mw\u001b[0m \u001b[1;32mfor\u001b[0m \u001b[0mw\u001b[0m \u001b[1;32min\u001b[0m \u001b[0msentence\u001b[0m \u001b[1;32mif\u001b[0m \u001b[0mw\u001b[0m \u001b[1;32mnot\u001b[0m \u001b[1;32min\u001b[0m \u001b[0mstop_list\u001b[0m\u001b[1;33m]\u001b[0m \u001b[1;32mfor\u001b[0m \u001b[0msentence\u001b[0m \u001b[1;32min\u001b[0m \u001b[0msentence_list\u001b[0m\u001b[1;33m]\u001b[0m\u001b[1;33m\u001b[0m\u001b[1;33m\u001b[0m\u001b[0m\n\u001b[0m\u001b[0;32m     11\u001b[0m \u001b[1;33m\u001b[0m\u001b[0m\n\u001b[0;32m     12\u001b[0m     \u001b[1;32mreturn\u001b[0m \u001b[0msentence_list\u001b[0m\u001b[1;33m\u001b[0m\u001b[1;33m\u001b[0m\u001b[0m\n",
      "\u001b[1;32m<ipython-input-88-025efa9b2b5b>\u001b[0m in \u001b[0;36m<listcomp>\u001b[1;34m(.0)\u001b[0m\n\u001b[0;32m      8\u001b[0m     \u001b[0msentence_list\u001b[0m  \u001b[1;33m=\u001b[0m \u001b[1;33m[\u001b[0m\u001b[0mtokenizer\u001b[0m\u001b[1;33m(\u001b[0m\u001b[0msentence\u001b[0m\u001b[1;33m.\u001b[0m\u001b[0mlower\u001b[0m\u001b[1;33m(\u001b[0m\u001b[1;33m)\u001b[0m\u001b[1;33m)\u001b[0m \u001b[1;32mfor\u001b[0m \u001b[0msentence\u001b[0m \u001b[1;32min\u001b[0m \u001b[0msentence_list\u001b[0m\u001b[1;33m]\u001b[0m\u001b[1;33m\u001b[0m\u001b[1;33m\u001b[0m\u001b[0m\n\u001b[0;32m      9\u001b[0m     \u001b[0msentence_list\u001b[0m \u001b[1;33m=\u001b[0m \u001b[1;33m[\u001b[0m\u001b[1;33m[\u001b[0m\u001b[0mw\u001b[0m \u001b[1;32mfor\u001b[0m \u001b[0mw\u001b[0m \u001b[1;32min\u001b[0m \u001b[0msentence\u001b[0m \u001b[1;32mif\u001b[0m \u001b[0mre\u001b[0m\u001b[1;33m.\u001b[0m\u001b[0msearch\u001b[0m\u001b[1;33m(\u001b[0m\u001b[1;34m'^[a-z]+$'\u001b[0m\u001b[1;33m,\u001b[0m\u001b[0mw\u001b[0m\u001b[1;33m)\u001b[0m\u001b[1;33m]\u001b[0m \u001b[1;32mfor\u001b[0m \u001b[0msentence\u001b[0m \u001b[1;32min\u001b[0m \u001b[0msentence_list\u001b[0m\u001b[1;33m]\u001b[0m\u001b[1;33m\u001b[0m\u001b[1;33m\u001b[0m\u001b[0m\n\u001b[1;32m---> 10\u001b[1;33m     \u001b[0msentence_list\u001b[0m \u001b[1;33m=\u001b[0m \u001b[1;33m[\u001b[0m\u001b[1;33m[\u001b[0m\u001b[0mw\u001b[0m \u001b[1;32mfor\u001b[0m \u001b[0mw\u001b[0m \u001b[1;32min\u001b[0m \u001b[0msentence\u001b[0m \u001b[1;32mif\u001b[0m \u001b[0mw\u001b[0m \u001b[1;32mnot\u001b[0m \u001b[1;32min\u001b[0m \u001b[0mstop_list\u001b[0m\u001b[1;33m]\u001b[0m \u001b[1;32mfor\u001b[0m \u001b[0msentence\u001b[0m \u001b[1;32min\u001b[0m \u001b[0msentence_list\u001b[0m\u001b[1;33m]\u001b[0m\u001b[1;33m\u001b[0m\u001b[1;33m\u001b[0m\u001b[0m\n\u001b[0m\u001b[0;32m     11\u001b[0m \u001b[1;33m\u001b[0m\u001b[0m\n\u001b[0;32m     12\u001b[0m     \u001b[1;32mreturn\u001b[0m \u001b[0msentence_list\u001b[0m\u001b[1;33m\u001b[0m\u001b[1;33m\u001b[0m\u001b[0m\n",
      "\u001b[1;32m<ipython-input-88-025efa9b2b5b>\u001b[0m in \u001b[0;36m<listcomp>\u001b[1;34m(.0)\u001b[0m\n\u001b[0;32m      8\u001b[0m     \u001b[0msentence_list\u001b[0m  \u001b[1;33m=\u001b[0m \u001b[1;33m[\u001b[0m\u001b[0mtokenizer\u001b[0m\u001b[1;33m(\u001b[0m\u001b[0msentence\u001b[0m\u001b[1;33m.\u001b[0m\u001b[0mlower\u001b[0m\u001b[1;33m(\u001b[0m\u001b[1;33m)\u001b[0m\u001b[1;33m)\u001b[0m \u001b[1;32mfor\u001b[0m \u001b[0msentence\u001b[0m \u001b[1;32min\u001b[0m \u001b[0msentence_list\u001b[0m\u001b[1;33m]\u001b[0m\u001b[1;33m\u001b[0m\u001b[1;33m\u001b[0m\u001b[0m\n\u001b[0;32m      9\u001b[0m     \u001b[0msentence_list\u001b[0m \u001b[1;33m=\u001b[0m \u001b[1;33m[\u001b[0m\u001b[1;33m[\u001b[0m\u001b[0mw\u001b[0m \u001b[1;32mfor\u001b[0m \u001b[0mw\u001b[0m \u001b[1;32min\u001b[0m \u001b[0msentence\u001b[0m \u001b[1;32mif\u001b[0m \u001b[0mre\u001b[0m\u001b[1;33m.\u001b[0m\u001b[0msearch\u001b[0m\u001b[1;33m(\u001b[0m\u001b[1;34m'^[a-z]+$'\u001b[0m\u001b[1;33m,\u001b[0m\u001b[0mw\u001b[0m\u001b[1;33m)\u001b[0m\u001b[1;33m]\u001b[0m \u001b[1;32mfor\u001b[0m \u001b[0msentence\u001b[0m \u001b[1;32min\u001b[0m \u001b[0msentence_list\u001b[0m\u001b[1;33m]\u001b[0m\u001b[1;33m\u001b[0m\u001b[1;33m\u001b[0m\u001b[0m\n\u001b[1;32m---> 10\u001b[1;33m     \u001b[0msentence_list\u001b[0m \u001b[1;33m=\u001b[0m \u001b[1;33m[\u001b[0m\u001b[1;33m[\u001b[0m\u001b[0mw\u001b[0m \u001b[1;32mfor\u001b[0m \u001b[0mw\u001b[0m \u001b[1;32min\u001b[0m \u001b[0msentence\u001b[0m \u001b[1;32mif\u001b[0m \u001b[0mw\u001b[0m \u001b[1;32mnot\u001b[0m \u001b[1;32min\u001b[0m \u001b[0mstop_list\u001b[0m\u001b[1;33m]\u001b[0m \u001b[1;32mfor\u001b[0m \u001b[0msentence\u001b[0m \u001b[1;32min\u001b[0m \u001b[0msentence_list\u001b[0m\u001b[1;33m]\u001b[0m\u001b[1;33m\u001b[0m\u001b[1;33m\u001b[0m\u001b[0m\n\u001b[0m\u001b[0;32m     11\u001b[0m \u001b[1;33m\u001b[0m\u001b[0m\n\u001b[0;32m     12\u001b[0m     \u001b[1;32mreturn\u001b[0m \u001b[0msentence_list\u001b[0m\u001b[1;33m\u001b[0m\u001b[1;33m\u001b[0m\u001b[0m\n",
      "\u001b[1;31mKeyboardInterrupt\u001b[0m: "
     ]
    }
   ],
   "source": [
    "sentence_list = sentences_df['sentence'].values.tolist()\n",
    "sentences_df['bag of words'] = clean_sentence(sentence_list)"
   ]
  },
  {
   "cell_type": "code",
   "execution_count": null,
   "metadata": {
    "ExecuteTime": {
     "end_time": "2020-03-21T16:31:28.704385Z",
     "start_time": "2020-03-21T16:31:28.682444Z"
    }
   },
   "outputs": [],
   "source": [
    "sentences_words = sentences_df['bag of words'].values.tolist()"
   ]
  },
  {
   "cell_type": "code",
   "execution_count": 62,
   "metadata": {
    "ExecuteTime": {
     "end_time": "2020-03-21T16:31:52.751503Z",
     "start_time": "2020-03-21T16:31:29.805451Z"
    }
   },
   "outputs": [],
   "source": [
    "import gensim\n",
    "\n",
    "# Using gensim to create a dictionary object of all the words in all extracts\n",
    "sentence_dict = gensim.corpora.Dictionary(sentences_words)\n",
    "\n",
    "# Returning the word vector for each extract from the gensim dict of words\n",
    "sentence_vecs = [sentence_dict.doc2bow(words) for words in sentences_words]"
   ]
  },
  {
   "cell_type": "code",
   "execution_count": 63,
   "metadata": {
    "ExecuteTime": {
     "end_time": "2020-03-21T17:33:46.568052Z",
     "start_time": "2020-03-21T16:36:34.524176Z"
    }
   },
   "outputs": [
    {
     "ename": "KeyboardInterrupt",
     "evalue": "",
     "output_type": "error",
     "traceback": [
      "\u001b[1;31m---------------------------------------------------------------------------\u001b[0m",
      "\u001b[1;31mKeyboardInterrupt\u001b[0m                         Traceback (most recent call last)",
      "\u001b[1;32m<ipython-input-63-dcf65858ee12>\u001b[0m in \u001b[0;36m<module>\u001b[1;34m\u001b[0m\n\u001b[0;32m      8\u001b[0m \u001b[1;32mfor\u001b[0m \u001b[0mnum_topic\u001b[0m \u001b[1;32min\u001b[0m \u001b[0mrange\u001b[0m\u001b[1;33m(\u001b[0m\u001b[1;36m3\u001b[0m\u001b[1;33m,\u001b[0m \u001b[1;36m10\u001b[0m\u001b[1;33m)\u001b[0m\u001b[1;33m:\u001b[0m\u001b[1;33m\u001b[0m\u001b[1;33m\u001b[0m\u001b[0m\n\u001b[0;32m      9\u001b[0m     \u001b[0mmodel_val\u001b[0m \u001b[1;33m=\u001b[0m \u001b[1;33m[\u001b[0m\u001b[1;33m]\u001b[0m\u001b[1;33m\u001b[0m\u001b[1;33m\u001b[0m\u001b[0m\n\u001b[1;32m---> 10\u001b[1;33m     \u001b[0mgensim_all_texts\u001b[0m \u001b[1;33m=\u001b[0m \u001b[0mgensim\u001b[0m\u001b[1;33m.\u001b[0m\u001b[0mmodels\u001b[0m\u001b[1;33m.\u001b[0m\u001b[0mldamodel\u001b[0m\u001b[1;33m.\u001b[0m\u001b[0mLdaModel\u001b[0m\u001b[1;33m(\u001b[0m\u001b[0mcorpus\u001b[0m\u001b[1;33m=\u001b[0m\u001b[0msentence_vecs\u001b[0m\u001b[1;33m,\u001b[0m \u001b[0mid2word\u001b[0m\u001b[1;33m=\u001b[0m\u001b[0msentence_dict\u001b[0m\u001b[1;33m,\u001b[0m \u001b[0mnum_topics\u001b[0m\u001b[1;33m=\u001b[0m\u001b[0mnum_topic\u001b[0m\u001b[1;33m,\u001b[0m \u001b[0miterations\u001b[0m \u001b[1;33m=\u001b[0m \u001b[0miterations\u001b[0m\u001b[1;33m,\u001b[0m \u001b[0mpasses\u001b[0m \u001b[1;33m=\u001b[0m \u001b[0mpasses\u001b[0m\u001b[1;33m)\u001b[0m\u001b[1;33m\u001b[0m\u001b[1;33m\u001b[0m\u001b[0m\n\u001b[0m\u001b[0;32m     11\u001b[0m     \u001b[0mcoh_model\u001b[0m \u001b[1;33m=\u001b[0m \u001b[0mCoherenceModel\u001b[0m\u001b[1;33m(\u001b[0m\u001b[0mmodel\u001b[0m\u001b[1;33m=\u001b[0m\u001b[0mgensim_all_texts\u001b[0m\u001b[1;33m,\u001b[0m \u001b[0mtexts\u001b[0m\u001b[1;33m=\u001b[0m\u001b[0msentences_words\u001b[0m\u001b[1;33m,\u001b[0m \u001b[0mdictionary\u001b[0m\u001b[1;33m=\u001b[0m\u001b[0msentence_dict\u001b[0m\u001b[1;33m,\u001b[0m \u001b[0mcoherence\u001b[0m\u001b[1;33m=\u001b[0m\u001b[1;34m'c_v'\u001b[0m\u001b[1;33m)\u001b[0m\u001b[1;33m\u001b[0m\u001b[1;33m\u001b[0m\u001b[0m\n\u001b[0;32m     12\u001b[0m     \u001b[0mmodel_val\u001b[0m\u001b[1;33m.\u001b[0m\u001b[0mappend\u001b[0m\u001b[1;33m(\u001b[0m\u001b[0mgensim_all_texts\u001b[0m\u001b[1;33m)\u001b[0m\u001b[1;33m\u001b[0m\u001b[1;33m\u001b[0m\u001b[0m\n",
      "\u001b[1;32m~\\Anaconda3\\lib\\site-packages\\gensim\\models\\ldamodel.py\u001b[0m in \u001b[0;36m__init__\u001b[1;34m(self, corpus, num_topics, id2word, distributed, chunksize, passes, update_every, alpha, eta, decay, offset, eval_every, iterations, gamma_threshold, minimum_probability, random_state, ns_conf, minimum_phi_value, per_word_topics, callbacks, dtype)\u001b[0m\n\u001b[0;32m    513\u001b[0m         \u001b[1;32mif\u001b[0m \u001b[0mcorpus\u001b[0m \u001b[1;32mis\u001b[0m \u001b[1;32mnot\u001b[0m \u001b[1;32mNone\u001b[0m\u001b[1;33m:\u001b[0m\u001b[1;33m\u001b[0m\u001b[1;33m\u001b[0m\u001b[0m\n\u001b[0;32m    514\u001b[0m             \u001b[0muse_numpy\u001b[0m \u001b[1;33m=\u001b[0m \u001b[0mself\u001b[0m\u001b[1;33m.\u001b[0m\u001b[0mdispatcher\u001b[0m \u001b[1;32mis\u001b[0m \u001b[1;32mnot\u001b[0m \u001b[1;32mNone\u001b[0m\u001b[1;33m\u001b[0m\u001b[1;33m\u001b[0m\u001b[0m\n\u001b[1;32m--> 515\u001b[1;33m             \u001b[0mself\u001b[0m\u001b[1;33m.\u001b[0m\u001b[0mupdate\u001b[0m\u001b[1;33m(\u001b[0m\u001b[0mcorpus\u001b[0m\u001b[1;33m,\u001b[0m \u001b[0mchunks_as_numpy\u001b[0m\u001b[1;33m=\u001b[0m\u001b[0muse_numpy\u001b[0m\u001b[1;33m)\u001b[0m\u001b[1;33m\u001b[0m\u001b[1;33m\u001b[0m\u001b[0m\n\u001b[0m\u001b[0;32m    516\u001b[0m \u001b[1;33m\u001b[0m\u001b[0m\n\u001b[0;32m    517\u001b[0m     \u001b[1;32mdef\u001b[0m \u001b[0minit_dir_prior\u001b[0m\u001b[1;33m(\u001b[0m\u001b[0mself\u001b[0m\u001b[1;33m,\u001b[0m \u001b[0mprior\u001b[0m\u001b[1;33m,\u001b[0m \u001b[0mname\u001b[0m\u001b[1;33m)\u001b[0m\u001b[1;33m:\u001b[0m\u001b[1;33m\u001b[0m\u001b[1;33m\u001b[0m\u001b[0m\n",
      "\u001b[1;32m~\\Anaconda3\\lib\\site-packages\\gensim\\models\\ldamodel.py\u001b[0m in \u001b[0;36mupdate\u001b[1;34m(self, corpus, chunksize, decay, offset, passes, update_every, eval_every, iterations, gamma_threshold, chunks_as_numpy)\u001b[0m\n\u001b[0;32m    975\u001b[0m                         \u001b[0mlogger\u001b[0m\u001b[1;33m.\u001b[0m\u001b[0minfo\u001b[0m\u001b[1;33m(\u001b[0m\u001b[1;34m\"reached the end of input; now waiting for all remaining jobs to finish\"\u001b[0m\u001b[1;33m)\u001b[0m\u001b[1;33m\u001b[0m\u001b[1;33m\u001b[0m\u001b[0m\n\u001b[0;32m    976\u001b[0m                         \u001b[0mother\u001b[0m \u001b[1;33m=\u001b[0m \u001b[0mself\u001b[0m\u001b[1;33m.\u001b[0m\u001b[0mdispatcher\u001b[0m\u001b[1;33m.\u001b[0m\u001b[0mgetstate\u001b[0m\u001b[1;33m(\u001b[0m\u001b[1;33m)\u001b[0m\u001b[1;33m\u001b[0m\u001b[1;33m\u001b[0m\u001b[0m\n\u001b[1;32m--> 977\u001b[1;33m                     \u001b[0mself\u001b[0m\u001b[1;33m.\u001b[0m\u001b[0mdo_mstep\u001b[0m\u001b[1;33m(\u001b[0m\u001b[0mrho\u001b[0m\u001b[1;33m(\u001b[0m\u001b[1;33m)\u001b[0m\u001b[1;33m,\u001b[0m \u001b[0mother\u001b[0m\u001b[1;33m,\u001b[0m \u001b[0mpass_\u001b[0m \u001b[1;33m>\u001b[0m \u001b[1;36m0\u001b[0m\u001b[1;33m)\u001b[0m\u001b[1;33m\u001b[0m\u001b[1;33m\u001b[0m\u001b[0m\n\u001b[0m\u001b[0;32m    978\u001b[0m                     \u001b[1;32mdel\u001b[0m \u001b[0mother\u001b[0m  \u001b[1;31m# frees up memory\u001b[0m\u001b[1;33m\u001b[0m\u001b[1;33m\u001b[0m\u001b[0m\n\u001b[0;32m    979\u001b[0m \u001b[1;33m\u001b[0m\u001b[0m\n",
      "\u001b[1;32m~\\Anaconda3\\lib\\site-packages\\gensim\\models\\ldamodel.py\u001b[0m in \u001b[0;36mdo_mstep\u001b[1;34m(self, rho, other, extra_pass)\u001b[0m\n\u001b[0;32m   1024\u001b[0m         \u001b[0mself\u001b[0m\u001b[1;33m.\u001b[0m\u001b[0mstate\u001b[0m\u001b[1;33m.\u001b[0m\u001b[0mblend\u001b[0m\u001b[1;33m(\u001b[0m\u001b[0mrho\u001b[0m\u001b[1;33m,\u001b[0m \u001b[0mother\u001b[0m\u001b[1;33m)\u001b[0m\u001b[1;33m\u001b[0m\u001b[1;33m\u001b[0m\u001b[0m\n\u001b[0;32m   1025\u001b[0m         \u001b[0mdiff\u001b[0m \u001b[1;33m-=\u001b[0m \u001b[0mself\u001b[0m\u001b[1;33m.\u001b[0m\u001b[0mstate\u001b[0m\u001b[1;33m.\u001b[0m\u001b[0mget_Elogbeta\u001b[0m\u001b[1;33m(\u001b[0m\u001b[1;33m)\u001b[0m\u001b[1;33m\u001b[0m\u001b[1;33m\u001b[0m\u001b[0m\n\u001b[1;32m-> 1026\u001b[1;33m         \u001b[0mself\u001b[0m\u001b[1;33m.\u001b[0m\u001b[0msync_state\u001b[0m\u001b[1;33m(\u001b[0m\u001b[1;33m)\u001b[0m\u001b[1;33m\u001b[0m\u001b[1;33m\u001b[0m\u001b[0m\n\u001b[0m\u001b[0;32m   1027\u001b[0m \u001b[1;33m\u001b[0m\u001b[0m\n\u001b[0;32m   1028\u001b[0m         \u001b[1;31m# print out some debug info at the end of each EM iteration\u001b[0m\u001b[1;33m\u001b[0m\u001b[1;33m\u001b[0m\u001b[1;33m\u001b[0m\u001b[0m\n",
      "\u001b[1;32m~\\Anaconda3\\lib\\site-packages\\gensim\\models\\ldamodel.py\u001b[0m in \u001b[0;36msync_state\u001b[1;34m(self)\u001b[0m\n\u001b[0;32m    591\u001b[0m     \u001b[1;32mdef\u001b[0m \u001b[0msync_state\u001b[0m\u001b[1;33m(\u001b[0m\u001b[0mself\u001b[0m\u001b[1;33m)\u001b[0m\u001b[1;33m:\u001b[0m\u001b[1;33m\u001b[0m\u001b[1;33m\u001b[0m\u001b[0m\n\u001b[0;32m    592\u001b[0m         \u001b[1;34m\"\"\"Propagate the states topic probabilities to the inner object's attribute.\"\"\"\u001b[0m\u001b[1;33m\u001b[0m\u001b[1;33m\u001b[0m\u001b[0m\n\u001b[1;32m--> 593\u001b[1;33m         \u001b[0mself\u001b[0m\u001b[1;33m.\u001b[0m\u001b[0mexpElogbeta\u001b[0m \u001b[1;33m=\u001b[0m \u001b[0mnp\u001b[0m\u001b[1;33m.\u001b[0m\u001b[0mexp\u001b[0m\u001b[1;33m(\u001b[0m\u001b[0mself\u001b[0m\u001b[1;33m.\u001b[0m\u001b[0mstate\u001b[0m\u001b[1;33m.\u001b[0m\u001b[0mget_Elogbeta\u001b[0m\u001b[1;33m(\u001b[0m\u001b[1;33m)\u001b[0m\u001b[1;33m)\u001b[0m\u001b[1;33m\u001b[0m\u001b[1;33m\u001b[0m\u001b[0m\n\u001b[0m\u001b[0;32m    594\u001b[0m         \u001b[1;32massert\u001b[0m \u001b[0mself\u001b[0m\u001b[1;33m.\u001b[0m\u001b[0mexpElogbeta\u001b[0m\u001b[1;33m.\u001b[0m\u001b[0mdtype\u001b[0m \u001b[1;33m==\u001b[0m \u001b[0mself\u001b[0m\u001b[1;33m.\u001b[0m\u001b[0mdtype\u001b[0m\u001b[1;33m\u001b[0m\u001b[1;33m\u001b[0m\u001b[0m\n\u001b[0;32m    595\u001b[0m \u001b[1;33m\u001b[0m\u001b[0m\n",
      "\u001b[1;31mKeyboardInterrupt\u001b[0m: "
     ]
    }
   ],
   "source": [
    "# Finding the optimal number of topics\n",
    "from gensim.models import CoherenceModel\n",
    "\n",
    "iterations = 100\n",
    "passes = 1\n",
    "gensim_all_texts_list = []\n",
    "\n",
    "for num_topic in range(3, 10):\n",
    "    model_val = []\n",
    "    gensim_all_texts = gensim.models.ldamodel.LdaModel(corpus=sentence_vecs, id2word=sentence_dict, num_topics=num_topic, iterations = iterations, passes = passes)\n",
    "    coh_model = CoherenceModel(model=gensim_all_texts, texts=sentences_words, dictionary=sentence_dict, coherence='c_v')\n",
    "    model_val.append(gensim_all_texts)\n",
    "    model_val.append(coh_model.get_coherence())\n",
    "    model_val.append(num_topic)\n",
    "    gensim_all_texts_list.append(model_val)\n",
    "    print(\"Topic \" + str(num_topic) + \" Score: \" + str(coh_model.get_coherence()))"
   ]
  },
  {
   "cell_type": "code",
   "execution_count": null,
   "metadata": {
    "ExecuteTime": {
     "end_time": "2020-03-21T17:55:51.753770Z",
     "start_time": "2020-03-21T17:55:51.385962Z"
    }
   },
   "outputs": [],
   "source": [
    "import matplotlib.pyplot as plt\n",
    "\n",
    "coh_val = [coh for model, coh, topic in gensim_all_texts_list]\n",
    "\n",
    "x = range(3, 10)\n",
    "plt.plot(x, coh_val)\n",
    "plt.xlabel(\"Num Topics\")\n",
    "plt.ylabel(\"Coherence score\")\n",
    "plt.legend((\"coherence_values\"), loc='best')\n",
    "plt.show()"
   ]
  },
  {
   "cell_type": "code",
   "execution_count": null,
   "metadata": {
    "ExecuteTime": {
     "end_time": "2020-03-21T17:55:51.803665Z",
     "start_time": "2020-03-21T17:55:51.755764Z"
    }
   },
   "outputs": [],
   "source": [
    "# Gensim LDA Model - topics\n",
    "\n",
    "for model in gensim_all_texts_list:\n",
    "    print(\"Model #{} Coherence Score: {}\".format(model[2], model[1]))\n",
    "    topics = model.show_topics(formatted=False)\n",
    "    for topic, word_list in topics:\n",
    "        topic_num = topic + 1\n",
    "        result_list = []\n",
    "        for word, word_prob in word_list:\n",
    "            result_list.append(word)\n",
    "        print(\"Topic {}: {}\".format(topic_num, ', '.join(result_list)))\n",
    "    print('----------------------------------------------------------------------------')"
   ]
  },
  {
   "cell_type": "code",
   "execution_count": null,
   "metadata": {
    "ExecuteTime": {
     "end_time": "2020-03-21T17:55:57.685546Z",
     "start_time": "2020-03-21T17:55:57.596784Z"
    }
   },
   "outputs": [],
   "source": [
    "import pickle \n",
    "\n",
    "###@@@@@@@@@ THIS IS TO ***SAVE*** THE GENSIM MODELS FROM ABOVE @@@@@@@@@###\n",
    "#pickle.dump(gensim_all_texts_list, open(\"gensim_all_texts.pkl\", \"wb\"))\n",
    "\n",
    "###@@@@@@@@@ THIS IS TO ***OPEN*** THE GENSIM MODELS FROM THE STORED PICKLE FILE @@@@@@@@@###\n",
    "### CHECKPOINT - can just load the pickle file and start running your analysis\n",
    "# gensim_models = pickle.load(open(\"gensim_all_texts.pkl\", \"rb\"))"
   ]
  },
  {
   "cell_type": "markdown",
   "metadata": {},
   "source": [
    "# #1 LDA Mallet Model - All Text"
   ]
  },
  {
   "cell_type": "code",
   "execution_count": null,
   "metadata": {
    "ExecuteTime": {
     "end_time": "2020-03-21T19:10:50.168223Z",
     "start_time": "2020-03-21T17:56:03.362890Z"
    }
   },
   "outputs": [],
   "source": [
    "import gensim\n",
    "import os \n",
    "\n",
    "os.environ.update({'MALLET_HOME':r'D:\\\\Softwares\\\\mallet-2.0.8'})\n",
    "mallet_path = r'D:\\\\Softwares\\\\mallet-2.0.8\\\\bin\\\\mallet'\n",
    "\n",
    "mallet_all_texts_list = []\n",
    "\n",
    "for num_topic in range(3, 10):\n",
    "    model_val = []\n",
    "    mallet_all_texts = gensim.models.wrappers.LdaMallet(mallet_path, corpus=sentence_vecs, id2word=sentence_dict, num_topics=num_topic)\n",
    "    mallet_coh_model = CoherenceModel(model=mallet_all_texts, texts=sentences_words, dictionary=sentence_dict, coherence='c_v')\n",
    "    model_val.append(mallet_all_texts)\n",
    "    model_val.append(mallet_coh_model.get_coherence())\n",
    "    model_val.append(num_topic)\n",
    "    mallet_all_texts_list.append(model_val)\n",
    "    print(\"Topic \" + str(num_topic) + \" Score: \" + str(mallet_coh_model.get_coherence()))"
   ]
  },
  {
   "cell_type": "code",
   "execution_count": null,
   "metadata": {
    "ExecuteTime": {
     "end_time": "2020-03-21T19:20:55.769530Z",
     "start_time": "2020-03-21T19:20:55.564502Z"
    }
   },
   "outputs": [],
   "source": [
    "import matplotlib.pyplot as plt\n",
    "\n",
    "mallet_coh_val = [coh for model, coh, topic in mallet_all_texts_list]\n",
    "\n",
    "x = range(3, 10)\n",
    "plt.plot(x, mallet_coh_val)\n",
    "plt.xlabel(\"Num Topics\")\n",
    "plt.ylabel(\"Coherence score\")\n",
    "plt.legend((\"coherence_values\"), loc='best')\n",
    "plt.show()"
   ]
  },
  {
   "cell_type": "code",
   "execution_count": null,
   "metadata": {
    "ExecuteTime": {
     "end_time": "2020-03-21T19:20:57.289028Z",
     "start_time": "2020-03-21T19:20:57.240160Z"
    }
   },
   "outputs": [],
   "source": [
    "# Mallet LDA Model - topics\n",
    "\n",
    "for model in mallet_all_texts_list:\n",
    "    print(\"Model #{} Coherence Score: {}\".format(model[2], model[1]))\n",
    "    topics = model.show_topics(formatted=False)\n",
    "    for topic, word_list in topics:\n",
    "        topic_num = topic + 1\n",
    "        result_list = []\n",
    "        for word, word_prob in word_list:\n",
    "            result_list.append(word)\n",
    "        print(\"Topic {}: {}\".format(topic_num, ', '.join(result_list)))\n",
    "    print('----------------------------------------------------------------------------')"
   ]
  },
  {
   "cell_type": "code",
   "execution_count": null,
   "metadata": {
    "ExecuteTime": {
     "end_time": "2020-03-22T08:14:07.295846Z",
     "start_time": "2020-03-22T08:14:06.657541Z"
    }
   },
   "outputs": [],
   "source": [
    "import pickle \n",
    "\n",
    "###@@@@@@@@@ THIS IS TO ***SAVE*** THE MODELS FROM ABOVE @@@@@@@@@###\n",
    "pickle.dump(mallet_all_texts_list, open(\"mallet_all_texts.pkl\", \"wb\"))\n",
    "\n",
    "###@@@@@@@@@ THIS IS TO ***OPEN*** THE MODELS FROM THE STORED PICKLE FILE @@@@@@@@@###\n",
    "### CHECKPOINT - can just load the pickle file and start running your analysis\n",
    "# gensim_models = pickle.load(open(\"mallet_all_texts.pkl\", \"rb\"))"
   ]
  },
  {
   "cell_type": "markdown",
   "metadata": {},
   "source": [
    "# #2 LDA Gensim Model - Nouns Only"
   ]
  },
  {
   "cell_type": "code",
   "execution_count": null,
   "metadata": {
    "ExecuteTime": {
     "end_time": "2020-03-22T08:18:58.355703Z",
     "start_time": "2020-03-22T08:18:57.802182Z"
    }
   },
   "outputs": [],
   "source": [
    "sentences_df = pd.DataFrame()\n",
    "sentences_df['sentence'] = sentence_list\n",
    "sentences_df['index'] = index_list\n",
    "sentences_df.dropna(inplace=True)\n",
    "\n",
    "sentences_df.head()"
   ]
  },
  {
   "cell_type": "code",
   "execution_count": null,
   "metadata": {},
   "outputs": [],
   "source": [
    "import nltk\n",
    "nltk.download('averaged_perceptron_tagger')"
   ]
  },
  {
   "cell_type": "code",
   "execution_count": null,
   "metadata": {
    "ExecuteTime": {
     "end_time": "2020-03-22T17:21:13.724275Z",
     "start_time": "2020-03-22T17:21:13.685379Z"
    }
   },
   "outputs": [],
   "source": [
    "import nltk\n",
    "\n",
    "stop_list = nltk.corpus.stopwords.words('english')\n",
    "tokenizer = nltk.tokenize.word_tokenize\n",
    "extra_stop_words = ['phone', 'iphone', 'nokia', 'samsung', 'htc', 'lg', 'galaxy', 'ca', 'motorola', 'android', 'verizon', 'i', '%', 't', 's']\n",
    "\n",
    "def get_nouns(sentence_row):\n",
    "\n",
    "    noun_list = []\n",
    "    sentence = nltk.pos_tag(tokenizer(sentence_row.lower()))\n",
    "    for w, pos in sentence: \n",
    "        if pos == 'NN' and w not in extra_stop_words:\n",
    "            noun_list.append(w)\n",
    "    \n",
    "    return noun_list\n",
    "\n",
    "#     sentence_list = [tokenizer(sentence.lower()) for sentence in sentence_list]\n",
    "#     sentence_tagging = [nltk.pos_tag(sentence) for sentence in sentence_list] \n",
    "#     sentence_nouns = [w for w in sentence if is_noun(w) for sentence in sentence_list]"
   ]
  },
  {
   "cell_type": "code",
   "execution_count": null,
   "metadata": {
    "ExecuteTime": {
     "end_time": "2020-03-22T18:11:51.222279Z",
     "start_time": "2020-03-22T17:21:21.072870Z"
    }
   },
   "outputs": [],
   "source": [
    "sentences_df['sentence_tags'] = sentences_df['sentence'].apply(get_nouns)"
   ]
  },
  {
   "cell_type": "code",
   "execution_count": null,
   "metadata": {
    "ExecuteTime": {
     "end_time": "2020-03-22T18:23:58.833917Z",
     "start_time": "2020-03-22T18:23:58.056172Z"
    }
   },
   "outputs": [],
   "source": [
    "sentences_df = sentences_df[sentences_df['sentence_tags'].str.len()>0]"
   ]
  },
  {
   "cell_type": "code",
   "execution_count": null,
   "metadata": {
    "ExecuteTime": {
     "end_time": "2020-03-22T18:24:00.344157Z",
     "start_time": "2020-03-22T18:24:00.327132Z"
    }
   },
   "outputs": [],
   "source": [
    "sentences_df.head()"
   ]
  },
  {
   "cell_type": "code",
   "execution_count": null,
   "metadata": {
    "ExecuteTime": {
     "end_time": "2020-03-22T18:24:14.680361Z",
     "start_time": "2020-03-22T18:24:14.653748Z"
    }
   },
   "outputs": [],
   "source": [
    "sentence_tags = sentences_df['sentence_tags'].values.tolist()"
   ]
  },
  {
   "cell_type": "code",
   "execution_count": null,
   "metadata": {
    "ExecuteTime": {
     "end_time": "2020-03-22T18:24:45.277531Z",
     "start_time": "2020-03-22T18:24:16.645371Z"
    }
   },
   "outputs": [],
   "source": [
    "import gensim\n",
    "\n",
    "# Using gensim to create a dictionary object of all the words in all extracts\n",
    "sentence_dict = gensim.corpora.Dictionary(sentence_tags)\n",
    "\n",
    "# Returning the word vector for each extract from the gensim dict of words\n",
    "sentence_vecs = [sentence_dict.doc2bow(words) for words in sentence_tags]"
   ]
  },
  {
   "cell_type": "code",
   "execution_count": null,
   "metadata": {
    "ExecuteTime": {
     "end_time": "2020-03-22T19:11:46.720223Z",
     "start_time": "2020-03-22T18:25:02.212019Z"
    }
   },
   "outputs": [],
   "source": [
    "# Finding the optimal number of topics\n",
    "from gensim.models import CoherenceModel\n",
    "\n",
    "gensim_noun_models = []\n",
    "\n",
    "for num_topic in range(3, 10):\n",
    "    model_val = []\n",
    "    gensim_nouns = gensim.models.ldamodel.LdaModel(corpus=sentence_vecs, id2word=sentence_dict, num_topics=num_topic)\n",
    "    coh_model = CoherenceModel(model=gensim_nouns, texts=sentence_tags, dictionary=sentence_dict, coherence='c_v')\n",
    "    model_val.append(gensim_nouns)\n",
    "    model_val.append(coh_model.get_coherence())\n",
    "    model_val.append(num_topic)\n",
    "    gensim_noun_models.append(model_val)\n",
    "    print(\"Topic \" + str(num_topic) + \" Score: \" + str(coh_model.get_coherence()))"
   ]
  },
  {
   "cell_type": "code",
   "execution_count": null,
   "metadata": {
    "ExecuteTime": {
     "end_time": "2020-03-22T19:56:09.286853Z",
     "start_time": "2020-03-22T19:56:09.142239Z"
    }
   },
   "outputs": [],
   "source": [
    "import matplotlib.pyplot as plt\n",
    "\n",
    "coh_val = [coh for model, coh, topic in gensim_noun_models]\n",
    "\n",
    "x = range(3, 10)\n",
    "plt.plot(x, coh_val)\n",
    "plt.xlabel(\"Num Topics\")\n",
    "plt.ylabel(\"Coherence score\")\n",
    "plt.legend((\"coherence_values\"), loc='best')\n",
    "plt.show()"
   ]
  },
  {
   "cell_type": "code",
   "execution_count": null,
   "metadata": {
    "ExecuteTime": {
     "end_time": "2020-03-22T19:56:13.817340Z",
     "start_time": "2020-03-22T19:56:13.764449Z"
    },
    "scrolled": false
   },
   "outputs": [],
   "source": [
    "# Mallet LDA Model - topics\n",
    "for model in gensim_noun_models:\n",
    "    print(\"Model #{} Coherence Score: {}\".format(model[2], model[1]))\n",
    "    topics = model[0].show_topics(formatted=False)\n",
    "    for topic, word_list in topics:\n",
    "        topic_num = topic + 1\n",
    "        result_list = []\n",
    "        for word, word_prob in word_list:\n",
    "            result_list.append(word)\n",
    "        print(\"Topic {}: {}\".format(topic_num, ', '.join(result_list)))\n",
    "    print('----------------------------------------------------------------------------')"
   ]
  },
  {
   "cell_type": "code",
   "execution_count": null,
   "metadata": {
    "ExecuteTime": {
     "end_time": "2020-03-22T19:59:38.924293Z",
     "start_time": "2020-03-22T19:59:38.818663Z"
    }
   },
   "outputs": [],
   "source": [
    "import pickle \n",
    "\n",
    "###@@@@@@@@@ THIS IS TO ***SAVE*** THE MODELS FROM ABOVE @@@@@@@@@###\n",
    "pickle.dump(gensim_noun_models, open(\"gensim_noun_models.pkl\", \"wb\"))\n",
    "\n",
    "###@@@@@@@@@ THIS IS TO ***OPEN*** THE MODELS FROM THE STORED PICKLE FILE @@@@@@@@@###\n",
    "### CHECKPOINT - can just load the pickle file and start running your analysis\n",
    "# gensim_models = pickle.load(open(\"gensim_noun_models.pkl\", \"rb\"))"
   ]
  },
  {
   "cell_type": "code",
   "execution_count": null,
   "metadata": {},
   "outputs": [],
   "source": []
  },
  {
   "cell_type": "markdown",
   "metadata": {},
   "source": [
    "# #2 LDA Mallet Model - Nouns Only"
   ]
  },
  {
   "cell_type": "code",
   "execution_count": null,
   "metadata": {
    "ExecuteTime": {
     "end_time": "2020-03-22T22:05:24.741006Z",
     "start_time": "2020-03-22T21:43:33.389087Z"
    }
   },
   "outputs": [],
   "source": [
    "import gensim\n",
    "import os \n",
    "\n",
    "os.environ.update({'MALLET_HOME':r'D:\\\\Softwares\\\\mallet-2.0.8'})\n",
    "mallet_path = r'D:\\\\Softwares\\\\mallet-2.0.8\\\\bin\\\\mallet'\n",
    "\n",
    "mallet_noun_models = []\n",
    "\n",
    "for num_topic in range(3, 10):\n",
    "    model_val = []\n",
    "    mallet_nouns_only = gensim.models.wrappers.LdaMallet(mallet_path, corpus=sentence_vecs, id2word=sentence_dict, num_topics=num_topic)\n",
    "    mallet_coh_model = CoherenceModel(model=mallet_nouns_only, texts=sentence_tags, dictionary=sentence_dict, coherence='c_v')\n",
    "    model_val.append(mallet_nouns_only)\n",
    "    model_val.append(mallet_coh_model.get_coherence())\n",
    "    model_val.append(num_topic)\n",
    "    mallet_noun_models.append(model_val)\n",
    "    print(\"Topic \" + str(num_topic) + \" Score: \" + str(mallet_coh_model.get_coherence()))"
   ]
  },
  {
   "cell_type": "code",
   "execution_count": null,
   "metadata": {
    "ExecuteTime": {
     "end_time": "2020-03-23T03:59:14.432451Z",
     "start_time": "2020-03-23T03:59:14.285797Z"
    }
   },
   "outputs": [],
   "source": [
    "import matplotlib.pyplot as plt\n",
    "\n",
    "mallet_coh_val = [coh for model, coh, topic in mallet_noun_models]\n",
    "\n",
    "x = range(3, 10)\n",
    "plt.plot(x, mallet_coh_val)\n",
    "plt.xlabel(\"Num Topics\")\n",
    "plt.ylabel(\"Coherence score\")\n",
    "plt.legend((\"coherence_values\"), loc='best')\n",
    "plt.show()"
   ]
  },
  {
   "cell_type": "code",
   "execution_count": null,
   "metadata": {
    "ExecuteTime": {
     "end_time": "2020-03-23T03:59:17.065877Z",
     "start_time": "2020-03-23T03:59:17.030964Z"
    }
   },
   "outputs": [],
   "source": [
    "# Mallet LDA Model - topics\n",
    "for model in mallet_noun_models:\n",
    "    print(\"Model #{} Coherence Score: {}\".format(model[2], model[1]))\n",
    "    topics = model[0].show_topics(formatted=False)\n",
    "    for topic, word_list in topics:\n",
    "        topic_num = topic + 1\n",
    "        result_list = []\n",
    "        for word, word_prob in word_list:\n",
    "            result_list.append(word)\n",
    "        print(\"Topic {}: {}\".format(topic_num, ', '.join(result_list)))\n",
    "    print('----------------------------------------------------------------------------')"
   ]
  },
  {
   "cell_type": "code",
   "execution_count": null,
   "metadata": {
    "ExecuteTime": {
     "end_time": "2020-03-23T06:55:33.175050Z",
     "start_time": "2020-03-23T06:55:33.088279Z"
    }
   },
   "outputs": [],
   "source": [
    "import pickle \n",
    "\n",
    "###@@@@@@@@@ THIS IS TO ***SAVE*** THE MODELS FROM ABOVE @@@@@@@@@###\n",
    "pickle.dump(mallet_noun_models, open(\"mallet_noun_models.pkl\", \"wb\"))\n",
    "\n",
    "###@@@@@@@@@ THIS IS TO ***OPEN*** THE MODELS FROM THE STORED PICKLE FILE @@@@@@@@@###\n",
    "### CHECKPOINT - can just load the pickle file and start running your analysis\n",
    "# gensim_models = pickle.load(open(\"mallet_noun_models.pkl\", \"rb\"))"
   ]
  },
  {
   "cell_type": "markdown",
   "metadata": {},
   "source": [
    "# #3 LDA Gensim Model - Nouns and Adjectives"
   ]
  },
  {
   "cell_type": "code",
   "execution_count": null,
   "metadata": {
    "ExecuteTime": {
     "end_time": "2020-03-23T06:57:06.628841Z",
     "start_time": "2020-03-23T06:57:04.066460Z"
    }
   },
   "outputs": [],
   "source": [
    "sentences_df = pd.DataFrame()\n",
    "sentences_df['sentence'] = sentence_list\n",
    "sentences_df['index'] = index_list\n",
    "sentences_df.dropna(inplace=True)\n",
    "\n",
    "sentences_df.head()"
   ]
  },
  {
   "cell_type": "code",
   "execution_count": 115,
   "metadata": {
    "ExecuteTime": {
     "end_time": "2020-03-23T08:33:59.469143Z",
     "start_time": "2020-03-23T08:33:59.454183Z"
    }
   },
   "outputs": [],
   "source": [
    "import nltk\n",
    "\n",
    "stop_list = nltk.corpus.stopwords.words('english')\n",
    "tokenizer = nltk.tokenize.word_tokenize\n",
    "extra_stop_words = ['phone', 'iphone', 'nokia', 'samsung', 'htc', 'lg', 'galaxy', 'ca', 'motorola', 'android', 'verizon', 'i', '%', 't', 's']\n",
    "extra_stop_words += ['s4', 's5', 's6', 's7', 's3', 's8', 's9', 'm9', 'moto']\n",
    "\n",
    "def get_nouns_adj(sentence_row):\n",
    "\n",
    "    noun_list = []\n",
    "    sentence = nltk.pos_tag(tokenizer(sentence_row.lower()))\n",
    "    for w, pos in sentence: \n",
    "        if pos == 'NN' or pos == 'JJ':\n",
    "            if w not in extra_stop_words:\n",
    "                noun_list.append(w)\n",
    "    \n",
    "    return noun_list\n"
   ]
  },
  {
   "cell_type": "code",
   "execution_count": 116,
   "metadata": {
    "ExecuteTime": {
     "end_time": "2020-03-23T09:21:08.051765Z",
     "start_time": "2020-03-23T08:34:02.047171Z"
    }
   },
   "outputs": [],
   "source": [
    "sentences_df['sentence_tags'] = sentences_df['sentence'].apply(get_nouns_adj)"
   ]
  },
  {
   "cell_type": "code",
   "execution_count": 117,
   "metadata": {
    "ExecuteTime": {
     "end_time": "2020-03-23T09:24:21.207880Z",
     "start_time": "2020-03-23T09:24:21.184907Z"
    }
   },
   "outputs": [
    {
     "data": {
      "text/html": [
       "<div>\n",
       "<style scoped>\n",
       "    .dataframe tbody tr th:only-of-type {\n",
       "        vertical-align: middle;\n",
       "    }\n",
       "\n",
       "    .dataframe tbody tr th {\n",
       "        vertical-align: top;\n",
       "    }\n",
       "\n",
       "    .dataframe thead th {\n",
       "        text-align: right;\n",
       "    }\n",
       "</style>\n",
       "<table border=\"1\" class=\"dataframe\">\n",
       "  <thead>\n",
       "    <tr style=\"text-align: right;\">\n",
       "      <th></th>\n",
       "      <th>sentence</th>\n",
       "      <th>index</th>\n",
       "      <th>sentence_tags</th>\n",
       "    </tr>\n",
       "  </thead>\n",
       "  <tbody>\n",
       "    <tr>\n",
       "      <th>0</th>\n",
       "      <td>As a diehard Samsung fan who has had every Sam...</td>\n",
       "      <td>0</td>\n",
       "      <td>[diehard, fan, series, favorite, upgrade]</td>\n",
       "    </tr>\n",
       "    <tr>\n",
       "      <th>1</th>\n",
       "      <td>I am amazed at some of the reviews and think p...</td>\n",
       "      <td>0</td>\n",
       "      <td>[defective, device]</td>\n",
       "    </tr>\n",
       "    <tr>\n",
       "      <th>2</th>\n",
       "      <td>The battery life is amazing</td>\n",
       "      <td>0</td>\n",
       "      <td>[battery, life]</td>\n",
       "    </tr>\n",
       "    <tr>\n",
       "      <th>4</th>\n",
       "      <td>the phone is sleek and smooth and beautiful I ...</td>\n",
       "      <td>1</td>\n",
       "      <td>[sleek, smooth, beautiful]</td>\n",
       "    </tr>\n",
       "    <tr>\n",
       "      <th>5</th>\n",
       "      <td>Adequate feel</td>\n",
       "      <td>2</td>\n",
       "      <td>[adequate, feel]</td>\n",
       "    </tr>\n",
       "  </tbody>\n",
       "</table>\n",
       "</div>"
      ],
      "text/plain": [
       "                                            sentence  index  \\\n",
       "0  As a diehard Samsung fan who has had every Sam...      0   \n",
       "1  I am amazed at some of the reviews and think p...      0   \n",
       "2                        The battery life is amazing      0   \n",
       "4  the phone is sleek and smooth and beautiful I ...      1   \n",
       "5                                      Adequate feel      2   \n",
       "\n",
       "                               sentence_tags  \n",
       "0  [diehard, fan, series, favorite, upgrade]  \n",
       "1                        [defective, device]  \n",
       "2                            [battery, life]  \n",
       "4                 [sleek, smooth, beautiful]  \n",
       "5                           [adequate, feel]  "
      ]
     },
     "execution_count": 117,
     "metadata": {},
     "output_type": "execute_result"
    }
   ],
   "source": [
    "sentences_df.head()"
   ]
  },
  {
   "cell_type": "code",
   "execution_count": 119,
   "metadata": {
    "ExecuteTime": {
     "end_time": "2020-03-23T09:24:52.984494Z",
     "start_time": "2020-03-23T09:24:52.302443Z"
    }
   },
   "outputs": [
    {
     "data": {
      "text/html": [
       "<div>\n",
       "<style scoped>\n",
       "    .dataframe tbody tr th:only-of-type {\n",
       "        vertical-align: middle;\n",
       "    }\n",
       "\n",
       "    .dataframe tbody tr th {\n",
       "        vertical-align: top;\n",
       "    }\n",
       "\n",
       "    .dataframe thead th {\n",
       "        text-align: right;\n",
       "    }\n",
       "</style>\n",
       "<table border=\"1\" class=\"dataframe\">\n",
       "  <thead>\n",
       "    <tr style=\"text-align: right;\">\n",
       "      <th></th>\n",
       "      <th>sentence</th>\n",
       "      <th>index</th>\n",
       "      <th>sentence_tags</th>\n",
       "    </tr>\n",
       "  </thead>\n",
       "  <tbody>\n",
       "    <tr>\n",
       "      <th>0</th>\n",
       "      <td>As a diehard Samsung fan who has had every Sam...</td>\n",
       "      <td>0</td>\n",
       "      <td>[diehard, fan, series, favorite, upgrade]</td>\n",
       "    </tr>\n",
       "    <tr>\n",
       "      <th>1</th>\n",
       "      <td>I am amazed at some of the reviews and think p...</td>\n",
       "      <td>0</td>\n",
       "      <td>[defective, device]</td>\n",
       "    </tr>\n",
       "    <tr>\n",
       "      <th>2</th>\n",
       "      <td>The battery life is amazing</td>\n",
       "      <td>0</td>\n",
       "      <td>[battery, life]</td>\n",
       "    </tr>\n",
       "    <tr>\n",
       "      <th>4</th>\n",
       "      <td>the phone is sleek and smooth and beautiful I ...</td>\n",
       "      <td>1</td>\n",
       "      <td>[sleek, smooth, beautiful]</td>\n",
       "    </tr>\n",
       "    <tr>\n",
       "      <th>5</th>\n",
       "      <td>Adequate feel</td>\n",
       "      <td>2</td>\n",
       "      <td>[adequate, feel]</td>\n",
       "    </tr>\n",
       "  </tbody>\n",
       "</table>\n",
       "</div>"
      ],
      "text/plain": [
       "                                            sentence  index  \\\n",
       "0  As a diehard Samsung fan who has had every Sam...      0   \n",
       "1  I am amazed at some of the reviews and think p...      0   \n",
       "2                        The battery life is amazing      0   \n",
       "4  the phone is sleek and smooth and beautiful I ...      1   \n",
       "5                                      Adequate feel      2   \n",
       "\n",
       "                               sentence_tags  \n",
       "0  [diehard, fan, series, favorite, upgrade]  \n",
       "1                        [defective, device]  \n",
       "2                            [battery, life]  \n",
       "4                 [sleek, smooth, beautiful]  \n",
       "5                           [adequate, feel]  "
      ]
     },
     "execution_count": 119,
     "metadata": {},
     "output_type": "execute_result"
    }
   ],
   "source": [
    "sentences_df = sentences_df[sentences_df['sentence_tags'].str.len()>0]\n",
    "sentences_df.head()"
   ]
  },
  {
   "cell_type": "code",
   "execution_count": 120,
   "metadata": {
    "ExecuteTime": {
     "end_time": "2020-03-23T09:24:57.859737Z",
     "start_time": "2020-03-23T09:24:57.830813Z"
    }
   },
   "outputs": [],
   "source": [
    "sentence_tags = sentences_df['sentence_tags'].values.tolist()"
   ]
  },
  {
   "cell_type": "code",
   "execution_count": 121,
   "metadata": {
    "ExecuteTime": {
     "end_time": "2020-03-23T09:25:36.325269Z",
     "start_time": "2020-03-23T09:24:59.399070Z"
    }
   },
   "outputs": [],
   "source": [
    "import gensim\n",
    "\n",
    "# Using gensim to create a dictionary object of all the words in all extracts\n",
    "sentence_dict = gensim.corpora.Dictionary(sentence_tags)\n",
    "\n",
    "# Returning the word vector for each extract from the gensim dict of words\n",
    "sentence_vecs = [sentence_dict.doc2bow(words) for words in sentence_tags]"
   ]
  },
  {
   "cell_type": "code",
   "execution_count": 122,
   "metadata": {
    "ExecuteTime": {
     "end_time": "2020-03-23T10:35:03.005128Z",
     "start_time": "2020-03-23T09:25:49.964566Z"
    },
    "scrolled": true
   },
   "outputs": [
    {
     "name": "stdout",
     "output_type": "stream",
     "text": [
      "Topic 3 Score: 0.12090471406217408\n",
      "Topic 4 Score: 0.12379088351916395\n",
      "Topic 5 Score: 0.17597729267955997\n",
      "Topic 6 Score: 0.16647013832319194\n",
      "Topic 7 Score: 0.18916878754844113\n",
      "Topic 8 Score: 0.19107144666320994\n",
      "Topic 9 Score: 0.1849763089123704\n"
     ]
    }
   ],
   "source": [
    "# Finding the optimal number of topics\n",
    "from gensim.models import CoherenceModel\n",
    "\n",
    "gensim_noun_adj_models = []\n",
    "coh_val = []\n",
    "model_topics = []\n",
    "\n",
    "for num_topic in range(3, 10):\n",
    "    model_val = []\n",
    "    gensim_nouns_adj = gensim.models.ldamodel.LdaModel(corpus=sentence_vecs, id2word=sentence_dict, num_topics=num_topic)\n",
    "    coh_model = CoherenceModel(model=gensim_nouns_adj, texts=sentence_tags, dictionary=sentence_dict, coherence='c_v')\n",
    "    model_val.append(gensim_nouns_adj)\n",
    "    model_val.append(coh_model.get_coherence())\n",
    "    model_val.append(num_topic)\n",
    "    gensim_noun_adj_models.append(model_val)\n",
    "    print(\"Topic \" + str(num_topic) + \" Score: \" + str(coh_model.get_coherence()))"
   ]
  },
  {
   "cell_type": "code",
   "execution_count": 130,
   "metadata": {
    "ExecuteTime": {
     "end_time": "2020-03-23T10:39:35.359750Z",
     "start_time": "2020-03-23T10:39:34.962808Z"
    }
   },
   "outputs": [
    {
     "data": {
      "image/png": "[encoded data removed]",
      "text/plain": [
       "<Figure size 432x288 with 1 Axes>"
      ]
     },
     "metadata": {
      "needs_background": "light"
     },
     "output_type": "display_data"
    }
   ],
   "source": [
    "import matplotlib.pyplot as plt\n",
    "\n",
    "gensim_coh_val = [coh for model, coh, topic in gensim_noun_adj_models]\n",
    "\n",
    "x = range(3, 10)\n",
    "plt.plot(x, gensim_coh_val)\n",
    "plt.xlabel(\"Num Topics\")\n",
    "plt.ylabel(\"Coherence score\")\n",
    "plt.legend((\"coherence_values\"), loc='best')\n",
    "plt.show()"
   ]
  },
  {
   "cell_type": "code",
   "execution_count": 131,
   "metadata": {
    "ExecuteTime": {
     "end_time": "2020-03-23T10:39:47.051725Z",
     "start_time": "2020-03-23T10:39:46.985931Z"
    }
   },
   "outputs": [
    {
     "name": "stdout",
     "output_type": "stream",
     "text": [
      "Model #3 Coherence Score: 0.12090471406217408\n",
      "Topic 1: good, screen, easy, sim, card, old, little, money, year, bad\n",
      "Topic 2: new, time, other, first, mobile, product, happy, day, few, basic\n",
      "Topic 3: great, battery, price, camera, quality, nice, life, excellent, everything, smartphone\n",
      "----------------------------------------------------------------------------\n",
      "Model #4 Coherence Score: 0.12379088351916395\n",
      "Topic 1: good, product, other, money, bad, thing, little, internet, work, charger\n",
      "Topic 2: great, screen, quality, nice, camera, mobile, everything, smartphone, problem, smart\n",
      "Topic 3: price, new, easy, first, excellent, old, year, many, lot, cell\n",
      "Topic 4: battery, time, life, sim, card, happy, day, apps, few, memory\n",
      "----------------------------------------------------------------------------\n",
      "Model #5 Coherence Score: 0.17597729267955997\n",
      "Topic 1: good, great, price, product, nice, service, last, simple, call, month\n",
      "Topic 2: battery, good, camera, easy, quality, life, great, excellent, day, basic\n",
      "Topic 3: time, first, smartphone, problem, happy, smart, cell, apps, unlocked, work\n",
      "Topic 4: new, sim, mobile, old, everything, other, many, much, slow, one\n",
      "Topic 5: screen, card, money, lot, use, memory, small, size, touch, little\n",
      "----------------------------------------------------------------------------\n",
      "Model #6 Coherence Score: 0.16647013832319194\n",
      "Topic 1: great, screen, easy, everything, perfect, touch, size, simple, fine, month\n",
      "Topic 2: good, camera, product, nice, quality, bad, basic, thing, one, big\n",
      "Topic 3: battery, life, time, smartphone, day, memory, excellent, last, slow, many\n",
      "Topic 4: other, mobile, problem, money, few, service, device, unlocked, work, keyboard\n",
      "Topic 5: new, first, card, old, sim, smart, year, awesome, lot, call\n",
      "Topic 6: price, happy, use, cell, much, same, new, internet, cheap, low\n",
      "----------------------------------------------------------------------------\n",
      "Model #7 Coherence Score: 0.18916878754844113\n",
      "Topic 1: first, mobile, many, one, fine, call, case, purchase, screen, week\n",
      "Topic 2: apps, old, time, problem, smart, use, little, work, charger, able\n",
      "Topic 3: great, camera, everything, happy, bad, perfect, service, awesome, item, product\n",
      "Topic 4: screen, price, nice, sim, card, memory, touch, small, size, big\n",
      "Topic 5: easy, quality, smartphone, few, simple, device, slow, sound, cheap, design\n",
      "Topic 6: new, other, money, cell, unlocked, way, month, text, brand, apple\n",
      "Topic 7: good, battery, product, life, excellent, day, year, lot, basic, much\n",
      "----------------------------------------------------------------------------\n",
      "Model #8 Coherence Score: 0.19107144666320994\n",
      "Topic 1: good, mobile, screen, many, perfect, cell, touch, size, charger, awesome\n",
      "Topic 2: price, easy, smartphone, year, one, fine, call, keyboard, case, able\n",
      "Topic 3: great, product, everything, much, few, overall, week, daughter, internal, husband\n",
      "Topic 4: camera, quality, screen, nice, fast, light, box, display, clear, processor\n",
      "Topic 5: bad, lot, use, small, internet, work, day, cheap, apple, music\n",
      "Topic 6: battery, time, life, sim, card, old, problem, memory, last, only\n",
      "Topic 7: other, first, happy, smart, excellent, basic, service, simple, unlocked, slow\n",
      "Topic 8: new, apps, little, money, big, same, sound, low, brand, bit\n",
      "----------------------------------------------------------------------------\n",
      "Model #9 Coherence Score: 0.1849763089123704\n",
      "Topic 1: new, apps, old, everything, many, use, basic, last, slow, month\n",
      "Topic 2: great, good, battery, life, nice, excellent, money, day, smart, cell\n",
      "Topic 3: price, product, good, mobile, little, perfect, much, device, internet, fine\n",
      "Topic 4: camera, quality, service, simple, awesome, way, case, able, apple, sound\n",
      "Topic 5: bad, only, thing, work, memory, purchase, brand, overall, anyone, replacement\n",
      "Topic 6: screen, few, touch, call, cheap, user, clear, wifi, amazing, system\n",
      "Topic 7: sim, card, smartphone, problem, happy, lot, year, text, bit, item\n",
      "Topic 8: easy, other, first, same, one, keyboard, nothing, music, something, value\n",
      "Topic 9: time, screen, small, size, big, processor, dual, high, pocket, available\n",
      "----------------------------------------------------------------------------\n"
     ]
    }
   ],
   "source": [
    "# Mallet LDA Model - topics\n",
    "for model in gensim_noun_adj_models:\n",
    "    print(\"Model #{} Coherence Score: {}\".format(model[2], model[1]))\n",
    "    topics = model[0].show_topics(formatted=False)\n",
    "    for topic, word_list in topics:\n",
    "        topic_num = topic + 1\n",
    "        result_list = []\n",
    "        for word, word_prob in word_list:\n",
    "            result_list.append(word)\n",
    "        print(\"Topic {}: {}\".format(topic_num, ', '.join(result_list)))\n",
    "    print('----------------------------------------------------------------------------')"
   ]
  },
  {
   "cell_type": "code",
   "execution_count": 132,
   "metadata": {
    "ExecuteTime": {
     "end_time": "2020-03-23T11:56:32.974161Z",
     "start_time": "2020-03-23T11:56:32.903348Z"
    }
   },
   "outputs": [],
   "source": [
    "import pickle \n",
    "\n",
    "###@@@@@@@@@ THIS IS TO ***SAVE*** THE MODELS FROM ABOVE @@@@@@@@@###\n",
    "pickle.dump(gensim_noun_adj_models, open(\"gensim_noun_adj_models.pkl\", \"wb\"))\n",
    "\n",
    "###@@@@@@@@@ THIS IS TO ***OPEN*** THE MODELS FROM THE STORED PICKLE FILE @@@@@@@@@###\n",
    "### CHECKPOINT - can just load the pickle file and start running your analysis\n",
    "# gensim_models = pickle.load(open(\"gensim_noun_adj_models.pkl\", \"rb\"))"
   ]
  },
  {
   "cell_type": "markdown",
   "metadata": {},
   "source": [
    "# #3 LDA Mallet Model - Nouns and Adjectives"
   ]
  },
  {
   "cell_type": "code",
   "execution_count": 133,
   "metadata": {
    "ExecuteTime": {
     "end_time": "2020-03-23T12:32:35.303319Z",
     "start_time": "2020-03-23T11:59:19.505916Z"
    }
   },
   "outputs": [
    {
     "name": "stdout",
     "output_type": "stream",
     "text": [
      "Topic 3 Score: 0.18127995339888828\n",
      "Topic 4 Score: 0.22922448019850838\n",
      "Topic 5 Score: 0.2559319012463308\n",
      "Topic 6 Score: 0.2898276923060393\n",
      "Topic 7 Score: 0.3227144017660208\n",
      "Topic 8 Score: 0.3072112002251593\n",
      "Topic 9 Score: 0.3289721924741631\n"
     ]
    }
   ],
   "source": [
    "import gensim\n",
    "import os \n",
    "\n",
    "os.environ.update({'MALLET_HOME':r'D:\\\\Softwares\\\\mallet-2.0.8'})\n",
    "mallet_path = r'D:\\\\Softwares\\\\mallet-2.0.8\\\\bin\\\\mallet'\n",
    "\n",
    "mallet_noun_adj_models = []\n",
    "\n",
    "for num_topic in range(3, 10):\n",
    "    model_val = []\n",
    "    mallet_noun_adj = gensim.models.wrappers.LdaMallet(mallet_path, corpus=sentence_vecs, id2word=sentence_dict, num_topics=num_topic)\n",
    "    mallet_coh_model = CoherenceModel(model=mallet_noun_adj, texts=sentence_tags, dictionary=sentence_dict, coherence='c_v')\n",
    "    model_val.append(mallet_noun_adj)\n",
    "    model_val.append(mallet_coh_model.get_coherence())\n",
    "    model_val.append(num_topic)\n",
    "    mallet_noun_adj_models.append(model_val)\n",
    "    print(\"Topic \" + str(num_topic) + \" Score: \" + str(mallet_coh_model.get_coherence()))"
   ]
  },
  {
   "cell_type": "code",
   "execution_count": 134,
   "metadata": {
    "ExecuteTime": {
     "end_time": "2020-03-23T12:37:27.392790Z",
     "start_time": "2020-03-23T12:37:27.240224Z"
    }
   },
   "outputs": [
    {
     "data": {
      "image/png": "[encoded data removed]",
      "text/plain": [
       "<Figure size 432x288 with 1 Axes>"
      ]
     },
     "metadata": {
      "needs_background": "light"
     },
     "output_type": "display_data"
    }
   ],
   "source": [
    "import matplotlib.pyplot as plt\n",
    "\n",
    "mallet_coh_val = [coh for model, coh, topic in mallet_noun_adj_models]\n",
    "\n",
    "x = range(3, 10)\n",
    "plt.plot(x, mallet_coh_val)\n",
    "plt.xlabel(\"Num Topics\")\n",
    "plt.ylabel(\"Coherence score\")\n",
    "plt.legend((\"coherence_values\"), loc='best')\n",
    "plt.show()"
   ]
  },
  {
   "cell_type": "code",
   "execution_count": 135,
   "metadata": {
    "ExecuteTime": {
     "end_time": "2020-03-23T12:37:54.688877Z",
     "start_time": "2020-03-23T12:37:54.650958Z"
    }
   },
   "outputs": [
    {
     "name": "stdout",
     "output_type": "stream",
     "text": [
      "Model #3 Coherence Score: 0.18127995339888828\n",
      "Topic 1: good, battery, camera, great, quality, nice, life, excellent, awesome, performance\n",
      "Topic 2: price, product, mobile, great, sim, money, happy, device, smartphone, year\n",
      "Topic 3: screen, time, easy, problem, day, apps, card, size, perfect, big\n",
      "----------------------------------------------------------------------------\n",
      "Model #4 Coherence Score: 0.22922448019850838\n",
      "Topic 1: mobile, time, problem, happy, product, year, bad, month, service, apple\n",
      "Topic 2: sim, apps, card, lot, memory, thing, issue, fine, bit, work\n",
      "Topic 3: good, battery, camera, screen, quality, life, awesome, day, performance, display\n",
      "Topic 4: great, price, nice, excellent, product, easy, good, device, screen, smartphone\n",
      "----------------------------------------------------------------------------\n",
      "Model #5 Coherence Score: 0.2559319012463308\n",
      "Topic 1: happy, year, service, apple, charger, case, cell, work, purchase, unlocked\n",
      "Topic 2: great, easy, device, smartphone, size, perfect, big, smart, screen, note\n",
      "Topic 3: battery, mobile, time, life, problem, day, bad, money, thing, issue\n",
      "Topic 4: good, great, price, product, quality, nice, excellent, performance, design, sound\n",
      "Topic 5: camera, screen, awesome, sim, apps, card, display, memory, fast, amazing\n",
      "----------------------------------------------------------------------------\n",
      "Model #6 Coherence Score: 0.2898276923060393\n",
      "Topic 1: battery, good, life, problem, time, day, bad, performance, issue, camera\n",
      "Topic 2: camera, screen, nice, display, size, big, perfect, design, fast, touch\n",
      "Topic 3: happy, money, year, month, note, apple, purchase, cell, review, brand\n",
      "Topic 4: good, price, product, mobile, excellent, great, nice, smartphone, awesome, range\n",
      "Topic 5: great, quality, easy, device, smart, user, high, call, feature, software\n",
      "Topic 6: sim, apps, card, memory, fine, charger, work, thing, unlocked, version\n",
      "----------------------------------------------------------------------------\n",
      "Model #7 Coherence Score: 0.3227144017660208\n",
      "Topic 1: great, quality, nice, awesome, performance, display, camera, design, easy, fast\n",
      "Topic 2: money, happy, product, year, month, apple, charger, purchase, review, brand\n",
      "Topic 3: good, camera, price, mobile, product, excellent, front, range, quality, system\n",
      "Topic 4: screen, size, perfect, big, easy, touch, note, edge, bit, case\n",
      "Topic 5: great, device, smartphone, price, lot, smart, user, ram, high, experience\n",
      "Topic 6: sim, apps, card, memory, thing, work, cell, fine, unlocked, version\n",
      "Topic 7: battery, time, life, problem, day, issue, bad, poor, backup, call\n",
      "----------------------------------------------------------------------------\n",
      "Model #8 Coherence Score: 0.3072112002251593\n",
      "Topic 1: good, battery, life, day, performance, backup, charge, time, full, nice\n",
      "Topic 2: money, lot, smart, work, fine, feature, worth, internet, simple, music\n",
      "Topic 3: great, screen, easy, nice, happy, size, perfect, big, touch, purchase\n",
      "Topic 4: problem, time, product, bad, issue, month, mobile, apple, year, review\n",
      "Topic 5: price, product, excellent, mobile, smartphone, service, range, unlocked, brand, version\n",
      "Topic 6: camera, quality, good, awesome, display, sound, low, light, front, high\n",
      "Topic 7: device, design, fast, note, edge, amazing, user, experience, super, beautiful\n",
      "Topic 8: sim, apps, card, memory, thing, charger, case, box, storage, dual\n",
      "----------------------------------------------------------------------------\n",
      "Model #9 Coherence Score: 0.3289721924741631\n",
      "Topic 1: great, price, quality, good, sound, range, high, low, worth, fantastic\n",
      "Topic 2: good, product, nice, mobile, excellent, bad, experience, service, condition, budget\n",
      "Topic 3: device, smartphone, lot, easy, smart, user, internet, market, simple, basic\n",
      "Topic 4: sim, apps, card, memory, thing, note, edge, case, storage, feature\n",
      "Topic 5: problem, issue, apple, charger, software, unlocked, brand, version, box, model\n",
      "Topic 6: camera, awesome, display, fast, amazing, front, super, speed, clear, beautiful\n",
      "Topic 7: battery, good, life, day, performance, design, light, poor, backup, charge\n",
      "Topic 8: time, happy, money, year, month, purchase, review, week, update, work\n",
      "Topic 9: screen, size, perfect, big, easy, touch, bit, call, small, hand\n",
      "----------------------------------------------------------------------------\n"
     ]
    }
   ],
   "source": [
    "# Mallet LDA Model - topics\n",
    "for model in mallet_noun_adj_models:\n",
    "    print(\"Model #{} Coherence Score: {}\".format(model[2], model[1]))\n",
    "    topics = model[0].show_topics(formatted=False)\n",
    "    for topic, word_list in topics:\n",
    "        topic_num = topic + 1\n",
    "        result_list = []\n",
    "        for word, word_prob in word_list:\n",
    "            result_list.append(word)\n",
    "        print(\"Topic {}: {}\".format(topic_num, ', '.join(result_list)))\n",
    "    print('----------------------------------------------------------------------------')"
   ]
  },
  {
   "cell_type": "code",
   "execution_count": 110,
   "metadata": {
    "ExecuteTime": {
     "end_time": "2020-03-23T12:38:22.408807Z",
     "start_time": "2020-03-23T12:38:22.346949Z"
    }
   },
   "outputs": [
    {
     "ename": "NameError",
     "evalue": "name 'gensim_noun_adj_models' is not defined",
     "output_type": "error",
     "traceback": [
      "\u001b[1;31m---------------------------------------------------------------------------\u001b[0m",
      "\u001b[1;31mNameError\u001b[0m                                 Traceback (most recent call last)",
      "\u001b[1;32m<ipython-input-110-35c708c0a7b5>\u001b[0m in \u001b[0;36m<module>\u001b[1;34m()\u001b[0m\n\u001b[0;32m      2\u001b[0m \u001b[1;33m\u001b[0m\u001b[0m\n\u001b[0;32m      3\u001b[0m \u001b[1;31m###@@@@@@@@@ THIS IS TO ***SAVE*** THE MODELS FROM ABOVE @@@@@@@@@###\u001b[0m\u001b[1;33m\u001b[0m\u001b[1;33m\u001b[0m\u001b[0m\n\u001b[1;32m----> 4\u001b[1;33m \u001b[0mpickle\u001b[0m\u001b[1;33m.\u001b[0m\u001b[0mdump\u001b[0m\u001b[1;33m(\u001b[0m\u001b[0mgensim_noun_adj_models\u001b[0m\u001b[1;33m,\u001b[0m \u001b[0mopen\u001b[0m\u001b[1;33m(\u001b[0m\u001b[1;34m\"mallet_noun_adj_models.pkl\"\u001b[0m\u001b[1;33m,\u001b[0m \u001b[1;34m\"wb\"\u001b[0m\u001b[1;33m)\u001b[0m\u001b[1;33m)\u001b[0m\u001b[1;33m\u001b[0m\u001b[0m\n\u001b[0m\u001b[0;32m      5\u001b[0m \u001b[1;33m\u001b[0m\u001b[0m\n\u001b[0;32m      6\u001b[0m \u001b[1;31m###@@@@@@@@@ THIS IS TO ***OPEN*** THE MODELS FROM THE STORED PICKLE FILE @@@@@@@@@###\u001b[0m\u001b[1;33m\u001b[0m\u001b[1;33m\u001b[0m\u001b[0m\n",
      "\u001b[1;31mNameError\u001b[0m: name 'gensim_noun_adj_models' is not defined"
     ]
    }
   ],
   "source": [
    "import pickle \n",
    "\n",
    "###@@@@@@@@@ THIS IS TO ***SAVE*** THE MODELS FROM ABOVE @@@@@@@@@###\n",
    "pickle.dump(gensim_noun_adj_models, open(\"mallet_noun_adj_models.pkl\", \"wb\"))\n",
    "\n",
    "###@@@@@@@@@ THIS IS TO ***OPEN*** THE MODELS FROM THE STORED PICKLE FILE @@@@@@@@@###\n",
    "### CHECKPOINT - can just load the pickle file and start running your analysis\n",
    "# gensim_models = pickle.load(open(\"mallet_noun_adj_models.pkl\", \"rb\"))"
   ]
  },
  {
   "cell_type": "markdown",
   "metadata": {},
   "source": [
    "# Sentiment Analysis (Vader & TextBlob)"
   ]
  },
  {
   "cell_type": "markdown",
   "metadata": {},
   "source": [
    "### Common methods between both SA Models\n"
   ]
  },
  {
   "cell_type": "code",
   "execution_count": 96,
   "metadata": {},
   "outputs": [],
   "source": [
    "#Takes in the sentence column from sentence_df, returns a list of polarity scores.\n",
    "#Arg input 0 for Vader, 1 for TextBlob\n",
    "\n",
    "def sa_score(name_df,arg_num):\n",
    "    scores =[]\n",
    "    \n",
    "    if arg_num == 0:\n",
    "        try:\n",
    "            for sentence_value in name_df['sentence']:\n",
    "                score = analyser.polarity_scores(sentence_value)\n",
    "                scores.append(score)\n",
    "        except Exception as e:\n",
    "            print(str(e))\n",
    "    else:        \n",
    "        for sentence_value in name_df['sentence']:\n",
    "            tb = TextBlob(sentence_value)\n",
    "            scores.append(tb.sentiment.polarity)\n",
    "    \n",
    "    return scores\n",
    "    "
   ]
  },
  {
   "cell_type": "code",
   "execution_count": 102,
   "metadata": {},
   "outputs": [],
   "source": [
    "#Discrepancy between the extract's review score and the sentiment analysis's model score\n",
    "#Takes in a dataframe, returns a list\n",
    "\n",
    "def discrepancy(sa_df):\n",
    "    discrepancy_list = []\n",
    "    \n",
    "    for index, row in sa_df.iterrows():\n",
    "        if row['compound'] >= 0.3 and row['index scores'] < 6:\n",
    "            discrepancy_list.append(1)\n",
    "        elif -0.3 > row['compound'] > 0.3 and not(4 > row['index scores'] > 6):\n",
    "            discrepancy_list.append(1)\n",
    "        elif row['compound'] <= -0.3 and row['index scores'] > 4:\n",
    "            discrepancy_list.append(1)\n",
    "        else:\n",
    "            discrepancy_list.append(0)\n",
    "    \n",
    "    return discrepancy_list"
   ]
  },
  {
   "cell_type": "code",
   "execution_count": 107,
   "metadata": {},
   "outputs": [],
   "source": [
    "def discrepancy_score(sa_df2):\n",
    "    sentencesDiscrepency = sa_df2.loc[sa_df2['discrepancy'] == 1]\n",
    "    return(len(sentencesDiscrepency)/len(sa_df2))"
   ]
  },
  {
   "cell_type": "code",
   "execution_count": 98,
   "metadata": {},
   "outputs": [],
   "source": [
    "sentences_df_sa = sentences_df.copy(deep=True)\n",
    "#Drop all columns except sentence & index\n",
    "sentences_df_sa.drop(sentences_df_sa.columns.difference(['sentence','index']), 1, inplace=True)"
   ]
  },
  {
   "cell_type": "markdown",
   "metadata": {},
   "source": [
    "# VADER"
   ]
  },
  {
   "cell_type": "code",
   "execution_count": 99,
   "metadata": {},
   "outputs": [],
   "source": [
    "from vaderSentiment.vaderSentiment import SentimentIntensityAnalyzer\n",
    "analyser = SentimentIntensityAnalyzer()"
   ]
  },
  {
   "cell_type": "code",
   "execution_count": 112,
   "metadata": {},
   "outputs": [],
   "source": [
    "\"\"\"scores =[]\n",
    "\n",
    "try:\n",
    "    for sentence_value in sentences_df['sentence']:\n",
    "        score = analyser.polarity_scores(sentence_value)\n",
    "        scores.append(score)\n",
    "except Exception as e:\n",
    "    print(str(e))\n",
    "\"\"\""
   ]
  },
  {
   "cell_type": "code",
   "execution_count": 100,
   "metadata": {},
   "outputs": [
    {
     "data": {
      "text/html": [
       "<div>\n",
       "<style scoped>\n",
       "    .dataframe tbody tr th:only-of-type {\n",
       "        vertical-align: middle;\n",
       "    }\n",
       "\n",
       "    .dataframe tbody tr th {\n",
       "        vertical-align: top;\n",
       "    }\n",
       "\n",
       "    .dataframe thead th {\n",
       "        text-align: right;\n",
       "    }\n",
       "</style>\n",
       "<table border=\"1\" class=\"dataframe\">\n",
       "  <thead>\n",
       "    <tr style=\"text-align: right;\">\n",
       "      <th></th>\n",
       "      <th>sentence</th>\n",
       "      <th>index</th>\n",
       "      <th>neg</th>\n",
       "      <th>neu</th>\n",
       "      <th>pos</th>\n",
       "      <th>compound</th>\n",
       "      <th>index scores</th>\n",
       "    </tr>\n",
       "  </thead>\n",
       "  <tbody>\n",
       "    <tr>\n",
       "      <th>0</th>\n",
       "      <td>As a diehard Samsung fan who has had every Sam...</td>\n",
       "      <td>0</td>\n",
       "      <td>0.000</td>\n",
       "      <td>0.813</td>\n",
       "      <td>0.187</td>\n",
       "      <td>0.6486</td>\n",
       "      <td>10.0</td>\n",
       "    </tr>\n",
       "    <tr>\n",
       "      <th>1</th>\n",
       "      <td>I am amazed at some of the reviews and think p...</td>\n",
       "      <td>0</td>\n",
       "      <td>0.111</td>\n",
       "      <td>0.766</td>\n",
       "      <td>0.123</td>\n",
       "      <td>0.0772</td>\n",
       "      <td>10.0</td>\n",
       "    </tr>\n",
       "    <tr>\n",
       "      <th>2</th>\n",
       "      <td>The battery life is amazing</td>\n",
       "      <td>0</td>\n",
       "      <td>0.000</td>\n",
       "      <td>0.513</td>\n",
       "      <td>0.487</td>\n",
       "      <td>0.5859</td>\n",
       "      <td>10.0</td>\n",
       "    </tr>\n",
       "    <tr>\n",
       "      <th>3</th>\n",
       "      <td>Love the phone</td>\n",
       "      <td>1</td>\n",
       "      <td>0.000</td>\n",
       "      <td>0.323</td>\n",
       "      <td>0.677</td>\n",
       "      <td>0.6369</td>\n",
       "      <td>10.0</td>\n",
       "    </tr>\n",
       "    <tr>\n",
       "      <th>4</th>\n",
       "      <td>the phone is sleek and smooth and beautiful I ...</td>\n",
       "      <td>1</td>\n",
       "      <td>0.000</td>\n",
       "      <td>0.653</td>\n",
       "      <td>0.347</td>\n",
       "      <td>0.8412</td>\n",
       "      <td>10.0</td>\n",
       "    </tr>\n",
       "    <tr>\n",
       "      <th>...</th>\n",
       "      <td>...</td>\n",
       "      <td>...</td>\n",
       "      <td>...</td>\n",
       "      <td>...</td>\n",
       "      <td>...</td>\n",
       "      <td>...</td>\n",
       "      <td>...</td>\n",
       "    </tr>\n",
       "    <tr>\n",
       "      <th>983119</th>\n",
       "      <td>Came right on timr</td>\n",
       "      <td>400060</td>\n",
       "      <td>0.000</td>\n",
       "      <td>1.000</td>\n",
       "      <td>0.000</td>\n",
       "      <td>0.0000</td>\n",
       "      <td>10.0</td>\n",
       "    </tr>\n",
       "    <tr>\n",
       "      <th>983120</th>\n",
       "      <td>Excelente producto</td>\n",
       "      <td>400061</td>\n",
       "      <td>0.000</td>\n",
       "      <td>1.000</td>\n",
       "      <td>0.000</td>\n",
       "      <td>0.0000</td>\n",
       "      <td>10.0</td>\n",
       "    </tr>\n",
       "    <tr>\n",
       "      <th>983121</th>\n",
       "      <td>Older Android version, too many junky apps and...</td>\n",
       "      <td>400062</td>\n",
       "      <td>0.000</td>\n",
       "      <td>1.000</td>\n",
       "      <td>0.000</td>\n",
       "      <td>0.0000</td>\n",
       "      <td>4.0</td>\n",
       "    </tr>\n",
       "    <tr>\n",
       "      <th>983122</th>\n",
       "      <td>I had one die and returned it to my cell provi...</td>\n",
       "      <td>400062</td>\n",
       "      <td>0.183</td>\n",
       "      <td>0.599</td>\n",
       "      <td>0.219</td>\n",
       "      <td>0.0516</td>\n",
       "      <td>4.0</td>\n",
       "    </tr>\n",
       "    <tr>\n",
       "      <th>983123</th>\n",
       "      <td>Unfortunately, they just gave me another one</td>\n",
       "      <td>400062</td>\n",
       "      <td>0.286</td>\n",
       "      <td>0.714</td>\n",
       "      <td>0.000</td>\n",
       "      <td>-0.3400</td>\n",
       "      <td>4.0</td>\n",
       "    </tr>\n",
       "  </tbody>\n",
       "</table>\n",
       "<p>983124 rows × 7 columns</p>\n",
       "</div>"
      ],
      "text/plain": [
       "                                                 sentence   index    neg  \\\n",
       "0       As a diehard Samsung fan who has had every Sam...       0  0.000   \n",
       "1       I am amazed at some of the reviews and think p...       0  0.111   \n",
       "2                             The battery life is amazing       0  0.000   \n",
       "3                                          Love the phone       1  0.000   \n",
       "4       the phone is sleek and smooth and beautiful I ...       1  0.000   \n",
       "...                                                   ...     ...    ...   \n",
       "983119                                 Came right on timr  400060  0.000   \n",
       "983120                                 Excelente producto  400061  0.000   \n",
       "983121  Older Android version, too many junky apps and...  400062  0.000   \n",
       "983122  I had one die and returned it to my cell provi...  400062  0.183   \n",
       "983123       Unfortunately, they just gave me another one  400062  0.286   \n",
       "\n",
       "          neu    pos  compound  index scores  \n",
       "0       0.813  0.187    0.6486          10.0  \n",
       "1       0.766  0.123    0.0772          10.0  \n",
       "2       0.513  0.487    0.5859          10.0  \n",
       "3       0.323  0.677    0.6369          10.0  \n",
       "4       0.653  0.347    0.8412          10.0  \n",
       "...       ...    ...       ...           ...  \n",
       "983119  1.000  0.000    0.0000          10.0  \n",
       "983120  1.000  0.000    0.0000          10.0  \n",
       "983121  1.000  0.000    0.0000           4.0  \n",
       "983122  0.599  0.219    0.0516           4.0  \n",
       "983123  0.714  0.000   -0.3400           4.0  \n",
       "\n",
       "[983124 rows x 7 columns]"
      ]
     },
     "execution_count": 100,
     "metadata": {},
     "output_type": "execute_result"
    }
   ],
   "source": [
    "vader_scores = sa_score(sentences_df_sa,0)\n",
    "sentencesScores = pd.concat([sentences_df_sa,pd.DataFrame(vader_scores)],axis =1, sort = False)\n",
    "sentencesScores['index scores'] = index_score_list\n",
    "sentencesScores"
   ]
  },
  {
   "cell_type": "code",
   "execution_count": 103,
   "metadata": {},
   "outputs": [
    {
     "data": {
      "text/html": [
       "<div>\n",
       "<style scoped>\n",
       "    .dataframe tbody tr th:only-of-type {\n",
       "        vertical-align: middle;\n",
       "    }\n",
       "\n",
       "    .dataframe tbody tr th {\n",
       "        vertical-align: top;\n",
       "    }\n",
       "\n",
       "    .dataframe thead th {\n",
       "        text-align: right;\n",
       "    }\n",
       "</style>\n",
       "<table border=\"1\" class=\"dataframe\">\n",
       "  <thead>\n",
       "    <tr style=\"text-align: right;\">\n",
       "      <th></th>\n",
       "      <th>sentence</th>\n",
       "      <th>index</th>\n",
       "      <th>neg</th>\n",
       "      <th>neu</th>\n",
       "      <th>pos</th>\n",
       "      <th>compound</th>\n",
       "      <th>index scores</th>\n",
       "      <th>discrepancy</th>\n",
       "    </tr>\n",
       "  </thead>\n",
       "  <tbody>\n",
       "    <tr>\n",
       "      <th>0</th>\n",
       "      <td>As a diehard Samsung fan who has had every Sam...</td>\n",
       "      <td>0</td>\n",
       "      <td>0.000</td>\n",
       "      <td>0.813</td>\n",
       "      <td>0.187</td>\n",
       "      <td>0.6486</td>\n",
       "      <td>10.0</td>\n",
       "      <td>0</td>\n",
       "    </tr>\n",
       "    <tr>\n",
       "      <th>1</th>\n",
       "      <td>I am amazed at some of the reviews and think p...</td>\n",
       "      <td>0</td>\n",
       "      <td>0.111</td>\n",
       "      <td>0.766</td>\n",
       "      <td>0.123</td>\n",
       "      <td>0.0772</td>\n",
       "      <td>10.0</td>\n",
       "      <td>0</td>\n",
       "    </tr>\n",
       "    <tr>\n",
       "      <th>2</th>\n",
       "      <td>The battery life is amazing</td>\n",
       "      <td>0</td>\n",
       "      <td>0.000</td>\n",
       "      <td>0.513</td>\n",
       "      <td>0.487</td>\n",
       "      <td>0.5859</td>\n",
       "      <td>10.0</td>\n",
       "      <td>0</td>\n",
       "    </tr>\n",
       "    <tr>\n",
       "      <th>3</th>\n",
       "      <td>Love the phone</td>\n",
       "      <td>1</td>\n",
       "      <td>0.000</td>\n",
       "      <td>0.323</td>\n",
       "      <td>0.677</td>\n",
       "      <td>0.6369</td>\n",
       "      <td>10.0</td>\n",
       "      <td>0</td>\n",
       "    </tr>\n",
       "    <tr>\n",
       "      <th>4</th>\n",
       "      <td>the phone is sleek and smooth and beautiful I ...</td>\n",
       "      <td>1</td>\n",
       "      <td>0.000</td>\n",
       "      <td>0.653</td>\n",
       "      <td>0.347</td>\n",
       "      <td>0.8412</td>\n",
       "      <td>10.0</td>\n",
       "      <td>0</td>\n",
       "    </tr>\n",
       "    <tr>\n",
       "      <th>...</th>\n",
       "      <td>...</td>\n",
       "      <td>...</td>\n",
       "      <td>...</td>\n",
       "      <td>...</td>\n",
       "      <td>...</td>\n",
       "      <td>...</td>\n",
       "      <td>...</td>\n",
       "      <td>...</td>\n",
       "    </tr>\n",
       "    <tr>\n",
       "      <th>983119</th>\n",
       "      <td>Came right on timr</td>\n",
       "      <td>400060</td>\n",
       "      <td>0.000</td>\n",
       "      <td>1.000</td>\n",
       "      <td>0.000</td>\n",
       "      <td>0.0000</td>\n",
       "      <td>10.0</td>\n",
       "      <td>0</td>\n",
       "    </tr>\n",
       "    <tr>\n",
       "      <th>983120</th>\n",
       "      <td>Excelente producto</td>\n",
       "      <td>400061</td>\n",
       "      <td>0.000</td>\n",
       "      <td>1.000</td>\n",
       "      <td>0.000</td>\n",
       "      <td>0.0000</td>\n",
       "      <td>10.0</td>\n",
       "      <td>0</td>\n",
       "    </tr>\n",
       "    <tr>\n",
       "      <th>983121</th>\n",
       "      <td>Older Android version, too many junky apps and...</td>\n",
       "      <td>400062</td>\n",
       "      <td>0.000</td>\n",
       "      <td>1.000</td>\n",
       "      <td>0.000</td>\n",
       "      <td>0.0000</td>\n",
       "      <td>4.0</td>\n",
       "      <td>0</td>\n",
       "    </tr>\n",
       "    <tr>\n",
       "      <th>983122</th>\n",
       "      <td>I had one die and returned it to my cell provi...</td>\n",
       "      <td>400062</td>\n",
       "      <td>0.183</td>\n",
       "      <td>0.599</td>\n",
       "      <td>0.219</td>\n",
       "      <td>0.0516</td>\n",
       "      <td>4.0</td>\n",
       "      <td>0</td>\n",
       "    </tr>\n",
       "    <tr>\n",
       "      <th>983123</th>\n",
       "      <td>Unfortunately, they just gave me another one</td>\n",
       "      <td>400062</td>\n",
       "      <td>0.286</td>\n",
       "      <td>0.714</td>\n",
       "      <td>0.000</td>\n",
       "      <td>-0.3400</td>\n",
       "      <td>4.0</td>\n",
       "      <td>0</td>\n",
       "    </tr>\n",
       "  </tbody>\n",
       "</table>\n",
       "<p>983124 rows × 8 columns</p>\n",
       "</div>"
      ],
      "text/plain": [
       "                                                 sentence   index    neg  \\\n",
       "0       As a diehard Samsung fan who has had every Sam...       0  0.000   \n",
       "1       I am amazed at some of the reviews and think p...       0  0.111   \n",
       "2                             The battery life is amazing       0  0.000   \n",
       "3                                          Love the phone       1  0.000   \n",
       "4       the phone is sleek and smooth and beautiful I ...       1  0.000   \n",
       "...                                                   ...     ...    ...   \n",
       "983119                                 Came right on timr  400060  0.000   \n",
       "983120                                 Excelente producto  400061  0.000   \n",
       "983121  Older Android version, too many junky apps and...  400062  0.000   \n",
       "983122  I had one die and returned it to my cell provi...  400062  0.183   \n",
       "983123       Unfortunately, they just gave me another one  400062  0.286   \n",
       "\n",
       "          neu    pos  compound  index scores  discrepancy  \n",
       "0       0.813  0.187    0.6486          10.0            0  \n",
       "1       0.766  0.123    0.0772          10.0            0  \n",
       "2       0.513  0.487    0.5859          10.0            0  \n",
       "3       0.323  0.677    0.6369          10.0            0  \n",
       "4       0.653  0.347    0.8412          10.0            0  \n",
       "...       ...    ...       ...           ...          ...  \n",
       "983119  1.000  0.000    0.0000          10.0            0  \n",
       "983120  1.000  0.000    0.0000          10.0            0  \n",
       "983121  1.000  0.000    0.0000           4.0            0  \n",
       "983122  0.599  0.219    0.0516           4.0            0  \n",
       "983123  0.714  0.000   -0.3400           4.0            0  \n",
       "\n",
       "[983124 rows x 8 columns]"
      ]
     },
     "execution_count": 103,
     "metadata": {},
     "output_type": "execute_result"
    }
   ],
   "source": [
    "\"\"\"discrepency = []\n",
    "\n",
    "for index, row in sentencesScores.iterrows():\n",
    "    if row['compound'] >= 0.3 and row['index scores'] < 6:\n",
    "        discrepency.append(1)\n",
    "    elif -0.3 > row['compound'] > 0.3 and not(4 > row['index scores'] > 6):\n",
    "        discrepency.append(1)\n",
    "    elif row['compound'] <= -0.3 and row['index scores'] > 4:\n",
    "        discrepency.append(1)\n",
    "    else:\n",
    "        discrepency.append(0)\"\"\"\n",
    "        \n",
    "sentencesScores['discrepancy'] = discrepancy(sentencesScores)\n",
    "sentencesScores"
   ]
  },
  {
   "cell_type": "code",
   "execution_count": 108,
   "metadata": {},
   "outputs": [
    {
     "name": "stdout",
     "output_type": "stream",
     "text": [
      "0.07754159190498859\n"
     ]
    }
   ],
   "source": [
    "\"\"\"sentencesDiscrepency = sentencesScores.loc[sentencesScores['discrepancy'] == 1]\n",
    "len(sentencesDiscrepency)/len(sentencesScores)\n",
    "#print(sentencesDiscrepency.to_csv(\"discrepency.csv\"))\"\"\"\n",
    "\n",
    "vader_discrepancy_score = discrepancy_score(sentencesScores)\n",
    "print(vader_discrepancy_score)"
   ]
  },
  {
   "cell_type": "code",
   "execution_count": 109,
   "metadata": {},
   "outputs": [],
   "source": [
    "###@@@@@@@@@ THIS IS TO ***SAVE*** THE VADER DF FROM ABOVE @@@@@@@@@###\n",
    "#pickle.dump(sentencesScores, open(\"VaderSentencesScores.pkl\", \"wb\"))\n",
    "\n",
    "###@@@@@@@@@ THIS IS TO ***OPEN*** THE VADER DF FROM THE STORED PICKLE FILE @@@@@@@@@###\n",
    "### CHECKPOINT - can just load the pickle file and start running your analysis\n",
    "# sentencesScores = pickle.load(open(\"VaderSentencesScores.pkl\", \"rb\"))"
   ]
  },
  {
   "cell_type": "markdown",
   "metadata": {},
   "source": [
    "## TextBlob"
   ]
  },
  {
   "cell_type": "code",
   "execution_count": 111,
   "metadata": {},
   "outputs": [],
   "source": [
    "textblob_scores = sa_score(sentences_df_sa,1)"
   ]
  },
  {
   "cell_type": "code",
   "execution_count": 114,
   "metadata": {},
   "outputs": [
    {
     "data": {
      "text/html": [
       "<div>\n",
       "<style scoped>\n",
       "    .dataframe tbody tr th:only-of-type {\n",
       "        vertical-align: middle;\n",
       "    }\n",
       "\n",
       "    .dataframe tbody tr th {\n",
       "        vertical-align: top;\n",
       "    }\n",
       "\n",
       "    .dataframe thead th {\n",
       "        text-align: right;\n",
       "    }\n",
       "</style>\n",
       "<table border=\"1\" class=\"dataframe\">\n",
       "  <thead>\n",
       "    <tr style=\"text-align: right;\">\n",
       "      <th></th>\n",
       "      <th>sentence</th>\n",
       "      <th>index</th>\n",
       "      <th>compound</th>\n",
       "      <th>index scores</th>\n",
       "    </tr>\n",
       "  </thead>\n",
       "  <tbody>\n",
       "    <tr>\n",
       "      <th>0</th>\n",
       "      <td>As a diehard Samsung fan who has had every Sam...</td>\n",
       "      <td>0</td>\n",
       "      <td>0.300000</td>\n",
       "      <td>10.0</td>\n",
       "    </tr>\n",
       "    <tr>\n",
       "      <th>1</th>\n",
       "      <td>I am amazed at some of the reviews and think p...</td>\n",
       "      <td>0</td>\n",
       "      <td>0.000000</td>\n",
       "      <td>10.0</td>\n",
       "    </tr>\n",
       "    <tr>\n",
       "      <th>2</th>\n",
       "      <td>The battery life is amazing</td>\n",
       "      <td>0</td>\n",
       "      <td>0.600000</td>\n",
       "      <td>10.0</td>\n",
       "    </tr>\n",
       "    <tr>\n",
       "      <th>3</th>\n",
       "      <td>Love the phone</td>\n",
       "      <td>1</td>\n",
       "      <td>0.500000</td>\n",
       "      <td>10.0</td>\n",
       "    </tr>\n",
       "    <tr>\n",
       "      <th>4</th>\n",
       "      <td>the phone is sleek and smooth and beautiful I ...</td>\n",
       "      <td>1</td>\n",
       "      <td>0.470000</td>\n",
       "      <td>10.0</td>\n",
       "    </tr>\n",
       "    <tr>\n",
       "      <th>...</th>\n",
       "      <td>...</td>\n",
       "      <td>...</td>\n",
       "      <td>...</td>\n",
       "      <td>...</td>\n",
       "    </tr>\n",
       "    <tr>\n",
       "      <th>983119</th>\n",
       "      <td>Came right on timr</td>\n",
       "      <td>400060</td>\n",
       "      <td>0.285714</td>\n",
       "      <td>10.0</td>\n",
       "    </tr>\n",
       "    <tr>\n",
       "      <th>983120</th>\n",
       "      <td>Excelente producto</td>\n",
       "      <td>400061</td>\n",
       "      <td>0.000000</td>\n",
       "      <td>10.0</td>\n",
       "    </tr>\n",
       "    <tr>\n",
       "      <th>983121</th>\n",
       "      <td>Older Android version, too many junky apps and...</td>\n",
       "      <td>400062</td>\n",
       "      <td>0.222222</td>\n",
       "      <td>4.0</td>\n",
       "    </tr>\n",
       "    <tr>\n",
       "      <th>983122</th>\n",
       "      <td>I had one die and returned it to my cell provi...</td>\n",
       "      <td>400062</td>\n",
       "      <td>0.300000</td>\n",
       "      <td>4.0</td>\n",
       "    </tr>\n",
       "    <tr>\n",
       "      <th>983123</th>\n",
       "      <td>Unfortunately, they just gave me another one</td>\n",
       "      <td>400062</td>\n",
       "      <td>-0.500000</td>\n",
       "      <td>4.0</td>\n",
       "    </tr>\n",
       "  </tbody>\n",
       "</table>\n",
       "<p>983124 rows × 4 columns</p>\n",
       "</div>"
      ],
      "text/plain": [
       "                                                 sentence   index  compound  \\\n",
       "0       As a diehard Samsung fan who has had every Sam...       0  0.300000   \n",
       "1       I am amazed at some of the reviews and think p...       0  0.000000   \n",
       "2                             The battery life is amazing       0  0.600000   \n",
       "3                                          Love the phone       1  0.500000   \n",
       "4       the phone is sleek and smooth and beautiful I ...       1  0.470000   \n",
       "...                                                   ...     ...       ...   \n",
       "983119                                 Came right on timr  400060  0.285714   \n",
       "983120                                 Excelente producto  400061  0.000000   \n",
       "983121  Older Android version, too many junky apps and...  400062  0.222222   \n",
       "983122  I had one die and returned it to my cell provi...  400062  0.300000   \n",
       "983123       Unfortunately, they just gave me another one  400062 -0.500000   \n",
       "\n",
       "        index scores  \n",
       "0               10.0  \n",
       "1               10.0  \n",
       "2               10.0  \n",
       "3               10.0  \n",
       "4               10.0  \n",
       "...              ...  \n",
       "983119          10.0  \n",
       "983120          10.0  \n",
       "983121           4.0  \n",
       "983122           4.0  \n",
       "983123           4.0  \n",
       "\n",
       "[983124 rows x 4 columns]"
      ]
     },
     "execution_count": 114,
     "metadata": {},
     "output_type": "execute_result"
    }
   ],
   "source": [
    "#textblob_sentencesScores = pd.concat([sentences_df_sa,pd.DataFrame(textblob_scores)],axis =1, sort = False)\n",
    "#textblob_sentencesScores['index scores'] = index_score_list\n",
    "textblob_sentencesScores.rename(columns={0: 'compound'}, inplace=True)\n",
    "textblob_sentencesScores"
   ]
  },
  {
   "cell_type": "code",
   "execution_count": 115,
   "metadata": {},
   "outputs": [
    {
     "data": {
      "text/html": [
       "<div>\n",
       "<style scoped>\n",
       "    .dataframe tbody tr th:only-of-type {\n",
       "        vertical-align: middle;\n",
       "    }\n",
       "\n",
       "    .dataframe tbody tr th {\n",
       "        vertical-align: top;\n",
       "    }\n",
       "\n",
       "    .dataframe thead th {\n",
       "        text-align: right;\n",
       "    }\n",
       "</style>\n",
       "<table border=\"1\" class=\"dataframe\">\n",
       "  <thead>\n",
       "    <tr style=\"text-align: right;\">\n",
       "      <th></th>\n",
       "      <th>sentence</th>\n",
       "      <th>index</th>\n",
       "      <th>compound</th>\n",
       "      <th>index scores</th>\n",
       "      <th>discrepancy</th>\n",
       "    </tr>\n",
       "  </thead>\n",
       "  <tbody>\n",
       "    <tr>\n",
       "      <th>0</th>\n",
       "      <td>As a diehard Samsung fan who has had every Sam...</td>\n",
       "      <td>0</td>\n",
       "      <td>0.30</td>\n",
       "      <td>10.0</td>\n",
       "      <td>0</td>\n",
       "    </tr>\n",
       "    <tr>\n",
       "      <th>1</th>\n",
       "      <td>I am amazed at some of the reviews and think p...</td>\n",
       "      <td>0</td>\n",
       "      <td>0.00</td>\n",
       "      <td>10.0</td>\n",
       "      <td>0</td>\n",
       "    </tr>\n",
       "    <tr>\n",
       "      <th>2</th>\n",
       "      <td>The battery life is amazing</td>\n",
       "      <td>0</td>\n",
       "      <td>0.60</td>\n",
       "      <td>10.0</td>\n",
       "      <td>0</td>\n",
       "    </tr>\n",
       "    <tr>\n",
       "      <th>3</th>\n",
       "      <td>Love the phone</td>\n",
       "      <td>1</td>\n",
       "      <td>0.50</td>\n",
       "      <td>10.0</td>\n",
       "      <td>0</td>\n",
       "    </tr>\n",
       "    <tr>\n",
       "      <th>4</th>\n",
       "      <td>the phone is sleek and smooth and beautiful I ...</td>\n",
       "      <td>1</td>\n",
       "      <td>0.47</td>\n",
       "      <td>10.0</td>\n",
       "      <td>0</td>\n",
       "    </tr>\n",
       "  </tbody>\n",
       "</table>\n",
       "</div>"
      ],
      "text/plain": [
       "                                            sentence  index  compound  \\\n",
       "0  As a diehard Samsung fan who has had every Sam...      0      0.30   \n",
       "1  I am amazed at some of the reviews and think p...      0      0.00   \n",
       "2                        The battery life is amazing      0      0.60   \n",
       "3                                     Love the phone      1      0.50   \n",
       "4  the phone is sleek and smooth and beautiful I ...      1      0.47   \n",
       "\n",
       "   index scores  discrepancy  \n",
       "0          10.0            0  \n",
       "1          10.0            0  \n",
       "2          10.0            0  \n",
       "3          10.0            0  \n",
       "4          10.0            0  "
      ]
     },
     "execution_count": 115,
     "metadata": {},
     "output_type": "execute_result"
    }
   ],
   "source": [
    "textblob_sentencesScores['discrepancy'] = discrepancy(textblob_sentencesScores)\n",
    "textblob_sentencesScores.head()"
   ]
  },
  {
   "cell_type": "code",
   "execution_count": 117,
   "metadata": {},
   "outputs": [
    {
     "name": "stdout",
     "output_type": "stream",
     "text": [
      "0.04196520479613965\n"
     ]
    }
   ],
   "source": [
    "textblob_discrepancy_score = discrepancy_score(textblob_sentencesScores)\n",
    "print(textblob_discrepancy_score)"
   ]
  },
  {
   "cell_type": "code",
   "execution_count": 118,
   "metadata": {},
   "outputs": [],
   "source": [
    "###@@@@@@@@@ THIS IS TO ***SAVE*** THE TextBlob DF FROM ABOVE @@@@@@@@@###\n",
    "pickle.dump(textblob_sentencesScores, open(\"TextBlobSentencesScores.pkl\", \"wb\"))\n",
    "\n",
    "###@@@@@@@@@ THIS IS TO ***OPEN*** THE TextBlob DF FROM THE STORED PICKLE FILE @@@@@@@@@###\n",
    "### CHECKPOINT - can just load the pickle file and start running your analysis\n",
    "# textblob_sentencesScores = pickle.load(open(\"TextBlobSentencesScores.pkl\", \"rb\"))"
   ]
  },
  {
   "cell_type": "code",
   "execution_count": 121,
   "metadata": {},
   "outputs": [
    {
     "data": {
      "text/html": [
       "<div>\n",
       "<style scoped>\n",
       "    .dataframe tbody tr th:only-of-type {\n",
       "        vertical-align: middle;\n",
       "    }\n",
       "\n",
       "    .dataframe tbody tr th {\n",
       "        vertical-align: top;\n",
       "    }\n",
       "\n",
       "    .dataframe thead th {\n",
       "        text-align: right;\n",
       "    }\n",
       "</style>\n",
       "<table border=\"1\" class=\"dataframe\">\n",
       "  <thead>\n",
       "    <tr style=\"text-align: right;\">\n",
       "      <th></th>\n",
       "      <th>sentence</th>\n",
       "      <th>index</th>\n",
       "      <th>compound</th>\n",
       "      <th>index scores</th>\n",
       "      <th>discrepancy</th>\n",
       "    </tr>\n",
       "  </thead>\n",
       "  <tbody>\n",
       "    <tr>\n",
       "      <th>0</th>\n",
       "      <td>As a diehard Samsung fan who has had every Sam...</td>\n",
       "      <td>0</td>\n",
       "      <td>0.300000</td>\n",
       "      <td>10.0</td>\n",
       "      <td>0</td>\n",
       "    </tr>\n",
       "    <tr>\n",
       "      <th>1</th>\n",
       "      <td>I am amazed at some of the reviews and think p...</td>\n",
       "      <td>0</td>\n",
       "      <td>0.000000</td>\n",
       "      <td>10.0</td>\n",
       "      <td>0</td>\n",
       "    </tr>\n",
       "    <tr>\n",
       "      <th>2</th>\n",
       "      <td>The battery life is amazing</td>\n",
       "      <td>0</td>\n",
       "      <td>0.600000</td>\n",
       "      <td>10.0</td>\n",
       "      <td>0</td>\n",
       "    </tr>\n",
       "    <tr>\n",
       "      <th>3</th>\n",
       "      <td>Love the phone</td>\n",
       "      <td>1</td>\n",
       "      <td>0.500000</td>\n",
       "      <td>10.0</td>\n",
       "      <td>0</td>\n",
       "    </tr>\n",
       "    <tr>\n",
       "      <th>4</th>\n",
       "      <td>the phone is sleek and smooth and beautiful I ...</td>\n",
       "      <td>1</td>\n",
       "      <td>0.470000</td>\n",
       "      <td>10.0</td>\n",
       "      <td>0</td>\n",
       "    </tr>\n",
       "    <tr>\n",
       "      <th>5</th>\n",
       "      <td>Adequate feel</td>\n",
       "      <td>2</td>\n",
       "      <td>0.333333</td>\n",
       "      <td>6.0</td>\n",
       "      <td>0</td>\n",
       "    </tr>\n",
       "    <tr>\n",
       "      <th>6</th>\n",
       "      <td>Nice heft</td>\n",
       "      <td>2</td>\n",
       "      <td>0.600000</td>\n",
       "      <td>6.0</td>\n",
       "      <td>0</td>\n",
       "    </tr>\n",
       "    <tr>\n",
       "      <th>7</th>\n",
       "      <td>Processor's still sluggish for the few apps th...</td>\n",
       "      <td>2</td>\n",
       "      <td>-0.200000</td>\n",
       "      <td>6.0</td>\n",
       "      <td>0</td>\n",
       "    </tr>\n",
       "    <tr>\n",
       "      <th>8</th>\n",
       "      <td>Samsung wants to vacuum all of your data with ...</td>\n",
       "      <td>2</td>\n",
       "      <td>0.230556</td>\n",
       "      <td>6.0</td>\n",
       "      <td>0</td>\n",
       "    </tr>\n",
       "    <tr>\n",
       "      <th>9</th>\n",
       "      <td>What else is new</td>\n",
       "      <td>2</td>\n",
       "      <td>0.136364</td>\n",
       "      <td>6.0</td>\n",
       "      <td>0</td>\n",
       "    </tr>\n",
       "    <tr>\n",
       "      <th>10</th>\n",
       "      <td>Never disappointed</td>\n",
       "      <td>3</td>\n",
       "      <td>0.375000</td>\n",
       "      <td>9.2</td>\n",
       "      <td>0</td>\n",
       "    </tr>\n",
       "    <tr>\n",
       "      <th>11</th>\n",
       "      <td>One of the reasons I've been a long Samsung (p...</td>\n",
       "      <td>3</td>\n",
       "      <td>-0.050000</td>\n",
       "      <td>9.2</td>\n",
       "      <td>0</td>\n",
       "    </tr>\n",
       "    <tr>\n",
       "      <th>12</th>\n",
       "      <td>I've owned, or maintained, all Samsung smartph...</td>\n",
       "      <td>3</td>\n",
       "      <td>0.500000</td>\n",
       "      <td>9.2</td>\n",
       "      <td>0</td>\n",
       "    </tr>\n",
       "    <tr>\n",
       "      <th>13</th>\n",
       "      <td>I've now found that i'm in a group of people t...</td>\n",
       "      <td>4</td>\n",
       "      <td>0.000000</td>\n",
       "      <td>4.0</td>\n",
       "      <td>0</td>\n",
       "    </tr>\n",
       "    <tr>\n",
       "      <th>14</th>\n",
       "      <td>Day one screen has crack from being in my pocket</td>\n",
       "      <td>4</td>\n",
       "      <td>0.000000</td>\n",
       "      <td>4.0</td>\n",
       "      <td>0</td>\n",
       "    </tr>\n",
       "    <tr>\n",
       "      <th>15</th>\n",
       "      <td>Bluetooth on my 1st trip struggles to stay con...</td>\n",
       "      <td>4</td>\n",
       "      <td>0.000000</td>\n",
       "      <td>4.0</td>\n",
       "      <td>0</td>\n",
       "    </tr>\n",
       "    <tr>\n",
       "      <th>16</th>\n",
       "      <td>Good news</td>\n",
       "      <td>4</td>\n",
       "      <td>0.700000</td>\n",
       "      <td>4.0</td>\n",
       "      <td>1</td>\n",
       "    </tr>\n",
       "    <tr>\n",
       "      <th>17</th>\n",
       "      <td>battery life is great and lots of great features</td>\n",
       "      <td>4</td>\n",
       "      <td>0.800000</td>\n",
       "      <td>4.0</td>\n",
       "      <td>1</td>\n",
       "    </tr>\n",
       "    <tr>\n",
       "      <th>18</th>\n",
       "      <td>I am the type of person who never would comple...</td>\n",
       "      <td>5</td>\n",
       "      <td>0.150000</td>\n",
       "      <td>10.0</td>\n",
       "      <td>0</td>\n",
       "    </tr>\n",
       "    <tr>\n",
       "      <th>19</th>\n",
       "      <td>I got the S7 because at the time the fries mad...</td>\n",
       "      <td>5</td>\n",
       "      <td>0.500000</td>\n",
       "      <td>10.0</td>\n",
       "      <td>0</td>\n",
       "    </tr>\n",
       "    <tr>\n",
       "      <th>20</th>\n",
       "      <td>The way this Samsung S8 phone operates is more...</td>\n",
       "      <td>6</td>\n",
       "      <td>0.166667</td>\n",
       "      <td>4.0</td>\n",
       "      <td>0</td>\n",
       "    </tr>\n",
       "    <tr>\n",
       "      <th>21</th>\n",
       "      <td>When making a call you must select phone and t...</td>\n",
       "      <td>6</td>\n",
       "      <td>0.000000</td>\n",
       "      <td>4.0</td>\n",
       "      <td>0</td>\n",
       "    </tr>\n",
       "    <tr>\n",
       "      <th>22</th>\n",
       "      <td>It should automatically go to the dial pad</td>\n",
       "      <td>6</td>\n",
       "      <td>0.000000</td>\n",
       "      <td>4.0</td>\n",
       "      <td>0</td>\n",
       "    </tr>\n",
       "    <tr>\n",
       "      <th>23</th>\n",
       "      <td>I bought this phone very excited to use it</td>\n",
       "      <td>7</td>\n",
       "      <td>0.487500</td>\n",
       "      <td>6.0</td>\n",
       "      <td>0</td>\n",
       "    </tr>\n",
       "    <tr>\n",
       "      <th>24</th>\n",
       "      <td>I agree with all the other reviews stating tha...</td>\n",
       "      <td>7</td>\n",
       "      <td>-0.125000</td>\n",
       "      <td>6.0</td>\n",
       "      <td>0</td>\n",
       "    </tr>\n",
       "    <tr>\n",
       "      <th>25</th>\n",
       "      <td>I have so far has 2 different screen protector...</td>\n",
       "      <td>7</td>\n",
       "      <td>-0.133333</td>\n",
       "      <td>6.0</td>\n",
       "      <td>0</td>\n",
       "    </tr>\n",
       "    <tr>\n",
       "      <th>26</th>\n",
       "      <td>It is an extremely advanced and truly a Smart ...</td>\n",
       "      <td>8</td>\n",
       "      <td>0.307143</td>\n",
       "      <td>6.0</td>\n",
       "      <td>0</td>\n",
       "    </tr>\n",
       "    <tr>\n",
       "      <th>27</th>\n",
       "      <td>Great apps, great look</td>\n",
       "      <td>8</td>\n",
       "      <td>0.800000</td>\n",
       "      <td>6.0</td>\n",
       "      <td>0</td>\n",
       "    </tr>\n",
       "    <tr>\n",
       "      <th>28</th>\n",
       "      <td>BUT, the durability is that of a fresh egg</td>\n",
       "      <td>8</td>\n",
       "      <td>0.300000</td>\n",
       "      <td>6.0</td>\n",
       "      <td>0</td>\n",
       "    </tr>\n",
       "    <tr>\n",
       "      <th>29</th>\n",
       "      <td>Don't consider this phone without insurance</td>\n",
       "      <td>8</td>\n",
       "      <td>0.000000</td>\n",
       "      <td>6.0</td>\n",
       "      <td>0</td>\n",
       "    </tr>\n",
       "    <tr>\n",
       "      <th>30</th>\n",
       "      <td>The screen is fragile and one crack voids warr...</td>\n",
       "      <td>8</td>\n",
       "      <td>0.000000</td>\n",
       "      <td>6.0</td>\n",
       "      <td>0</td>\n",
       "    </tr>\n",
       "    <tr>\n",
       "      <th>31</th>\n",
       "      <td>Won't buy another Samsung based on their lack ...</td>\n",
       "      <td>8</td>\n",
       "      <td>-0.400000</td>\n",
       "      <td>6.0</td>\n",
       "      <td>1</td>\n",
       "    </tr>\n",
       "    <tr>\n",
       "      <th>32</th>\n",
       "      <td>Great phone with a PHENOMENAL Camera, not all ...</td>\n",
       "      <td>9</td>\n",
       "      <td>0.336111</td>\n",
       "      <td>8.0</td>\n",
       "      <td>0</td>\n",
       "    </tr>\n",
       "    <tr>\n",
       "      <th>33</th>\n",
       "      <td>However the screen IS NOT 5</td>\n",
       "      <td>9</td>\n",
       "      <td>0.000000</td>\n",
       "      <td>8.0</td>\n",
       "      <td>0</td>\n",
       "    </tr>\n",
       "    <tr>\n",
       "      <th>34</th>\n",
       "      <td>8,\" it's not all that bigger than my S7 Edge</td>\n",
       "      <td>9</td>\n",
       "      <td>0.000000</td>\n",
       "      <td>8.0</td>\n",
       "      <td>0</td>\n",
       "    </tr>\n",
       "    <tr>\n",
       "      <th>35</th>\n",
       "      <td>So maybe a 5</td>\n",
       "      <td>9</td>\n",
       "      <td>0.000000</td>\n",
       "      <td>8.0</td>\n",
       "      <td>0</td>\n",
       "    </tr>\n",
       "    <tr>\n",
       "      <th>36</th>\n",
       "      <td>6\" screen, it just looks bigger cus it's not a...</td>\n",
       "      <td>9</td>\n",
       "      <td>0.166667</td>\n",
       "      <td>8.0</td>\n",
       "      <td>0</td>\n",
       "    </tr>\n",
       "    <tr>\n",
       "      <th>37</th>\n",
       "      <td>I initially wasn't 100% certain about this han...</td>\n",
       "      <td>10</td>\n",
       "      <td>0.069857</td>\n",
       "      <td>10.0</td>\n",
       "      <td>0</td>\n",
       "    </tr>\n",
       "    <tr>\n",
       "      <th>38</th>\n",
       "      <td>this arrived a week before it's release date, ...</td>\n",
       "      <td>11</td>\n",
       "      <td>1.000000</td>\n",
       "      <td>10.0</td>\n",
       "      <td>0</td>\n",
       "    </tr>\n",
       "    <tr>\n",
       "      <th>39</th>\n",
       "      <td>Features are good, light weight and great scre...</td>\n",
       "      <td>11</td>\n",
       "      <td>0.633333</td>\n",
       "      <td>10.0</td>\n",
       "      <td>0</td>\n",
       "    </tr>\n",
       "    <tr>\n",
       "      <th>40</th>\n",
       "      <td>I traded in my galaxy s6 for this one and I do...</td>\n",
       "      <td>12</td>\n",
       "      <td>0.000000</td>\n",
       "      <td>10.0</td>\n",
       "      <td>0</td>\n",
       "    </tr>\n",
       "    <tr>\n",
       "      <th>41</th>\n",
       "      <td>The battery is long lasting despite all the mi...</td>\n",
       "      <td>12</td>\n",
       "      <td>-0.083333</td>\n",
       "      <td>10.0</td>\n",
       "      <td>0</td>\n",
       "    </tr>\n",
       "    <tr>\n",
       "      <th>42</th>\n",
       "      <td>The images and photos look outstanding</td>\n",
       "      <td>12</td>\n",
       "      <td>0.500000</td>\n",
       "      <td>10.0</td>\n",
       "      <td>0</td>\n",
       "    </tr>\n",
       "    <tr>\n",
       "      <th>43</th>\n",
       "      <td>I have always been a Samsung fan, especially w...</td>\n",
       "      <td>13</td>\n",
       "      <td>0.000000</td>\n",
       "      <td>6.0</td>\n",
       "      <td>0</td>\n",
       "    </tr>\n",
       "    <tr>\n",
       "      <th>44</th>\n",
       "      <td>Unfortunately, the S8, in my opinion, is no fl...</td>\n",
       "      <td>13</td>\n",
       "      <td>-0.500000</td>\n",
       "      <td>6.0</td>\n",
       "      <td>1</td>\n",
       "    </tr>\n",
       "    <tr>\n",
       "      <th>45</th>\n",
       "      <td>The S7 Edge is still the winner in my book</td>\n",
       "      <td>13</td>\n",
       "      <td>0.000000</td>\n",
       "      <td>6.0</td>\n",
       "      <td>0</td>\n",
       "    </tr>\n",
       "    <tr>\n",
       "      <th>46</th>\n",
       "      <td>Here is why I feel the way I do</td>\n",
       "      <td>13</td>\n",
       "      <td>0.000000</td>\n",
       "      <td>6.0</td>\n",
       "      <td>0</td>\n",
       "    </tr>\n",
       "    <tr>\n",
       "      <th>47</th>\n",
       "      <td>The tactile button on the home screen is cumbe...</td>\n",
       "      <td>13</td>\n",
       "      <td>0.000000</td>\n",
       "      <td>6.0</td>\n",
       "      <td>0</td>\n",
       "    </tr>\n",
       "    <tr>\n",
       "      <th>48</th>\n",
       "      <td>Took the risk and bought this phone and I must...</td>\n",
       "      <td>14</td>\n",
       "      <td>1.000000</td>\n",
       "      <td>10.0</td>\n",
       "      <td>0</td>\n",
       "    </tr>\n",
       "    <tr>\n",
       "      <th>49</th>\n",
       "      <td>I was skeptical at first cause I've spend the ...</td>\n",
       "      <td>14</td>\n",
       "      <td>0.030000</td>\n",
       "      <td>10.0</td>\n",
       "      <td>0</td>\n",
       "    </tr>\n",
       "  </tbody>\n",
       "</table>\n",
       "</div>"
      ],
      "text/plain": [
       "                                             sentence  index  compound  \\\n",
       "0   As a diehard Samsung fan who has had every Sam...      0  0.300000   \n",
       "1   I am amazed at some of the reviews and think p...      0  0.000000   \n",
       "2                         The battery life is amazing      0  0.600000   \n",
       "3                                      Love the phone      1  0.500000   \n",
       "4   the phone is sleek and smooth and beautiful I ...      1  0.470000   \n",
       "5                                       Adequate feel      2  0.333333   \n",
       "6                                           Nice heft      2  0.600000   \n",
       "7   Processor's still sluggish for the few apps th...      2 -0.200000   \n",
       "8   Samsung wants to vacuum all of your data with ...      2  0.230556   \n",
       "9                                    What else is new      2  0.136364   \n",
       "10                                 Never disappointed      3  0.375000   \n",
       "11  One of the reasons I've been a long Samsung (p...      3 -0.050000   \n",
       "12  I've owned, or maintained, all Samsung smartph...      3  0.500000   \n",
       "13  I've now found that i'm in a group of people t...      4  0.000000   \n",
       "14   Day one screen has crack from being in my pocket      4  0.000000   \n",
       "15  Bluetooth on my 1st trip struggles to stay con...      4  0.000000   \n",
       "16                                          Good news      4  0.700000   \n",
       "17   battery life is great and lots of great features      4  0.800000   \n",
       "18  I am the type of person who never would comple...      5  0.150000   \n",
       "19  I got the S7 because at the time the fries mad...      5  0.500000   \n",
       "20  The way this Samsung S8 phone operates is more...      6  0.166667   \n",
       "21  When making a call you must select phone and t...      6  0.000000   \n",
       "22         It should automatically go to the dial pad      6  0.000000   \n",
       "23         I bought this phone very excited to use it      7  0.487500   \n",
       "24  I agree with all the other reviews stating tha...      7 -0.125000   \n",
       "25  I have so far has 2 different screen protector...      7 -0.133333   \n",
       "26  It is an extremely advanced and truly a Smart ...      8  0.307143   \n",
       "27                             Great apps, great look      8  0.800000   \n",
       "28         BUT, the durability is that of a fresh egg      8  0.300000   \n",
       "29        Don't consider this phone without insurance      8  0.000000   \n",
       "30  The screen is fragile and one crack voids warr...      8  0.000000   \n",
       "31  Won't buy another Samsung based on their lack ...      8 -0.400000   \n",
       "32  Great phone with a PHENOMENAL Camera, not all ...      9  0.336111   \n",
       "33                        However the screen IS NOT 5      9  0.000000   \n",
       "34       8,\" it's not all that bigger than my S7 Edge      9  0.000000   \n",
       "35                                       So maybe a 5      9  0.000000   \n",
       "36  6\" screen, it just looks bigger cus it's not a...      9  0.166667   \n",
       "37  I initially wasn't 100% certain about this han...     10  0.069857   \n",
       "38  this arrived a week before it's release date, ...     11  1.000000   \n",
       "39  Features are good, light weight and great scre...     11  0.633333   \n",
       "40  I traded in my galaxy s6 for this one and I do...     12  0.000000   \n",
       "41  The battery is long lasting despite all the mi...     12 -0.083333   \n",
       "42             The images and photos look outstanding     12  0.500000   \n",
       "43  I have always been a Samsung fan, especially w...     13  0.000000   \n",
       "44  Unfortunately, the S8, in my opinion, is no fl...     13 -0.500000   \n",
       "45         The S7 Edge is still the winner in my book     13  0.000000   \n",
       "46                    Here is why I feel the way I do     13  0.000000   \n",
       "47  The tactile button on the home screen is cumbe...     13  0.000000   \n",
       "48  Took the risk and bought this phone and I must...     14  1.000000   \n",
       "49  I was skeptical at first cause I've spend the ...     14  0.030000   \n",
       "\n",
       "    index scores  discrepancy  \n",
       "0           10.0            0  \n",
       "1           10.0            0  \n",
       "2           10.0            0  \n",
       "3           10.0            0  \n",
       "4           10.0            0  \n",
       "5            6.0            0  \n",
       "6            6.0            0  \n",
       "7            6.0            0  \n",
       "8            6.0            0  \n",
       "9            6.0            0  \n",
       "10           9.2            0  \n",
       "11           9.2            0  \n",
       "12           9.2            0  \n",
       "13           4.0            0  \n",
       "14           4.0            0  \n",
       "15           4.0            0  \n",
       "16           4.0            1  \n",
       "17           4.0            1  \n",
       "18          10.0            0  \n",
       "19          10.0            0  \n",
       "20           4.0            0  \n",
       "21           4.0            0  \n",
       "22           4.0            0  \n",
       "23           6.0            0  \n",
       "24           6.0            0  \n",
       "25           6.0            0  \n",
       "26           6.0            0  \n",
       "27           6.0            0  \n",
       "28           6.0            0  \n",
       "29           6.0            0  \n",
       "30           6.0            0  \n",
       "31           6.0            1  \n",
       "32           8.0            0  \n",
       "33           8.0            0  \n",
       "34           8.0            0  \n",
       "35           8.0            0  \n",
       "36           8.0            0  \n",
       "37          10.0            0  \n",
       "38          10.0            0  \n",
       "39          10.0            0  \n",
       "40          10.0            0  \n",
       "41          10.0            0  \n",
       "42          10.0            0  \n",
       "43           6.0            0  \n",
       "44           6.0            1  \n",
       "45           6.0            0  \n",
       "46           6.0            0  \n",
       "47           6.0            0  \n",
       "48          10.0            0  \n",
       "49          10.0            0  "
      ]
     },
     "execution_count": 121,
     "metadata": {},
     "output_type": "execute_result"
    }
   ],
   "source": [
    "textblob_sentencesScores.head(50)"
   ]
  },
  {
   "cell_type": "markdown",
   "metadata": {},
   "source": [
    "# EVERYTHING BELOW ARE VERSION 1 CODE"
   ]
  },
  {
   "cell_type": "markdown",
   "metadata": {},
   "source": [
    "# LDA Model"
   ]
  },
  {
   "cell_type": "code",
   "execution_count": 69,
   "metadata": {
    "ExecuteTime": {
     "end_time": "2020-03-22T12:44:20.452391Z",
     "start_time": "2020-03-22T12:44:20.443412Z"
    }
   },
   "outputs": [],
   "source": [
    "# Preprocessing of extracts into words\n",
    "\n",
    "import nltk\n",
    "import re\n",
    "import gensim\n",
    "\n",
    "def clean_extract(extract_data):\n",
    "    stop_list = nltk.corpus.stopwords.words('english')\n",
    "    stop_list += ['phone', 'iphone', 'nokia', 'samsung', 'htc', 'lg', 'galaxy', 'ca', 'motorola', 'android', 'verizon']\n",
    "    tokenizer = nltk.tokenize.word_tokenize\n",
    "    stemmer = nltk.stem.porter.PorterStemmer()\n",
    "\n",
    "    extract_list  = [tokenizer(extract) for extract in extract_data]\n",
    "    extract_list = [[w.lower() for w in extract] for extract in extract_list]\n",
    "    extract_list = [[w for w in extract if re.search('^[a-z]+$',w)] for extract in extract_list]\n",
    "    extract_list = [[w for w in extract if w not in stop_list] for extract in extract_list]\n",
    "#     extract_list = [[stemmer.stem(w) for w in extract] for extract in extract_list]\n",
    "    return extract_list"
   ]
  },
  {
   "cell_type": "code",
   "execution_count": 31,
   "metadata": {
    "ExecuteTime": {
     "end_time": "2020-02-27T18:22:15.970356Z",
     "start_time": "2020-02-27T18:18:51.560253Z"
    }
   },
   "outputs": [],
   "source": [
    "extract_list = cleaned_df['extract'].values.tolist()\n",
    "extract_words = clean_extract(extract_list)"
   ]
  },
  {
   "cell_type": "markdown",
   "metadata": {},
   "source": [
    "## Gensim LDA Model"
   ]
  },
  {
   "cell_type": "code",
   "execution_count": 32,
   "metadata": {
    "ExecuteTime": {
     "end_time": "2020-02-27T18:22:34.550218Z",
     "start_time": "2020-02-27T18:22:15.972325Z"
    }
   },
   "outputs": [],
   "source": [
    "import gensim\n",
    "\n",
    "# Using gensim to create a dictionary object of all the words in all extracts\n",
    "extract_dict = gensim.corpora.Dictionary(extract_words)\n",
    "\n",
    "# Returning the word vector for each extract from the gensim dict of words\n",
    "extract_vecs = [extract_dict.doc2bow(extract) for extract in extract_words]"
   ]
  },
  {
   "cell_type": "code",
   "execution_count": 34,
   "metadata": {
    "ExecuteTime": {
     "end_time": "2020-02-27T20:04:44.273452Z",
     "start_time": "2020-02-27T18:23:48.353290Z"
    }
   },
   "outputs": [
    {
     "name": "stdout",
     "output_type": "stream",
     "text": [
      "Topic 3 Score: 0.4002669529670479\n",
      "Topic 4 Score: 0.4327363705646269\n",
      "Topic 5 Score: 0.41127359587131307\n",
      "Topic 6 Score: 0.41417195899660714\n",
      "Topic 7 Score: 0.43815965947182983\n",
      "Topic 8 Score: 0.45251749430692023\n",
      "Topic 9 Score: 0.4166528935165106\n"
     ]
    }
   ],
   "source": [
    "# Finding the optimal number of topics\n",
    "from gensim.models import CoherenceModel\n",
    "\n",
    "model_list = []\n",
    "coh_val = []\n",
    "model_topics = []\n",
    "\n",
    "for num_topic in range(3, 10):\n",
    "    extract_lda_gensim = gensim.models.ldamodel.LdaModel(corpus=extract_vecs, id2word=extract_dict, num_topics=num_topic)\n",
    "    coh_model = CoherenceModel(model=extract_lda_gensim, texts=extract_words, dictionary=extract_dict, coherence='c_v')\n",
    "    model_topics.append(num_topic)\n",
    "    model_list.append(extract_lda_gensim)\n",
    "    coh_val.append(coh_model.get_coherence())\n",
    "    print(\"Topic \" + str(num_topic) + \" Score: \" + str(coh_model.get_coherence()))"
   ]
  },
  {
   "cell_type": "code",
   "execution_count": 44,
   "metadata": {
    "ExecuteTime": {
     "end_time": "2020-02-28T06:37:32.539326Z",
     "start_time": "2020-02-28T06:37:32.394708Z"
    }
   },
   "outputs": [
    {
     "data": {
      "image/png": "[encoded data removed]",
      "text/plain": [
       "<Figure size 432x288 with 1 Axes>"
      ]
     },
     "metadata": {
      "needs_background": "light"
     },
     "output_type": "display_data"
    }
   ],
   "source": [
    "import matplotlib.pyplot as plt\n",
    "\n",
    "x = range(3, 10)\n",
    "plt.plot(x, coh_val)\n",
    "plt.xlabel(\"Num Topics\")\n",
    "plt.ylabel(\"Coherence score\")\n",
    "plt.legend((\"coherence_values\"), loc='best')\n",
    "plt.show()"
   ]
  },
  {
   "cell_type": "code",
   "execution_count": 36,
   "metadata": {
    "ExecuteTime": {
     "end_time": "2020-02-27T20:04:47.231156Z",
     "start_time": "2020-02-27T20:04:47.106498Z"
    }
   },
   "outputs": [
    {
     "name": "stdout",
     "output_type": "stream",
     "text": [
      "Model #3 Coherence Score: 0.4002669529670479\n",
      "Topic 1: phone, one, got, bought, phones, new, would, get, first, iphone\n",
      "Topic 2: phone, screen, great, use, camera, easy, love, like, features, nice\n",
      "Topic 3: good, phone, battery, great, works, product, life, price, sim, card\n",
      "----------------------------------------------------------------------------\n",
      "Model #4 Coherence Score: 0.4327363705646269\n",
      "Topic 1: phone, screen, use, easy, like, great, love, touch, small, really\n",
      "Topic 2: good, phone, battery, camera, great, quality, life, price, excellent, nice\n",
      "Topic 3: phone, phones, one, iphone, samsung, best, nokia, years, ever, love\n",
      "Topic 4: phone, one, would, work, bought, got, get, new, use, great\n",
      "----------------------------------------------------------------------------\n",
      "Model #5 Coherence Score: 0.41127359587131307\n",
      "Topic 1: phone, work, would, get, sim, time, working, got, problem, back\n",
      "Topic 2: good, battery, phone, camera, quality, life, screen, great, mobile, best\n",
      "Topic 3: good, phone, price, product, money, memory, buy, excellent, cheap, card\n",
      "Topic 4: phone, great, use, love, like, easy, screen, works, really, would\n",
      "Topic 5: phone, one, phones, iphone, first, bought, new, got, nokia, samsung\n",
      "----------------------------------------------------------------------------\n",
      "Model #6 Coherence Score: 0.41417195899660714\n",
      "Topic 1: apps, memory, android, card, system, sd, freezes, windows, storage, os\n",
      "Topic 2: phone, use, great, works, easy, like, screen, well, new, came\n",
      "Topic 3: phone, work, get, sim, good, problem, would, time, money, even\n",
      "Topic 4: phone, great, best, love, ever, features, like, mobile, price, phones\n",
      "Topic 5: phone, one, iphone, first, phones, got, bought, nokia, new, years\n",
      "Topic 6: good, battery, phone, camera, quality, life, screen, great, excellent, nice\n",
      "----------------------------------------------------------------------------\n",
      "Model #7 Coherence Score: 0.43815965947182983\n",
      "Topic 1: good, phone, price, mobile, quality, nice, product, camera, really, excellent\n",
      "Topic 2: phone, battery, great, good, screen, use, camera, easy, life, like\n",
      "Topic 3: phone, love, best, ever, like, one, great, really, phones, everything\n",
      "Topic 4: phone, great, works, new, bought, product, happy, came, got, price\n",
      "Topic 5: phone, phones, iphone, nokia, one, samsung, years, first, htc, android\n",
      "Topic 6: phone, sim, card, would, recommend, memory, use, verizon, unlocked, work\n",
      "Topic 7: phone, one, got, get, would, time, work, months, first, back\n",
      "----------------------------------------------------------------------------\n",
      "Model #8 Coherence Score: 0.45251749430692023\n",
      "Topic 1: good, phone, camera, quality, great, nice, screen, price, features, pros\n",
      "Topic 2: screen, phone, touch, bought, motorola, back, one, dropped, buttons, like\n",
      "Topic 3: phone, battery, use, life, calls, charge, even, time, good, call\n",
      "Topic 4: mobile, sim, card, memory, phone, unlocked, player, keyboard, u, sd\n",
      "Topic 5: phone, one, first, phones, got, ever, months, years, best, bought\n",
      "Topic 6: phone, iphone, nokia, new, like, money, one, much, better, would\n",
      "Topic 7: phone, good, product, works, working, work, service, fine, worked, new\n",
      "Topic 8: phone, great, love, use, easy, like, works, recommend, would, everything\n",
      "----------------------------------------------------------------------------\n",
      "Model #9 Coherence Score: 0.4166528935165106\n",
      "Topic 1: phone, one, bought, got, like, wanted, old, get, really, love\n",
      "Topic 2: money, memory, card, worth, thank, value, sd, white, friend, pleased\n",
      "Topic 3: mobile, pros, sony, cons, best, solid, design, dual, seen, front\n",
      "Topic 4: good, phone, camera, quality, great, screen, battery, life, nice, sound\n",
      "Topic 5: phone, battery, one, get, time, use, would, got, work, screen\n",
      "Topic 6: phone, use, great, easy, love, works, nice, good, like, well\n",
      "Topic 7: phone, product, good, great, sim, works, new, recommend, would, price\n",
      "Topic 8: phone, nokia, iphone, like, lg, android, great, love, apps, windows\n",
      "Topic 9: phones, phone, best, one, iphone, samsung, ever, htc, years, smartphone\n",
      "----------------------------------------------------------------------------\n"
     ]
    }
   ],
   "source": [
    "# Gensim LDA Model - topics\n",
    "val = 0\n",
    "model_num = 3\n",
    "for model in model_list:\n",
    "    print(\"Model #{} Coherence Score: {}\".format(model_num, coh_val[val]))\n",
    "    topics = model.show_topics(formatted=False)\n",
    "    for topic, word_list in topics:\n",
    "        topic_num = topic + 1\n",
    "        result_list = []\n",
    "        for word, word_prob in word_list:\n",
    "            result_list.append(word)\n",
    "        print(\"Topic {}: {}\".format(topic_num, ', '.join(result_list)))\n",
    "    model_num += 1\n",
    "    val += 1\n",
    "    print('----------------------------------------------------------------------------')"
   ]
  },
  {
   "cell_type": "code",
   "execution_count": 37,
   "metadata": {
    "ExecuteTime": {
     "end_time": "2020-02-27T20:04:47.411386Z",
     "start_time": "2020-02-27T20:04:47.236140Z"
    }
   },
   "outputs": [],
   "source": [
    "import pickle \n",
    "\n",
    "###@@@@@@@@@ THIS IS TO ***SAVE*** THE GENSIM MODELS FROM ABOVE @@@@@@@@@###\n",
    "pickle.dump(model_list, open(\"gensim_models.pkl\", \"wb\"))\n",
    "\n",
    "###@@@@@@@@@ THIS IS TO ***OPEN*** THE GENSIM MODELS FROM THE STORED PICKLE FILE @@@@@@@@@###\n",
    "### CHECKPOINT - can just load the pickle file and start running your analysis\n",
    "# gensim_models = pickle.load(open(\"gensim_models.pkl\", \"rb\"))"
   ]
  },
  {
   "cell_type": "markdown",
   "metadata": {},
   "source": [
    "## Mallet LDA Model"
   ]
  },
  {
   "cell_type": "code",
   "execution_count": 38,
   "metadata": {
    "ExecuteTime": {
     "end_time": "2020-02-27T22:06:39.757935Z",
     "start_time": "2020-02-27T20:04:47.415334Z"
    }
   },
   "outputs": [
    {
     "name": "stdout",
     "output_type": "stream",
     "text": [
      "Topic 3 Score: 0.40153661259582235\n",
      "Topic 4 Score: 0.39716823484276176\n",
      "Topic 5 Score: 0.43003942023445385\n",
      "Topic 6 Score: 0.46741532979935946\n",
      "Topic 7 Score: 0.4791484852124435\n",
      "Topic 8 Score: 0.4865505900403278\n",
      "Topic 9 Score: 0.494983106220992\n"
     ]
    }
   ],
   "source": [
    "import gensim\n",
    "import os \n",
    "\n",
    "os.environ.update({'MALLET_HOME':r'D:\\\\Softwares\\\\mallet-2.0.8'})\n",
    "mallet_path = r'D:\\\\Softwares\\\\mallet-2.0.8\\\\bin\\\\mallet'\n",
    "\n",
    "model_list_mallet = []\n",
    "coh_val_mallet = []\n",
    "\n",
    "for num_topic in range(3, 10):\n",
    "    extract_lda_mallet = gensim.models.wrappers.LdaMallet(mallet_path, corpus=extract_vecs, id2word=extract_dict, num_topics=num_topic)\n",
    "    coh_model_mallet = CoherenceModel(model=extract_lda_mallet, texts=extract_words, dictionary=extract_dict, coherence='c_v')\n",
    "    model_list_mallet.append(extract_lda_mallet)\n",
    "    coh_val_mallet.append(coh_model_mallet.get_coherence())\n",
    "    print(\"Topic \" + str(num_topic) + \" Score: \" + str(coh_model_mallet.get_coherence()))"
   ]
  },
  {
   "cell_type": "code",
   "execution_count": 39,
   "metadata": {
    "ExecuteTime": {
     "end_time": "2020-02-27T22:06:40.177889Z",
     "start_time": "2020-02-27T22:06:39.762920Z"
    }
   },
   "outputs": [
    {
     "data": {
      "image/png": "[encoded data removed]",
      "text/plain": [
       "<Figure size 432x288 with 1 Axes>"
      ]
     },
     "metadata": {
      "needs_background": "light"
     },
     "output_type": "display_data"
    }
   ],
   "source": [
    "import matplotlib.pyplot as plt\n",
    "\n",
    "x = range(3, 10)\n",
    "plt.plot(x, coh_val_mallet)\n",
    "plt.xlabel(\"Num Topics\")\n",
    "plt.ylabel(\"Coherence score\")\n",
    "plt.legend((\"coherence_values\"), loc='best')\n",
    "plt.show()"
   ]
  },
  {
   "cell_type": "code",
   "execution_count": 43,
   "metadata": {
    "ExecuteTime": {
     "end_time": "2020-02-28T06:37:10.440676Z",
     "start_time": "2020-02-28T06:37:10.382831Z"
    }
   },
   "outputs": [
    {
     "name": "stdout",
     "output_type": "stream",
     "text": [
      "Model #3 Coherence Score: 0.40153661259582235\n",
      "Topic 1: good, great, battery, camera, price, quality, product, nice, mobile, life\n",
      "Topic 2: phone, love, screen, phones, samsung, iphone, easy, galaxy, great, android\n",
      "Topic 3: phone, bought, works, time, buy, work, back, months, sim, working\n",
      "----------------------------------------------------------------------------\n",
      "Model #4 Coherence Score: 0.39716823484276176\n",
      "Topic 1: battery, phone, time, work, product, back, life, problem, months, apps\n",
      "Topic 2: good, camera, great, price, screen, quality, nice, features, mobile, excellent\n",
      "Topic 3: phone, great, love, easy, screen, works, lot, smart, touch, ca\n",
      "Topic 4: phone, bought, phones, samsung, iphone, android, galaxy, happy, nokia, years\n",
      "----------------------------------------------------------------------------\n",
      "Model #5 Coherence Score: 0.43003942023445385\n",
      "Topic 1: price, product, samsung, mobile, iphone, buy, features, android, galaxy, money\n",
      "Topic 2: phone, work, time, problem, working, months, back, apps, bad, problems\n",
      "Topic 3: phone, bought, phones, nokia, years, year, smart, purchased, wanted, lg\n",
      "Topic 4: phone, great, love, screen, works, easy, sim, card, perfect, size\n",
      "Topic 5: good, battery, camera, quality, nice, life, fast, awesome, amazing, excellent\n",
      "----------------------------------------------------------------------------\n",
      "Model #6 Coherence Score: 0.46741532979935946\n",
      "Topic 1: phone, great, screen, love, features, easy, nice, perfect, recommend, amazing\n",
      "Topic 2: phone, bought, product, buy, problem, working, happy, money, back, mobile\n",
      "Topic 3: good, battery, camera, quality, price, life, excellent, awesome, mobile, fast\n",
      "Topic 4: phones, samsung, iphone, android, galaxy, device, nokia, smartphone, years, htc\n",
      "Topic 5: phone, works, work, apps, sim, card, memory, fine, cell, unlocked\n",
      "Topic 6: phone, time, day, problems, thing, charge, call, months, calls, long\n",
      "----------------------------------------------------------------------------\n",
      "Model #7 Coherence Score: 0.4791484852124435\n",
      "Topic 1: phone, works, bought, sim, work, happy, card, memory, service, cell\n",
      "Topic 2: phone, back, months, working, call, problems, ca, calls, charger, text\n",
      "Topic 3: samsung, android, apps, galaxy, device, features, nokia, smartphone, user, internet\n",
      "Topic 4: great, screen, love, phone, easy, touch, perfect, nice, size, big\n",
      "Topic 5: phone, phones, iphone, years, year, smart, htc, wanted, lg, bought\n",
      "Topic 6: phone, battery, product, mobile, buy, life, time, problem, day, money\n",
      "Topic 7: good, camera, price, quality, excellent, awesome, nice, display, performance, fast\n",
      "----------------------------------------------------------------------------\n",
      "Model #8 Coherence Score: 0.4865505900403278\n",
      "Topic 1: phone, bought, product, buy, happy, money, purchased, purchase, worth, received\n",
      "Topic 2: screen, phone, easy, nice, touch, size, big, design, bit, small\n",
      "Topic 3: good, camera, quality, price, excellent, awesome, nice, fast, display, performance\n",
      "Topic 4: phone, apps, sim, card, memory, thing, ca, lot, slow, things\n",
      "Topic 5: phone, great, love, samsung, features, galaxy, price, works, amazing, recommend\n",
      "Topic 6: phone, work, works, calls, service, cell, unlocked, internet, text, wanted\n",
      "Topic 7: battery, life, time, mobile, problem, months, working, day, days, back\n",
      "Topic 8: phones, iphone, android, device, nokia, smartphone, years, htc, lg, user\n",
      "----------------------------------------------------------------------------\n",
      "Model #9 Coherence Score: 0.494983106220992\n",
      "Topic 1: phone, bought, happy, year, purchased, ago, review, weeks, purchase, wanted\n",
      "Topic 2: phone, easy, recommend, smart, calls, make, people, internet, text, find\n",
      "Topic 3: time, problem, buy, working, money, back, months, day, bad, charge\n",
      "Topic 4: works, product, phone, work, sim, card, service, fine, received, unlocked\n",
      "Topic 5: phone, great, love, features, call, thing, amazing, pictures, music, feature\n",
      "Topic 6: good, battery, camera, quality, life, mobile, excellent, awesome, performance, sound\n",
      "Topic 7: price, android, apps, device, memory, htc, smartphone, mobile, windows, sony\n",
      "Topic 8: phones, samsung, iphone, galaxy, nokia, years, lg, user, note, blackberry\n",
      "Topic 9: screen, nice, fast, touch, perfect, size, big, design, display, small\n",
      "----------------------------------------------------------------------------\n"
     ]
    }
   ],
   "source": [
    "# Mallet LDA Model - topics\n",
    "val = 0\n",
    "mallet_model_num = 3\n",
    "for model in model_list_mallet:\n",
    "    print(\"Model #{} Coherence Score: {}\".format(mallet_model_num, coh_val_mallet[val]))\n",
    "    topics = model.show_topics(formatted=False)\n",
    "    for topic, word_list in topics:\n",
    "        topic_num = topic + 1\n",
    "        result_list = []\n",
    "        for word, word_prob in word_list:\n",
    "            result_list.append(word)\n",
    "        print(\"Topic {}: {}\".format(topic_num, ', '.join(result_list)))\n",
    "    mallet_model_num += 1\n",
    "    val += 1\n",
    "    print('----------------------------------------------------------------------------')"
   ]
  },
  {
   "cell_type": "code",
   "execution_count": 41,
   "metadata": {
    "ExecuteTime": {
     "end_time": "2020-02-27T22:06:40.452944Z",
     "start_time": "2020-02-27T22:06:40.273941Z"
    }
   },
   "outputs": [],
   "source": [
    "import pickle \n",
    "\n",
    "###@@@@@@@@@ THIS IS TO ***SAVE*** THE MALLET MODELS FROM ABOVE @@@@@@@@@###\n",
    "pickle.dump(model_list_mallet, open(\"mallet_models.pkl\", \"wb\"))\n",
    "\n",
    "###@@@@@@@@@ THIS IS TO ***OPEN*** THE GENSIM MODELS FROM THE STORED PICKLE FILE @@@@@@@@@###\n",
    "### CHECKPOINT - can just load the pickle file and start running your analysis\n",
    "# mallet_models = pickle.load(open(\"mallet_models.pkl\", \"rb\"))"
   ]
  },
  {
   "cell_type": "code",
   "execution_count": 46,
   "metadata": {
    "ExecuteTime": {
     "end_time": "2020-02-28T06:42:26.816859Z",
     "start_time": "2020-02-28T06:42:26.808881Z"
    }
   },
   "outputs": [],
   "source": [
    "## Another Gensim run with more words taken out from the stop list \n",
    "import nltk\n",
    "import re\n",
    "import gensim\n",
    "\n",
    "def clean_extract2(extract_data):\n",
    "    stop_list = nltk.corpus.stopwords.words('english')\n",
    "    stop_list += ['phone', 'iphone', 'nokia', 'samsung', 'htc', 'lg', 'galaxy', 'ca', '']\n",
    "    tokenizer = nltk.tokenize.word_tokenize\n",
    "    stemmer = nltk.stem.porter.PorterStemmer()\n",
    "\n",
    "    extract_list  = [tokenizer(extract) for extract in extract_data]\n",
    "    extract_list = [[w.lower() for w in extract] for extract in extract_list]\n",
    "    extract_list = [[w for w in extract if re.search('^[a-z]+$',w)] for extract in extract_list]\n",
    "    extract_list = [[w for w in extract if w not in stop_list] for extract in extract_list]\n",
    "#     extract_list = [[stemmer.stem(w) for w in extract] for extract in extract_list]\n",
    "    return extract_list"
   ]
  },
  {
   "cell_type": "code",
   "execution_count": 47,
   "metadata": {
    "ExecuteTime": {
     "end_time": "2020-02-28T06:45:52.637625Z",
     "start_time": "2020-02-28T06:42:54.823674Z"
    }
   },
   "outputs": [],
   "source": [
    "extract_list2 = cleaned_df['extract'].values.tolist()\n",
    "extract_words2 = clean_extract2(extract_list2)"
   ]
  },
  {
   "cell_type": "code",
   "execution_count": 48,
   "metadata": {
    "ExecuteTime": {
     "end_time": "2020-02-28T06:46:09.410341Z",
     "start_time": "2020-02-28T06:45:52.638623Z"
    }
   },
   "outputs": [],
   "source": [
    "import gensim\n",
    "\n",
    "# Using gensim to create a dictionary object of all the words in all extracts\n",
    "extract_dict2 = gensim.corpora.Dictionary(extract_words2)\n",
    "\n",
    "# Returning the word vector for each extract from the gensim dict of words\n",
    "extract_vecs2 = [extract_dict2.doc2bow(extract) for extract in extract_words2]"
   ]
  },
  {
   "cell_type": "code",
   "execution_count": 49,
   "metadata": {
    "ExecuteTime": {
     "end_time": "2020-02-28T07:24:37.788933Z",
     "start_time": "2020-02-28T06:46:09.411307Z"
    }
   },
   "outputs": [
    {
     "name": "stdout",
     "output_type": "stream",
     "text": [
      "Topic 3 Score: 0.37720979072736577\n",
      "Topic 4 Score: 0.4129551343848196\n",
      "Topic 5 Score: 0.3671427833870802\n",
      "Topic 6 Score: 0.42117797065136936\n",
      "Topic 7 Score: 0.41291882112235495\n",
      "Topic 8 Score: 0.4313795092804904\n",
      "Topic 9 Score: 0.44016334248403677\n"
     ]
    }
   ],
   "source": [
    "# Finding the optimal number of topics\n",
    "from gensim.models import CoherenceModel\n",
    "\n",
    "model_list2 = []\n",
    "coh_val2 = []\n",
    "model_topics2 = []\n",
    "\n",
    "for num_topic in range(3, 10):\n",
    "    extract_lda_gensim2 = gensim.models.ldamodel.LdaModel(corpus=extract_vecs2, id2word=extract_dict2, num_topics=num_topic)\n",
    "    coh_model2 = CoherenceModel(model=extract_lda_gensim2, texts=extract_words2, dictionary=extract_dict2, coherence='c_v')\n",
    "    model_topics2.append(num_topic)\n",
    "    model_list2.append(extract_lda_gensim2)\n",
    "    coh_val2.append(coh_model2.get_coherence())\n",
    "    print(\"Topic \" + str(num_topic) + \" Score: \" + str(coh_model2.get_coherence()))"
   ]
  },
  {
   "cell_type": "code",
   "execution_count": 51,
   "metadata": {
    "ExecuteTime": {
     "end_time": "2020-02-28T07:59:51.431541Z",
     "start_time": "2020-02-28T07:59:51.275958Z"
    }
   },
   "outputs": [
    {
     "data": {
      "image/png": "[encoded data removed]",
      "text/plain": [
       "<Figure size 432x288 with 1 Axes>"
      ]
     },
     "metadata": {
      "needs_background": "light"
     },
     "output_type": "display_data"
    }
   ],
   "source": [
    "import matplotlib.pyplot as plt\n",
    "\n",
    "x = range(3, 10)\n",
    "plt.plot(x, coh_val2)\n",
    "plt.xlabel(\"Num Topics\")\n",
    "plt.ylabel(\"Coherence score\")\n",
    "plt.legend((\"coherence_values\"), loc='best')\n",
    "plt.show()"
   ]
  },
  {
   "cell_type": "code",
   "execution_count": 53,
   "metadata": {
    "ExecuteTime": {
     "end_time": "2020-02-28T08:02:06.178800Z",
     "start_time": "2020-02-28T08:02:06.137910Z"
    }
   },
   "outputs": [
    {
     "name": "stdout",
     "output_type": "stream",
     "text": [
      "Model #3 Coherence Score: 0.37720979072736577\n",
      "Topic 1: battery, work, use, get, screen, one, would, time, got, like\n",
      "Topic 2: one, phones, great, love, bought, new, like, got, first, would\n",
      "Topic 3: good, great, camera, screen, quality, nice, easy, battery, excellent, use\n",
      "----------------------------------------------------------------------------\n",
      "Model #4 Coherence Score: 0.4129551343848196\n",
      "Topic 1: work, would, sim, card, working, get, new, use, back, problem\n",
      "Topic 2: battery, good, screen, camera, quality, life, great, nice, touch, like\n",
      "Topic 3: great, good, love, use, easy, like, works, really, price, everything\n",
      "Topic 4: one, phones, first, best, got, get, bought, years, ever, new\n",
      "----------------------------------------------------------------------------\n",
      "Model #5 Coherence Score: 0.3671427833870802\n",
      "Topic 1: best, ever, mobile, smartphone, owned, phones, one, sony, market, android\n",
      "Topic 2: battery, good, life, card, sim, charge, use, memory, apps, ok\n",
      "Topic 3: great, good, works, product, price, love, would, happy, new, recommend\n",
      "Topic 4: one, get, got, first, bought, would, phones, new, time, work\n",
      "Topic 5: great, good, screen, camera, use, easy, like, love, quality, features\n",
      "----------------------------------------------------------------------------\n",
      "Model #6 Coherence Score: 0.42117797065136936\n",
      "Topic 1: works, sim, card, working, service, work, verizon, unlocked, contract, fine\n",
      "Topic 2: battery, get, would, one, time, got, back, screen, problem, even\n",
      "Topic 3: use, phones, easy, like, apps, many, first, android, great, keyboard\n",
      "Topic 4: one, new, great, got, love, bought, would, like, happy, phones\n",
      "Topic 5: best, screen, ever, one, love, size, design, small, great, recommend\n",
      "Topic 6: good, great, camera, quality, battery, nice, price, life, excellent, works\n",
      "----------------------------------------------------------------------------\n",
      "Model #7 Coherence Score: 0.41291882112235495\n",
      "Topic 1: got, first, battery, one, back, worked, screen, months, time, days\n",
      "Topic 2: one, phones, best, love, years, first, ever, like, android, new\n",
      "Topic 3: good, great, camera, use, battery, easy, quality, screen, life, nice\n",
      "Topic 4: good, great, price, product, works, sim, card, memory, excellent, well\n",
      "Topic 5: screen, pros, like, touch, fine, get, blackberry, motorola, text, use\n",
      "Topic 6: work, bought, problems, working, use, one, problem, got, battery, unlocked\n",
      "Topic 7: would, get, bad, buy, send, want, talk, could, money, calls\n",
      "----------------------------------------------------------------------------\n",
      "Model #8 Coherence Score: 0.4313795092804904\n",
      "Topic 1: calls, text, screen, use, get, work, call, time, internet, slow\n",
      "Topic 2: great, screen, use, easy, good, love, nice, camera, perfect, really\n",
      "Topic 3: good, great, works, card, sim, price, product, memory, ok, well\n",
      "Topic 4: battery, good, life, quality, camera, excellent, pros, sound, cons, charge\n",
      "Topic 5: best, ever, mobile, recommend, money, would, buy, one, great, smartphone\n",
      "Topic 6: work, months, got, would, verizon, unlocked, received, working, bought, blackberry\n",
      "Topic 7: one, new, got, first, bought, phones, years, time, used, old\n",
      "Topic 8: like, better, phones, much, great, really, android, one, features, love\n",
      "----------------------------------------------------------------------------\n",
      "Model #9 Coherence Score: 0.44016334248403677\n",
      "Topic 1: good, battery, life, mobile, money, camera, nice, bad, quality, arrived\n",
      "Topic 2: price, product, good, recommend, great, excellent, buy, would, worth, anyone\n",
      "Topic 3: great, love, like, works, really, well, much, better, worked, features\n",
      "Topic 4: phones, best, one, ever, android, first, unlocked, mobile, smartphone, owned\n",
      "Topic 5: sim, card, dont, started, condition, u, ordered, liked, cant, gets\n",
      "Topic 6: battery, working, work, use, problem, charge, time, even, months, would\n",
      "Topic 7: use, easy, screen, touch, keyboard, text, like, simple, cheap, want\n",
      "Topic 8: good, camera, quality, screen, great, pros, nice, music, memory, sound\n",
      "Topic 9: one, bought, got, new, first, would, get, came, time, wanted\n",
      "----------------------------------------------------------------------------\n"
     ]
    }
   ],
   "source": [
    "# 2nd Gensim LDA Model - topics\n",
    "val2 = 0\n",
    "model_num2 = 3\n",
    "for model in model_list2:\n",
    "    print(\"Model #{} Coherence Score: {}\".format(model_num2, coh_val2[val2]))\n",
    "    topics = model.show_topics(formatted=False)\n",
    "    for topic, word_list in topics:\n",
    "        topic_num = topic + 1\n",
    "        result_list2 = []\n",
    "        for word, word_prob in word_list:\n",
    "            result_list2.append(word)\n",
    "        print(\"Topic {}: {}\".format(topic_num, ', '.join(result_list2)))\n",
    "    model_num2 += 1\n",
    "    val2 += 1\n",
    "    print('----------------------------------------------------------------------------')"
   ]
  },
  {
   "cell_type": "code",
   "execution_count": 54,
   "metadata": {
    "ExecuteTime": {
     "end_time": "2020-02-28T08:03:12.898791Z",
     "start_time": "2020-02-28T08:03:12.815659Z"
    }
   },
   "outputs": [],
   "source": [
    "import pickle \n",
    "\n",
    "###@@@@@@@@@ THIS IS TO ***SAVE*** THE MALLET MODELS FROM ABOVE @@@@@@@@@###\n",
    "pickle.dump(model_list2, open(\"gensim_models2.pkl\", \"wb\"))\n",
    "\n",
    "###@@@@@@@@@ THIS IS TO ***OPEN*** THE GENSIM MODELS FROM THE STORED PICKLE FILE @@@@@@@@@###\n",
    "### CHECKPOINT - can just load the pickle file and start running your analysis\n",
    "# mallet_models = pickle.load(open(\"mallet_models.pkl\", \"rb\"))"
   ]
  },
  {
   "cell_type": "code",
   "execution_count": 55,
   "metadata": {
    "ExecuteTime": {
     "end_time": "2020-02-28T08:54:29.898687Z",
     "start_time": "2020-02-28T08:04:27.954290Z"
    }
   },
   "outputs": [
    {
     "name": "stdout",
     "output_type": "stream",
     "text": [
      "Topic 3 Score: 0.33886764510583456\n",
      "Topic 4 Score: 0.40415441462936047\n",
      "Topic 5 Score: 0.4297441330925132\n",
      "Topic 6 Score: 0.442586226238539\n",
      "Topic 7 Score: 0.44981361903050854\n",
      "Topic 8 Score: 0.4711436807881638\n",
      "Topic 9 Score: 0.49534991688020447\n"
     ]
    }
   ],
   "source": [
    "# 2nd Mallet LDA Model\n",
    "import gensim\n",
    "import os \n",
    "\n",
    "os.environ.update({'MALLET_HOME':r'D:\\\\Softwares\\\\mallet-2.0.8'})\n",
    "mallet_path = r'D:\\\\Softwares\\\\mallet-2.0.8\\\\bin\\\\mallet'\n",
    "\n",
    "model_list_mallet2 = []\n",
    "coh_val_mallet2 = []\n",
    "\n",
    "for num_topic in range(3, 10):\n",
    "    extract_lda_mallet2 = gensim.models.wrappers.LdaMallet(mallet_path, corpus=extract_vecs2, id2word=extract_dict2, num_topics=num_topic)\n",
    "    coh_model_mallet2 = CoherenceModel(model=extract_lda_mallet2, texts=extract_words2, dictionary=extract_dict2, coherence='c_v')\n",
    "    model_list_mallet2.append(extract_lda_mallet2)\n",
    "    coh_val_mallet2.append(coh_model_mallet2.get_coherence())\n",
    "    print(\"Topic \" + str(num_topic) + \" Score: \" + str(coh_model_mallet2.get_coherence()))"
   ]
  },
  {
   "cell_type": "code",
   "execution_count": 56,
   "metadata": {
    "ExecuteTime": {
     "end_time": "2020-02-28T08:54:30.053319Z",
     "start_time": "2020-02-28T08:54:29.901682Z"
    }
   },
   "outputs": [
    {
     "data": {
      "image/png": "[encoded data removed]",
      "text/plain": [
       "<Figure size 432x288 with 1 Axes>"
      ]
     },
     "metadata": {
      "needs_background": "light"
     },
     "output_type": "display_data"
    }
   ],
   "source": [
    "import matplotlib.pyplot as plt\n",
    "\n",
    "x = range(3, 10)\n",
    "plt.plot(x, coh_val_mallet2)\n",
    "plt.xlabel(\"Num Topics\")\n",
    "plt.ylabel(\"Coherence score\")\n",
    "plt.legend((\"coherence_values\"), loc='best')\n",
    "plt.show()"
   ]
  },
  {
   "cell_type": "code",
   "execution_count": 57,
   "metadata": {
    "ExecuteTime": {
     "end_time": "2020-02-28T08:54:30.098200Z",
     "start_time": "2020-02-28T08:54:30.055313Z"
    }
   },
   "outputs": [
    {
     "name": "stdout",
     "output_type": "stream",
     "text": [
      "Model #3 Coherence Score: 0.33886764510583456\n",
      "Topic 1: great, love, battery, bought, phones, product, easy, buy, life, time\n",
      "Topic 2: works, work, back, problem, sim, working, card, bad, problems, months\n",
      "Topic 3: good, camera, screen, price, great, quality, nice, mobile, excellent, fast\n",
      "----------------------------------------------------------------------------\n",
      "Model #4 Coherence Score: 0.40415441462936047\n",
      "Topic 1: good, battery, camera, quality, price, nice, mobile, life, fast, excellent\n",
      "Topic 2: great, product, works, buy, work, apps, sim, happy, card, money\n",
      "Topic 3: screen, love, great, phones, easy, features, android, touch, smartphone, size\n",
      "Topic 4: time, back, bought, months, working, problem, days, problems, year, day\n",
      "----------------------------------------------------------------------------\n",
      "Model #5 Coherence Score: 0.4297441330925132\n",
      "Topic 1: screen, phones, android, device, years, size, big, bit, note, perfect\n",
      "Topic 2: good, camera, price, quality, nice, mobile, excellent, fast, awesome, amazing\n",
      "Topic 3: battery, time, life, problem, back, months, working, day, days, bad\n",
      "Topic 4: bought, product, works, work, sim, buy, happy, card, purchased, service\n",
      "Topic 5: great, love, easy, features, apps, smart, lot, recommend, make, user\n",
      "----------------------------------------------------------------------------\n",
      "Model #6 Coherence Score: 0.442586226238539\n",
      "Topic 1: good, battery, camera, quality, life, awesome, excellent, display, fast, nice\n",
      "Topic 2: great, screen, love, easy, features, nice, touch, perfect, size, big\n",
      "Topic 3: time, months, work, back, day, problems, call, calls, make, month\n",
      "Topic 4: great, works, price, android, apps, sim, card, device, memory, unlocked\n",
      "Topic 5: phones, years, bought, smart, smartphone, wanted, user, year, note, made\n",
      "Topic 6: product, buy, mobile, bought, working, happy, money, problem, bad, charge\n",
      "----------------------------------------------------------------------------\n",
      "Model #7 Coherence Score: 0.44981361903050854\n",
      "Topic 1: great, love, features, easy, perfect, smartphone, recommend, smart, small, size\n",
      "Topic 2: bought, phones, years, year, purchased, happy, wanted, months, blackberry, owned\n",
      "Topic 3: works, work, sim, card, fine, service, purchase, received, unlocked, charger\n",
      "Topic 4: time, working, problem, problems, back, call, calls, months, internet, make\n",
      "Topic 5: battery, great, life, fast, android, apps, day, device, days, charge\n",
      "Topic 6: screen, camera, touch, nice, display, memory, amazing, design, back, light\n",
      "Topic 7: good, price, quality, product, mobile, excellent, buy, nice, camera, money\n",
      "----------------------------------------------------------------------------\n",
      "Model #8 Coherence Score: 0.4711436807881638\n",
      "Topic 1: good, camera, quality, fast, nice, awesome, amazing, display, sound, light\n",
      "Topic 2: time, call, calls, make, internet, people, slow, text, keyboard, thing\n",
      "Topic 3: great, price, product, works, excellent, buy, happy, money, recommend, worth\n",
      "Topic 4: phones, bought, years, year, wanted, back, owned, made, ago, months\n",
      "Topic 5: battery, good, mobile, life, problem, day, days, bad, charge, long\n",
      "Topic 6: work, working, months, month, problems, back, service, received, unlocked, charger\n",
      "Topic 7: screen, love, easy, features, touch, nice, size, big, great, small\n",
      "Topic 8: android, apps, sim, card, device, memory, smartphone, lot, review, music\n",
      "----------------------------------------------------------------------------\n",
      "Model #9 Coherence Score: 0.49534991688020447\n",
      "Topic 1: product, works, excellent, buy, happy, recommend, purchase, received, charger, expected\n",
      "Topic 2: bought, phones, years, year, wanted, note, owned, ago, review, upgrade\n",
      "Topic 3: easy, touch, calls, make, internet, text, find, blackberry, keyboard, music\n",
      "Topic 4: time, months, back, apps, problems, thing, bad, slow, times, issues\n",
      "Topic 5: great, screen, love, size, big, features, design, perfect, feel, edge\n",
      "Topic 6: work, sim, working, card, money, buy, service, cell, worked, month\n",
      "Topic 7: good, battery, mobile, life, day, problem, days, charge, long, memory\n",
      "Topic 8: price, android, device, smartphone, user, windows, sony, features, update, apple\n",
      "Topic 9: camera, good, quality, nice, awesome, fast, amazing, display, sound, light\n",
      "----------------------------------------------------------------------------\n"
     ]
    }
   ],
   "source": [
    "# Mallet LDA Model - topics\n",
    "val = 0\n",
    "mallet_model_num = 3\n",
    "for model in model_list_mallet2:\n",
    "    print(\"Model #{} Coherence Score: {}\".format(mallet_model_num, coh_val_mallet2[val]))\n",
    "    topics = model.show_topics(formatted=False)\n",
    "    for topic, word_list in topics:\n",
    "        topic_num = topic + 1\n",
    "        result_list = []\n",
    "        for word, word_prob in word_list:\n",
    "            result_list.append(word)\n",
    "        print(\"Topic {}: {}\".format(topic_num, ', '.join(result_list)))\n",
    "    mallet_model_num += 1\n",
    "    val += 1\n",
    "    print('----------------------------------------------------------------------------')"
   ]
  },
  {
   "cell_type": "code",
   "execution_count": 58,
   "metadata": {
    "ExecuteTime": {
     "end_time": "2020-02-28T08:54:30.170102Z",
     "start_time": "2020-02-28T08:54:30.099232Z"
    }
   },
   "outputs": [],
   "source": [
    "import pickle \n",
    "\n",
    "###@@@@@@@@@ THIS IS TO ***SAVE*** THE MALLET MODELS FROM ABOVE @@@@@@@@@###\n",
    "pickle.dump(model_list_mallet2, open(\"mallet_models2.pkl\", \"wb\"))\n",
    "\n",
    "###@@@@@@@@@ THIS IS TO ***OPEN*** THE GENSIM MODELS FROM THE STORED PICKLE FILE @@@@@@@@@###\n",
    "### CHECKPOINT - can just load the pickle file and start running your analysis\n",
    "# mallet_models = pickle.load(open(\"mallet_models.pkl\", \"rb\"))"
   ]
  },
  {
   "cell_type": "code",
   "execution_count": null,
   "metadata": {},
   "outputs": [],
   "source": [
    "## Another Gensim run with more words taken out from the stop list \n",
    "import nltk\n",
    "import re\n",
    "import gensim\n",
    "\n",
    "def clean_extract2(extract_data):\n",
    "    stop_list = nltk.corpus.stopwords.words('english')\n",
    "    stop_list += ['phone', 'iphone', 'nokia', 'samsung', 'htc', 'lg', 'galaxy', 'ca', '']\n",
    "    tokenizer = nltk.tokenize.word_tokenize\n",
    "    stemmer = nltk.stem.porter.PorterStemmer()\n",
    "\n",
    "    extract_list  = [tokenizer(extract) for extract in extract_data]\n",
    "    extract_list = [[w.lower() for w in extract] for extract in extract_list]\n",
    "    extract_list = [[w for w in extract if re.search('^[a-z]+$',w)] for extract in extract_list]\n",
    "    extract_list = [[w for w in extract if w not in stop_list] for extract in extract_list]\n",
    "#     extract_list = [[stemmer.stem(w) for w in extract] for extract in extract_list]\n",
    "    return extract_list"
   ]
  },
  {
   "cell_type": "code",
   "execution_count": 60,
   "metadata": {
    "ExecuteTime": {
     "end_time": "2020-02-28T13:53:25.610183Z",
     "start_time": "2020-02-28T13:53:25.588019Z"
    }
   },
   "outputs": [],
   "source": [
    "import nltk\n",
    "import re\n",
    "\n",
    "new_query = 'Good phone screen good battery life'\n",
    "tokenizer = nltk.tokenize.word_tokenize\n",
    "cleaned_query = tokenizer(new_query)\n",
    "cleaned_query = [w.lower() for w in cleaned_query]\n",
    "cleaned_query = [w for w in cleaned_query if re.search('^[a-z]+$',w)]"
   ]
  },
  {
   "cell_type": "code",
   "execution_count": 62,
   "metadata": {
    "ExecuteTime": {
     "end_time": "2020-02-28T13:55:16.679144Z",
     "start_time": "2020-02-28T13:55:16.669792Z"
    }
   },
   "outputs": [],
   "source": [
    "import gensim\n",
    "\n",
    "# Returning the word vector for each extract from the gensim dict of words\n",
    "query_vecs = extract_dict2.doc2bow(cleaned_query)"
   ]
  },
  {
   "cell_type": "code",
   "execution_count": 65,
   "metadata": {
    "ExecuteTime": {
     "end_time": "2020-02-28T14:07:49.950126Z",
     "start_time": "2020-02-28T14:06:13.143996Z"
    }
   },
   "outputs": [
    {
     "name": "stdout",
     "output_type": "stream",
     "text": [
      "[(0, 0.12987012987012989), (1, 0.12987012987012989), (2, 0.12987012987012989), (3, 0.12987012987012989), (4, 0.1662337662337662), (5, 0.14805194805194802), (6, 0.1662337662337662)]\n"
     ]
    }
   ],
   "source": [
    "output = list(model_list_mallet2[4][query_vecs])\n",
    "\n",
    "print(output)"
   ]
  }
 ],
 "metadata": {
  "kernelspec": {
   "display_name": "Python 3",
   "language": "python",
   "name": "python3"
  },
  "language_info": {
   "codemirror_mode": {
    "name": "ipython",
    "version": 3
   },
   "file_extension": ".py",
   "mimetype": "text/x-python",
   "name": "python",
   "nbconvert_exporter": "python",
   "pygments_lexer": "ipython3",
   "version": "3.6.7"
  }
 },
 "nbformat": 4,
 "nbformat_minor": 2
}
