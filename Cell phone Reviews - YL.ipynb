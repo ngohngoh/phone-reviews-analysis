{
 "cells": [
  {
   "cell_type": "markdown",
   "metadata": {},
   "source": [
    "# Mobile Phone Reviews Analysis - Text Mining"
   ]
  },
  {
   "cell_type": "markdown",
   "metadata": {},
   "source": [
    "## Importing data "
   ]
  },
  {
   "cell_type": "code",
   "execution_count": 1,
   "metadata": {
    "ExecuteTime": {
     "end_time": "2020-03-19T07:28:07.952975Z",
     "start_time": "2020-03-19T07:28:07.947989Z"
    }
   },
   "outputs": [],
   "source": [
    "import pandas as pd\n",
    "import os\n",
    "import datetime"
   ]
  },
  {
   "cell_type": "code",
   "execution_count": 8,
   "metadata": {
    "ExecuteTime": {
     "end_time": "2020-03-19T07:28:17.855560Z",
     "start_time": "2020-03-19T07:28:08.448855Z"
    }
   },
   "outputs": [],
   "source": [
    "data_dir = 'C:/Users/owzhe/Downloads/14-million-cell-phone-reviews/'\n",
    "reviews_files = os.listdir(data_dir)\n",
    "\n",
    "reviews_df = pd.DataFrame()\n",
    "\n",
    "for file in reviews_files:\n",
    "    current = pd.read_csv(data_dir + file, encoding = \"ISO-8859-1\")\n",
    "    reviews_df = reviews_df.append(current)\n",
    "    "
   ]
  },
  {
   "cell_type": "code",
   "execution_count": 9,
   "metadata": {
    "ExecuteTime": {
     "end_time": "2020-03-19T07:28:17.976237Z",
     "start_time": "2020-03-19T07:28:17.857554Z"
    }
   },
   "outputs": [
    {
     "name": "stdout",
     "output_type": "stream",
     "text": [
      "1415133\n"
     ]
    },
    {
     "data": {
      "text/html": [
       "<div>\n",
       "<style scoped>\n",
       "    .dataframe tbody tr th:only-of-type {\n",
       "        vertical-align: middle;\n",
       "    }\n",
       "\n",
       "    .dataframe tbody tr th {\n",
       "        vertical-align: top;\n",
       "    }\n",
       "\n",
       "    .dataframe thead th {\n",
       "        text-align: right;\n",
       "    }\n",
       "</style>\n",
       "<table border=\"1\" class=\"dataframe\">\n",
       "  <thead>\n",
       "    <tr style=\"text-align: right;\">\n",
       "      <th></th>\n",
       "      <th>phone_url</th>\n",
       "      <th>date</th>\n",
       "      <th>lang</th>\n",
       "      <th>country</th>\n",
       "      <th>source</th>\n",
       "      <th>domain</th>\n",
       "      <th>score</th>\n",
       "      <th>score_max</th>\n",
       "      <th>extract</th>\n",
       "      <th>author</th>\n",
       "      <th>product</th>\n",
       "    </tr>\n",
       "  </thead>\n",
       "  <tbody>\n",
       "    <tr>\n",
       "      <th>0</th>\n",
       "      <td>/cellphones/samsung-galaxy-s8/</td>\n",
       "      <td>5/2/2017</td>\n",
       "      <td>en</td>\n",
       "      <td>us</td>\n",
       "      <td>Verizon Wireless</td>\n",
       "      <td>verizonwireless.com</td>\n",
       "      <td>10.0</td>\n",
       "      <td>10.0</td>\n",
       "      <td>As a diehard Samsung fan who has had every Sam...</td>\n",
       "      <td>CarolAnn35</td>\n",
       "      <td>Samsung Galaxy S8</td>\n",
       "    </tr>\n",
       "    <tr>\n",
       "      <th>1</th>\n",
       "      <td>/cellphones/samsung-galaxy-s8/</td>\n",
       "      <td>4/28/2017</td>\n",
       "      <td>en</td>\n",
       "      <td>us</td>\n",
       "      <td>Phone Arena</td>\n",
       "      <td>phonearena.com</td>\n",
       "      <td>10.0</td>\n",
       "      <td>10.0</td>\n",
       "      <td>Love the phone. the phone is sleek and smooth ...</td>\n",
       "      <td>james0923</td>\n",
       "      <td>Samsung Galaxy S8</td>\n",
       "    </tr>\n",
       "    <tr>\n",
       "      <th>2</th>\n",
       "      <td>/cellphones/samsung-galaxy-s8/</td>\n",
       "      <td>5/4/2017</td>\n",
       "      <td>en</td>\n",
       "      <td>us</td>\n",
       "      <td>Amazon</td>\n",
       "      <td>amazon.com</td>\n",
       "      <td>6.0</td>\n",
       "      <td>10.0</td>\n",
       "      <td>Adequate feel. Nice heft. Processor's still sl...</td>\n",
       "      <td>R. Craig</td>\n",
       "      <td>Samsung Galaxy S8 (64GB) G950U 5.8\" 4G LTE Unl...</td>\n",
       "    </tr>\n",
       "    <tr>\n",
       "      <th>3</th>\n",
       "      <td>/cellphones/samsung-galaxy-s8/</td>\n",
       "      <td>5/2/2017</td>\n",
       "      <td>en</td>\n",
       "      <td>us</td>\n",
       "      <td>Samsung</td>\n",
       "      <td>samsung.com</td>\n",
       "      <td>9.2</td>\n",
       "      <td>10.0</td>\n",
       "      <td>Never disappointed. One of the reasons I've be...</td>\n",
       "      <td>Buster2020</td>\n",
       "      <td>Samsung Galaxy S8 64GB (AT&amp;T)</td>\n",
       "    </tr>\n",
       "    <tr>\n",
       "      <th>4</th>\n",
       "      <td>/cellphones/samsung-galaxy-s8/</td>\n",
       "      <td>5/11/2017</td>\n",
       "      <td>en</td>\n",
       "      <td>us</td>\n",
       "      <td>Verizon Wireless</td>\n",
       "      <td>verizonwireless.com</td>\n",
       "      <td>4.0</td>\n",
       "      <td>10.0</td>\n",
       "      <td>I've now found that i'm in a group of people t...</td>\n",
       "      <td>S Ate Mine</td>\n",
       "      <td>Samsung Galaxy S8</td>\n",
       "    </tr>\n",
       "  </tbody>\n",
       "</table>\n",
       "</div>"
      ],
      "text/plain": [
       "                        phone_url       date lang country            source  \\\n",
       "0  /cellphones/samsung-galaxy-s8/   5/2/2017   en      us  Verizon Wireless   \n",
       "1  /cellphones/samsung-galaxy-s8/  4/28/2017   en      us       Phone Arena   \n",
       "2  /cellphones/samsung-galaxy-s8/   5/4/2017   en      us            Amazon   \n",
       "3  /cellphones/samsung-galaxy-s8/   5/2/2017   en      us           Samsung   \n",
       "4  /cellphones/samsung-galaxy-s8/  5/11/2017   en      us  Verizon Wireless   \n",
       "\n",
       "                domain  score  score_max  \\\n",
       "0  verizonwireless.com   10.0       10.0   \n",
       "1       phonearena.com   10.0       10.0   \n",
       "2           amazon.com    6.0       10.0   \n",
       "3          samsung.com    9.2       10.0   \n",
       "4  verizonwireless.com    4.0       10.0   \n",
       "\n",
       "                                             extract       author  \\\n",
       "0  As a diehard Samsung fan who has had every Sam...   CarolAnn35   \n",
       "1  Love the phone. the phone is sleek and smooth ...    james0923   \n",
       "2  Adequate feel. Nice heft. Processor's still sl...     R. Craig   \n",
       "3  Never disappointed. One of the reasons I've be...  Buster2020    \n",
       "4  I've now found that i'm in a group of people t...   S Ate Mine   \n",
       "\n",
       "                                             product  \n",
       "0                                  Samsung Galaxy S8  \n",
       "1                                  Samsung Galaxy S8  \n",
       "2  Samsung Galaxy S8 (64GB) G950U 5.8\" 4G LTE Unl...  \n",
       "3                      Samsung Galaxy S8 64GB (AT&T)  \n",
       "4                                  Samsung Galaxy S8  "
      ]
     },
     "execution_count": 9,
     "metadata": {},
     "output_type": "execute_result"
    }
   ],
   "source": [
    "print(len(reviews_df))\n",
    "reviews_df.head()"
   ]
  },
  {
   "cell_type": "markdown",
   "metadata": {},
   "source": [
    "## EDA "
   ]
  },
  {
   "cell_type": "code",
   "execution_count": 10,
   "metadata": {
    "ExecuteTime": {
     "end_time": "2020-03-19T07:28:20.362312Z",
     "start_time": "2020-03-19T07:28:19.922375Z"
    }
   },
   "outputs": [
    {
     "name": "stdout",
     "output_type": "stream",
     "text": [
      "554746\n"
     ]
    },
    {
     "data": {
      "text/html": [
       "<div>\n",
       "<style scoped>\n",
       "    .dataframe tbody tr th:only-of-type {\n",
       "        vertical-align: middle;\n",
       "    }\n",
       "\n",
       "    .dataframe tbody tr th {\n",
       "        vertical-align: top;\n",
       "    }\n",
       "\n",
       "    .dataframe thead th {\n",
       "        text-align: right;\n",
       "    }\n",
       "</style>\n",
       "<table border=\"1\" class=\"dataframe\">\n",
       "  <thead>\n",
       "    <tr style=\"text-align: right;\">\n",
       "      <th></th>\n",
       "      <th>phone_url</th>\n",
       "      <th>date</th>\n",
       "      <th>lang</th>\n",
       "      <th>country</th>\n",
       "      <th>source</th>\n",
       "      <th>domain</th>\n",
       "      <th>score</th>\n",
       "      <th>score_max</th>\n",
       "      <th>extract</th>\n",
       "      <th>author</th>\n",
       "      <th>product</th>\n",
       "    </tr>\n",
       "  </thead>\n",
       "  <tbody>\n",
       "    <tr>\n",
       "      <th>0</th>\n",
       "      <td>/cellphones/samsung-galaxy-s8/</td>\n",
       "      <td>5/2/2017</td>\n",
       "      <td>en</td>\n",
       "      <td>us</td>\n",
       "      <td>Verizon Wireless</td>\n",
       "      <td>verizonwireless.com</td>\n",
       "      <td>10.0</td>\n",
       "      <td>10.0</td>\n",
       "      <td>As a diehard Samsung fan who has had every Sam...</td>\n",
       "      <td>CarolAnn35</td>\n",
       "      <td>Samsung Galaxy S8</td>\n",
       "    </tr>\n",
       "    <tr>\n",
       "      <th>1</th>\n",
       "      <td>/cellphones/samsung-galaxy-s8/</td>\n",
       "      <td>4/28/2017</td>\n",
       "      <td>en</td>\n",
       "      <td>us</td>\n",
       "      <td>Phone Arena</td>\n",
       "      <td>phonearena.com</td>\n",
       "      <td>10.0</td>\n",
       "      <td>10.0</td>\n",
       "      <td>Love the phone. the phone is sleek and smooth ...</td>\n",
       "      <td>james0923</td>\n",
       "      <td>Samsung Galaxy S8</td>\n",
       "    </tr>\n",
       "    <tr>\n",
       "      <th>2</th>\n",
       "      <td>/cellphones/samsung-galaxy-s8/</td>\n",
       "      <td>5/4/2017</td>\n",
       "      <td>en</td>\n",
       "      <td>us</td>\n",
       "      <td>Amazon</td>\n",
       "      <td>amazon.com</td>\n",
       "      <td>6.0</td>\n",
       "      <td>10.0</td>\n",
       "      <td>Adequate feel. Nice heft. Processor's still sl...</td>\n",
       "      <td>R. Craig</td>\n",
       "      <td>Samsung Galaxy S8 (64GB) G950U 5.8\" 4G LTE Unl...</td>\n",
       "    </tr>\n",
       "    <tr>\n",
       "      <th>3</th>\n",
       "      <td>/cellphones/samsung-galaxy-s8/</td>\n",
       "      <td>5/2/2017</td>\n",
       "      <td>en</td>\n",
       "      <td>us</td>\n",
       "      <td>Samsung</td>\n",
       "      <td>samsung.com</td>\n",
       "      <td>9.2</td>\n",
       "      <td>10.0</td>\n",
       "      <td>Never disappointed. One of the reasons I've be...</td>\n",
       "      <td>Buster2020</td>\n",
       "      <td>Samsung Galaxy S8 64GB (AT&amp;T)</td>\n",
       "    </tr>\n",
       "    <tr>\n",
       "      <th>4</th>\n",
       "      <td>/cellphones/samsung-galaxy-s8/</td>\n",
       "      <td>5/11/2017</td>\n",
       "      <td>en</td>\n",
       "      <td>us</td>\n",
       "      <td>Verizon Wireless</td>\n",
       "      <td>verizonwireless.com</td>\n",
       "      <td>4.0</td>\n",
       "      <td>10.0</td>\n",
       "      <td>I've now found that i'm in a group of people t...</td>\n",
       "      <td>S Ate Mine</td>\n",
       "      <td>Samsung Galaxy S8</td>\n",
       "    </tr>\n",
       "  </tbody>\n",
       "</table>\n",
       "</div>"
      ],
      "text/plain": [
       "                        phone_url       date lang country            source  \\\n",
       "0  /cellphones/samsung-galaxy-s8/   5/2/2017   en      us  Verizon Wireless   \n",
       "1  /cellphones/samsung-galaxy-s8/  4/28/2017   en      us       Phone Arena   \n",
       "2  /cellphones/samsung-galaxy-s8/   5/4/2017   en      us            Amazon   \n",
       "3  /cellphones/samsung-galaxy-s8/   5/2/2017   en      us           Samsung   \n",
       "4  /cellphones/samsung-galaxy-s8/  5/11/2017   en      us  Verizon Wireless   \n",
       "\n",
       "                domain  score  score_max  \\\n",
       "0  verizonwireless.com   10.0       10.0   \n",
       "1       phonearena.com   10.0       10.0   \n",
       "2           amazon.com    6.0       10.0   \n",
       "3          samsung.com    9.2       10.0   \n",
       "4  verizonwireless.com    4.0       10.0   \n",
       "\n",
       "                                             extract       author  \\\n",
       "0  As a diehard Samsung fan who has had every Sam...   CarolAnn35   \n",
       "1  Love the phone. the phone is sleek and smooth ...    james0923   \n",
       "2  Adequate feel. Nice heft. Processor's still sl...     R. Craig   \n",
       "3  Never disappointed. One of the reasons I've be...  Buster2020    \n",
       "4  I've now found that i'm in a group of people t...   S Ate Mine   \n",
       "\n",
       "                                             product  \n",
       "0                                  Samsung Galaxy S8  \n",
       "1                                  Samsung Galaxy S8  \n",
       "2  Samsung Galaxy S8 (64GB) G950U 5.8\" 4G LTE Unl...  \n",
       "3                      Samsung Galaxy S8 64GB (AT&T)  \n",
       "4                                  Samsung Galaxy S8  "
      ]
     },
     "execution_count": 10,
     "metadata": {},
     "output_type": "execute_result"
    }
   ],
   "source": [
    "# Taking only the reviews that are in english\n",
    "reviews_en_df = reviews_df[reviews_df['lang'] == 'en']\n",
    "print(len(reviews_en_df))\n",
    "reviews_en_df.head()"
   ]
  },
  {
   "cell_type": "code",
   "execution_count": 11,
   "metadata": {
    "ExecuteTime": {
     "end_time": "2020-03-19T07:28:21.829608Z",
     "start_time": "2020-03-19T07:28:21.710960Z"
    }
   },
   "outputs": [
    {
     "name": "stdout",
     "output_type": "stream",
     "text": [
      "4533\n",
      "['/cellphones/samsung-galaxy-s8/'\n",
      " '/cellphones/samsung-galaxy-s6-edgeplus/'\n",
      " '/cellphones/samsung-galaxy-s8-plus/' ... '/cellphones/ericsson-pf-768/'\n",
      " '/cellphones/motorola-m3288/' '/cellphones/maxon-mx-3204/']\n"
     ]
    }
   ],
   "source": [
    "print(len(reviews_en_df['phone_url'].unique()))\n",
    "print(reviews_en_df['phone_url'].unique())"
   ]
  },
  {
   "cell_type": "code",
   "execution_count": 12,
   "metadata": {
    "ExecuteTime": {
     "end_time": "2020-03-19T07:28:23.999567Z",
     "start_time": "2020-03-19T07:28:23.995541Z"
    }
   },
   "outputs": [],
   "source": [
    "# Creating the function to return the phone model from the URL\n",
    "def phone_model(url):\n",
    "    phone_type = ' '.join(url[12:-1].split('-')).title()\n",
    "    return phone_type"
   ]
  },
  {
   "cell_type": "code",
   "execution_count": 13,
   "metadata": {
    "ExecuteTime": {
     "end_time": "2020-03-19T07:28:25.111269Z",
     "start_time": "2020-03-19T07:28:24.263184Z"
    }
   },
   "outputs": [
    {
     "name": "stderr",
     "output_type": "stream",
     "text": [
      "C:\\Users\\owzhe\\Anaconda3\\lib\\site-packages\\ipykernel_launcher.py:2: SettingWithCopyWarning: \n",
      "A value is trying to be set on a copy of a slice from a DataFrame.\n",
      "Try using .loc[row_indexer,col_indexer] = value instead\n",
      "\n",
      "See the caveats in the documentation: http://pandas.pydata.org/pandas-docs/stable/user_guide/indexing.html#returning-a-view-versus-a-copy\n",
      "  \n"
     ]
    }
   ],
   "source": [
    "# Applying the phone_model function on the url \n",
    "reviews_en_df['phone_model'] = reviews_en_df['phone_url'].apply(phone_model)"
   ]
  },
  {
   "cell_type": "code",
   "execution_count": 14,
   "metadata": {
    "ExecuteTime": {
     "end_time": "2020-03-19T07:28:26.379619Z",
     "start_time": "2020-03-19T07:28:26.332807Z"
    }
   },
   "outputs": [
    {
     "name": "stdout",
     "output_type": "stream",
     "text": [
      "4533\n"
     ]
    }
   ],
   "source": [
    "print(len(reviews_en_df['phone_model'].unique()))"
   ]
  },
  {
   "cell_type": "code",
   "execution_count": 15,
   "metadata": {
    "ExecuteTime": {
     "end_time": "2020-03-19T07:28:28.009884Z",
     "start_time": "2020-03-19T07:28:27.843799Z"
    },
    "scrolled": true
   },
   "outputs": [],
   "source": [
    "# Creating another copy of the reviews_df\n",
    "reviews_copy_df = reviews_en_df.copy()"
   ]
  },
  {
   "cell_type": "code",
   "execution_count": 16,
   "metadata": {
    "ExecuteTime": {
     "end_time": "2020-03-19T07:28:28.462405Z",
     "start_time": "2020-03-19T07:28:28.458386Z"
    }
   },
   "outputs": [],
   "source": [
    "# Found out that the dates are abit off - majority are in month/day/year but there is around 20k that is day/month/year\n",
    "def check_date(row_date):\n",
    "    month, day, year = row_date.split('/')\n",
    "    isValid = True\n",
    "    try:\n",
    "        datetime.datetime(int(year), int(month), int(day))\n",
    "    except:\n",
    "        isValid = False\n",
    "    \n",
    "    return isValid"
   ]
  },
  {
   "cell_type": "code",
   "execution_count": 17,
   "metadata": {
    "ExecuteTime": {
     "end_time": "2020-03-19T07:28:29.534587Z",
     "start_time": "2020-03-19T07:28:29.530596Z"
    }
   },
   "outputs": [],
   "source": [
    "# Creating a year column\n",
    "def review_year(row_date):\n",
    "    month, day, year = row_date.split('/')\n",
    "\n",
    "    return year"
   ]
  },
  {
   "cell_type": "code",
   "execution_count": 18,
   "metadata": {
    "ExecuteTime": {
     "end_time": "2020-03-19T07:31:13.968752Z",
     "start_time": "2020-03-19T07:31:13.067735Z"
    }
   },
   "outputs": [
    {
     "data": {
      "text/html": [
       "<div>\n",
       "<style scoped>\n",
       "    .dataframe tbody tr th:only-of-type {\n",
       "        vertical-align: middle;\n",
       "    }\n",
       "\n",
       "    .dataframe tbody tr th {\n",
       "        vertical-align: top;\n",
       "    }\n",
       "\n",
       "    .dataframe thead th {\n",
       "        text-align: right;\n",
       "    }\n",
       "</style>\n",
       "<table border=\"1\" class=\"dataframe\">\n",
       "  <thead>\n",
       "    <tr style=\"text-align: right;\">\n",
       "      <th></th>\n",
       "      <th>phone_url</th>\n",
       "      <th>date</th>\n",
       "      <th>lang</th>\n",
       "      <th>country</th>\n",
       "      <th>source</th>\n",
       "      <th>domain</th>\n",
       "      <th>score</th>\n",
       "      <th>score_max</th>\n",
       "      <th>extract</th>\n",
       "      <th>author</th>\n",
       "      <th>product</th>\n",
       "      <th>phone_model</th>\n",
       "      <th>date_check</th>\n",
       "      <th>year</th>\n",
       "    </tr>\n",
       "  </thead>\n",
       "  <tbody>\n",
       "    <tr>\n",
       "      <th>0</th>\n",
       "      <td>/cellphones/samsung-galaxy-s8/</td>\n",
       "      <td>5/2/2017</td>\n",
       "      <td>en</td>\n",
       "      <td>us</td>\n",
       "      <td>Verizon Wireless</td>\n",
       "      <td>verizonwireless.com</td>\n",
       "      <td>10.0</td>\n",
       "      <td>10.0</td>\n",
       "      <td>As a diehard Samsung fan who has had every Sam...</td>\n",
       "      <td>CarolAnn35</td>\n",
       "      <td>Samsung Galaxy S8</td>\n",
       "      <td>Samsung Galaxy S8</td>\n",
       "      <td>True</td>\n",
       "      <td>2017</td>\n",
       "    </tr>\n",
       "    <tr>\n",
       "      <th>1</th>\n",
       "      <td>/cellphones/samsung-galaxy-s8/</td>\n",
       "      <td>4/28/2017</td>\n",
       "      <td>en</td>\n",
       "      <td>us</td>\n",
       "      <td>Phone Arena</td>\n",
       "      <td>phonearena.com</td>\n",
       "      <td>10.0</td>\n",
       "      <td>10.0</td>\n",
       "      <td>Love the phone. the phone is sleek and smooth ...</td>\n",
       "      <td>james0923</td>\n",
       "      <td>Samsung Galaxy S8</td>\n",
       "      <td>Samsung Galaxy S8</td>\n",
       "      <td>True</td>\n",
       "      <td>2017</td>\n",
       "    </tr>\n",
       "    <tr>\n",
       "      <th>2</th>\n",
       "      <td>/cellphones/samsung-galaxy-s8/</td>\n",
       "      <td>5/4/2017</td>\n",
       "      <td>en</td>\n",
       "      <td>us</td>\n",
       "      <td>Amazon</td>\n",
       "      <td>amazon.com</td>\n",
       "      <td>6.0</td>\n",
       "      <td>10.0</td>\n",
       "      <td>Adequate feel. Nice heft. Processor's still sl...</td>\n",
       "      <td>R. Craig</td>\n",
       "      <td>Samsung Galaxy S8 (64GB) G950U 5.8\" 4G LTE Unl...</td>\n",
       "      <td>Samsung Galaxy S8</td>\n",
       "      <td>True</td>\n",
       "      <td>2017</td>\n",
       "    </tr>\n",
       "    <tr>\n",
       "      <th>3</th>\n",
       "      <td>/cellphones/samsung-galaxy-s8/</td>\n",
       "      <td>5/2/2017</td>\n",
       "      <td>en</td>\n",
       "      <td>us</td>\n",
       "      <td>Samsung</td>\n",
       "      <td>samsung.com</td>\n",
       "      <td>9.2</td>\n",
       "      <td>10.0</td>\n",
       "      <td>Never disappointed. One of the reasons I've be...</td>\n",
       "      <td>Buster2020</td>\n",
       "      <td>Samsung Galaxy S8 64GB (AT&amp;T)</td>\n",
       "      <td>Samsung Galaxy S8</td>\n",
       "      <td>True</td>\n",
       "      <td>2017</td>\n",
       "    </tr>\n",
       "    <tr>\n",
       "      <th>4</th>\n",
       "      <td>/cellphones/samsung-galaxy-s8/</td>\n",
       "      <td>5/11/2017</td>\n",
       "      <td>en</td>\n",
       "      <td>us</td>\n",
       "      <td>Verizon Wireless</td>\n",
       "      <td>verizonwireless.com</td>\n",
       "      <td>4.0</td>\n",
       "      <td>10.0</td>\n",
       "      <td>I've now found that i'm in a group of people t...</td>\n",
       "      <td>S Ate Mine</td>\n",
       "      <td>Samsung Galaxy S8</td>\n",
       "      <td>Samsung Galaxy S8</td>\n",
       "      <td>True</td>\n",
       "      <td>2017</td>\n",
       "    </tr>\n",
       "  </tbody>\n",
       "</table>\n",
       "</div>"
      ],
      "text/plain": [
       "                        phone_url       date lang country            source  \\\n",
       "0  /cellphones/samsung-galaxy-s8/   5/2/2017   en      us  Verizon Wireless   \n",
       "1  /cellphones/samsung-galaxy-s8/  4/28/2017   en      us       Phone Arena   \n",
       "2  /cellphones/samsung-galaxy-s8/   5/4/2017   en      us            Amazon   \n",
       "3  /cellphones/samsung-galaxy-s8/   5/2/2017   en      us           Samsung   \n",
       "4  /cellphones/samsung-galaxy-s8/  5/11/2017   en      us  Verizon Wireless   \n",
       "\n",
       "                domain  score  score_max  \\\n",
       "0  verizonwireless.com   10.0       10.0   \n",
       "1       phonearena.com   10.0       10.0   \n",
       "2           amazon.com    6.0       10.0   \n",
       "3          samsung.com    9.2       10.0   \n",
       "4  verizonwireless.com    4.0       10.0   \n",
       "\n",
       "                                             extract       author  \\\n",
       "0  As a diehard Samsung fan who has had every Sam...   CarolAnn35   \n",
       "1  Love the phone. the phone is sleek and smooth ...    james0923   \n",
       "2  Adequate feel. Nice heft. Processor's still sl...     R. Craig   \n",
       "3  Never disappointed. One of the reasons I've be...  Buster2020    \n",
       "4  I've now found that i'm in a group of people t...   S Ate Mine   \n",
       "\n",
       "                                             product        phone_model  \\\n",
       "0                                  Samsung Galaxy S8  Samsung Galaxy S8   \n",
       "1                                  Samsung Galaxy S8  Samsung Galaxy S8   \n",
       "2  Samsung Galaxy S8 (64GB) G950U 5.8\" 4G LTE Unl...  Samsung Galaxy S8   \n",
       "3                      Samsung Galaxy S8 64GB (AT&T)  Samsung Galaxy S8   \n",
       "4                                  Samsung Galaxy S8  Samsung Galaxy S8   \n",
       "\n",
       "   date_check  year  \n",
       "0        True  2017  \n",
       "1        True  2017  \n",
       "2        True  2017  \n",
       "3        True  2017  \n",
       "4        True  2017  "
      ]
     },
     "execution_count": 18,
     "metadata": {},
     "output_type": "execute_result"
    }
   ],
   "source": [
    "reviews_copy_df['date_check'] = reviews_copy_df['date'].apply(check_date)\n",
    "reviews_copy_df['year'] = reviews_copy_df['date'].apply(review_year)\n",
    "reviews_copy_df.head()"
   ]
  },
  {
   "cell_type": "code",
   "execution_count": 19,
   "metadata": {
    "ExecuteTime": {
     "end_time": "2020-03-19T07:31:45.210157Z",
     "start_time": "2020-03-19T07:31:45.050434Z"
    }
   },
   "outputs": [
    {
     "name": "stdout",
     "output_type": "stream",
     "text": [
      "No. of wrong dates: 23448\n",
      "No. of correct dates: 531298\n"
     ]
    }
   ],
   "source": [
    "# Checking the number of wrong and correct dates \n",
    "wrong_dates = reviews_copy_df[reviews_copy_df['date_check'] == False]\n",
    "print('No. of wrong dates:', len(wrong_dates))\n",
    "\n",
    "correct_dates = reviews_copy_df[reviews_copy_df['date_check'] == True]\n",
    "print('No. of correct dates:', len(correct_dates))"
   ]
  },
  {
   "cell_type": "code",
   "execution_count": 20,
   "metadata": {
    "ExecuteTime": {
     "end_time": "2020-03-19T07:31:45.596668Z",
     "start_time": "2020-03-19T07:31:45.590686Z"
    }
   },
   "outputs": [],
   "source": [
    "# Created a function to clean the date for the incorrect date format\n",
    "def clean_date(date):\n",
    "    month, day, year = date.split('/')\n",
    "    return '/'.join([day, month, year])\n",
    "\n",
    "#     for index, row in reviews_df.iterrows():\n",
    "#         month, day, year = row['date'].split('/')\n",
    "#         if row['date_check'] == False:\n",
    "#             reviews_df.loc[index, 'date'] = '/'.join([day, month, year])\n",
    "#             row['date_check'] = True\n",
    "#     return reviews_df"
   ]
  },
  {
   "cell_type": "code",
   "execution_count": 21,
   "metadata": {
    "ExecuteTime": {
     "end_time": "2020-03-19T07:31:46.674979Z",
     "start_time": "2020-03-19T07:31:46.436607Z"
    },
    "scrolled": true
   },
   "outputs": [
    {
     "name": "stderr",
     "output_type": "stream",
     "text": [
      "C:\\Users\\owzhe\\Anaconda3\\lib\\site-packages\\ipykernel_launcher.py:2: SettingWithCopyWarning: \n",
      "A value is trying to be set on a copy of a slice from a DataFrame.\n",
      "Try using .loc[row_indexer,col_indexer] = value instead\n",
      "\n",
      "See the caveats in the documentation: http://pandas.pydata.org/pandas-docs/stable/user_guide/indexing.html#returning-a-view-versus-a-copy\n",
      "  \n"
     ]
    },
    {
     "data": {
      "text/html": [
       "<div>\n",
       "<style scoped>\n",
       "    .dataframe tbody tr th:only-of-type {\n",
       "        vertical-align: middle;\n",
       "    }\n",
       "\n",
       "    .dataframe tbody tr th {\n",
       "        vertical-align: top;\n",
       "    }\n",
       "\n",
       "    .dataframe thead th {\n",
       "        text-align: right;\n",
       "    }\n",
       "</style>\n",
       "<table border=\"1\" class=\"dataframe\">\n",
       "  <thead>\n",
       "    <tr style=\"text-align: right;\">\n",
       "      <th></th>\n",
       "      <th>phone_url</th>\n",
       "      <th>date</th>\n",
       "      <th>lang</th>\n",
       "      <th>country</th>\n",
       "      <th>source</th>\n",
       "      <th>domain</th>\n",
       "      <th>score</th>\n",
       "      <th>score_max</th>\n",
       "      <th>extract</th>\n",
       "      <th>author</th>\n",
       "      <th>product</th>\n",
       "      <th>phone_model</th>\n",
       "      <th>date_check</th>\n",
       "      <th>year</th>\n",
       "    </tr>\n",
       "  </thead>\n",
       "  <tbody>\n",
       "    <tr>\n",
       "      <th>1</th>\n",
       "      <td>/cellphones/samsung-s7262-duos-galaxy-ace/</td>\n",
       "      <td>11/17/2015</td>\n",
       "      <td>en</td>\n",
       "      <td>in</td>\n",
       "      <td>Zopper</td>\n",
       "      <td>zopper.com</td>\n",
       "      <td>10.0</td>\n",
       "      <td>10.0</td>\n",
       "      <td>Decent Functions and Easy to Operate Pros:- Th...</td>\n",
       "      <td>Expert Review</td>\n",
       "      <td>Samsung Galaxy Star Pro S7262 Black</td>\n",
       "      <td>Samsung S7262 Duos Galaxy Ace</td>\n",
       "      <td>False</td>\n",
       "      <td>2015</td>\n",
       "    </tr>\n",
       "    <tr>\n",
       "      <th>2</th>\n",
       "      <td>/cellphones/samsung-s7262-duos-galaxy-ace/</td>\n",
       "      <td>10/29/2015</td>\n",
       "      <td>en</td>\n",
       "      <td>in</td>\n",
       "      <td>Amazon</td>\n",
       "      <td>amazon.in</td>\n",
       "      <td>4.0</td>\n",
       "      <td>10.0</td>\n",
       "      <td>Not Good Phone such price. Hang too much and v...</td>\n",
       "      <td>Amazon Customer</td>\n",
       "      <td>Samsung Galaxy Star Pro GT-S7262 (Midnight Black)</td>\n",
       "      <td>Samsung S7262 Duos Galaxy Ace</td>\n",
       "      <td>False</td>\n",
       "      <td>2015</td>\n",
       "    </tr>\n",
       "    <tr>\n",
       "      <th>3</th>\n",
       "      <td>/cellphones/samsung-s7262-duos-galaxy-ace/</td>\n",
       "      <td>10/29/2015</td>\n",
       "      <td>en</td>\n",
       "      <td>in</td>\n",
       "      <td>Amazon</td>\n",
       "      <td>amazon.in</td>\n",
       "      <td>6.0</td>\n",
       "      <td>10.0</td>\n",
       "      <td>not bad for features</td>\n",
       "      <td>Amazon Customer</td>\n",
       "      <td>Samsung Galaxy Star Pro GT-S7262 (Midnight Black)</td>\n",
       "      <td>Samsung S7262 Duos Galaxy Ace</td>\n",
       "      <td>False</td>\n",
       "      <td>2015</td>\n",
       "    </tr>\n",
       "    <tr>\n",
       "      <th>4</th>\n",
       "      <td>/cellphones/samsung-s7262-duos-galaxy-ace/</td>\n",
       "      <td>10/29/2015</td>\n",
       "      <td>en</td>\n",
       "      <td>in</td>\n",
       "      <td>Amazon</td>\n",
       "      <td>amazon.in</td>\n",
       "      <td>10.0</td>\n",
       "      <td>10.0</td>\n",
       "      <td>Excellent product</td>\n",
       "      <td>NHK</td>\n",
       "      <td>Samsung Galaxy Star Pro GT-S7262 (Midnight Black)</td>\n",
       "      <td>Samsung S7262 Duos Galaxy Ace</td>\n",
       "      <td>False</td>\n",
       "      <td>2015</td>\n",
       "    </tr>\n",
       "    <tr>\n",
       "      <th>5</th>\n",
       "      <td>/cellphones/samsung-s7262-duos-galaxy-ace/</td>\n",
       "      <td>10/27/2015</td>\n",
       "      <td>en</td>\n",
       "      <td>in</td>\n",
       "      <td>Amazon</td>\n",
       "      <td>amazon.in</td>\n",
       "      <td>8.0</td>\n",
       "      <td>10.0</td>\n",
       "      <td>Good in reasonable price</td>\n",
       "      <td>Rupali</td>\n",
       "      <td>Samsung Galaxy Star Pro GT-S7262 (Midnight Black)</td>\n",
       "      <td>Samsung S7262 Duos Galaxy Ace</td>\n",
       "      <td>False</td>\n",
       "      <td>2015</td>\n",
       "    </tr>\n",
       "    <tr>\n",
       "      <th>...</th>\n",
       "      <td>...</td>\n",
       "      <td>...</td>\n",
       "      <td>...</td>\n",
       "      <td>...</td>\n",
       "      <td>...</td>\n",
       "      <td>...</td>\n",
       "      <td>...</td>\n",
       "      <td>...</td>\n",
       "      <td>...</td>\n",
       "      <td>...</td>\n",
       "      <td>...</td>\n",
       "      <td>...</td>\n",
       "      <td>...</td>\n",
       "      <td>...</td>\n",
       "    </tr>\n",
       "    <tr>\n",
       "      <th>97303</th>\n",
       "      <td>/cellphones/motorola-razr-432872/</td>\n",
       "      <td>5/13/2006</td>\n",
       "      <td>en</td>\n",
       "      <td>gb</td>\n",
       "      <td>Ciao</td>\n",
       "      <td>ciao.co.uk</td>\n",
       "      <td>8.0</td>\n",
       "      <td>10.0</td>\n",
       "      <td>I bought this phone originally because I decid...</td>\n",
       "      <td>tblake7</td>\n",
       "      <td>Motorola RAZR</td>\n",
       "      <td>Motorola Razr 432872</td>\n",
       "      <td>False</td>\n",
       "      <td>2006</td>\n",
       "    </tr>\n",
       "    <tr>\n",
       "      <th>97304</th>\n",
       "      <td>/cellphones/motorola-razr-432872/</td>\n",
       "      <td>3/18/2006</td>\n",
       "      <td>en</td>\n",
       "      <td>gb</td>\n",
       "      <td>Ciao</td>\n",
       "      <td>ciao.co.uk</td>\n",
       "      <td>8.0</td>\n",
       "      <td>10.0</td>\n",
       "      <td>After making the switch from an old V60 TDMA, ...</td>\n",
       "      <td>sting_of_the_scorpion</td>\n",
       "      <td>Motorola RAZR</td>\n",
       "      <td>Motorola Razr 432872</td>\n",
       "      <td>False</td>\n",
       "      <td>2006</td>\n",
       "    </tr>\n",
       "    <tr>\n",
       "      <th>97906</th>\n",
       "      <td>/cellphones/alcatel-ot-918d/</td>\n",
       "      <td>1/30/2015</td>\n",
       "      <td>en</td>\n",
       "      <td>us</td>\n",
       "      <td>Amazon</td>\n",
       "      <td>amazon.com</td>\n",
       "      <td>10.0</td>\n",
       "      <td>10.0</td>\n",
       "      <td>Excelente producto</td>\n",
       "      <td>norbys moreno</td>\n",
       "      <td>Alcatel One Touch 918S Mix Unlocked GSM Phone ...</td>\n",
       "      <td>Alcatel Ot 918D</td>\n",
       "      <td>False</td>\n",
       "      <td>2015</td>\n",
       "    </tr>\n",
       "    <tr>\n",
       "      <th>97910</th>\n",
       "      <td>/cellphones/alcatel-ot-918d/</td>\n",
       "      <td>11/25/2013</td>\n",
       "      <td>en</td>\n",
       "      <td>us</td>\n",
       "      <td>Amazon</td>\n",
       "      <td>amazon.com</td>\n",
       "      <td>4.0</td>\n",
       "      <td>10.0</td>\n",
       "      <td>Older Android version, too many junky apps and...</td>\n",
       "      <td>Amazon Customer \"Jarod\"</td>\n",
       "      <td>Alcatel One Touch 918S Mix Unlocked GSM Phone ...</td>\n",
       "      <td>Alcatel Ot 918D</td>\n",
       "      <td>False</td>\n",
       "      <td>2013</td>\n",
       "    </tr>\n",
       "    <tr>\n",
       "      <th>98243</th>\n",
       "      <td>/cellphones/alcatel-ot-908/</td>\n",
       "      <td>9/21/2011</td>\n",
       "      <td>en</td>\n",
       "      <td>us</td>\n",
       "      <td>Phone Arena</td>\n",
       "      <td>phonearena.com</td>\n",
       "      <td>9.0</td>\n",
       "      <td>10.0</td>\n",
       "      <td>Great value phone. Android 2.2.2(Froyo) out of...</td>\n",
       "      <td>Mihai30Rav</td>\n",
       "      <td>Alcatel OT-908</td>\n",
       "      <td>Alcatel Ot 908</td>\n",
       "      <td>False</td>\n",
       "      <td>2011</td>\n",
       "    </tr>\n",
       "  </tbody>\n",
       "</table>\n",
       "<p>23448 rows × 14 columns</p>\n",
       "</div>"
      ],
      "text/plain": [
       "                                        phone_url        date lang country  \\\n",
       "1      /cellphones/samsung-s7262-duos-galaxy-ace/  11/17/2015   en      in   \n",
       "2      /cellphones/samsung-s7262-duos-galaxy-ace/  10/29/2015   en      in   \n",
       "3      /cellphones/samsung-s7262-duos-galaxy-ace/  10/29/2015   en      in   \n",
       "4      /cellphones/samsung-s7262-duos-galaxy-ace/  10/29/2015   en      in   \n",
       "5      /cellphones/samsung-s7262-duos-galaxy-ace/  10/27/2015   en      in   \n",
       "...                                           ...         ...  ...     ...   \n",
       "97303           /cellphones/motorola-razr-432872/   5/13/2006   en      gb   \n",
       "97304           /cellphones/motorola-razr-432872/   3/18/2006   en      gb   \n",
       "97906                /cellphones/alcatel-ot-918d/   1/30/2015   en      us   \n",
       "97910                /cellphones/alcatel-ot-918d/  11/25/2013   en      us   \n",
       "98243                 /cellphones/alcatel-ot-908/   9/21/2011   en      us   \n",
       "\n",
       "            source          domain  score  score_max  \\\n",
       "1           Zopper      zopper.com   10.0       10.0   \n",
       "2           Amazon       amazon.in    4.0       10.0   \n",
       "3           Amazon       amazon.in    6.0       10.0   \n",
       "4           Amazon       amazon.in   10.0       10.0   \n",
       "5           Amazon       amazon.in    8.0       10.0   \n",
       "...            ...             ...    ...        ...   \n",
       "97303         Ciao      ciao.co.uk    8.0       10.0   \n",
       "97304         Ciao      ciao.co.uk    8.0       10.0   \n",
       "97906       Amazon      amazon.com   10.0       10.0   \n",
       "97910       Amazon      amazon.com    4.0       10.0   \n",
       "98243  Phone Arena  phonearena.com    9.0       10.0   \n",
       "\n",
       "                                                 extract  \\\n",
       "1      Decent Functions and Easy to Operate Pros:- Th...   \n",
       "2      Not Good Phone such price. Hang too much and v...   \n",
       "3                                   not bad for features   \n",
       "4                                      Excellent product   \n",
       "5                               Good in reasonable price   \n",
       "...                                                  ...   \n",
       "97303  I bought this phone originally because I decid...   \n",
       "97304  After making the switch from an old V60 TDMA, ...   \n",
       "97906                                 Excelente producto   \n",
       "97910  Older Android version, too many junky apps and...   \n",
       "98243  Great value phone. Android 2.2.2(Froyo) out of...   \n",
       "\n",
       "                        author  \\\n",
       "1                Expert Review   \n",
       "2              Amazon Customer   \n",
       "3              Amazon Customer   \n",
       "4                          NHK   \n",
       "5                       Rupali   \n",
       "...                        ...   \n",
       "97303                  tblake7   \n",
       "97304    sting_of_the_scorpion   \n",
       "97906            norbys moreno   \n",
       "97910  Amazon Customer \"Jarod\"   \n",
       "98243               Mihai30Rav   \n",
       "\n",
       "                                                 product  \\\n",
       "1                    Samsung Galaxy Star Pro S7262 Black   \n",
       "2      Samsung Galaxy Star Pro GT-S7262 (Midnight Black)   \n",
       "3      Samsung Galaxy Star Pro GT-S7262 (Midnight Black)   \n",
       "4      Samsung Galaxy Star Pro GT-S7262 (Midnight Black)   \n",
       "5      Samsung Galaxy Star Pro GT-S7262 (Midnight Black)   \n",
       "...                                                  ...   \n",
       "97303                                      Motorola RAZR   \n",
       "97304                                      Motorola RAZR   \n",
       "97906  Alcatel One Touch 918S Mix Unlocked GSM Phone ...   \n",
       "97910  Alcatel One Touch 918S Mix Unlocked GSM Phone ...   \n",
       "98243                                     Alcatel OT-908   \n",
       "\n",
       "                         phone_model  date_check  year  \n",
       "1      Samsung S7262 Duos Galaxy Ace       False  2015  \n",
       "2      Samsung S7262 Duos Galaxy Ace       False  2015  \n",
       "3      Samsung S7262 Duos Galaxy Ace       False  2015  \n",
       "4      Samsung S7262 Duos Galaxy Ace       False  2015  \n",
       "5      Samsung S7262 Duos Galaxy Ace       False  2015  \n",
       "...                              ...         ...   ...  \n",
       "97303           Motorola Razr 432872       False  2006  \n",
       "97304           Motorola Razr 432872       False  2006  \n",
       "97906                Alcatel Ot 918D       False  2015  \n",
       "97910                Alcatel Ot 918D       False  2013  \n",
       "98243                 Alcatel Ot 908       False  2011  \n",
       "\n",
       "[23448 rows x 14 columns]"
      ]
     },
     "execution_count": 21,
     "metadata": {},
     "output_type": "execute_result"
    }
   ],
   "source": [
    "# Clean up the date format of the dataframe with wrong dates\n",
    "wrong_dates['date'] = wrong_dates['date'].apply(clean_date)\n",
    "wrong_dates"
   ]
  },
  {
   "cell_type": "code",
   "execution_count": 22,
   "metadata": {
    "ExecuteTime": {
     "end_time": "2020-03-19T07:32:37.702990Z",
     "start_time": "2020-03-19T07:32:37.001453Z"
    }
   },
   "outputs": [],
   "source": [
    "# Returning the cleaned dataframe use for analysis \n",
    "cleaned_df = correct_dates.append(wrong_dates, ignore_index=True)\n",
    "cleaned_df = cleaned_df[cleaned_df['year'].astype(int) >= 2013]\n",
    "cleaned_df.drop(columns=['phone_url', 'date_check', 'year'], inplace=True)"
   ]
  },
  {
   "cell_type": "code",
   "execution_count": 23,
   "metadata": {
    "ExecuteTime": {
     "end_time": "2020-03-19T07:32:38.008580Z",
     "start_time": "2020-03-19T07:32:37.704949Z"
    }
   },
   "outputs": [
    {
     "data": {
      "text/plain": [
       "score         158\n",
       "score_max     158\n",
       "extract      3448\n",
       "author        305\n",
       "dtype: int64"
      ]
     },
     "execution_count": 23,
     "metadata": {},
     "output_type": "execute_result"
    }
   ],
   "source": [
    "# Checking null rows\n",
    "null_columns = cleaned_df.columns[cleaned_df.isna().any()]\n",
    "cleaned_df[null_columns].isna().sum()"
   ]
  },
  {
   "cell_type": "code",
   "execution_count": 24,
   "metadata": {
    "ExecuteTime": {
     "end_time": "2020-03-19T07:32:38.140740Z",
     "start_time": "2020-03-19T07:32:38.010574Z"
    }
   },
   "outputs": [
    {
     "data": {
      "text/plain": [
       "400063"
      ]
     },
     "execution_count": 24,
     "metadata": {},
     "output_type": "execute_result"
    }
   ],
   "source": [
    "cleaned_df.dropna(subset=['extract'], inplace=True)\n",
    "len(cleaned_df)"
   ]
  },
  {
   "cell_type": "code",
   "execution_count": 25,
   "metadata": {},
   "outputs": [],
   "source": [
    "#Removing pre-2007 reviews\n",
    "# date_list = cleaned_df.loc[:,'date'].tolist()\n",
    "# year_list = []\n",
    "# for dates in date_list:\n",
    "#     year = dates[-4:]\n",
    "#     if (int(year)>=2007):\n",
    "#         year_list.append(year)\n",
    "#     else:\n",
    "#         year_list.append(\"drop\")\n",
    "# cleaned_df.insert(0, 'year', year_list)\n",
    "# cleaned_df.drop( cleaned_df[ cleaned_df['year'] == \"drop\" ].index , inplace=True)\n",
    "# cleaned_df.drop(['year'], axis=1, inplace = True)\n",
    "# len(cleaned_df)"
   ]
  },
  {
   "cell_type": "markdown",
   "metadata": {},
   "source": [
    "## Storing/Opening pickle file for the cleaned dataframe "
   ]
  },
  {
   "cell_type": "code",
   "execution_count": 35,
   "metadata": {
    "ExecuteTime": {
     "end_time": "2020-03-21T15:47:20.116098Z",
     "start_time": "2020-03-21T15:47:17.961898Z"
    }
   },
   "outputs": [],
   "source": [
    "import pickle \n",
    "\n",
    "###@@@@@@@@@ THIS IS TO ***SAVE*** THE CLEANED DATAFRAME FROM ABOVE @@@@@@@@@###\n",
    "# pickle.dump(cleaned_df, open(\"cleaned_reviews_df.pkl\", \"wb\"))\n",
    "\n",
    "###@@@@@@@@@ THIS IS TO ***OPEN*** THE CLEANED DATAFRAME FROM THE STORED PICKLE FILE @@@@@@@@@###\n",
    "### CHECKPOINT - can just load the pickle file and start running your analysis\n",
    "cleaned_df = pickle.load(open(\"C:/Users/owzhe/OneDrive/Documents/GitHub/phone-reviews-analysis/Pickle Files/cleaned_reviews_df.pkl\", \"rb\"))"
   ]
  },
  {
   "cell_type": "code",
   "execution_count": 36,
   "metadata": {
    "ExecuteTime": {
     "end_time": "2020-03-21T15:48:00.172126Z",
     "start_time": "2020-03-21T15:48:00.158164Z"
    }
   },
   "outputs": [
    {
     "data": {
      "text/html": [
       "<div>\n",
       "<style scoped>\n",
       "    .dataframe tbody tr th:only-of-type {\n",
       "        vertical-align: middle;\n",
       "    }\n",
       "\n",
       "    .dataframe tbody tr th {\n",
       "        vertical-align: top;\n",
       "    }\n",
       "\n",
       "    .dataframe thead th {\n",
       "        text-align: right;\n",
       "    }\n",
       "</style>\n",
       "<table border=\"1\" class=\"dataframe\">\n",
       "  <thead>\n",
       "    <tr style=\"text-align: right;\">\n",
       "      <th></th>\n",
       "      <th>date</th>\n",
       "      <th>lang</th>\n",
       "      <th>country</th>\n",
       "      <th>source</th>\n",
       "      <th>domain</th>\n",
       "      <th>score</th>\n",
       "      <th>score_max</th>\n",
       "      <th>extract</th>\n",
       "      <th>author</th>\n",
       "      <th>product</th>\n",
       "      <th>phone_model</th>\n",
       "    </tr>\n",
       "  </thead>\n",
       "  <tbody>\n",
       "    <tr>\n",
       "      <th>0</th>\n",
       "      <td>5/2/2017</td>\n",
       "      <td>en</td>\n",
       "      <td>us</td>\n",
       "      <td>Verizon Wireless</td>\n",
       "      <td>verizonwireless.com</td>\n",
       "      <td>10.0</td>\n",
       "      <td>10.0</td>\n",
       "      <td>As a diehard Samsung fan who has had every Sam...</td>\n",
       "      <td>CarolAnn35</td>\n",
       "      <td>Samsung Galaxy S8</td>\n",
       "      <td>Samsung Galaxy S8</td>\n",
       "    </tr>\n",
       "    <tr>\n",
       "      <th>1</th>\n",
       "      <td>4/28/2017</td>\n",
       "      <td>en</td>\n",
       "      <td>us</td>\n",
       "      <td>Phone Arena</td>\n",
       "      <td>phonearena.com</td>\n",
       "      <td>10.0</td>\n",
       "      <td>10.0</td>\n",
       "      <td>Love the phone. the phone is sleek and smooth ...</td>\n",
       "      <td>james0923</td>\n",
       "      <td>Samsung Galaxy S8</td>\n",
       "      <td>Samsung Galaxy S8</td>\n",
       "    </tr>\n",
       "    <tr>\n",
       "      <th>2</th>\n",
       "      <td>5/4/2017</td>\n",
       "      <td>en</td>\n",
       "      <td>us</td>\n",
       "      <td>Amazon</td>\n",
       "      <td>amazon.com</td>\n",
       "      <td>6.0</td>\n",
       "      <td>10.0</td>\n",
       "      <td>Adequate feel. Nice heft. Processor's still sl...</td>\n",
       "      <td>R. Craig</td>\n",
       "      <td>Samsung Galaxy S8 (64GB) G950U 5.8\" 4G LTE Unl...</td>\n",
       "      <td>Samsung Galaxy S8</td>\n",
       "    </tr>\n",
       "    <tr>\n",
       "      <th>3</th>\n",
       "      <td>5/2/2017</td>\n",
       "      <td>en</td>\n",
       "      <td>us</td>\n",
       "      <td>Samsung</td>\n",
       "      <td>samsung.com</td>\n",
       "      <td>9.2</td>\n",
       "      <td>10.0</td>\n",
       "      <td>Never disappointed. One of the reasons I've be...</td>\n",
       "      <td>Buster2020</td>\n",
       "      <td>Samsung Galaxy S8 64GB (AT&amp;T)</td>\n",
       "      <td>Samsung Galaxy S8</td>\n",
       "    </tr>\n",
       "    <tr>\n",
       "      <th>4</th>\n",
       "      <td>5/11/2017</td>\n",
       "      <td>en</td>\n",
       "      <td>us</td>\n",
       "      <td>Verizon Wireless</td>\n",
       "      <td>verizonwireless.com</td>\n",
       "      <td>4.0</td>\n",
       "      <td>10.0</td>\n",
       "      <td>I've now found that i'm in a group of people t...</td>\n",
       "      <td>S Ate Mine</td>\n",
       "      <td>Samsung Galaxy S8</td>\n",
       "      <td>Samsung Galaxy S8</td>\n",
       "    </tr>\n",
       "  </tbody>\n",
       "</table>\n",
       "</div>"
      ],
      "text/plain": [
       "        date lang country            source               domain  score  \\\n",
       "0   5/2/2017   en      us  Verizon Wireless  verizonwireless.com   10.0   \n",
       "1  4/28/2017   en      us       Phone Arena       phonearena.com   10.0   \n",
       "2   5/4/2017   en      us            Amazon           amazon.com    6.0   \n",
       "3   5/2/2017   en      us           Samsung          samsung.com    9.2   \n",
       "4  5/11/2017   en      us  Verizon Wireless  verizonwireless.com    4.0   \n",
       "\n",
       "   score_max                                            extract       author  \\\n",
       "0       10.0  As a diehard Samsung fan who has had every Sam...   CarolAnn35   \n",
       "1       10.0  Love the phone. the phone is sleek and smooth ...    james0923   \n",
       "2       10.0  Adequate feel. Nice heft. Processor's still sl...     R. Craig   \n",
       "3       10.0  Never disappointed. One of the reasons I've be...  Buster2020    \n",
       "4       10.0  I've now found that i'm in a group of people t...   S Ate Mine   \n",
       "\n",
       "                                             product        phone_model  \n",
       "0                                  Samsung Galaxy S8  Samsung Galaxy S8  \n",
       "1                                  Samsung Galaxy S8  Samsung Galaxy S8  \n",
       "2  Samsung Galaxy S8 (64GB) G950U 5.8\" 4G LTE Unl...  Samsung Galaxy S8  \n",
       "3                      Samsung Galaxy S8 64GB (AT&T)  Samsung Galaxy S8  \n",
       "4                                  Samsung Galaxy S8  Samsung Galaxy S8  "
      ]
     },
     "execution_count": 36,
     "metadata": {},
     "output_type": "execute_result"
    }
   ],
   "source": [
    "cleaned_df.head()"
   ]
  },
  {
   "cell_type": "code",
   "execution_count": 62,
   "metadata": {
    "ExecuteTime": {
     "end_time": "2020-03-21T15:48:19.368094Z",
     "start_time": "2020-03-21T15:48:19.361113Z"
    }
   },
   "outputs": [
    {
     "data": {
      "text/html": [
       "<div>\n",
       "<style scoped>\n",
       "    .dataframe tbody tr th:only-of-type {\n",
       "        vertical-align: middle;\n",
       "    }\n",
       "\n",
       "    .dataframe tbody tr th {\n",
       "        vertical-align: top;\n",
       "    }\n",
       "\n",
       "    .dataframe thead th {\n",
       "        text-align: right;\n",
       "    }\n",
       "</style>\n",
       "<table border=\"1\" class=\"dataframe\">\n",
       "  <thead>\n",
       "    <tr style=\"text-align: right;\">\n",
       "      <th></th>\n",
       "      <th>date</th>\n",
       "      <th>lang</th>\n",
       "      <th>country</th>\n",
       "      <th>source</th>\n",
       "      <th>domain</th>\n",
       "      <th>score</th>\n",
       "      <th>score_max</th>\n",
       "      <th>extract</th>\n",
       "      <th>author</th>\n",
       "      <th>product</th>\n",
       "      <th>phone_model</th>\n",
       "      <th>index</th>\n",
       "    </tr>\n",
       "  </thead>\n",
       "  <tbody>\n",
       "    <tr>\n",
       "      <th>0</th>\n",
       "      <td>5/2/2017</td>\n",
       "      <td>en</td>\n",
       "      <td>us</td>\n",
       "      <td>Verizon Wireless</td>\n",
       "      <td>verizonwireless.com</td>\n",
       "      <td>10.0</td>\n",
       "      <td>10.0</td>\n",
       "      <td>As a diehard Samsung fan who has had every Sam...</td>\n",
       "      <td>CarolAnn35</td>\n",
       "      <td>Samsung Galaxy S8</td>\n",
       "      <td>Samsung Galaxy S8</td>\n",
       "      <td>0</td>\n",
       "    </tr>\n",
       "    <tr>\n",
       "      <th>1</th>\n",
       "      <td>4/28/2017</td>\n",
       "      <td>en</td>\n",
       "      <td>us</td>\n",
       "      <td>Phone Arena</td>\n",
       "      <td>phonearena.com</td>\n",
       "      <td>10.0</td>\n",
       "      <td>10.0</td>\n",
       "      <td>Love the phone. the phone is sleek and smooth ...</td>\n",
       "      <td>james0923</td>\n",
       "      <td>Samsung Galaxy S8</td>\n",
       "      <td>Samsung Galaxy S8</td>\n",
       "      <td>1</td>\n",
       "    </tr>\n",
       "    <tr>\n",
       "      <th>2</th>\n",
       "      <td>5/4/2017</td>\n",
       "      <td>en</td>\n",
       "      <td>us</td>\n",
       "      <td>Amazon</td>\n",
       "      <td>amazon.com</td>\n",
       "      <td>6.0</td>\n",
       "      <td>10.0</td>\n",
       "      <td>Adequate feel. Nice heft. Processor's still sl...</td>\n",
       "      <td>R. Craig</td>\n",
       "      <td>Samsung Galaxy S8 (64GB) G950U 5.8\" 4G LTE Unl...</td>\n",
       "      <td>Samsung Galaxy S8</td>\n",
       "      <td>2</td>\n",
       "    </tr>\n",
       "    <tr>\n",
       "      <th>3</th>\n",
       "      <td>5/2/2017</td>\n",
       "      <td>en</td>\n",
       "      <td>us</td>\n",
       "      <td>Samsung</td>\n",
       "      <td>samsung.com</td>\n",
       "      <td>9.2</td>\n",
       "      <td>10.0</td>\n",
       "      <td>Never disappointed. One of the reasons I've be...</td>\n",
       "      <td>Buster2020</td>\n",
       "      <td>Samsung Galaxy S8 64GB (AT&amp;T)</td>\n",
       "      <td>Samsung Galaxy S8</td>\n",
       "      <td>3</td>\n",
       "    </tr>\n",
       "    <tr>\n",
       "      <th>4</th>\n",
       "      <td>5/11/2017</td>\n",
       "      <td>en</td>\n",
       "      <td>us</td>\n",
       "      <td>Verizon Wireless</td>\n",
       "      <td>verizonwireless.com</td>\n",
       "      <td>4.0</td>\n",
       "      <td>10.0</td>\n",
       "      <td>I've now found that i'm in a group of people t...</td>\n",
       "      <td>S Ate Mine</td>\n",
       "      <td>Samsung Galaxy S8</td>\n",
       "      <td>Samsung Galaxy S8</td>\n",
       "      <td>4</td>\n",
       "    </tr>\n",
       "    <tr>\n",
       "      <th>...</th>\n",
       "      <td>...</td>\n",
       "      <td>...</td>\n",
       "      <td>...</td>\n",
       "      <td>...</td>\n",
       "      <td>...</td>\n",
       "      <td>...</td>\n",
       "      <td>...</td>\n",
       "      <td>...</td>\n",
       "      <td>...</td>\n",
       "      <td>...</td>\n",
       "      <td>...</td>\n",
       "      <td>...</td>\n",
       "    </tr>\n",
       "    <tr>\n",
       "      <th>554608</th>\n",
       "      <td>3/18/2014</td>\n",
       "      <td>en</td>\n",
       "      <td>us</td>\n",
       "      <td>Amazon</td>\n",
       "      <td>amazon.com</td>\n",
       "      <td>8.0</td>\n",
       "      <td>10.0</td>\n",
       "      <td>I love this phone! The only problem I have is ...</td>\n",
       "      <td>Brandi \"Brandi\"</td>\n",
       "      <td>Motorola Droid RAZR 4G LTE Android Smartphone ...</td>\n",
       "      <td>Motorola Razr 432872</td>\n",
       "      <td>400058</td>\n",
       "    </tr>\n",
       "    <tr>\n",
       "      <th>554609</th>\n",
       "      <td>1/21/2014</td>\n",
       "      <td>en</td>\n",
       "      <td>us</td>\n",
       "      <td>Amazon</td>\n",
       "      <td>amazon.com</td>\n",
       "      <td>10.0</td>\n",
       "      <td>10.0</td>\n",
       "      <td>I love the 4G internet. I like all of the appl...</td>\n",
       "      <td>Amazon Customer</td>\n",
       "      <td>Motorola Droid RAZR 4G LTE Android Smartphone ...</td>\n",
       "      <td>Motorola Razr 432872</td>\n",
       "      <td>400059</td>\n",
       "    </tr>\n",
       "    <tr>\n",
       "      <th>554610</th>\n",
       "      <td>8/30/2013</td>\n",
       "      <td>en</td>\n",
       "      <td>us</td>\n",
       "      <td>Amazon</td>\n",
       "      <td>amazon.com</td>\n",
       "      <td>10.0</td>\n",
       "      <td>10.0</td>\n",
       "      <td>This phone works great. Is in good condition. ...</td>\n",
       "      <td>roshanda</td>\n",
       "      <td>Motorola Droid RAZR 4G LTE Android Smartphone ...</td>\n",
       "      <td>Motorola Razr 432872</td>\n",
       "      <td>400060</td>\n",
       "    </tr>\n",
       "    <tr>\n",
       "      <th>554743</th>\n",
       "      <td>1/30/2015</td>\n",
       "      <td>en</td>\n",
       "      <td>us</td>\n",
       "      <td>Amazon</td>\n",
       "      <td>amazon.com</td>\n",
       "      <td>10.0</td>\n",
       "      <td>10.0</td>\n",
       "      <td>Excelente producto</td>\n",
       "      <td>norbys moreno</td>\n",
       "      <td>Alcatel One Touch 918S Mix Unlocked GSM Phone ...</td>\n",
       "      <td>Alcatel Ot 918D</td>\n",
       "      <td>400061</td>\n",
       "    </tr>\n",
       "    <tr>\n",
       "      <th>554744</th>\n",
       "      <td>11/25/2013</td>\n",
       "      <td>en</td>\n",
       "      <td>us</td>\n",
       "      <td>Amazon</td>\n",
       "      <td>amazon.com</td>\n",
       "      <td>4.0</td>\n",
       "      <td>10.0</td>\n",
       "      <td>Older Android version, too many junky apps and...</td>\n",
       "      <td>Amazon Customer \"Jarod\"</td>\n",
       "      <td>Alcatel One Touch 918S Mix Unlocked GSM Phone ...</td>\n",
       "      <td>Alcatel Ot 918D</td>\n",
       "      <td>400062</td>\n",
       "    </tr>\n",
       "  </tbody>\n",
       "</table>\n",
       "<p>400063 rows × 12 columns</p>\n",
       "</div>"
      ],
      "text/plain": [
       "              date lang country            source               domain  score  \\\n",
       "0         5/2/2017   en      us  Verizon Wireless  verizonwireless.com   10.0   \n",
       "1        4/28/2017   en      us       Phone Arena       phonearena.com   10.0   \n",
       "2         5/4/2017   en      us            Amazon           amazon.com    6.0   \n",
       "3         5/2/2017   en      us           Samsung          samsung.com    9.2   \n",
       "4        5/11/2017   en      us  Verizon Wireless  verizonwireless.com    4.0   \n",
       "...            ...  ...     ...               ...                  ...    ...   \n",
       "554608   3/18/2014   en      us            Amazon           amazon.com    8.0   \n",
       "554609   1/21/2014   en      us            Amazon           amazon.com   10.0   \n",
       "554610   8/30/2013   en      us            Amazon           amazon.com   10.0   \n",
       "554743   1/30/2015   en      us            Amazon           amazon.com   10.0   \n",
       "554744  11/25/2013   en      us            Amazon           amazon.com    4.0   \n",
       "\n",
       "        score_max                                            extract  \\\n",
       "0            10.0  As a diehard Samsung fan who has had every Sam...   \n",
       "1            10.0  Love the phone. the phone is sleek and smooth ...   \n",
       "2            10.0  Adequate feel. Nice heft. Processor's still sl...   \n",
       "3            10.0  Never disappointed. One of the reasons I've be...   \n",
       "4            10.0  I've now found that i'm in a group of people t...   \n",
       "...           ...                                                ...   \n",
       "554608       10.0  I love this phone! The only problem I have is ...   \n",
       "554609       10.0  I love the 4G internet. I like all of the appl...   \n",
       "554610       10.0  This phone works great. Is in good condition. ...   \n",
       "554743       10.0                                 Excelente producto   \n",
       "554744       10.0  Older Android version, too many junky apps and...   \n",
       "\n",
       "                         author  \\\n",
       "0                    CarolAnn35   \n",
       "1                     james0923   \n",
       "2                      R. Craig   \n",
       "3                   Buster2020    \n",
       "4                    S Ate Mine   \n",
       "...                         ...   \n",
       "554608          Brandi \"Brandi\"   \n",
       "554609          Amazon Customer   \n",
       "554610                 roshanda   \n",
       "554743            norbys moreno   \n",
       "554744  Amazon Customer \"Jarod\"   \n",
       "\n",
       "                                                  product  \\\n",
       "0                                       Samsung Galaxy S8   \n",
       "1                                       Samsung Galaxy S8   \n",
       "2       Samsung Galaxy S8 (64GB) G950U 5.8\" 4G LTE Unl...   \n",
       "3                           Samsung Galaxy S8 64GB (AT&T)   \n",
       "4                                       Samsung Galaxy S8   \n",
       "...                                                   ...   \n",
       "554608  Motorola Droid RAZR 4G LTE Android Smartphone ...   \n",
       "554609  Motorola Droid RAZR 4G LTE Android Smartphone ...   \n",
       "554610  Motorola Droid RAZR 4G LTE Android Smartphone ...   \n",
       "554743  Alcatel One Touch 918S Mix Unlocked GSM Phone ...   \n",
       "554744  Alcatel One Touch 918S Mix Unlocked GSM Phone ...   \n",
       "\n",
       "                 phone_model   index  \n",
       "0          Samsung Galaxy S8       0  \n",
       "1          Samsung Galaxy S8       1  \n",
       "2          Samsung Galaxy S8       2  \n",
       "3          Samsung Galaxy S8       3  \n",
       "4          Samsung Galaxy S8       4  \n",
       "...                      ...     ...  \n",
       "554608  Motorola Razr 432872  400058  \n",
       "554609  Motorola Razr 432872  400059  \n",
       "554610  Motorola Razr 432872  400060  \n",
       "554743       Alcatel Ot 918D  400061  \n",
       "554744       Alcatel Ot 918D  400062  \n",
       "\n",
       "[400063 rows x 12 columns]"
      ]
     },
     "execution_count": 62,
     "metadata": {},
     "output_type": "execute_result"
    }
   ],
   "source": [
    "## Create an index series to find back the actual extract later on\n",
    "import numpy as np\n",
    "import pandas as pd\n",
    "\n",
    "data_len = len(cleaned_df)\n",
    "index_series = np.arange(data_len)\n",
    "\n",
    "cleaned_df['index'] = index_series\n",
    "\n",
    "cleaned_df"
   ]
  },
  {
   "cell_type": "code",
   "execution_count": 77,
   "metadata": {
    "ExecuteTime": {
     "end_time": "2020-03-21T15:48:21.848889Z",
     "start_time": "2020-03-21T15:48:20.859065Z"
    }
   },
   "outputs": [],
   "source": [
    "sentence_list = []\n",
    "index_list = []\n",
    "scores = cleaned_df['score'].tolist()\n",
    "index_score_list = []\n",
    "\n",
    "extract_list = list(cleaned_df['extract'])\n",
    "\n",
    "for num in index_series:\n",
    "    sentences = extract_list[num]\n",
    "    sentence_break = sentences.split('.')\n",
    "    for sentence in sentence_break:\n",
    "        if len(sentence) > 0:\n",
    "            sentence_list.append(sentence.strip())\n",
    "            index_list.append(num)\n",
    "            index_score_list.append(scores[num])"
   ]
  },
  {
   "cell_type": "code",
   "execution_count": 84,
   "metadata": {
    "ExecuteTime": {
     "end_time": "2020-03-21T15:48:23.314630Z",
     "start_time": "2020-03-21T15:48:22.538808Z"
    }
   },
   "outputs": [
    {
     "data": {
      "text/html": [
       "<div>\n",
       "<style scoped>\n",
       "    .dataframe tbody tr th:only-of-type {\n",
       "        vertical-align: middle;\n",
       "    }\n",
       "\n",
       "    .dataframe tbody tr th {\n",
       "        vertical-align: top;\n",
       "    }\n",
       "\n",
       "    .dataframe thead th {\n",
       "        text-align: right;\n",
       "    }\n",
       "</style>\n",
       "<table border=\"1\" class=\"dataframe\">\n",
       "  <thead>\n",
       "    <tr style=\"text-align: right;\">\n",
       "      <th></th>\n",
       "      <th>sentence</th>\n",
       "      <th>index</th>\n",
       "    </tr>\n",
       "  </thead>\n",
       "  <tbody>\n",
       "    <tr>\n",
       "      <th>0</th>\n",
       "      <td>As a diehard Samsung fan who has had every Sam...</td>\n",
       "      <td>0</td>\n",
       "    </tr>\n",
       "    <tr>\n",
       "      <th>1</th>\n",
       "      <td>I am amazed at some of the reviews and think p...</td>\n",
       "      <td>0</td>\n",
       "    </tr>\n",
       "    <tr>\n",
       "      <th>2</th>\n",
       "      <td>The battery life is amazing</td>\n",
       "      <td>0</td>\n",
       "    </tr>\n",
       "    <tr>\n",
       "      <th>3</th>\n",
       "      <td>Love the phone</td>\n",
       "      <td>1</td>\n",
       "    </tr>\n",
       "    <tr>\n",
       "      <th>4</th>\n",
       "      <td>the phone is sleek and smooth and beautiful I ...</td>\n",
       "      <td>1</td>\n",
       "    </tr>\n",
       "    <tr>\n",
       "      <th>...</th>\n",
       "      <td>...</td>\n",
       "      <td>...</td>\n",
       "    </tr>\n",
       "    <tr>\n",
       "      <th>983119</th>\n",
       "      <td>Came right on timr</td>\n",
       "      <td>400060</td>\n",
       "    </tr>\n",
       "    <tr>\n",
       "      <th>983120</th>\n",
       "      <td>Excelente producto</td>\n",
       "      <td>400061</td>\n",
       "    </tr>\n",
       "    <tr>\n",
       "      <th>983121</th>\n",
       "      <td>Older Android version, too many junky apps and...</td>\n",
       "      <td>400062</td>\n",
       "    </tr>\n",
       "    <tr>\n",
       "      <th>983122</th>\n",
       "      <td>I had one die and returned it to my cell provi...</td>\n",
       "      <td>400062</td>\n",
       "    </tr>\n",
       "    <tr>\n",
       "      <th>983123</th>\n",
       "      <td>Unfortunately, they just gave me another one</td>\n",
       "      <td>400062</td>\n",
       "    </tr>\n",
       "  </tbody>\n",
       "</table>\n",
       "<p>983124 rows × 2 columns</p>\n",
       "</div>"
      ],
      "text/plain": [
       "                                                 sentence   index\n",
       "0       As a diehard Samsung fan who has had every Sam...       0\n",
       "1       I am amazed at some of the reviews and think p...       0\n",
       "2                             The battery life is amazing       0\n",
       "3                                          Love the phone       1\n",
       "4       the phone is sleek and smooth and beautiful I ...       1\n",
       "...                                                   ...     ...\n",
       "983119                                 Came right on timr  400060\n",
       "983120                                 Excelente producto  400061\n",
       "983121  Older Android version, too many junky apps and...  400062\n",
       "983122  I had one die and returned it to my cell provi...  400062\n",
       "983123       Unfortunately, they just gave me another one  400062\n",
       "\n",
       "[983124 rows x 2 columns]"
      ]
     },
     "execution_count": 84,
     "metadata": {},
     "output_type": "execute_result"
    }
   ],
   "source": [
    "sentences_df = pd.DataFrame()\n",
    "sentences_df['sentence'] = sentence_list\n",
    "sentences_df['index'] = index_list\n",
    "\n",
    "sentences_df.dropna(inplace=True)\n",
    "\n",
    "sentences_df"
   ]
  },
  {
   "cell_type": "markdown",
   "metadata": {},
   "source": [
    "#  #1 LDA Gensim Model - All Text "
   ]
  },
  {
   "cell_type": "code",
   "execution_count": 27,
   "metadata": {
    "ExecuteTime": {
     "end_time": "2020-03-21T16:26:09.009015Z",
     "start_time": "2020-03-21T16:26:09.003070Z"
    }
   },
   "outputs": [],
   "source": [
    "import nltk \n",
    "import re\n",
    "\n",
    "def clean_sentence(sentence_list):\n",
    "    stop_list = nltk.corpus.stopwords.words('english')\n",
    "    tokenizer = nltk.tokenize.word_tokenize\n",
    "\n",
    "    sentence_list  = [tokenizer(sentence.lower()) for sentence in sentence_list]\n",
    "    sentence_list = [[w for w in sentence if re.search('^[a-z]+$',w)] for sentence in sentence_list]\n",
    "    sentence_list = [[w for w in sentence if w not in stop_list] for sentence in sentence_list]\n",
    "\n",
    "    return sentence_list"
   ]
  },
  {
   "cell_type": "code",
   "execution_count": 28,
   "metadata": {
    "ExecuteTime": {
     "end_time": "2020-03-21T16:29:01.965649Z",
     "start_time": "2020-03-21T16:26:10.151405Z"
    }
   },
   "outputs": [],
   "source": [
    "sentence_list = sentences_df['sentence'].values.tolist()\n",
    "sentences_df['bag of words'] = clean_sentence(sentence_list)"
   ]
  },
  {
   "cell_type": "code",
   "execution_count": 32,
   "metadata": {
    "ExecuteTime": {
     "end_time": "2020-03-21T16:31:28.704385Z",
     "start_time": "2020-03-21T16:31:28.682444Z"
    }
   },
   "outputs": [],
   "source": [
    "sentences_words = sentences_df['bag of words'].values.tolist()"
   ]
  },
  {
   "cell_type": "code",
   "execution_count": 33,
   "metadata": {
    "ExecuteTime": {
     "end_time": "2020-03-21T16:31:52.751503Z",
     "start_time": "2020-03-21T16:31:29.805451Z"
    }
   },
   "outputs": [],
   "source": [
    "import gensim\n",
    "\n",
    "# Using gensim to create a dictionary object of all the words in all extracts\n",
    "sentence_dict = gensim.corpora.Dictionary(sentences_words)\n",
    "\n",
    "# Returning the word vector for each extract from the gensim dict of words\n",
    "sentence_vecs = [sentence_dict.doc2bow(words) for words in sentences_words]"
   ]
  },
  {
   "cell_type": "code",
   "execution_count": 34,
   "metadata": {
    "ExecuteTime": {
     "end_time": "2020-03-21T17:33:46.568052Z",
     "start_time": "2020-03-21T16:36:34.524176Z"
    }
   },
   "outputs": [
    {
     "name": "stdout",
     "output_type": "stream",
     "text": [
      "Topic 3 Score: 0.3015180852330418\n",
      "Topic 4 Score: 0.32016752080135935\n",
      "Topic 5 Score: 0.317942049026734\n",
      "Topic 6 Score: 0.3061259316700771\n",
      "Topic 7 Score: 0.32535135063358706\n",
      "Topic 8 Score: 0.35219843974358056\n",
      "Topic 9 Score: 0.3687506366604538\n"
     ]
    }
   ],
   "source": [
    "# Finding the optimal number of topics\n",
    "from gensim.models import CoherenceModel\n",
    "\n",
    "iterations = 100\n",
    "passes = 1\n",
    "gensim_all_texts_list = []\n",
    "\n",
    "for num_topic in range(3, 10):\n",
    "    model_val = []\n",
    "    gensim_all_texts = gensim.models.ldamodel.LdaModel(corpus=sentence_vecs, id2word=sentence_dict, num_topics=num_topic, iterations = iterations, passes = passes)\n",
    "    coh_model = CoherenceModel(model=gensim_all_texts, texts=sentences_words, dictionary=sentence_dict, coherence='c_v')\n",
    "    model_val.append(gensim_all_texts)\n",
    "    model_val.append(coh_model.get_coherence())\n",
    "    model_val.append(num_topic)\n",
    "    gensim_all_texts_list.append(model_val)\n",
    "    print(\"Topic \" + str(num_topic) + \" Score: \" + str(coh_model.get_coherence()))"
   ]
  },
  {
   "cell_type": "code",
   "execution_count": 35,
   "metadata": {
    "ExecuteTime": {
     "end_time": "2020-03-21T17:55:51.753770Z",
     "start_time": "2020-03-21T17:55:51.385962Z"
    }
   },
   "outputs": [
    {
     "data": {
      "text/plain": [
       "<Figure size 640x480 with 1 Axes>"
      ]
     },
     "metadata": {},
     "output_type": "display_data"
    }
   ],
   "source": [
    "import matplotlib.pyplot as plt\n",
    "\n",
    "coh_val = [coh for model, coh, topic in gensim_all_texts_list]\n",
    "\n",
    "x = range(3, 10)\n",
    "plt.plot(x, coh_val)\n",
    "plt.xlabel(\"Num Topics\")\n",
    "plt.ylabel(\"Coherence score\")\n",
    "plt.legend((\"coherence_values\"), loc='best')\n",
    "plt.show()"
   ]
  },
  {
   "cell_type": "code",
   "execution_count": 36,
   "metadata": {
    "ExecuteTime": {
     "end_time": "2020-03-21T17:55:51.803665Z",
     "start_time": "2020-03-21T17:55:51.755764Z"
    }
   },
   "outputs": [
    {
     "name": "stdout",
     "output_type": "stream",
     "text": [
      "Model #3 Coherence Score: 0.3015180852330418\n",
      "Topic 1: phone, good, great, love, works, price, camera, product, really, battery\n",
      "Topic 2: phone, use, screen, easy, battery, work, sim, apps, need, card\n",
      "Topic 3: phone, one, bought, new, phones, got, first, iphone, would, buy\n",
      "----------------------------------------------------------------------------\n",
      "Model #4 Coherence Score: 0.32016752080135935\n",
      "Topic 1: use, battery, easy, apps, life, fast, working, card, work, need\n",
      "Topic 2: phone, good, great, screen, love, works, price, quality, nice, best\n",
      "Topic 3: phone, new, one, buy, phones, iphone, like, samsung, sim, much\n",
      "Topic 4: phone, would, one, time, used, bought, got, first, using, get\n",
      "----------------------------------------------------------------------------\n",
      "Model #5 Coherence Score: 0.317942049026734\n",
      "Topic 1: phone, love, camera, quality, good, excellent, working, smart, calls, problems\n",
      "Topic 2: battery, sim, life, card, better, problem, much, even, bad, memory\n",
      "Topic 3: phone, great, good, use, works, price, really, easy, product, nice\n",
      "Topic 4: phone, would, screen, like, work, use, get, buy, want, recommend\n",
      "Topic 5: phone, one, bought, phones, iphone, first, got, best, samsung, android\n",
      "----------------------------------------------------------------------------\n",
      "Model #6 Coherence Score: 0.3061259316700771\n",
      "Topic 1: phone, love, samsung, working, everything, months, galaxy, ca, need, fine\n",
      "Topic 2: phone, one, phones, get, got, buy, iphone, new, first, time\n",
      "Topic 3: phone, one, best, would, mobile, bought, recommend, smartphone, happy, ever\n",
      "Topic 4: sim, card, camera, phone, nokia, much, memory, android, better, amazing\n",
      "Topic 5: phone, good, great, battery, price, life, product, quality, excellent, nice\n",
      "Topic 6: phone, use, works, easy, work, like, well, great, apps, features\n",
      "----------------------------------------------------------------------------\n",
      "Model #7 Coherence Score: 0.32535135063358706\n",
      "Topic 1: phone, love, great, like, really, new, everything, happy, calls, need\n",
      "Topic 2: phone, screen, sim, card, battery, even, get, time, two, working\n",
      "Topic 3: phone, iphone, phones, work, old, android, still, like, unlocked, service\n",
      "Topic 4: use, phone, price, easy, great, money, apps, features, fine, simple\n",
      "Topic 5: battery, life, could, better, much, nokia, go, back, way, little\n",
      "Topic 6: phone, one, would, buy, best, bought, first, recommend, months, smartphone\n",
      "Topic 7: good, phone, works, great, camera, quality, nice, screen, excellent, well\n",
      "----------------------------------------------------------------------------\n",
      "Model #8 Coherence Score: 0.35219843974358056\n",
      "Topic 1: phone, price, well, works, need, money, calls, still, everything, time\n",
      "Topic 2: use, phone, screen, easy, nice, apps, little, touch, like, big\n",
      "Topic 3: phone, would, buy, could, recommend, get, one, work, bad, want\n",
      "Topic 4: phone, bought, sim, back, card, happy, memory, basic, simple, worked\n",
      "Topic 5: good, great, phone, battery, camera, quality, life, product, excellent, works\n",
      "Topic 6: love, phone, like, new, perfect, screen, keyboard, sound, features, brand\n",
      "Topic 7: phone, best, one, battery, using, months, smartphone, nokia, smart, ever\n",
      "Topic 8: phone, one, iphone, samsung, phones, android, better, much, years, galaxy\n",
      "----------------------------------------------------------------------------\n",
      "Model #9 Coherence Score: 0.3687506366604538\n",
      "Topic 1: phone, great, use, works, easy, like, really, well, screen, nice\n",
      "Topic 2: phone, buy, screen, would, work, old, one, back, want, go\n",
      "Topic 3: phone, bought, got, using, working, months, year, problems, purchased, one\n",
      "Topic 4: good, phone, camera, product, quality, excellent, recommend, awesome, amazing, would\n",
      "Topic 5: phone, iphone, phones, one, samsung, sim, new, first, came, android\n",
      "Topic 6: phone, apps, still, use, perfect, lot, used, simple, device, many\n",
      "Topic 7: phone, love, price, everything, happy, money, need, better, unlocked, much\n",
      "Topic 8: phone, best, mobile, smartphone, smart, ever, cell, small, fast, far\n",
      "Topic 9: battery, life, card, problem, nokia, time, call, charge, would, day\n",
      "----------------------------------------------------------------------------\n"
     ]
    }
   ],
   "source": [
    "# Gensim LDA Model - topics\n",
    "\n",
    "for model in gensim_all_texts_list:\n",
    "    print(\"Model #{} Coherence Score: {}\".format(model[2], model[1]))\n",
    "    topics = model.show_topics(formatted=False)\n",
    "    for topic, word_list in topics:\n",
    "        topic_num = topic + 1\n",
    "        result_list = []\n",
    "        for word, word_prob in word_list:\n",
    "            result_list.append(word)\n",
    "        print(\"Topic {}: {}\".format(topic_num, ', '.join(result_list)))\n",
    "    print('----------------------------------------------------------------------------')"
   ]
  },
  {
   "cell_type": "code",
   "execution_count": 37,
   "metadata": {
    "ExecuteTime": {
     "end_time": "2020-03-21T17:55:57.685546Z",
     "start_time": "2020-03-21T17:55:57.596784Z"
    }
   },
   "outputs": [],
   "source": [
    "import pickle \n",
    "\n",
    "###@@@@@@@@@ THIS IS TO ***SAVE*** THE GENSIM MODELS FROM ABOVE @@@@@@@@@###\n",
    "pickle.dump(gensim_all_texts_list, open(\"gensim_all_texts.pkl\", \"wb\"))\n",
    "\n",
    "###@@@@@@@@@ THIS IS TO ***OPEN*** THE GENSIM MODELS FROM THE STORED PICKLE FILE @@@@@@@@@###\n",
    "### CHECKPOINT - can just load the pickle file and start running your analysis\n",
    "# gensim_models = pickle.load(open(\"gensim_all_texts.pkl\", \"rb\"))"
   ]
  },
  {
   "cell_type": "markdown",
   "metadata": {},
   "source": [
    "# #1 LDA Mallet Model - All Text"
   ]
  },
  {
   "cell_type": "code",
   "execution_count": 129,
   "metadata": {
    "ExecuteTime": {
     "end_time": "2020-03-21T19:10:50.168223Z",
     "start_time": "2020-03-21T17:56:03.362890Z"
    }
   },
   "outputs": [
    {
     "ename": "NameError",
     "evalue": "name 'sentence_vecs' is not defined",
     "output_type": "error",
     "traceback": [
      "\u001b[1;31m---------------------------------------------------------------------------\u001b[0m",
      "\u001b[1;31mNameError\u001b[0m                                 Traceback (most recent call last)",
      "\u001b[1;32m<ipython-input-129-c640582117dc>\u001b[0m in \u001b[0;36m<module>\u001b[1;34m()\u001b[0m\n\u001b[0;32m      9\u001b[0m \u001b[1;32mfor\u001b[0m \u001b[0mnum_topic\u001b[0m \u001b[1;32min\u001b[0m \u001b[0mrange\u001b[0m\u001b[1;33m(\u001b[0m\u001b[1;36m3\u001b[0m\u001b[1;33m,\u001b[0m \u001b[1;36m10\u001b[0m\u001b[1;33m)\u001b[0m\u001b[1;33m:\u001b[0m\u001b[1;33m\u001b[0m\u001b[0m\n\u001b[0;32m     10\u001b[0m     \u001b[0mmodel_val\u001b[0m \u001b[1;33m=\u001b[0m \u001b[1;33m[\u001b[0m\u001b[1;33m]\u001b[0m\u001b[1;33m\u001b[0m\u001b[0m\n\u001b[1;32m---> 11\u001b[1;33m     \u001b[0mmallet_all_texts\u001b[0m \u001b[1;33m=\u001b[0m \u001b[0mgensim\u001b[0m\u001b[1;33m.\u001b[0m\u001b[0mmodels\u001b[0m\u001b[1;33m.\u001b[0m\u001b[0mwrappers\u001b[0m\u001b[1;33m.\u001b[0m\u001b[0mLdaMallet\u001b[0m\u001b[1;33m(\u001b[0m\u001b[0mmallet_path\u001b[0m\u001b[1;33m,\u001b[0m \u001b[0mcorpus\u001b[0m\u001b[1;33m=\u001b[0m\u001b[0msentence_vecs\u001b[0m\u001b[1;33m,\u001b[0m \u001b[0mid2word\u001b[0m\u001b[1;33m=\u001b[0m\u001b[0msentence_dict\u001b[0m\u001b[1;33m,\u001b[0m \u001b[0mnum_topics\u001b[0m\u001b[1;33m=\u001b[0m\u001b[0mnum_topic\u001b[0m\u001b[1;33m)\u001b[0m\u001b[1;33m\u001b[0m\u001b[0m\n\u001b[0m\u001b[0;32m     12\u001b[0m     \u001b[0mmallet_coh_model\u001b[0m \u001b[1;33m=\u001b[0m \u001b[0mCoherenceModel\u001b[0m\u001b[1;33m(\u001b[0m\u001b[0mmodel\u001b[0m\u001b[1;33m=\u001b[0m\u001b[0mmallet_all_texts\u001b[0m\u001b[1;33m,\u001b[0m \u001b[0mtexts\u001b[0m\u001b[1;33m=\u001b[0m\u001b[0msentences_words\u001b[0m\u001b[1;33m,\u001b[0m \u001b[0mdictionary\u001b[0m\u001b[1;33m=\u001b[0m\u001b[0msentence_dict\u001b[0m\u001b[1;33m,\u001b[0m \u001b[0mcoherence\u001b[0m\u001b[1;33m=\u001b[0m\u001b[1;34m'c_v'\u001b[0m\u001b[1;33m)\u001b[0m\u001b[1;33m\u001b[0m\u001b[0m\n\u001b[0;32m     13\u001b[0m     \u001b[0mmodel_val\u001b[0m\u001b[1;33m.\u001b[0m\u001b[0mappend\u001b[0m\u001b[1;33m(\u001b[0m\u001b[0mmallet_all_texts\u001b[0m\u001b[1;33m)\u001b[0m\u001b[1;33m\u001b[0m\u001b[0m\n",
      "\u001b[1;31mNameError\u001b[0m: name 'sentence_vecs' is not defined"
     ]
    }
   ],
   "source": [
    "import gensim\n",
    "import os \n",
    "\n",
    "os.environ.update({'MALLET_HOME':r'D:\\\\Softwares\\\\mallet-2.0.8'})\n",
    "mallet_path = r'D:\\\\Softwares\\\\mallet-2.0.8\\\\bin\\\\mallet'\n",
    "\n",
    "mallet_all_texts_list = []\n",
    "\n",
    "for num_topic in range(3, 10):\n",
    "    model_val = []\n",
    "    mallet_all_texts = gensim.models.wrappers.LdaMallet(mallet_path, corpus=sentence_vecs, id2word=sentence_dict, num_topics=num_topic)\n",
    "    mallet_coh_model = CoherenceModel(model=mallet_all_texts, texts=sentences_words, dictionary=sentence_dict, coherence='c_v')\n",
    "    model_val.append(mallet_all_texts)\n",
    "    model_val.append(mallet_coh_model.get_coherence())\n",
    "    model_val.append(num_topic)\n",
    "    mallet_all_texts_list.append(model_val)\n",
    "    print(\"Topic \" + str(num_topic) + \" Score: \" + str(mallet_coh_model.get_coherence()))"
   ]
  },
  {
   "cell_type": "code",
   "execution_count": 39,
   "metadata": {
    "ExecuteTime": {
     "end_time": "2020-03-21T19:20:55.769530Z",
     "start_time": "2020-03-21T19:20:55.564502Z"
    }
   },
   "outputs": [
    {
     "data": {
      "image/png": "[encoded data removed]",
      "text/plain": [
       "<Figure size 432x288 with 1 Axes>"
      ]
     },
     "metadata": {
      "needs_background": "light"
     },
     "output_type": "display_data"
    }
   ],
   "source": [
    "import matplotlib.pyplot as plt\n",
    "\n",
    "mallet_coh_val = [coh for model, coh, topic in mallet_all_texts_list]\n",
    "\n",
    "x = range(3, 10)\n",
    "plt.plot(x, mallet_coh_val)\n",
    "plt.xlabel(\"Num Topics\")\n",
    "plt.ylabel(\"Coherence score\")\n",
    "plt.legend((\"coherence_values\"), loc='best')\n",
    "plt.show()"
   ]
  },
  {
   "cell_type": "code",
   "execution_count": 40,
   "metadata": {
    "ExecuteTime": {
     "end_time": "2020-03-21T19:20:57.289028Z",
     "start_time": "2020-03-21T19:20:57.240160Z"
    }
   },
   "outputs": [
    {
     "name": "stdout",
     "output_type": "stream",
     "text": [
      "Model #3 Coherence Score: 0.2778176949956494\n",
      "Topic 1: phone, love, samsung, phones, iphone, buy, android, galaxy, price, apps\n",
      "Topic 2: phone, bought, works, time, work, problem, back, working, sim, months\n",
      "Topic 3: good, great, battery, camera, screen, product, quality, nice, fast, excellent\n",
      "----------------------------------------------------------------------------\n",
      "Model #4 Coherence Score: 0.335011821188016\n",
      "Topic 1: phone, product, mobile, works, buy, work, apps, sim, money, card\n",
      "Topic 2: phone, battery, time, life, back, problem, working, months, day, days\n",
      "Topic 3: phone, love, samsung, bought, phones, iphone, price, android, galaxy, happy\n",
      "Topic 4: good, great, camera, screen, quality, nice, features, fast, excellent, awesome\n",
      "----------------------------------------------------------------------------\n",
      "Model #5 Coherence Score: 0.33782541551260253\n",
      "Topic 1: works, work, phone, problem, apps, sim, card, lot, problems, ca\n",
      "Topic 2: phone, bought, iphone, phones, android, months, happy, year, month, years\n",
      "Topic 3: screen, phone, time, back, working, day, easy, days, size, perfect\n",
      "Topic 4: phone, great, love, price, product, samsung, mobile, features, buy, galaxy\n",
      "Topic 5: good, battery, camera, quality, nice, fast, life, awesome, amazing, excellent\n",
      "----------------------------------------------------------------------------\n",
      "Model #6 Coherence Score: 0.37356483503046484\n",
      "Topic 1: phone, works, work, apps, sim, card, memory, fine, service, charger\n",
      "Topic 2: phone, price, product, bought, mobile, buy, great, money, happy, recommend\n",
      "Topic 3: battery, screen, fast, life, easy, great, day, perfect, size, big\n",
      "Topic 4: good, camera, great, quality, nice, features, awesome, excellent, amazing, performance\n",
      "Topic 5: phone, back, problem, time, working, months, problems, issues, bad, issue\n",
      "Topic 6: phone, love, samsung, phones, iphone, android, galaxy, device, smartphone, smart\n",
      "----------------------------------------------------------------------------\n",
      "Model #7 Coherence Score: 0.404900422189587\n",
      "Topic 1: work, apps, ca, issues, problem, call, problems, phone, service, make\n",
      "Topic 2: phone, price, product, mobile, buy, money, excellent, recommend, happy, worth\n",
      "Topic 3: phone, bought, back, months, year, purchased, month, case, cell, weeks\n",
      "Topic 4: samsung, phones, iphone, android, galaxy, device, note, years, htc, smartphone\n",
      "Topic 5: great, phone, love, screen, features, fast, nice, easy, perfect, size\n",
      "Topic 6: good, camera, battery, quality, life, awesome, performance, display, bad, excellent\n",
      "Topic 7: works, time, working, sim, battery, day, card, days, memory, problem\n",
      "----------------------------------------------------------------------------\n",
      "Model #8 Coherence Score: 0.40830783484447636\n",
      "Topic 1: samsung, phones, iphone, galaxy, money, smartphone, note, years, worth, htc\n",
      "Topic 2: phone, problem, working, back, months, problems, issues, issue, month, time\n",
      "Topic 3: phone, love, features, fast, easy, great, perfect, size, big, memory\n",
      "Topic 4: work, sim, card, ca, call, service, make, charger, calls, unlocked\n",
      "Topic 5: phone, bought, android, apps, device, lot, user, smart, windows, update\n",
      "Topic 6: camera, screen, quality, nice, good, awesome, display, amazing, design, sound\n",
      "Topic 7: good, battery, phone, mobile, life, time, day, performance, bad, charge\n",
      "Topic 8: phone, great, price, product, works, excellent, buy, happy, recommend, purchase\n",
      "----------------------------------------------------------------------------\n",
      "Model #9 Coherence Score: 0.43696809812644793\n",
      "Topic 1: great, battery, phone, works, fast, features, life, amazing, awesome, long\n",
      "Topic 2: phone, mobile, problem, android, bad, device, issues, thing, issue, lot\n",
      "Topic 3: good, camera, quality, price, performance, display, sound, low, light, excellent\n",
      "Topic 4: time, back, working, months, day, phone, days, charge, month, fine\n",
      "Topic 5: apps, sim, work, card, memory, ca, call, calls, unlocked, make\n",
      "Topic 6: phone, buy, recommend, smart, wanted, cell, nokia, review, people, sony\n",
      "Topic 7: screen, nice, easy, perfect, size, big, design, touch, phone, case\n",
      "Topic 8: phone, product, bought, money, happy, excellent, price, worth, purchase, expected\n",
      "Topic 9: love, samsung, phones, iphone, galaxy, smartphone, note, years, htc, edge\n",
      "----------------------------------------------------------------------------\n"
     ]
    }
   ],
   "source": [
    "# Mallet LDA Model - topics\n",
    "\n",
    "for model in mallet_all_texts_list:\n",
    "    print(\"Model #{} Coherence Score: {}\".format(model[2], model[1]))\n",
    "    topics = model.show_topics(formatted=False)\n",
    "    for topic, word_list in topics:\n",
    "        topic_num = topic + 1\n",
    "        result_list = []\n",
    "        for word, word_prob in word_list:\n",
    "            result_list.append(word)\n",
    "        print(\"Topic {}: {}\".format(topic_num, ', '.join(result_list)))\n",
    "    print('----------------------------------------------------------------------------')"
   ]
  },
  {
   "cell_type": "code",
   "execution_count": 41,
   "metadata": {
    "ExecuteTime": {
     "end_time": "2020-03-22T08:14:07.295846Z",
     "start_time": "2020-03-22T08:14:06.657541Z"
    }
   },
   "outputs": [],
   "source": [
    "import pickle \n",
    "\n",
    "###@@@@@@@@@ THIS IS TO ***SAVE*** THE MODELS FROM ABOVE @@@@@@@@@###\n",
    "pickle.dump(mallet_all_texts_list, open(\"mallet_all_texts.pkl\", \"wb\"))\n",
    "\n",
    "###@@@@@@@@@ THIS IS TO ***OPEN*** THE MODELS FROM THE STORED PICKLE FILE @@@@@@@@@###\n",
    "### CHECKPOINT - can just load the pickle file and start running your analysis\n",
    "# gensim_models = pickle.load(open(\"mallet_all_texts.pkl\", \"rb\"))"
   ]
  },
  {
   "cell_type": "markdown",
   "metadata": {},
   "source": [
    "# #2 LDA Gensim Model - Nouns Only"
   ]
  },
  {
   "cell_type": "code",
   "execution_count": 43,
   "metadata": {
    "ExecuteTime": {
     "end_time": "2020-03-22T08:18:58.355703Z",
     "start_time": "2020-03-22T08:18:57.802182Z"
    }
   },
   "outputs": [
    {
     "data": {
      "text/html": [
       "<div>\n",
       "<style scoped>\n",
       "    .dataframe tbody tr th:only-of-type {\n",
       "        vertical-align: middle;\n",
       "    }\n",
       "\n",
       "    .dataframe tbody tr th {\n",
       "        vertical-align: top;\n",
       "    }\n",
       "\n",
       "    .dataframe thead th {\n",
       "        text-align: right;\n",
       "    }\n",
       "</style>\n",
       "<table border=\"1\" class=\"dataframe\">\n",
       "  <thead>\n",
       "    <tr style=\"text-align: right;\">\n",
       "      <th></th>\n",
       "      <th>sentence</th>\n",
       "      <th>index</th>\n",
       "    </tr>\n",
       "  </thead>\n",
       "  <tbody>\n",
       "    <tr>\n",
       "      <th>0</th>\n",
       "      <td>As a diehard Samsung fan who has had every Sam...</td>\n",
       "      <td>0</td>\n",
       "    </tr>\n",
       "    <tr>\n",
       "      <th>1</th>\n",
       "      <td>I am amazed at some of the reviews and think p...</td>\n",
       "      <td>0</td>\n",
       "    </tr>\n",
       "    <tr>\n",
       "      <th>2</th>\n",
       "      <td>The battery life is amazing</td>\n",
       "      <td>0</td>\n",
       "    </tr>\n",
       "    <tr>\n",
       "      <th>3</th>\n",
       "      <td>Love the phone</td>\n",
       "      <td>1</td>\n",
       "    </tr>\n",
       "    <tr>\n",
       "      <th>4</th>\n",
       "      <td>the phone is sleek and smooth and beautiful I ...</td>\n",
       "      <td>1</td>\n",
       "    </tr>\n",
       "  </tbody>\n",
       "</table>\n",
       "</div>"
      ],
      "text/plain": [
       "                                            sentence  index\n",
       "0  As a diehard Samsung fan who has had every Sam...      0\n",
       "1  I am amazed at some of the reviews and think p...      0\n",
       "2                        The battery life is amazing      0\n",
       "3                                     Love the phone      1\n",
       "4  the phone is sleek and smooth and beautiful I ...      1"
      ]
     },
     "execution_count": 43,
     "metadata": {},
     "output_type": "execute_result"
    }
   ],
   "source": [
    "sentences_df = pd.DataFrame()\n",
    "sentences_df['sentence'] = sentence_list\n",
    "sentences_df['index'] = index_list\n",
    "sentences_df.dropna(inplace=True)\n",
    "\n",
    "sentences_df.head()"
   ]
  },
  {
   "cell_type": "code",
   "execution_count": 115,
   "metadata": {},
   "outputs": [
    {
     "name": "stdout",
     "output_type": "stream",
     "text": [
      "[nltk_data] Downloading package averaged_perceptron_tagger to\n",
      "[nltk_data]     C:\\Users\\owzhe\\AppData\\Roaming\\nltk_data...\n",
      "[nltk_data]   Unzipping taggers\\averaged_perceptron_tagger.zip.\n"
     ]
    },
    {
     "data": {
      "text/plain": [
       "True"
      ]
     },
     "execution_count": 115,
     "metadata": {},
     "output_type": "execute_result"
    }
   ],
   "source": [
    "import nltk\n",
    "nltk.download('averaged_perceptron_tagger')"
   ]
  },
  {
   "cell_type": "code",
   "execution_count": 116,
   "metadata": {
    "ExecuteTime": {
     "end_time": "2020-03-22T17:21:13.724275Z",
     "start_time": "2020-03-22T17:21:13.685379Z"
    }
   },
   "outputs": [],
   "source": [
    "import nltk\n",
    "\n",
    "stop_list = nltk.corpus.stopwords.words('english')\n",
    "tokenizer = nltk.tokenize.word_tokenize\n",
    "extra_stop_words = ['phone', 'iphone', 'nokia', 'samsung', 'htc', 'lg', 'galaxy', 'ca', 'motorola', 'android', 'verizon', 'i', '%', 't', 's']\n",
    "\n",
    "def get_nouns(sentence_row):\n",
    "\n",
    "    noun_list = []\n",
    "    sentence = nltk.pos_tag(tokenizer(sentence_row.lower()))\n",
    "    for w, pos in sentence: \n",
    "        if pos == 'NN' and w not in extra_stop_words:\n",
    "            noun_list.append(w)\n",
    "    \n",
    "    return noun_list\n",
    "\n",
    "#     sentence_list = [tokenizer(sentence.lower()) for sentence in sentence_list]\n",
    "#     sentence_tagging = [nltk.pos_tag(sentence) for sentence in sentence_list] \n",
    "#     sentence_nouns = [w for w in sentence if is_noun(w) for sentence in sentence_list]"
   ]
  },
  {
   "cell_type": "code",
   "execution_count": 109,
   "metadata": {
    "ExecuteTime": {
     "end_time": "2020-03-22T18:11:51.222279Z",
     "start_time": "2020-03-22T17:21:21.072870Z"
    }
   },
   "outputs": [
    {
     "ename": "LookupError",
     "evalue": "\n**********************************************************************\n  Resource \u001b[93maveraged_perceptron_tagger\u001b[0m not found.\n  Please use the NLTK Downloader to obtain the resource:\n\n  \u001b[31m>>> import nltk\n  >>> nltk.download('averaged_perceptron_tagger')\n  \u001b[0m\n  Searched in:\n    - 'C:\\\\Users\\\\owzhe/nltk_data'\n    - 'C:\\\\nltk_data'\n    - 'D:\\\\nltk_data'\n    - 'E:\\\\nltk_data'\n    - 'C:\\\\Users\\\\owzhe\\\\Anaconda3\\\\nltk_data'\n    - 'C:\\\\Users\\\\owzhe\\\\Anaconda3\\\\share\\\\nltk_data'\n    - 'C:\\\\Users\\\\owzhe\\\\Anaconda3\\\\lib\\\\nltk_data'\n    - 'C:\\\\Users\\\\owzhe\\\\AppData\\\\Roaming\\\\nltk_data'\n**********************************************************************\n",
     "output_type": "error",
     "traceback": [
      "\u001b[1;31m---------------------------------------------------------------------------\u001b[0m",
      "\u001b[1;31mLookupError\u001b[0m                               Traceback (most recent call last)",
      "\u001b[1;32m<ipython-input-109-be6a92818b23>\u001b[0m in \u001b[0;36m<module>\u001b[1;34m()\u001b[0m\n\u001b[1;32m----> 1\u001b[1;33m \u001b[0msentences_df\u001b[0m\u001b[1;33m[\u001b[0m\u001b[1;34m'sentence_tags'\u001b[0m\u001b[1;33m]\u001b[0m \u001b[1;33m=\u001b[0m \u001b[0msentences_df\u001b[0m\u001b[1;33m[\u001b[0m\u001b[1;34m'sentence'\u001b[0m\u001b[1;33m]\u001b[0m\u001b[1;33m.\u001b[0m\u001b[0mapply\u001b[0m\u001b[1;33m(\u001b[0m\u001b[0mget_nouns\u001b[0m\u001b[1;33m)\u001b[0m\u001b[1;33m\u001b[0m\u001b[0m\n\u001b[0m",
      "\u001b[1;32m~\\Anaconda3\\lib\\site-packages\\pandas\\core\\series.py\u001b[0m in \u001b[0;36mapply\u001b[1;34m(self, func, convert_dtype, args, **kwds)\u001b[0m\n\u001b[0;32m   4043\u001b[0m             \u001b[1;32melse\u001b[0m\u001b[1;33m:\u001b[0m\u001b[1;33m\u001b[0m\u001b[0m\n\u001b[0;32m   4044\u001b[0m                 \u001b[0mvalues\u001b[0m \u001b[1;33m=\u001b[0m \u001b[0mself\u001b[0m\u001b[1;33m.\u001b[0m\u001b[0mastype\u001b[0m\u001b[1;33m(\u001b[0m\u001b[0mobject\u001b[0m\u001b[1;33m)\u001b[0m\u001b[1;33m.\u001b[0m\u001b[0mvalues\u001b[0m\u001b[1;33m\u001b[0m\u001b[0m\n\u001b[1;32m-> 4045\u001b[1;33m                 \u001b[0mmapped\u001b[0m \u001b[1;33m=\u001b[0m \u001b[0mlib\u001b[0m\u001b[1;33m.\u001b[0m\u001b[0mmap_infer\u001b[0m\u001b[1;33m(\u001b[0m\u001b[0mvalues\u001b[0m\u001b[1;33m,\u001b[0m \u001b[0mf\u001b[0m\u001b[1;33m,\u001b[0m \u001b[0mconvert\u001b[0m\u001b[1;33m=\u001b[0m\u001b[0mconvert_dtype\u001b[0m\u001b[1;33m)\u001b[0m\u001b[1;33m\u001b[0m\u001b[0m\n\u001b[0m\u001b[0;32m   4046\u001b[0m \u001b[1;33m\u001b[0m\u001b[0m\n\u001b[0;32m   4047\u001b[0m         \u001b[1;32mif\u001b[0m \u001b[0mlen\u001b[0m\u001b[1;33m(\u001b[0m\u001b[0mmapped\u001b[0m\u001b[1;33m)\u001b[0m \u001b[1;32mand\u001b[0m \u001b[0misinstance\u001b[0m\u001b[1;33m(\u001b[0m\u001b[0mmapped\u001b[0m\u001b[1;33m[\u001b[0m\u001b[1;36m0\u001b[0m\u001b[1;33m]\u001b[0m\u001b[1;33m,\u001b[0m \u001b[0mSeries\u001b[0m\u001b[1;33m)\u001b[0m\u001b[1;33m:\u001b[0m\u001b[1;33m\u001b[0m\u001b[0m\n",
      "\u001b[1;32mpandas/_libs/lib.pyx\u001b[0m in \u001b[0;36mpandas._libs.lib.map_infer\u001b[1;34m()\u001b[0m\n",
      "\u001b[1;32m<ipython-input-108-2c823867d65d>\u001b[0m in \u001b[0;36mget_nouns\u001b[1;34m(sentence_row)\u001b[0m\n\u001b[0;32m      8\u001b[0m \u001b[1;33m\u001b[0m\u001b[0m\n\u001b[0;32m      9\u001b[0m     \u001b[0mnoun_list\u001b[0m \u001b[1;33m=\u001b[0m \u001b[1;33m[\u001b[0m\u001b[1;33m]\u001b[0m\u001b[1;33m\u001b[0m\u001b[0m\n\u001b[1;32m---> 10\u001b[1;33m     \u001b[0msentence\u001b[0m \u001b[1;33m=\u001b[0m \u001b[0mnltk\u001b[0m\u001b[1;33m.\u001b[0m\u001b[0mpos_tag\u001b[0m\u001b[1;33m(\u001b[0m\u001b[0mtokenizer\u001b[0m\u001b[1;33m(\u001b[0m\u001b[0msentence_row\u001b[0m\u001b[1;33m.\u001b[0m\u001b[0mlower\u001b[0m\u001b[1;33m(\u001b[0m\u001b[1;33m)\u001b[0m\u001b[1;33m)\u001b[0m\u001b[1;33m)\u001b[0m\u001b[1;33m\u001b[0m\u001b[0m\n\u001b[0m\u001b[0;32m     11\u001b[0m     \u001b[1;32mfor\u001b[0m \u001b[0mw\u001b[0m\u001b[1;33m,\u001b[0m \u001b[0mpos\u001b[0m \u001b[1;32min\u001b[0m \u001b[0msentence\u001b[0m\u001b[1;33m:\u001b[0m\u001b[1;33m\u001b[0m\u001b[0m\n\u001b[0;32m     12\u001b[0m         \u001b[1;32mif\u001b[0m \u001b[0mpos\u001b[0m \u001b[1;33m==\u001b[0m \u001b[1;34m'NN'\u001b[0m \u001b[1;32mand\u001b[0m \u001b[0mw\u001b[0m \u001b[1;32mnot\u001b[0m \u001b[1;32min\u001b[0m \u001b[0mextra_stop_words\u001b[0m\u001b[1;33m:\u001b[0m\u001b[1;33m\u001b[0m\u001b[0m\n",
      "\u001b[1;32m~\\Anaconda3\\lib\\site-packages\\nltk\\tag\\__init__.py\u001b[0m in \u001b[0;36mpos_tag\u001b[1;34m(tokens, tagset, lang)\u001b[0m\n\u001b[0;32m    131\u001b[0m     \u001b[1;33m:\u001b[0m\u001b[0mrtype\u001b[0m\u001b[1;33m:\u001b[0m \u001b[0mlist\u001b[0m\u001b[1;33m(\u001b[0m\u001b[0mtuple\u001b[0m\u001b[1;33m(\u001b[0m\u001b[0mstr\u001b[0m\u001b[1;33m,\u001b[0m \u001b[0mstr\u001b[0m\u001b[1;33m)\u001b[0m\u001b[1;33m)\u001b[0m\u001b[1;33m\u001b[0m\u001b[0m\n\u001b[0;32m    132\u001b[0m     \"\"\"\n\u001b[1;32m--> 133\u001b[1;33m     \u001b[0mtagger\u001b[0m \u001b[1;33m=\u001b[0m \u001b[0m_get_tagger\u001b[0m\u001b[1;33m(\u001b[0m\u001b[0mlang\u001b[0m\u001b[1;33m)\u001b[0m\u001b[1;33m\u001b[0m\u001b[0m\n\u001b[0m\u001b[0;32m    134\u001b[0m     \u001b[1;32mreturn\u001b[0m \u001b[0m_pos_tag\u001b[0m\u001b[1;33m(\u001b[0m\u001b[0mtokens\u001b[0m\u001b[1;33m,\u001b[0m \u001b[0mtagset\u001b[0m\u001b[1;33m,\u001b[0m \u001b[0mtagger\u001b[0m\u001b[1;33m)\u001b[0m\u001b[1;33m\u001b[0m\u001b[0m\n\u001b[0;32m    135\u001b[0m \u001b[1;33m\u001b[0m\u001b[0m\n",
      "\u001b[1;32m~\\Anaconda3\\lib\\site-packages\\nltk\\tag\\__init__.py\u001b[0m in \u001b[0;36m_get_tagger\u001b[1;34m(lang)\u001b[0m\n\u001b[0;32m     95\u001b[0m         \u001b[0mtagger\u001b[0m\u001b[1;33m.\u001b[0m\u001b[0mload\u001b[0m\u001b[1;33m(\u001b[0m\u001b[0map_russian_model_loc\u001b[0m\u001b[1;33m)\u001b[0m\u001b[1;33m\u001b[0m\u001b[0m\n\u001b[0;32m     96\u001b[0m     \u001b[1;32melse\u001b[0m\u001b[1;33m:\u001b[0m\u001b[1;33m\u001b[0m\u001b[0m\n\u001b[1;32m---> 97\u001b[1;33m         \u001b[0mtagger\u001b[0m \u001b[1;33m=\u001b[0m \u001b[0mPerceptronTagger\u001b[0m\u001b[1;33m(\u001b[0m\u001b[1;33m)\u001b[0m\u001b[1;33m\u001b[0m\u001b[0m\n\u001b[0m\u001b[0;32m     98\u001b[0m     \u001b[1;32mreturn\u001b[0m \u001b[0mtagger\u001b[0m\u001b[1;33m\u001b[0m\u001b[0m\n\u001b[0;32m     99\u001b[0m \u001b[1;33m\u001b[0m\u001b[0m\n",
      "\u001b[1;32m~\\Anaconda3\\lib\\site-packages\\nltk\\tag\\perceptron.py\u001b[0m in \u001b[0;36m__init__\u001b[1;34m(self, load)\u001b[0m\n\u001b[0;32m    138\u001b[0m         \u001b[0mself\u001b[0m\u001b[1;33m.\u001b[0m\u001b[0mclasses\u001b[0m \u001b[1;33m=\u001b[0m \u001b[0mset\u001b[0m\u001b[1;33m(\u001b[0m\u001b[1;33m)\u001b[0m\u001b[1;33m\u001b[0m\u001b[0m\n\u001b[0;32m    139\u001b[0m         \u001b[1;32mif\u001b[0m \u001b[0mload\u001b[0m\u001b[1;33m:\u001b[0m\u001b[1;33m\u001b[0m\u001b[0m\n\u001b[1;32m--> 140\u001b[1;33m             \u001b[0mAP_MODEL_LOC\u001b[0m \u001b[1;33m=\u001b[0m \u001b[1;34m'file:'\u001b[0m\u001b[1;33m+\u001b[0m\u001b[0mstr\u001b[0m\u001b[1;33m(\u001b[0m\u001b[0mfind\u001b[0m\u001b[1;33m(\u001b[0m\u001b[1;34m'taggers/averaged_perceptron_tagger/'\u001b[0m\u001b[1;33m+\u001b[0m\u001b[0mPICKLE\u001b[0m\u001b[1;33m)\u001b[0m\u001b[1;33m)\u001b[0m\u001b[1;33m\u001b[0m\u001b[0m\n\u001b[0m\u001b[0;32m    141\u001b[0m             \u001b[0mself\u001b[0m\u001b[1;33m.\u001b[0m\u001b[0mload\u001b[0m\u001b[1;33m(\u001b[0m\u001b[0mAP_MODEL_LOC\u001b[0m\u001b[1;33m)\u001b[0m\u001b[1;33m\u001b[0m\u001b[0m\n\u001b[0;32m    142\u001b[0m \u001b[1;33m\u001b[0m\u001b[0m\n",
      "\u001b[1;32m~\\Anaconda3\\lib\\site-packages\\nltk\\data.py\u001b[0m in \u001b[0;36mfind\u001b[1;34m(resource_name, paths)\u001b[0m\n\u001b[0;32m    673\u001b[0m     \u001b[0msep\u001b[0m \u001b[1;33m=\u001b[0m \u001b[1;34m'*'\u001b[0m \u001b[1;33m*\u001b[0m \u001b[1;36m70\u001b[0m\u001b[1;33m\u001b[0m\u001b[0m\n\u001b[0;32m    674\u001b[0m     \u001b[0mresource_not_found\u001b[0m \u001b[1;33m=\u001b[0m \u001b[1;34m'\\n%s\\n%s\\n%s\\n'\u001b[0m \u001b[1;33m%\u001b[0m \u001b[1;33m(\u001b[0m\u001b[0msep\u001b[0m\u001b[1;33m,\u001b[0m \u001b[0mmsg\u001b[0m\u001b[1;33m,\u001b[0m \u001b[0msep\u001b[0m\u001b[1;33m)\u001b[0m\u001b[1;33m\u001b[0m\u001b[0m\n\u001b[1;32m--> 675\u001b[1;33m     \u001b[1;32mraise\u001b[0m \u001b[0mLookupError\u001b[0m\u001b[1;33m(\u001b[0m\u001b[0mresource_not_found\u001b[0m\u001b[1;33m)\u001b[0m\u001b[1;33m\u001b[0m\u001b[0m\n\u001b[0m\u001b[0;32m    676\u001b[0m \u001b[1;33m\u001b[0m\u001b[0m\n\u001b[0;32m    677\u001b[0m \u001b[1;33m\u001b[0m\u001b[0m\n",
      "\u001b[1;31mLookupError\u001b[0m: \n**********************************************************************\n  Resource \u001b[93maveraged_perceptron_tagger\u001b[0m not found.\n  Please use the NLTK Downloader to obtain the resource:\n\n  \u001b[31m>>> import nltk\n  >>> nltk.download('averaged_perceptron_tagger')\n  \u001b[0m\n  Searched in:\n    - 'C:\\\\Users\\\\owzhe/nltk_data'\n    - 'C:\\\\nltk_data'\n    - 'D:\\\\nltk_data'\n    - 'E:\\\\nltk_data'\n    - 'C:\\\\Users\\\\owzhe\\\\Anaconda3\\\\nltk_data'\n    - 'C:\\\\Users\\\\owzhe\\\\Anaconda3\\\\share\\\\nltk_data'\n    - 'C:\\\\Users\\\\owzhe\\\\Anaconda3\\\\lib\\\\nltk_data'\n    - 'C:\\\\Users\\\\owzhe\\\\AppData\\\\Roaming\\\\nltk_data'\n**********************************************************************\n"
     ]
    }
   ],
   "source": [
    "sentences_df['sentence_tags'] = sentences_df['sentence'].apply(get_nouns)"
   ]
  },
  {
   "cell_type": "code",
   "execution_count": null,
   "metadata": {
    "ExecuteTime": {
     "end_time": "2020-03-22T18:23:58.833917Z",
     "start_time": "2020-03-22T18:23:58.056172Z"
    }
   },
   "outputs": [],
   "source": [
    "sentences_df = sentences_df[sentences_df['sentence_tags'].str.len()>0]"
   ]
  },
  {
   "cell_type": "code",
   "execution_count": null,
   "metadata": {
    "ExecuteTime": {
     "end_time": "2020-03-22T18:24:00.344157Z",
     "start_time": "2020-03-22T18:24:00.327132Z"
    }
   },
   "outputs": [],
   "source": [
    "sentences_df.head()"
   ]
  },
  {
   "cell_type": "code",
   "execution_count": 92,
   "metadata": {
    "ExecuteTime": {
     "end_time": "2020-03-22T18:24:14.680361Z",
     "start_time": "2020-03-22T18:24:14.653748Z"
    }
   },
   "outputs": [],
   "source": [
    "sentence_tags = sentences_df['sentence_tags'].values.tolist()"
   ]
  },
  {
   "cell_type": "code",
   "execution_count": 93,
   "metadata": {
    "ExecuteTime": {
     "end_time": "2020-03-22T18:24:45.277531Z",
     "start_time": "2020-03-22T18:24:16.645371Z"
    }
   },
   "outputs": [],
   "source": [
    "import gensim\n",
    "\n",
    "# Using gensim to create a dictionary object of all the words in all extracts\n",
    "sentence_dict = gensim.corpora.Dictionary(sentence_tags)\n",
    "\n",
    "# Returning the word vector for each extract from the gensim dict of words\n",
    "sentence_vecs = [sentence_dict.doc2bow(words) for words in sentence_tags]"
   ]
  },
  {
   "cell_type": "code",
   "execution_count": 94,
   "metadata": {
    "ExecuteTime": {
     "end_time": "2020-03-22T19:11:46.720223Z",
     "start_time": "2020-03-22T18:25:02.212019Z"
    }
   },
   "outputs": [
    {
     "name": "stdout",
     "output_type": "stream",
     "text": [
      "Topic 3 Score: 0.14143671589629633\n",
      "Topic 4 Score: 0.11362460632141369\n",
      "Topic 5 Score: 0.13528563667161736\n",
      "Topic 6 Score: 0.1042395003948345\n",
      "Topic 7 Score: 0.12838869755050702\n",
      "Topic 8 Score: 0.13958075149471205\n",
      "Topic 9 Score: 0.16458823750478282\n"
     ]
    }
   ],
   "source": [
    "# Finding the optimal number of topics\n",
    "from gensim.models import CoherenceModel\n",
    "\n",
    "gensim_noun_models = []\n",
    "\n",
    "for num_topic in range(3, 10):\n",
    "    model_val = []\n",
    "    gensim_nouns = gensim.models.ldamodel.LdaModel(corpus=sentence_vecs, id2word=sentence_dict, num_topics=num_topic)\n",
    "    coh_model = CoherenceModel(model=gensim_nouns, texts=sentence_tags, dictionary=sentence_dict, coherence='c_v')\n",
    "    model_val.append(gensim_nouns)\n",
    "    model_val.append(coh_model.get_coherence())\n",
    "    model_val.append(num_topic)\n",
    "    gensim_noun_models.append(model_val)\n",
    "    print(\"Topic \" + str(num_topic) + \" Score: \" + str(coh_model.get_coherence()))"
   ]
  },
  {
   "cell_type": "code",
   "execution_count": 95,
   "metadata": {
    "ExecuteTime": {
     "end_time": "2020-03-22T19:56:09.286853Z",
     "start_time": "2020-03-22T19:56:09.142239Z"
    }
   },
   "outputs": [
    {
     "data": {
      "image/png": "[encoded data removed]",
      "text/plain": [
       "<Figure size 432x288 with 1 Axes>"
      ]
     },
     "metadata": {
      "needs_background": "light"
     },
     "output_type": "display_data"
    }
   ],
   "source": [
    "import matplotlib.pyplot as plt\n",
    "\n",
    "coh_val = [coh for model, coh, topic in gensim_noun_models]\n",
    "\n",
    "x = range(3, 10)\n",
    "plt.plot(x, coh_val)\n",
    "plt.xlabel(\"Num Topics\")\n",
    "plt.ylabel(\"Coherence score\")\n",
    "plt.legend((\"coherence_values\"), loc='best')\n",
    "plt.show()"
   ]
  },
  {
   "cell_type": "code",
   "execution_count": 96,
   "metadata": {
    "ExecuteTime": {
     "end_time": "2020-03-22T19:56:13.817340Z",
     "start_time": "2020-03-22T19:56:13.764449Z"
    },
    "scrolled": false
   },
   "outputs": [
    {
     "name": "stdout",
     "output_type": "stream",
     "text": [
      "Model #3 Coherence Score: 0.14143671589629633\n",
      "Topic 1: screen, price, time, product, year, size, month, brand, display, version\n",
      "Topic 2: battery, camera, quality, life, card, everything, problem, smartphone, sim, lot\n",
      "Topic 3: apps, money, day, service, thing, device, one, keyboard, charger, case\n",
      "----------------------------------------------------------------------------\n",
      "Model #4 Coherence Score: 0.11362460632141369\n",
      "Topic 1: card, apps, problem, smartphone, year, memory, service, mobile, device, internet\n",
      "Topic 2: battery, product, life, money, day, sim, size, thing, charger, charge\n",
      "Topic 3: screen, camera, time, quality, everything, work, call, keyboard, bit, display\n",
      "Topic 4: price, lot, cell, one, way, use, month, case, design, nothing\n",
      "----------------------------------------------------------------------------\n",
      "Model #5 Coherence Score: 0.13528563667161736\n",
      "Topic 1: time, smartphone, money, one, work, way, month, charger, brand, charge\n",
      "Topic 2: screen, quality, service, size, call, keyboard, case, item, week, son\n",
      "Topic 3: price, apps, year, lot, thing, purchase, bit, box, feature, s3\n",
      "Topic 4: battery, camera, life, card, day, sim, use, memory, cell, problem\n",
      "Topic 5: product, everything, mobile, device, internet, design, nothing, performance, text, anything\n",
      "----------------------------------------------------------------------------\n",
      "Model #6 Coherence Score: 0.1042395003948345\n",
      "Topic 1: apps, problem, mobile, case, nothing, model, item, text, condition, wife\n",
      "Topic 2: quality, everything, use, device, work, day, call, camera, bit, sound\n",
      "Topic 3: product, card, smartphone, money, size, memory, way, value, week, anything\n",
      "Topic 4: battery, life, service, internet, charger, brand, charge, purchase, apple, box\n",
      "Topic 5: price, time, year, cell, month, sim, performance, display, network, feature\n",
      "Topic 6: screen, camera, lot, thing, one, keyboard, design, system, s3, wifi\n",
      "----------------------------------------------------------------------------\n",
      "Model #7 Coherence Score: 0.12838869755050702\n",
      "Topic 1: product, card, apps, smartphone, memory, cell, week, user, storage, store\n",
      "Topic 2: money, thing, display, feature, wife, hand, order, experience, friend, end\n",
      "Topic 3: device, design, purchase, nothing, replacement, thank, s3, review, market, deal\n",
      "Topic 4: camera, quality, sim, service, mobile, use, brand, bit, music, network\n",
      "Topic 5: battery, time, life, problem, way, keyboard, charger, charge, performance, box\n",
      "Topic 6: screen, everything, case, sound, value, contract, wifi, reason, husband, ram\n",
      "Topic 7: price, day, year, lot, size, one, work, internet, call, month\n",
      "----------------------------------------------------------------------------\n",
      "Model #8 Coherence Score: 0.13958075149471205\n",
      "Topic 1: way, design, performance, thank, button, wifi, reason, power, backup, experience\n",
      "Topic 2: cell, mobile, keyboard, purchase, network, model, text, speaker, store, sony\n",
      "Topic 3: screen, problem, lot, size, device, day, internet, touch, replacement, pocket\n",
      "Topic 4: use, service, apple, music, item, week, feature, wife, anyone, version\n",
      "Topic 5: apps, smartphone, month, charger, case, nothing, box, something, anything, son\n",
      "Topic 6: everything, year, call, display, software, s3, user, home, deal, couple\n",
      "Topic 7: camera, card, money, memory, thing, one, work, brand, charge, bit\n",
      "Topic 8: battery, price, product, quality, time, life, sim, sound, value, condition\n",
      "----------------------------------------------------------------------------\n",
      "Model #9 Coherence Score: 0.16458823750478282\n",
      "Topic 1: everything, lot, cell, charge, model, processor, user, talk, ram, couple\n",
      "Topic 2: screen, time, smartphone, thing, day, keyboard, week, issue, software, thank\n",
      "Topic 3: problem, device, work, design, nothing, text, version, system, speaker, wifi\n",
      "Topic 4: camera, service, month, size, value, wife, anyone, touch, son, button\n",
      "Topic 5: battery, quality, life, money, sim, use, charger, display, network, sound\n",
      "Topic 6: card, year, memory, one, bit, apple, performance, case, feature, storage\n",
      "Topic 7: price, mobile, box, replacement, experience, buy, water, today, family, mother\n",
      "Topic 8: apps, internet, call, music, anything, condition, plan, pocket, contract, daughter\n",
      "Topic 9: product, way, brand, purchase, review, person, side, description, signal, usage\n",
      "----------------------------------------------------------------------------\n"
     ]
    }
   ],
   "source": [
    "# Mallet LDA Model - topics\n",
    "for model in gensim_noun_models:\n",
    "    print(\"Model #{} Coherence Score: {}\".format(model[2], model[1]))\n",
    "    topics = model[0].show_topics(formatted=False)\n",
    "    for topic, word_list in topics:\n",
    "        topic_num = topic + 1\n",
    "        result_list = []\n",
    "        for word, word_prob in word_list:\n",
    "            result_list.append(word)\n",
    "        print(\"Topic {}: {}\".format(topic_num, ', '.join(result_list)))\n",
    "    print('----------------------------------------------------------------------------')"
   ]
  },
  {
   "cell_type": "code",
   "execution_count": 97,
   "metadata": {
    "ExecuteTime": {
     "end_time": "2020-03-22T19:59:38.924293Z",
     "start_time": "2020-03-22T19:59:38.818663Z"
    }
   },
   "outputs": [],
   "source": [
    "import pickle \n",
    "\n",
    "###@@@@@@@@@ THIS IS TO ***SAVE*** THE MODELS FROM ABOVE @@@@@@@@@###\n",
    "pickle.dump(gensim_noun_models, open(\"gensim_noun_models.pkl\", \"wb\"))\n",
    "\n",
    "###@@@@@@@@@ THIS IS TO ***OPEN*** THE MODELS FROM THE STORED PICKLE FILE @@@@@@@@@###\n",
    "### CHECKPOINT - can just load the pickle file and start running your analysis\n",
    "# gensim_models = pickle.load(open(\"gensim_noun_models.pkl\", \"rb\"))"
   ]
  },
  {
   "cell_type": "code",
   "execution_count": null,
   "metadata": {},
   "outputs": [],
   "source": []
  },
  {
   "cell_type": "markdown",
   "metadata": {},
   "source": [
    "# #2 LDA Mallet Model - Nouns Only"
   ]
  },
  {
   "cell_type": "code",
   "execution_count": 101,
   "metadata": {
    "ExecuteTime": {
     "end_time": "2020-03-22T22:05:24.741006Z",
     "start_time": "2020-03-22T21:43:33.389087Z"
    }
   },
   "outputs": [
    {
     "name": "stdout",
     "output_type": "stream",
     "text": [
      "Topic 3 Score: 0.12094035564401105\n",
      "Topic 4 Score: 0.14148215798640923\n",
      "Topic 5 Score: 0.21069096557112252\n",
      "Topic 6 Score: 0.20467345024828484\n",
      "Topic 7 Score: 0.24123248192745086\n",
      "Topic 8 Score: 0.25556832705485266\n",
      "Topic 9 Score: 0.30579779041015215\n"
     ]
    }
   ],
   "source": [
    "import gensim\n",
    "import os \n",
    "\n",
    "os.environ.update({'MALLET_HOME':r'D:\\\\Softwares\\\\mallet-2.0.8'})\n",
    "mallet_path = r'D:\\\\Softwares\\\\mallet-2.0.8\\\\bin\\\\mallet'\n",
    "\n",
    "mallet_noun_models = []\n",
    "\n",
    "for num_topic in range(3, 10):\n",
    "    model_val = []\n",
    "    mallet_nouns_only = gensim.models.wrappers.LdaMallet(mallet_path, corpus=sentence_vecs, id2word=sentence_dict, num_topics=num_topic)\n",
    "    mallet_coh_model = CoherenceModel(model=mallet_nouns_only, texts=sentence_tags, dictionary=sentence_dict, coherence='c_v')\n",
    "    model_val.append(mallet_nouns_only)\n",
    "    model_val.append(mallet_coh_model.get_coherence())\n",
    "    model_val.append(num_topic)\n",
    "    mallet_noun_models.append(model_val)\n",
    "    print(\"Topic \" + str(num_topic) + \" Score: \" + str(mallet_coh_model.get_coherence()))"
   ]
  },
  {
   "cell_type": "code",
   "execution_count": 102,
   "metadata": {
    "ExecuteTime": {
     "end_time": "2020-03-23T03:59:14.432451Z",
     "start_time": "2020-03-23T03:59:14.285797Z"
    }
   },
   "outputs": [
    {
     "data": {
      "image/png": "[encoded data removed]",
      "text/plain": [
       "<Figure size 432x288 with 1 Axes>"
      ]
     },
     "metadata": {
      "needs_background": "light"
     },
     "output_type": "display_data"
    }
   ],
   "source": [
    "import matplotlib.pyplot as plt\n",
    "\n",
    "mallet_coh_val = [coh for model, coh, topic in mallet_noun_models]\n",
    "\n",
    "x = range(3, 10)\n",
    "plt.plot(x, mallet_coh_val)\n",
    "plt.xlabel(\"Num Topics\")\n",
    "plt.ylabel(\"Coherence score\")\n",
    "plt.legend((\"coherence_values\"), loc='best')\n",
    "plt.show()"
   ]
  },
  {
   "cell_type": "code",
   "execution_count": 103,
   "metadata": {
    "ExecuteTime": {
     "end_time": "2020-03-23T03:59:17.065877Z",
     "start_time": "2020-03-23T03:59:17.030964Z"
    }
   },
   "outputs": [
    {
     "name": "stdout",
     "output_type": "stream",
     "text": [
      "Model #3 Coherence Score: 0.12094035564401105\n",
      "Topic 1: battery, time, life, day, device, apps, lot, issue, bit, backup\n",
      "Topic 2: camera, price, product, quality, problem, mobile, money, performance, display, smartphone\n",
      "Topic 3: screen, card, size, sim, memory, month, year, note, edge, service\n",
      "----------------------------------------------------------------------------\n",
      "Model #4 Coherence Score: 0.14148215798640923\n",
      "Topic 1: product, problem, card, sim, memory, thing, issue, month, charger, case\n",
      "Topic 2: time, apps, lot, edge, service, apple, work, cell, call, version\n",
      "Topic 3: price, screen, mobile, money, device, size, smartphone, product, note, range\n",
      "Topic 4: battery, camera, quality, life, performance, day, display, sound, screen, backup\n",
      "----------------------------------------------------------------------------\n",
      "Model #5 Coherence Score: 0.21069096557112252\n",
      "Topic 1: screen, money, size, design, bit, case, time, thing, hand, touch\n",
      "Topic 2: device, smartphone, year, time, note, edge, apple, experience, review, month\n",
      "Topic 3: battery, camera, quality, life, performance, day, display, sound, backup, speed\n",
      "Topic 4: card, apps, sim, memory, lot, time, work, call, version, network\n",
      "Topic 5: price, product, problem, mobile, issue, service, charger, range, software, cell\n",
      "----------------------------------------------------------------------------\n",
      "Model #6 Coherence Score: 0.20467345024828484\n",
      "Topic 1: price, product, smartphone, range, mobile, market, budget, wife, brand, condition\n",
      "Topic 2: battery, camera, quality, life, day, performance, sound, backup, call, speaker\n",
      "Topic 3: screen, camera, display, size, design, note, edge, ram, speed, processor\n",
      "Topic 4: service, charger, work, case, cell, box, network, internet, power, time\n",
      "Topic 5: card, apps, device, lot, sim, memory, thing, feature, time, version\n",
      "Topic 6: problem, money, time, mobile, issue, month, year, apple, software, bit\n",
      "----------------------------------------------------------------------------\n",
      "Model #7 Coherence Score: 0.24123248192745086\n",
      "Topic 1: battery, camera, life, day, performance, backup, charge, front, usage, water\n",
      "Topic 2: device, smartphone, year, experience, apple, user, moto, market, wife, review\n",
      "Topic 3: thing, charger, case, cell, brand, box, bit, model, sony, week\n",
      "Topic 4: price, product, mobile, money, service, range, music, buy, keyboard, deal\n",
      "Topic 5: card, apps, lot, sim, memory, note, edge, ram, processor, version\n",
      "Topic 6: screen, quality, camera, display, size, design, sound, call, hand, speed\n",
      "Topic 7: time, problem, issue, month, software, work, network, internet, app, heating\n",
      "----------------------------------------------------------------------------\n",
      "Model #8 Coherence Score: 0.25556832705485266\n",
      "Topic 1: card, apps, lot, sim, memory, thing, storage, internet, app, music\n",
      "Topic 2: device, size, smartphone, design, note, experience, hand, budget, market, user\n",
      "Topic 3: screen, feature, call, bit, speaker, touch, power, wife, button, thing\n",
      "Topic 4: service, charger, work, cell, version, box, model, network, system, item\n",
      "Topic 5: camera, quality, display, performance, sound, ram, speed, processor, video, picture\n",
      "Topic 6: time, problem, mobile, product, issue, month, review, purchase, week, heating\n",
      "Topic 7: battery, life, day, edge, backup, s7, charge, s6, s5, moto\n",
      "Topic 8: price, product, money, year, apple, case, range, sony, replacement, buy\n",
      "----------------------------------------------------------------------------\n",
      "Model #9 Coherence Score: 0.30579779041015215\n",
      "Topic 1: screen, size, charger, case, bit, box, hand, touch, water, glass\n",
      "Topic 2: price, problem, mobile, issue, range, month, heating, deal, color, point\n",
      "Topic 3: year, note, edge, version, model, s7, s6, network, s5, s4\n",
      "Topic 4: battery, life, performance, day, backup, charge, design, power, usage, week\n",
      "Topic 5: device, smartphone, apple, experience, design, user, market, sony, budget, system\n",
      "Topic 6: card, apps, lot, sim, memory, thing, feature, storage, music, update\n",
      "Topic 7: product, money, time, service, work, purchase, brand, month, item, review\n",
      "Topic 8: camera, quality, display, sound, ram, processor, speed, video, picture, front\n",
      "Topic 9: time, call, moto, internet, app, speaker, button, google, wifi, volume\n",
      "----------------------------------------------------------------------------\n"
     ]
    }
   ],
   "source": [
    "# Mallet LDA Model - topics\n",
    "for model in mallet_noun_models:\n",
    "    print(\"Model #{} Coherence Score: {}\".format(model[2], model[1]))\n",
    "    topics = model[0].show_topics(formatted=False)\n",
    "    for topic, word_list in topics:\n",
    "        topic_num = topic + 1\n",
    "        result_list = []\n",
    "        for word, word_prob in word_list:\n",
    "            result_list.append(word)\n",
    "        print(\"Topic {}: {}\".format(topic_num, ', '.join(result_list)))\n",
    "    print('----------------------------------------------------------------------------')"
   ]
  },
  {
   "cell_type": "code",
   "execution_count": 104,
   "metadata": {
    "ExecuteTime": {
     "end_time": "2020-03-23T06:55:33.175050Z",
     "start_time": "2020-03-23T06:55:33.088279Z"
    }
   },
   "outputs": [],
   "source": [
    "import pickle \n",
    "\n",
    "###@@@@@@@@@ THIS IS TO ***SAVE*** THE MODELS FROM ABOVE @@@@@@@@@###\n",
    "pickle.dump(mallet_noun_models, open(\"mallet_noun_models.pkl\", \"wb\"))\n",
    "\n",
    "###@@@@@@@@@ THIS IS TO ***OPEN*** THE MODELS FROM THE STORED PICKLE FILE @@@@@@@@@###\n",
    "### CHECKPOINT - can just load the pickle file and start running your analysis\n",
    "# gensim_models = pickle.load(open(\"mallet_noun_models.pkl\", \"rb\"))"
   ]
  },
  {
   "cell_type": "markdown",
   "metadata": {},
   "source": [
    "# #3 LDA Gensim Model - Nouns and Adjectives"
   ]
  },
  {
   "cell_type": "code",
   "execution_count": 105,
   "metadata": {
    "ExecuteTime": {
     "end_time": "2020-03-23T06:57:06.628841Z",
     "start_time": "2020-03-23T06:57:04.066460Z"
    }
   },
   "outputs": [
    {
     "data": {
      "text/html": [
       "<div>\n",
       "<style scoped>\n",
       "    .dataframe tbody tr th:only-of-type {\n",
       "        vertical-align: middle;\n",
       "    }\n",
       "\n",
       "    .dataframe tbody tr th {\n",
       "        vertical-align: top;\n",
       "    }\n",
       "\n",
       "    .dataframe thead th {\n",
       "        text-align: right;\n",
       "    }\n",
       "</style>\n",
       "<table border=\"1\" class=\"dataframe\">\n",
       "  <thead>\n",
       "    <tr style=\"text-align: right;\">\n",
       "      <th></th>\n",
       "      <th>sentence</th>\n",
       "      <th>index</th>\n",
       "    </tr>\n",
       "  </thead>\n",
       "  <tbody>\n",
       "    <tr>\n",
       "      <th>0</th>\n",
       "      <td>As a diehard Samsung fan who has had every Sam...</td>\n",
       "      <td>0</td>\n",
       "    </tr>\n",
       "    <tr>\n",
       "      <th>1</th>\n",
       "      <td>I am amazed at some of the reviews and think p...</td>\n",
       "      <td>0</td>\n",
       "    </tr>\n",
       "    <tr>\n",
       "      <th>2</th>\n",
       "      <td>The battery life is amazing</td>\n",
       "      <td>0</td>\n",
       "    </tr>\n",
       "    <tr>\n",
       "      <th>3</th>\n",
       "      <td>Love the phone</td>\n",
       "      <td>1</td>\n",
       "    </tr>\n",
       "    <tr>\n",
       "      <th>4</th>\n",
       "      <td>the phone is sleek and smooth and beautiful I ...</td>\n",
       "      <td>1</td>\n",
       "    </tr>\n",
       "  </tbody>\n",
       "</table>\n",
       "</div>"
      ],
      "text/plain": [
       "                                            sentence  index\n",
       "0  As a diehard Samsung fan who has had every Sam...      0\n",
       "1  I am amazed at some of the reviews and think p...      0\n",
       "2                        The battery life is amazing      0\n",
       "3                                     Love the phone      1\n",
       "4  the phone is sleek and smooth and beautiful I ...      1"
      ]
     },
     "execution_count": 105,
     "metadata": {},
     "output_type": "execute_result"
    }
   ],
   "source": [
    "sentences_df = pd.DataFrame()\n",
    "sentences_df['sentence'] = sentence_list\n",
    "sentences_df['index'] = index_list\n",
    "sentences_df.dropna(inplace=True)\n",
    "\n",
    "sentences_df.head()"
   ]
  },
  {
   "cell_type": "code",
   "execution_count": 115,
   "metadata": {
    "ExecuteTime": {
     "end_time": "2020-03-23T08:33:59.469143Z",
     "start_time": "2020-03-23T08:33:59.454183Z"
    }
   },
   "outputs": [],
   "source": [
    "import nltk\n",
    "\n",
    "stop_list = nltk.corpus.stopwords.words('english')\n",
    "tokenizer = nltk.tokenize.word_tokenize\n",
    "extra_stop_words = ['phone', 'iphone', 'nokia', 'samsung', 'htc', 'lg', 'galaxy', 'ca', 'motorola', 'android', 'verizon', 'i', '%', 't', 's']\n",
    "extra_stop_words += ['s4', 's5', 's6', 's7', 's3', 's8', 's9', 'm9', 'moto']\n",
    "\n",
    "def get_nouns_adj(sentence_row):\n",
    "\n",
    "    noun_list = []\n",
    "    sentence = nltk.pos_tag(tokenizer(sentence_row.lower()))\n",
    "    for w, pos in sentence: \n",
    "        if pos == 'NN' or pos == 'JJ':\n",
    "            if w not in extra_stop_words:\n",
    "                noun_list.append(w)\n",
    "    \n",
    "    return noun_list\n"
   ]
  },
  {
   "cell_type": "code",
   "execution_count": 116,
   "metadata": {
    "ExecuteTime": {
     "end_time": "2020-03-23T09:21:08.051765Z",
     "start_time": "2020-03-23T08:34:02.047171Z"
    }
   },
   "outputs": [],
   "source": [
    "sentences_df['sentence_tags'] = sentences_df['sentence'].apply(get_nouns_adj)"
   ]
  },
  {
   "cell_type": "code",
   "execution_count": 117,
   "metadata": {
    "ExecuteTime": {
     "end_time": "2020-03-23T09:24:21.207880Z",
     "start_time": "2020-03-23T09:24:21.184907Z"
    }
   },
   "outputs": [
    {
     "data": {
      "text/html": [
       "<div>\n",
       "<style scoped>\n",
       "    .dataframe tbody tr th:only-of-type {\n",
       "        vertical-align: middle;\n",
       "    }\n",
       "\n",
       "    .dataframe tbody tr th {\n",
       "        vertical-align: top;\n",
       "    }\n",
       "\n",
       "    .dataframe thead th {\n",
       "        text-align: right;\n",
       "    }\n",
       "</style>\n",
       "<table border=\"1\" class=\"dataframe\">\n",
       "  <thead>\n",
       "    <tr style=\"text-align: right;\">\n",
       "      <th></th>\n",
       "      <th>sentence</th>\n",
       "      <th>index</th>\n",
       "      <th>sentence_tags</th>\n",
       "    </tr>\n",
       "  </thead>\n",
       "  <tbody>\n",
       "    <tr>\n",
       "      <th>0</th>\n",
       "      <td>As a diehard Samsung fan who has had every Sam...</td>\n",
       "      <td>0</td>\n",
       "      <td>[diehard, fan, series, favorite, upgrade]</td>\n",
       "    </tr>\n",
       "    <tr>\n",
       "      <th>1</th>\n",
       "      <td>I am amazed at some of the reviews and think p...</td>\n",
       "      <td>0</td>\n",
       "      <td>[defective, device]</td>\n",
       "    </tr>\n",
       "    <tr>\n",
       "      <th>2</th>\n",
       "      <td>The battery life is amazing</td>\n",
       "      <td>0</td>\n",
       "      <td>[battery, life]</td>\n",
       "    </tr>\n",
       "    <tr>\n",
       "      <th>4</th>\n",
       "      <td>the phone is sleek and smooth and beautiful I ...</td>\n",
       "      <td>1</td>\n",
       "      <td>[sleek, smooth, beautiful]</td>\n",
       "    </tr>\n",
       "    <tr>\n",
       "      <th>5</th>\n",
       "      <td>Adequate feel</td>\n",
       "      <td>2</td>\n",
       "      <td>[adequate, feel]</td>\n",
       "    </tr>\n",
       "  </tbody>\n",
       "</table>\n",
       "</div>"
      ],
      "text/plain": [
       "                                            sentence  index  \\\n",
       "0  As a diehard Samsung fan who has had every Sam...      0   \n",
       "1  I am amazed at some of the reviews and think p...      0   \n",
       "2                        The battery life is amazing      0   \n",
       "4  the phone is sleek and smooth and beautiful I ...      1   \n",
       "5                                      Adequate feel      2   \n",
       "\n",
       "                               sentence_tags  \n",
       "0  [diehard, fan, series, favorite, upgrade]  \n",
       "1                        [defective, device]  \n",
       "2                            [battery, life]  \n",
       "4                 [sleek, smooth, beautiful]  \n",
       "5                           [adequate, feel]  "
      ]
     },
     "execution_count": 117,
     "metadata": {},
     "output_type": "execute_result"
    }
   ],
   "source": [
    "sentences_df.head()"
   ]
  },
  {
   "cell_type": "code",
   "execution_count": 119,
   "metadata": {
    "ExecuteTime": {
     "end_time": "2020-03-23T09:24:52.984494Z",
     "start_time": "2020-03-23T09:24:52.302443Z"
    }
   },
   "outputs": [
    {
     "data": {
      "text/html": [
       "<div>\n",
       "<style scoped>\n",
       "    .dataframe tbody tr th:only-of-type {\n",
       "        vertical-align: middle;\n",
       "    }\n",
       "\n",
       "    .dataframe tbody tr th {\n",
       "        vertical-align: top;\n",
       "    }\n",
       "\n",
       "    .dataframe thead th {\n",
       "        text-align: right;\n",
       "    }\n",
       "</style>\n",
       "<table border=\"1\" class=\"dataframe\">\n",
       "  <thead>\n",
       "    <tr style=\"text-align: right;\">\n",
       "      <th></th>\n",
       "      <th>sentence</th>\n",
       "      <th>index</th>\n",
       "      <th>sentence_tags</th>\n",
       "    </tr>\n",
       "  </thead>\n",
       "  <tbody>\n",
       "    <tr>\n",
       "      <th>0</th>\n",
       "      <td>As a diehard Samsung fan who has had every Sam...</td>\n",
       "      <td>0</td>\n",
       "      <td>[diehard, fan, series, favorite, upgrade]</td>\n",
       "    </tr>\n",
       "    <tr>\n",
       "      <th>1</th>\n",
       "      <td>I am amazed at some of the reviews and think p...</td>\n",
       "      <td>0</td>\n",
       "      <td>[defective, device]</td>\n",
       "    </tr>\n",
       "    <tr>\n",
       "      <th>2</th>\n",
       "      <td>The battery life is amazing</td>\n",
       "      <td>0</td>\n",
       "      <td>[battery, life]</td>\n",
       "    </tr>\n",
       "    <tr>\n",
       "      <th>4</th>\n",
       "      <td>the phone is sleek and smooth and beautiful I ...</td>\n",
       "      <td>1</td>\n",
       "      <td>[sleek, smooth, beautiful]</td>\n",
       "    </tr>\n",
       "    <tr>\n",
       "      <th>5</th>\n",
       "      <td>Adequate feel</td>\n",
       "      <td>2</td>\n",
       "      <td>[adequate, feel]</td>\n",
       "    </tr>\n",
       "  </tbody>\n",
       "</table>\n",
       "</div>"
      ],
      "text/plain": [
       "                                            sentence  index  \\\n",
       "0  As a diehard Samsung fan who has had every Sam...      0   \n",
       "1  I am amazed at some of the reviews and think p...      0   \n",
       "2                        The battery life is amazing      0   \n",
       "4  the phone is sleek and smooth and beautiful I ...      1   \n",
       "5                                      Adequate feel      2   \n",
       "\n",
       "                               sentence_tags  \n",
       "0  [diehard, fan, series, favorite, upgrade]  \n",
       "1                        [defective, device]  \n",
       "2                            [battery, life]  \n",
       "4                 [sleek, smooth, beautiful]  \n",
       "5                           [adequate, feel]  "
      ]
     },
     "execution_count": 119,
     "metadata": {},
     "output_type": "execute_result"
    }
   ],
   "source": [
    "sentences_df = sentences_df[sentences_df['sentence_tags'].str.len()>0]\n",
    "sentences_df.head()"
   ]
  },
  {
   "cell_type": "code",
   "execution_count": 120,
   "metadata": {
    "ExecuteTime": {
     "end_time": "2020-03-23T09:24:57.859737Z",
     "start_time": "2020-03-23T09:24:57.830813Z"
    }
   },
   "outputs": [],
   "source": [
    "sentence_tags = sentences_df['sentence_tags'].values.tolist()"
   ]
  },
  {
   "cell_type": "code",
   "execution_count": 121,
   "metadata": {
    "ExecuteTime": {
     "end_time": "2020-03-23T09:25:36.325269Z",
     "start_time": "2020-03-23T09:24:59.399070Z"
    }
   },
   "outputs": [],
   "source": [
    "import gensim\n",
    "\n",
    "# Using gensim to create a dictionary object of all the words in all extracts\n",
    "sentence_dict = gensim.corpora.Dictionary(sentence_tags)\n",
    "\n",
    "# Returning the word vector for each extract from the gensim dict of words\n",
    "sentence_vecs = [sentence_dict.doc2bow(words) for words in sentence_tags]"
   ]
  },
  {
   "cell_type": "code",
   "execution_count": 122,
   "metadata": {
    "ExecuteTime": {
     "end_time": "2020-03-23T10:35:03.005128Z",
     "start_time": "2020-03-23T09:25:49.964566Z"
    },
    "scrolled": true
   },
   "outputs": [
    {
     "name": "stdout",
     "output_type": "stream",
     "text": [
      "Topic 3 Score: 0.12090471406217408\n",
      "Topic 4 Score: 0.12379088351916395\n",
      "Topic 5 Score: 0.17597729267955997\n",
      "Topic 6 Score: 0.16647013832319194\n",
      "Topic 7 Score: 0.18916878754844113\n",
      "Topic 8 Score: 0.19107144666320994\n",
      "Topic 9 Score: 0.1849763089123704\n"
     ]
    }
   ],
   "source": [
    "# Finding the optimal number of topics\n",
    "from gensim.models import CoherenceModel\n",
    "\n",
    "gensim_noun_adj_models = []\n",
    "coh_val = []\n",
    "model_topics = []\n",
    "\n",
    "for num_topic in range(3, 10):\n",
    "    model_val = []\n",
    "    gensim_nouns_adj = gensim.models.ldamodel.LdaModel(corpus=sentence_vecs, id2word=sentence_dict, num_topics=num_topic)\n",
    "    coh_model = CoherenceModel(model=gensim_nouns_adj, texts=sentence_tags, dictionary=sentence_dict, coherence='c_v')\n",
    "    model_val.append(gensim_nouns_adj)\n",
    "    model_val.append(coh_model.get_coherence())\n",
    "    model_val.append(num_topic)\n",
    "    gensim_noun_adj_models.append(model_val)\n",
    "    print(\"Topic \" + str(num_topic) + \" Score: \" + str(coh_model.get_coherence()))"
   ]
  },
  {
   "cell_type": "code",
   "execution_count": 130,
   "metadata": {
    "ExecuteTime": {
     "end_time": "2020-03-23T10:39:35.359750Z",
     "start_time": "2020-03-23T10:39:34.962808Z"
    }
   },
   "outputs": [
    {
     "data": {
      "image/png": "[encoded data removed]",
      "text/plain": [
       "<Figure size 432x288 with 1 Axes>"
      ]
     },
     "metadata": {
      "needs_background": "light"
     },
     "output_type": "display_data"
    }
   ],
   "source": [
    "import matplotlib.pyplot as plt\n",
    "\n",
    "gensim_coh_val = [coh for model, coh, topic in gensim_noun_adj_models]\n",
    "\n",
    "x = range(3, 10)\n",
    "plt.plot(x, gensim_coh_val)\n",
    "plt.xlabel(\"Num Topics\")\n",
    "plt.ylabel(\"Coherence score\")\n",
    "plt.legend((\"coherence_values\"), loc='best')\n",
    "plt.show()"
   ]
  },
  {
   "cell_type": "code",
   "execution_count": 131,
   "metadata": {
    "ExecuteTime": {
     "end_time": "2020-03-23T10:39:47.051725Z",
     "start_time": "2020-03-23T10:39:46.985931Z"
    }
   },
   "outputs": [
    {
     "name": "stdout",
     "output_type": "stream",
     "text": [
      "Model #3 Coherence Score: 0.12090471406217408\n",
      "Topic 1: good, screen, easy, sim, card, old, little, money, year, bad\n",
      "Topic 2: new, time, other, first, mobile, product, happy, day, few, basic\n",
      "Topic 3: great, battery, price, camera, quality, nice, life, excellent, everything, smartphone\n",
      "----------------------------------------------------------------------------\n",
      "Model #4 Coherence Score: 0.12379088351916395\n",
      "Topic 1: good, product, other, money, bad, thing, little, internet, work, charger\n",
      "Topic 2: great, screen, quality, nice, camera, mobile, everything, smartphone, problem, smart\n",
      "Topic 3: price, new, easy, first, excellent, old, year, many, lot, cell\n",
      "Topic 4: battery, time, life, sim, card, happy, day, apps, few, memory\n",
      "----------------------------------------------------------------------------\n",
      "Model #5 Coherence Score: 0.17597729267955997\n",
      "Topic 1: good, great, price, product, nice, service, last, simple, call, month\n",
      "Topic 2: battery, good, camera, easy, quality, life, great, excellent, day, basic\n",
      "Topic 3: time, first, smartphone, problem, happy, smart, cell, apps, unlocked, work\n",
      "Topic 4: new, sim, mobile, old, everything, other, many, much, slow, one\n",
      "Topic 5: screen, card, money, lot, use, memory, small, size, touch, little\n",
      "----------------------------------------------------------------------------\n",
      "Model #6 Coherence Score: 0.16647013832319194\n",
      "Topic 1: great, screen, easy, everything, perfect, touch, size, simple, fine, month\n",
      "Topic 2: good, camera, product, nice, quality, bad, basic, thing, one, big\n",
      "Topic 3: battery, life, time, smartphone, day, memory, excellent, last, slow, many\n",
      "Topic 4: other, mobile, problem, money, few, service, device, unlocked, work, keyboard\n",
      "Topic 5: new, first, card, old, sim, smart, year, awesome, lot, call\n",
      "Topic 6: price, happy, use, cell, much, same, new, internet, cheap, low\n",
      "----------------------------------------------------------------------------\n",
      "Model #7 Coherence Score: 0.18916878754844113\n",
      "Topic 1: first, mobile, many, one, fine, call, case, purchase, screen, week\n",
      "Topic 2: apps, old, time, problem, smart, use, little, work, charger, able\n",
      "Topic 3: great, camera, everything, happy, bad, perfect, service, awesome, item, product\n",
      "Topic 4: screen, price, nice, sim, card, memory, touch, small, size, big\n",
      "Topic 5: easy, quality, smartphone, few, simple, device, slow, sound, cheap, design\n",
      "Topic 6: new, other, money, cell, unlocked, way, month, text, brand, apple\n",
      "Topic 7: good, battery, product, life, excellent, day, year, lot, basic, much\n",
      "----------------------------------------------------------------------------\n",
      "Model #8 Coherence Score: 0.19107144666320994\n",
      "Topic 1: good, mobile, screen, many, perfect, cell, touch, size, charger, awesome\n",
      "Topic 2: price, easy, smartphone, year, one, fine, call, keyboard, case, able\n",
      "Topic 3: great, product, everything, much, few, overall, week, daughter, internal, husband\n",
      "Topic 4: camera, quality, screen, nice, fast, light, box, display, clear, processor\n",
      "Topic 5: bad, lot, use, small, internet, work, day, cheap, apple, music\n",
      "Topic 6: battery, time, life, sim, card, old, problem, memory, last, only\n",
      "Topic 7: other, first, happy, smart, excellent, basic, service, simple, unlocked, slow\n",
      "Topic 8: new, apps, little, money, big, same, sound, low, brand, bit\n",
      "----------------------------------------------------------------------------\n",
      "Model #9 Coherence Score: 0.1849763089123704\n",
      "Topic 1: new, apps, old, everything, many, use, basic, last, slow, month\n",
      "Topic 2: great, good, battery, life, nice, excellent, money, day, smart, cell\n",
      "Topic 3: price, product, good, mobile, little, perfect, much, device, internet, fine\n",
      "Topic 4: camera, quality, service, simple, awesome, way, case, able, apple, sound\n",
      "Topic 5: bad, only, thing, work, memory, purchase, brand, overall, anyone, replacement\n",
      "Topic 6: screen, few, touch, call, cheap, user, clear, wifi, amazing, system\n",
      "Topic 7: sim, card, smartphone, problem, happy, lot, year, text, bit, item\n",
      "Topic 8: easy, other, first, same, one, keyboard, nothing, music, something, value\n",
      "Topic 9: time, screen, small, size, big, processor, dual, high, pocket, available\n",
      "----------------------------------------------------------------------------\n"
     ]
    }
   ],
   "source": [
    "# Mallet LDA Model - topics\n",
    "for model in gensim_noun_adj_models:\n",
    "    print(\"Model #{} Coherence Score: {}\".format(model[2], model[1]))\n",
    "    topics = model[0].show_topics(formatted=False)\n",
    "    for topic, word_list in topics:\n",
    "        topic_num = topic + 1\n",
    "        result_list = []\n",
    "        for word, word_prob in word_list:\n",
    "            result_list.append(word)\n",
    "        print(\"Topic {}: {}\".format(topic_num, ', '.join(result_list)))\n",
    "    print('----------------------------------------------------------------------------')"
   ]
  },
  {
   "cell_type": "code",
   "execution_count": 132,
   "metadata": {
    "ExecuteTime": {
     "end_time": "2020-03-23T11:56:32.974161Z",
     "start_time": "2020-03-23T11:56:32.903348Z"
    }
   },
   "outputs": [],
   "source": [
    "import pickle \n",
    "\n",
    "###@@@@@@@@@ THIS IS TO ***SAVE*** THE MODELS FROM ABOVE @@@@@@@@@###\n",
    "pickle.dump(gensim_noun_adj_models, open(\"gensim_noun_adj_models.pkl\", \"wb\"))\n",
    "\n",
    "###@@@@@@@@@ THIS IS TO ***OPEN*** THE MODELS FROM THE STORED PICKLE FILE @@@@@@@@@###\n",
    "### CHECKPOINT - can just load the pickle file and start running your analysis\n",
    "# gensim_models = pickle.load(open(\"gensim_noun_adj_models.pkl\", \"rb\"))"
   ]
  },
  {
   "cell_type": "markdown",
   "metadata": {},
   "source": [
    "# #3 LDA Mallet Model - Nouns and Adjectives"
   ]
  },
  {
   "cell_type": "code",
   "execution_count": 133,
   "metadata": {
    "ExecuteTime": {
     "end_time": "2020-03-23T12:32:35.303319Z",
     "start_time": "2020-03-23T11:59:19.505916Z"
    }
   },
   "outputs": [
    {
     "name": "stdout",
     "output_type": "stream",
     "text": [
      "Topic 3 Score: 0.18127995339888828\n",
      "Topic 4 Score: 0.22922448019850838\n",
      "Topic 5 Score: 0.2559319012463308\n",
      "Topic 6 Score: 0.2898276923060393\n",
      "Topic 7 Score: 0.3227144017660208\n",
      "Topic 8 Score: 0.3072112002251593\n",
      "Topic 9 Score: 0.3289721924741631\n"
     ]
    }
   ],
   "source": [
    "import gensim\n",
    "import os \n",
    "\n",
    "os.environ.update({'MALLET_HOME':r'D:\\\\Softwares\\\\mallet-2.0.8'})\n",
    "mallet_path = r'D:\\\\Softwares\\\\mallet-2.0.8\\\\bin\\\\mallet'\n",
    "\n",
    "mallet_noun_adj_models = []\n",
    "\n",
    "for num_topic in range(3, 10):\n",
    "    model_val = []\n",
    "    mallet_noun_adj = gensim.models.wrappers.LdaMallet(mallet_path, corpus=sentence_vecs, id2word=sentence_dict, num_topics=num_topic)\n",
    "    mallet_coh_model = CoherenceModel(model=mallet_noun_adj, texts=sentence_tags, dictionary=sentence_dict, coherence='c_v')\n",
    "    model_val.append(mallet_noun_adj)\n",
    "    model_val.append(mallet_coh_model.get_coherence())\n",
    "    model_val.append(num_topic)\n",
    "    mallet_noun_adj_models.append(model_val)\n",
    "    print(\"Topic \" + str(num_topic) + \" Score: \" + str(mallet_coh_model.get_coherence()))"
   ]
  },
  {
   "cell_type": "code",
   "execution_count": 134,
   "metadata": {
    "ExecuteTime": {
     "end_time": "2020-03-23T12:37:27.392790Z",
     "start_time": "2020-03-23T12:37:27.240224Z"
    }
   },
   "outputs": [
    {
     "data": {
      "image/png": "[encoded data removed]",
      "text/plain": [
       "<Figure size 432x288 with 1 Axes>"
      ]
     },
     "metadata": {
      "needs_background": "light"
     },
     "output_type": "display_data"
    }
   ],
   "source": [
    "import matplotlib.pyplot as plt\n",
    "\n",
    "mallet_coh_val = [coh for model, coh, topic in mallet_noun_adj_models]\n",
    "\n",
    "x = range(3, 10)\n",
    "plt.plot(x, mallet_coh_val)\n",
    "plt.xlabel(\"Num Topics\")\n",
    "plt.ylabel(\"Coherence score\")\n",
    "plt.legend((\"coherence_values\"), loc='best')\n",
    "plt.show()"
   ]
  },
  {
   "cell_type": "code",
   "execution_count": 135,
   "metadata": {
    "ExecuteTime": {
     "end_time": "2020-03-23T12:37:54.688877Z",
     "start_time": "2020-03-23T12:37:54.650958Z"
    }
   },
   "outputs": [
    {
     "name": "stdout",
     "output_type": "stream",
     "text": [
      "Model #3 Coherence Score: 0.18127995339888828\n",
      "Topic 1: good, battery, camera, great, quality, nice, life, excellent, awesome, performance\n",
      "Topic 2: price, product, mobile, great, sim, money, happy, device, smartphone, year\n",
      "Topic 3: screen, time, easy, problem, day, apps, card, size, perfect, big\n",
      "----------------------------------------------------------------------------\n",
      "Model #4 Coherence Score: 0.22922448019850838\n",
      "Topic 1: mobile, time, problem, happy, product, year, bad, month, service, apple\n",
      "Topic 2: sim, apps, card, lot, memory, thing, issue, fine, bit, work\n",
      "Topic 3: good, battery, camera, screen, quality, life, awesome, day, performance, display\n",
      "Topic 4: great, price, nice, excellent, product, easy, good, device, screen, smartphone\n",
      "----------------------------------------------------------------------------\n",
      "Model #5 Coherence Score: 0.2559319012463308\n",
      "Topic 1: happy, year, service, apple, charger, case, cell, work, purchase, unlocked\n",
      "Topic 2: great, easy, device, smartphone, size, perfect, big, smart, screen, note\n",
      "Topic 3: battery, mobile, time, life, problem, day, bad, money, thing, issue\n",
      "Topic 4: good, great, price, product, quality, nice, excellent, performance, design, sound\n",
      "Topic 5: camera, screen, awesome, sim, apps, card, display, memory, fast, amazing\n",
      "----------------------------------------------------------------------------\n",
      "Model #6 Coherence Score: 0.2898276923060393\n",
      "Topic 1: battery, good, life, problem, time, day, bad, performance, issue, camera\n",
      "Topic 2: camera, screen, nice, display, size, big, perfect, design, fast, touch\n",
      "Topic 3: happy, money, year, month, note, apple, purchase, cell, review, brand\n",
      "Topic 4: good, price, product, mobile, excellent, great, nice, smartphone, awesome, range\n",
      "Topic 5: great, quality, easy, device, smart, user, high, call, feature, software\n",
      "Topic 6: sim, apps, card, memory, fine, charger, work, thing, unlocked, version\n",
      "----------------------------------------------------------------------------\n",
      "Model #7 Coherence Score: 0.3227144017660208\n",
      "Topic 1: great, quality, nice, awesome, performance, display, camera, design, easy, fast\n",
      "Topic 2: money, happy, product, year, month, apple, charger, purchase, review, brand\n",
      "Topic 3: good, camera, price, mobile, product, excellent, front, range, quality, system\n",
      "Topic 4: screen, size, perfect, big, easy, touch, note, edge, bit, case\n",
      "Topic 5: great, device, smartphone, price, lot, smart, user, ram, high, experience\n",
      "Topic 6: sim, apps, card, memory, thing, work, cell, fine, unlocked, version\n",
      "Topic 7: battery, time, life, problem, day, issue, bad, poor, backup, call\n",
      "----------------------------------------------------------------------------\n",
      "Model #8 Coherence Score: 0.3072112002251593\n",
      "Topic 1: good, battery, life, day, performance, backup, charge, time, full, nice\n",
      "Topic 2: money, lot, smart, work, fine, feature, worth, internet, simple, music\n",
      "Topic 3: great, screen, easy, nice, happy, size, perfect, big, touch, purchase\n",
      "Topic 4: problem, time, product, bad, issue, month, mobile, apple, year, review\n",
      "Topic 5: price, product, excellent, mobile, smartphone, service, range, unlocked, brand, version\n",
      "Topic 6: camera, quality, good, awesome, display, sound, low, light, front, high\n",
      "Topic 7: device, design, fast, note, edge, amazing, user, experience, super, beautiful\n",
      "Topic 8: sim, apps, card, memory, thing, charger, case, box, storage, dual\n",
      "----------------------------------------------------------------------------\n",
      "Model #9 Coherence Score: 0.3289721924741631\n",
      "Topic 1: great, price, quality, good, sound, range, high, low, worth, fantastic\n",
      "Topic 2: good, product, nice, mobile, excellent, bad, experience, service, condition, budget\n",
      "Topic 3: device, smartphone, lot, easy, smart, user, internet, market, simple, basic\n",
      "Topic 4: sim, apps, card, memory, thing, note, edge, case, storage, feature\n",
      "Topic 5: problem, issue, apple, charger, software, unlocked, brand, version, box, model\n",
      "Topic 6: camera, awesome, display, fast, amazing, front, super, speed, clear, beautiful\n",
      "Topic 7: battery, good, life, day, performance, design, light, poor, backup, charge\n",
      "Topic 8: time, happy, money, year, month, purchase, review, week, update, work\n",
      "Topic 9: screen, size, perfect, big, easy, touch, bit, call, small, hand\n",
      "----------------------------------------------------------------------------\n"
     ]
    }
   ],
   "source": [
    "# Mallet LDA Model - topics\n",
    "for model in mallet_noun_adj_models:\n",
    "    print(\"Model #{} Coherence Score: {}\".format(model[2], model[1]))\n",
    "    topics = model[0].show_topics(formatted=False)\n",
    "    for topic, word_list in topics:\n",
    "        topic_num = topic + 1\n",
    "        result_list = []\n",
    "        for word, word_prob in word_list:\n",
    "            result_list.append(word)\n",
    "        print(\"Topic {}: {}\".format(topic_num, ', '.join(result_list)))\n",
    "    print('----------------------------------------------------------------------------')"
   ]
  },
  {
   "cell_type": "code",
   "execution_count": 110,
   "metadata": {
    "ExecuteTime": {
     "end_time": "2020-03-23T12:38:22.408807Z",
     "start_time": "2020-03-23T12:38:22.346949Z"
    }
   },
   "outputs": [
    {
     "ename": "NameError",
     "evalue": "name 'gensim_noun_adj_models' is not defined",
     "output_type": "error",
     "traceback": [
      "\u001b[1;31m---------------------------------------------------------------------------\u001b[0m",
      "\u001b[1;31mNameError\u001b[0m                                 Traceback (most recent call last)",
      "\u001b[1;32m<ipython-input-110-35c708c0a7b5>\u001b[0m in \u001b[0;36m<module>\u001b[1;34m()\u001b[0m\n\u001b[0;32m      2\u001b[0m \u001b[1;33m\u001b[0m\u001b[0m\n\u001b[0;32m      3\u001b[0m \u001b[1;31m###@@@@@@@@@ THIS IS TO ***SAVE*** THE MODELS FROM ABOVE @@@@@@@@@###\u001b[0m\u001b[1;33m\u001b[0m\u001b[1;33m\u001b[0m\u001b[0m\n\u001b[1;32m----> 4\u001b[1;33m \u001b[0mpickle\u001b[0m\u001b[1;33m.\u001b[0m\u001b[0mdump\u001b[0m\u001b[1;33m(\u001b[0m\u001b[0mgensim_noun_adj_models\u001b[0m\u001b[1;33m,\u001b[0m \u001b[0mopen\u001b[0m\u001b[1;33m(\u001b[0m\u001b[1;34m\"mallet_noun_adj_models.pkl\"\u001b[0m\u001b[1;33m,\u001b[0m \u001b[1;34m\"wb\"\u001b[0m\u001b[1;33m)\u001b[0m\u001b[1;33m)\u001b[0m\u001b[1;33m\u001b[0m\u001b[0m\n\u001b[0m\u001b[0;32m      5\u001b[0m \u001b[1;33m\u001b[0m\u001b[0m\n\u001b[0;32m      6\u001b[0m \u001b[1;31m###@@@@@@@@@ THIS IS TO ***OPEN*** THE MODELS FROM THE STORED PICKLE FILE @@@@@@@@@###\u001b[0m\u001b[1;33m\u001b[0m\u001b[1;33m\u001b[0m\u001b[0m\n",
      "\u001b[1;31mNameError\u001b[0m: name 'gensim_noun_adj_models' is not defined"
     ]
    }
   ],
   "source": [
    "import pickle \n",
    "\n",
    "###@@@@@@@@@ THIS IS TO ***SAVE*** THE MODELS FROM ABOVE @@@@@@@@@###\n",
    "pickle.dump(gensim_noun_adj_models, open(\"mallet_noun_adj_models.pkl\", \"wb\"))\n",
    "\n",
    "###@@@@@@@@@ THIS IS TO ***OPEN*** THE MODELS FROM THE STORED PICKLE FILE @@@@@@@@@###\n",
    "### CHECKPOINT - can just load the pickle file and start running your analysis\n",
    "# gensim_models = pickle.load(open(\"mallet_noun_adj_models.pkl\", \"rb\"))"
   ]
  },
  {
   "cell_type": "markdown",
   "metadata": {},
   "source": [
    "# VADER"
   ]
  },
  {
   "cell_type": "code",
   "execution_count": 111,
   "metadata": {},
   "outputs": [],
   "source": [
    "from vaderSentiment.vaderSentiment import SentimentIntensityAnalyzer\n",
    "analyser = SentimentIntensityAnalyzer()"
   ]
  },
  {
   "cell_type": "code",
   "execution_count": 112,
   "metadata": {},
   "outputs": [],
   "source": [
    "scores =[]\n",
    "\n",
    "try:\n",
    "    for sentence_value in sentences_df['sentence']:\n",
    "        score = analyser.polarity_scores(sentence_value)\n",
    "        scores.append(score)\n",
    "except Exception as e:\n",
    "    print(str(e))\n"
   ]
  },
  {
   "cell_type": "code",
   "execution_count": 113,
   "metadata": {},
   "outputs": [
    {
     "data": {
      "text/html": [
       "<div>\n",
       "<style scoped>\n",
       "    .dataframe tbody tr th:only-of-type {\n",
       "        vertical-align: middle;\n",
       "    }\n",
       "\n",
       "    .dataframe tbody tr th {\n",
       "        vertical-align: top;\n",
       "    }\n",
       "\n",
       "    .dataframe thead th {\n",
       "        text-align: right;\n",
       "    }\n",
       "</style>\n",
       "<table border=\"1\" class=\"dataframe\">\n",
       "  <thead>\n",
       "    <tr style=\"text-align: right;\">\n",
       "      <th></th>\n",
       "      <th>sentence</th>\n",
       "      <th>index</th>\n",
       "      <th>neg</th>\n",
       "      <th>neu</th>\n",
       "      <th>pos</th>\n",
       "      <th>compound</th>\n",
       "      <th>index scores</th>\n",
       "    </tr>\n",
       "  </thead>\n",
       "  <tbody>\n",
       "    <tr>\n",
       "      <th>0</th>\n",
       "      <td>As a diehard Samsung fan who has had every Sam...</td>\n",
       "      <td>0</td>\n",
       "      <td>0.000</td>\n",
       "      <td>0.798</td>\n",
       "      <td>0.202</td>\n",
       "      <td>0.6486</td>\n",
       "      <td>10.0</td>\n",
       "    </tr>\n",
       "    <tr>\n",
       "      <th>1</th>\n",
       "      <td>I am amazed at some of the reviews and think p...</td>\n",
       "      <td>0</td>\n",
       "      <td>0.120</td>\n",
       "      <td>0.747</td>\n",
       "      <td>0.133</td>\n",
       "      <td>0.0772</td>\n",
       "      <td>10.0</td>\n",
       "    </tr>\n",
       "    <tr>\n",
       "      <th>2</th>\n",
       "      <td>The battery life is amazing</td>\n",
       "      <td>0</td>\n",
       "      <td>0.000</td>\n",
       "      <td>0.513</td>\n",
       "      <td>0.487</td>\n",
       "      <td>0.5859</td>\n",
       "      <td>10.0</td>\n",
       "    </tr>\n",
       "    <tr>\n",
       "      <th>3</th>\n",
       "      <td>Love the phone</td>\n",
       "      <td>1</td>\n",
       "      <td>0.000</td>\n",
       "      <td>0.323</td>\n",
       "      <td>0.677</td>\n",
       "      <td>0.6369</td>\n",
       "      <td>10.0</td>\n",
       "    </tr>\n",
       "    <tr>\n",
       "      <th>4</th>\n",
       "      <td>the phone is sleek and smooth and beautiful I ...</td>\n",
       "      <td>1</td>\n",
       "      <td>0.000</td>\n",
       "      <td>0.639</td>\n",
       "      <td>0.361</td>\n",
       "      <td>0.8412</td>\n",
       "      <td>10.0</td>\n",
       "    </tr>\n",
       "    <tr>\n",
       "      <th>...</th>\n",
       "      <td>...</td>\n",
       "      <td>...</td>\n",
       "      <td>...</td>\n",
       "      <td>...</td>\n",
       "      <td>...</td>\n",
       "      <td>...</td>\n",
       "      <td>...</td>\n",
       "    </tr>\n",
       "    <tr>\n",
       "      <th>983119</th>\n",
       "      <td>Came right on timr</td>\n",
       "      <td>400060</td>\n",
       "      <td>0.000</td>\n",
       "      <td>1.000</td>\n",
       "      <td>0.000</td>\n",
       "      <td>0.0000</td>\n",
       "      <td>10.0</td>\n",
       "    </tr>\n",
       "    <tr>\n",
       "      <th>983120</th>\n",
       "      <td>Excelente producto</td>\n",
       "      <td>400061</td>\n",
       "      <td>0.000</td>\n",
       "      <td>1.000</td>\n",
       "      <td>0.000</td>\n",
       "      <td>0.0000</td>\n",
       "      <td>10.0</td>\n",
       "    </tr>\n",
       "    <tr>\n",
       "      <th>983121</th>\n",
       "      <td>Older Android version, too many junky apps and...</td>\n",
       "      <td>400062</td>\n",
       "      <td>0.000</td>\n",
       "      <td>1.000</td>\n",
       "      <td>0.000</td>\n",
       "      <td>0.0000</td>\n",
       "      <td>4.0</td>\n",
       "    </tr>\n",
       "    <tr>\n",
       "      <th>983122</th>\n",
       "      <td>I had one die and returned it to my cell provi...</td>\n",
       "      <td>400062</td>\n",
       "      <td>0.194</td>\n",
       "      <td>0.573</td>\n",
       "      <td>0.232</td>\n",
       "      <td>0.0516</td>\n",
       "      <td>4.0</td>\n",
       "    </tr>\n",
       "    <tr>\n",
       "      <th>983123</th>\n",
       "      <td>Unfortunately, they just gave me another one</td>\n",
       "      <td>400062</td>\n",
       "      <td>0.286</td>\n",
       "      <td>0.714</td>\n",
       "      <td>0.000</td>\n",
       "      <td>-0.3400</td>\n",
       "      <td>4.0</td>\n",
       "    </tr>\n",
       "  </tbody>\n",
       "</table>\n",
       "<p>983124 rows × 7 columns</p>\n",
       "</div>"
      ],
      "text/plain": [
       "                                                 sentence   index    neg  \\\n",
       "0       As a diehard Samsung fan who has had every Sam...       0  0.000   \n",
       "1       I am amazed at some of the reviews and think p...       0  0.120   \n",
       "2                             The battery life is amazing       0  0.000   \n",
       "3                                          Love the phone       1  0.000   \n",
       "4       the phone is sleek and smooth and beautiful I ...       1  0.000   \n",
       "...                                                   ...     ...    ...   \n",
       "983119                                 Came right on timr  400060  0.000   \n",
       "983120                                 Excelente producto  400061  0.000   \n",
       "983121  Older Android version, too many junky apps and...  400062  0.000   \n",
       "983122  I had one die and returned it to my cell provi...  400062  0.194   \n",
       "983123       Unfortunately, they just gave me another one  400062  0.286   \n",
       "\n",
       "          neu    pos  compound  index scores  \n",
       "0       0.798  0.202    0.6486          10.0  \n",
       "1       0.747  0.133    0.0772          10.0  \n",
       "2       0.513  0.487    0.5859          10.0  \n",
       "3       0.323  0.677    0.6369          10.0  \n",
       "4       0.639  0.361    0.8412          10.0  \n",
       "...       ...    ...       ...           ...  \n",
       "983119  1.000  0.000    0.0000          10.0  \n",
       "983120  1.000  0.000    0.0000          10.0  \n",
       "983121  1.000  0.000    0.0000           4.0  \n",
       "983122  0.573  0.232    0.0516           4.0  \n",
       "983123  0.714  0.000   -0.3400           4.0  \n",
       "\n",
       "[983124 rows x 7 columns]"
      ]
     },
     "execution_count": 113,
     "metadata": {},
     "output_type": "execute_result"
    }
   ],
   "source": [
    "sentencesScores = pd.concat([sentences_df,pd.DataFrame(scores)],axis =1, sort = False)\n",
    "sentencesScores['index scores'] = index_score_list\n",
    "sentencesScores"
   ]
  },
  {
   "cell_type": "code",
   "execution_count": 114,
   "metadata": {},
   "outputs": [
    {
     "data": {
      "text/html": [
       "<div>\n",
       "<style scoped>\n",
       "    .dataframe tbody tr th:only-of-type {\n",
       "        vertical-align: middle;\n",
       "    }\n",
       "\n",
       "    .dataframe tbody tr th {\n",
       "        vertical-align: top;\n",
       "    }\n",
       "\n",
       "    .dataframe thead th {\n",
       "        text-align: right;\n",
       "    }\n",
       "</style>\n",
       "<table border=\"1\" class=\"dataframe\">\n",
       "  <thead>\n",
       "    <tr style=\"text-align: right;\">\n",
       "      <th></th>\n",
       "      <th>sentence</th>\n",
       "      <th>index</th>\n",
       "      <th>neg</th>\n",
       "      <th>neu</th>\n",
       "      <th>pos</th>\n",
       "      <th>compound</th>\n",
       "      <th>index scores</th>\n",
       "      <th>discrepency</th>\n",
       "    </tr>\n",
       "  </thead>\n",
       "  <tbody>\n",
       "    <tr>\n",
       "      <th>0</th>\n",
       "      <td>As a diehard Samsung fan who has had every Sam...</td>\n",
       "      <td>0</td>\n",
       "      <td>0.000</td>\n",
       "      <td>0.798</td>\n",
       "      <td>0.202</td>\n",
       "      <td>0.6486</td>\n",
       "      <td>10.0</td>\n",
       "      <td>0</td>\n",
       "    </tr>\n",
       "    <tr>\n",
       "      <th>1</th>\n",
       "      <td>I am amazed at some of the reviews and think p...</td>\n",
       "      <td>0</td>\n",
       "      <td>0.120</td>\n",
       "      <td>0.747</td>\n",
       "      <td>0.133</td>\n",
       "      <td>0.0772</td>\n",
       "      <td>10.0</td>\n",
       "      <td>0</td>\n",
       "    </tr>\n",
       "    <tr>\n",
       "      <th>2</th>\n",
       "      <td>The battery life is amazing</td>\n",
       "      <td>0</td>\n",
       "      <td>0.000</td>\n",
       "      <td>0.513</td>\n",
       "      <td>0.487</td>\n",
       "      <td>0.5859</td>\n",
       "      <td>10.0</td>\n",
       "      <td>0</td>\n",
       "    </tr>\n",
       "    <tr>\n",
       "      <th>3</th>\n",
       "      <td>Love the phone</td>\n",
       "      <td>1</td>\n",
       "      <td>0.000</td>\n",
       "      <td>0.323</td>\n",
       "      <td>0.677</td>\n",
       "      <td>0.6369</td>\n",
       "      <td>10.0</td>\n",
       "      <td>0</td>\n",
       "    </tr>\n",
       "    <tr>\n",
       "      <th>4</th>\n",
       "      <td>the phone is sleek and smooth and beautiful I ...</td>\n",
       "      <td>1</td>\n",
       "      <td>0.000</td>\n",
       "      <td>0.639</td>\n",
       "      <td>0.361</td>\n",
       "      <td>0.8412</td>\n",
       "      <td>10.0</td>\n",
       "      <td>0</td>\n",
       "    </tr>\n",
       "    <tr>\n",
       "      <th>...</th>\n",
       "      <td>...</td>\n",
       "      <td>...</td>\n",
       "      <td>...</td>\n",
       "      <td>...</td>\n",
       "      <td>...</td>\n",
       "      <td>...</td>\n",
       "      <td>...</td>\n",
       "      <td>...</td>\n",
       "    </tr>\n",
       "    <tr>\n",
       "      <th>983119</th>\n",
       "      <td>Came right on timr</td>\n",
       "      <td>400060</td>\n",
       "      <td>0.000</td>\n",
       "      <td>1.000</td>\n",
       "      <td>0.000</td>\n",
       "      <td>0.0000</td>\n",
       "      <td>10.0</td>\n",
       "      <td>0</td>\n",
       "    </tr>\n",
       "    <tr>\n",
       "      <th>983120</th>\n",
       "      <td>Excelente producto</td>\n",
       "      <td>400061</td>\n",
       "      <td>0.000</td>\n",
       "      <td>1.000</td>\n",
       "      <td>0.000</td>\n",
       "      <td>0.0000</td>\n",
       "      <td>10.0</td>\n",
       "      <td>0</td>\n",
       "    </tr>\n",
       "    <tr>\n",
       "      <th>983121</th>\n",
       "      <td>Older Android version, too many junky apps and...</td>\n",
       "      <td>400062</td>\n",
       "      <td>0.000</td>\n",
       "      <td>1.000</td>\n",
       "      <td>0.000</td>\n",
       "      <td>0.0000</td>\n",
       "      <td>4.0</td>\n",
       "      <td>0</td>\n",
       "    </tr>\n",
       "    <tr>\n",
       "      <th>983122</th>\n",
       "      <td>I had one die and returned it to my cell provi...</td>\n",
       "      <td>400062</td>\n",
       "      <td>0.194</td>\n",
       "      <td>0.573</td>\n",
       "      <td>0.232</td>\n",
       "      <td>0.0516</td>\n",
       "      <td>4.0</td>\n",
       "      <td>0</td>\n",
       "    </tr>\n",
       "    <tr>\n",
       "      <th>983123</th>\n",
       "      <td>Unfortunately, they just gave me another one</td>\n",
       "      <td>400062</td>\n",
       "      <td>0.286</td>\n",
       "      <td>0.714</td>\n",
       "      <td>0.000</td>\n",
       "      <td>-0.3400</td>\n",
       "      <td>4.0</td>\n",
       "      <td>0</td>\n",
       "    </tr>\n",
       "  </tbody>\n",
       "</table>\n",
       "<p>983124 rows × 8 columns</p>\n",
       "</div>"
      ],
      "text/plain": [
       "                                                 sentence   index    neg  \\\n",
       "0       As a diehard Samsung fan who has had every Sam...       0  0.000   \n",
       "1       I am amazed at some of the reviews and think p...       0  0.120   \n",
       "2                             The battery life is amazing       0  0.000   \n",
       "3                                          Love the phone       1  0.000   \n",
       "4       the phone is sleek and smooth and beautiful I ...       1  0.000   \n",
       "...                                                   ...     ...    ...   \n",
       "983119                                 Came right on timr  400060  0.000   \n",
       "983120                                 Excelente producto  400061  0.000   \n",
       "983121  Older Android version, too many junky apps and...  400062  0.000   \n",
       "983122  I had one die and returned it to my cell provi...  400062  0.194   \n",
       "983123       Unfortunately, they just gave me another one  400062  0.286   \n",
       "\n",
       "          neu    pos  compound  index scores  discrepency  \n",
       "0       0.798  0.202    0.6486          10.0            0  \n",
       "1       0.747  0.133    0.0772          10.0            0  \n",
       "2       0.513  0.487    0.5859          10.0            0  \n",
       "3       0.323  0.677    0.6369          10.0            0  \n",
       "4       0.639  0.361    0.8412          10.0            0  \n",
       "...       ...    ...       ...           ...          ...  \n",
       "983119  1.000  0.000    0.0000          10.0            0  \n",
       "983120  1.000  0.000    0.0000          10.0            0  \n",
       "983121  1.000  0.000    0.0000           4.0            0  \n",
       "983122  0.573  0.232    0.0516           4.0            0  \n",
       "983123  0.714  0.000   -0.3400           4.0            0  \n",
       "\n",
       "[983124 rows x 8 columns]"
      ]
     },
     "execution_count": 114,
     "metadata": {},
     "output_type": "execute_result"
    }
   ],
   "source": [
    "discrepency = []\n",
    "\n",
    "for index, row in sentencesScores.iterrows():\n",
    "    if row['compound'] >= 0.3 and row['index scores'] < 6:\n",
    "        discrepency.append(1)\n",
    "    elif -0.3 > row['compound'] > 0.3 and not(4 > row['index scores'] > 6):\n",
    "        discrepency.append(1)\n",
    "    elif row['compound'] <= -0.3 and row['index scores'] > 4:\n",
    "        discrepency.append(1)\n",
    "    else:\n",
    "        discrepency.append(0)\n",
    "        \n",
    "sentencesScores['discrepency'] = discrepency\n",
    "sentencesScores"
   ]
  },
  {
   "cell_type": "code",
   "execution_count": 1,
   "metadata": {},
   "outputs": [
    {
     "ename": "NameError",
     "evalue": "name 'sentencesScores' is not defined",
     "output_type": "error",
     "traceback": [
      "\u001b[1;31m---------------------------------------------------------------------------\u001b[0m",
      "\u001b[1;31mNameError\u001b[0m                                 Traceback (most recent call last)",
      "\u001b[1;32m<ipython-input-1-718c2d9082cb>\u001b[0m in \u001b[0;36m<module>\u001b[1;34m()\u001b[0m\n\u001b[1;32m----> 1\u001b[1;33m \u001b[0msentencesDiscrepency\u001b[0m \u001b[1;33m=\u001b[0m \u001b[0msentencesScores\u001b[0m\u001b[1;33m.\u001b[0m\u001b[0mloc\u001b[0m\u001b[1;33m[\u001b[0m\u001b[0msentencesScores\u001b[0m\u001b[1;33m[\u001b[0m\u001b[1;34m'discrepency'\u001b[0m\u001b[1;33m]\u001b[0m \u001b[1;33m==\u001b[0m \u001b[1;36m1\u001b[0m\u001b[1;33m]\u001b[0m\u001b[1;33m\u001b[0m\u001b[0m\n\u001b[0m\u001b[0;32m      2\u001b[0m \u001b[0mlen\u001b[0m\u001b[1;33m(\u001b[0m\u001b[0msentencesDiscrepency\u001b[0m\u001b[1;33m)\u001b[0m\u001b[1;33m/\u001b[0m\u001b[0mlen\u001b[0m\u001b[1;33m(\u001b[0m\u001b[0msentencesScores\u001b[0m\u001b[1;33m)\u001b[0m\u001b[1;33m\u001b[0m\u001b[0m\n\u001b[0;32m      3\u001b[0m \u001b[1;31m#print(sentencesDiscrepency.to_csv(\"discrepency.csv\"))\u001b[0m\u001b[1;33m\u001b[0m\u001b[1;33m\u001b[0m\u001b[0m\n",
      "\u001b[1;31mNameError\u001b[0m: name 'sentencesScores' is not defined"
     ]
    }
   ],
   "source": [
    "sentencesDiscrepency = sentencesScores.loc[sentencesScores['discrepency'] == 1]\n",
    "len(sentencesDiscrepency)/len(sentencesScores)\n",
    "#print(sentencesDiscrepency.to_csv(\"discrepency.csv\"))"
   ]
  },
  {
   "cell_type": "markdown",
   "metadata": {},
   "source": [
    "# EVERYTHING BELOW ARE VERSION 1 CODE"
   ]
  },
  {
   "cell_type": "markdown",
   "metadata": {},
   "source": [
    "# LDA Model"
   ]
  },
  {
   "cell_type": "code",
   "execution_count": 69,
   "metadata": {
    "ExecuteTime": {
     "end_time": "2020-03-22T12:44:20.452391Z",
     "start_time": "2020-03-22T12:44:20.443412Z"
    }
   },
   "outputs": [],
   "source": [
    "# Preprocessing of extracts into words\n",
    "\n",
    "import nltk\n",
    "import re\n",
    "import gensim\n",
    "\n",
    "def clean_extract(extract_data):\n",
    "    stop_list = nltk.corpus.stopwords.words('english')\n",
    "    stop_list += ['phone', 'iphone', 'nokia', 'samsung', 'htc', 'lg', 'galaxy', 'ca', 'motorola', 'android', 'verizon']\n",
    "    tokenizer = nltk.tokenize.word_tokenize\n",
    "    stemmer = nltk.stem.porter.PorterStemmer()\n",
    "\n",
    "    extract_list  = [tokenizer(extract) for extract in extract_data]\n",
    "    extract_list = [[w.lower() for w in extract] for extract in extract_list]\n",
    "    extract_list = [[w for w in extract if re.search('^[a-z]+$',w)] for extract in extract_list]\n",
    "    extract_list = [[w for w in extract if w not in stop_list] for extract in extract_list]\n",
    "#     extract_list = [[stemmer.stem(w) for w in extract] for extract in extract_list]\n",
    "    return extract_list"
   ]
  },
  {
   "cell_type": "code",
   "execution_count": 31,
   "metadata": {
    "ExecuteTime": {
     "end_time": "2020-02-27T18:22:15.970356Z",
     "start_time": "2020-02-27T18:18:51.560253Z"
    }
   },
   "outputs": [],
   "source": [
    "extract_list = cleaned_df['extract'].values.tolist()\n",
    "extract_words = clean_extract(extract_list)"
   ]
  },
  {
   "cell_type": "markdown",
   "metadata": {},
   "source": [
    "## Gensim LDA Model"
   ]
  },
  {
   "cell_type": "code",
   "execution_count": 32,
   "metadata": {
    "ExecuteTime": {
     "end_time": "2020-02-27T18:22:34.550218Z",
     "start_time": "2020-02-27T18:22:15.972325Z"
    }
   },
   "outputs": [],
   "source": [
    "import gensim\n",
    "\n",
    "# Using gensim to create a dictionary object of all the words in all extracts\n",
    "extract_dict = gensim.corpora.Dictionary(extract_words)\n",
    "\n",
    "# Returning the word vector for each extract from the gensim dict of words\n",
    "extract_vecs = [extract_dict.doc2bow(extract) for extract in extract_words]"
   ]
  },
  {
   "cell_type": "code",
   "execution_count": 34,
   "metadata": {
    "ExecuteTime": {
     "end_time": "2020-02-27T20:04:44.273452Z",
     "start_time": "2020-02-27T18:23:48.353290Z"
    }
   },
   "outputs": [
    {
     "name": "stdout",
     "output_type": "stream",
     "text": [
      "Topic 3 Score: 0.4002669529670479\n",
      "Topic 4 Score: 0.4327363705646269\n",
      "Topic 5 Score: 0.41127359587131307\n",
      "Topic 6 Score: 0.41417195899660714\n",
      "Topic 7 Score: 0.43815965947182983\n",
      "Topic 8 Score: 0.45251749430692023\n",
      "Topic 9 Score: 0.4166528935165106\n"
     ]
    }
   ],
   "source": [
    "# Finding the optimal number of topics\n",
    "from gensim.models import CoherenceModel\n",
    "\n",
    "model_list = []\n",
    "coh_val = []\n",
    "model_topics = []\n",
    "\n",
    "for num_topic in range(3, 10):\n",
    "    extract_lda_gensim = gensim.models.ldamodel.LdaModel(corpus=extract_vecs, id2word=extract_dict, num_topics=num_topic)\n",
    "    coh_model = CoherenceModel(model=extract_lda_gensim, texts=extract_words, dictionary=extract_dict, coherence='c_v')\n",
    "    model_topics.append(num_topic)\n",
    "    model_list.append(extract_lda_gensim)\n",
    "    coh_val.append(coh_model.get_coherence())\n",
    "    print(\"Topic \" + str(num_topic) + \" Score: \" + str(coh_model.get_coherence()))"
   ]
  },
  {
   "cell_type": "code",
   "execution_count": 44,
   "metadata": {
    "ExecuteTime": {
     "end_time": "2020-02-28T06:37:32.539326Z",
     "start_time": "2020-02-28T06:37:32.394708Z"
    }
   },
   "outputs": [
    {
     "data": {
      "image/png": "[encoded data removed]",
      "text/plain": [
       "<Figure size 432x288 with 1 Axes>"
      ]
     },
     "metadata": {
      "needs_background": "light"
     },
     "output_type": "display_data"
    }
   ],
   "source": [
    "import matplotlib.pyplot as plt\n",
    "\n",
    "x = range(3, 10)\n",
    "plt.plot(x, coh_val)\n",
    "plt.xlabel(\"Num Topics\")\n",
    "plt.ylabel(\"Coherence score\")\n",
    "plt.legend((\"coherence_values\"), loc='best')\n",
    "plt.show()"
   ]
  },
  {
   "cell_type": "code",
   "execution_count": 36,
   "metadata": {
    "ExecuteTime": {
     "end_time": "2020-02-27T20:04:47.231156Z",
     "start_time": "2020-02-27T20:04:47.106498Z"
    }
   },
   "outputs": [
    {
     "name": "stdout",
     "output_type": "stream",
     "text": [
      "Model #3 Coherence Score: 0.4002669529670479\n",
      "Topic 1: phone, one, got, bought, phones, new, would, get, first, iphone\n",
      "Topic 2: phone, screen, great, use, camera, easy, love, like, features, nice\n",
      "Topic 3: good, phone, battery, great, works, product, life, price, sim, card\n",
      "----------------------------------------------------------------------------\n",
      "Model #4 Coherence Score: 0.4327363705646269\n",
      "Topic 1: phone, screen, use, easy, like, great, love, touch, small, really\n",
      "Topic 2: good, phone, battery, camera, great, quality, life, price, excellent, nice\n",
      "Topic 3: phone, phones, one, iphone, samsung, best, nokia, years, ever, love\n",
      "Topic 4: phone, one, would, work, bought, got, get, new, use, great\n",
      "----------------------------------------------------------------------------\n",
      "Model #5 Coherence Score: 0.41127359587131307\n",
      "Topic 1: phone, work, would, get, sim, time, working, got, problem, back\n",
      "Topic 2: good, battery, phone, camera, quality, life, screen, great, mobile, best\n",
      "Topic 3: good, phone, price, product, money, memory, buy, excellent, cheap, card\n",
      "Topic 4: phone, great, use, love, like, easy, screen, works, really, would\n",
      "Topic 5: phone, one, phones, iphone, first, bought, new, got, nokia, samsung\n",
      "----------------------------------------------------------------------------\n",
      "Model #6 Coherence Score: 0.41417195899660714\n",
      "Topic 1: apps, memory, android, card, system, sd, freezes, windows, storage, os\n",
      "Topic 2: phone, use, great, works, easy, like, screen, well, new, came\n",
      "Topic 3: phone, work, get, sim, good, problem, would, time, money, even\n",
      "Topic 4: phone, great, best, love, ever, features, like, mobile, price, phones\n",
      "Topic 5: phone, one, iphone, first, phones, got, bought, nokia, new, years\n",
      "Topic 6: good, battery, phone, camera, quality, life, screen, great, excellent, nice\n",
      "----------------------------------------------------------------------------\n",
      "Model #7 Coherence Score: 0.43815965947182983\n",
      "Topic 1: good, phone, price, mobile, quality, nice, product, camera, really, excellent\n",
      "Topic 2: phone, battery, great, good, screen, use, camera, easy, life, like\n",
      "Topic 3: phone, love, best, ever, like, one, great, really, phones, everything\n",
      "Topic 4: phone, great, works, new, bought, product, happy, came, got, price\n",
      "Topic 5: phone, phones, iphone, nokia, one, samsung, years, first, htc, android\n",
      "Topic 6: phone, sim, card, would, recommend, memory, use, verizon, unlocked, work\n",
      "Topic 7: phone, one, got, get, would, time, work, months, first, back\n",
      "----------------------------------------------------------------------------\n",
      "Model #8 Coherence Score: 0.45251749430692023\n",
      "Topic 1: good, phone, camera, quality, great, nice, screen, price, features, pros\n",
      "Topic 2: screen, phone, touch, bought, motorola, back, one, dropped, buttons, like\n",
      "Topic 3: phone, battery, use, life, calls, charge, even, time, good, call\n",
      "Topic 4: mobile, sim, card, memory, phone, unlocked, player, keyboard, u, sd\n",
      "Topic 5: phone, one, first, phones, got, ever, months, years, best, bought\n",
      "Topic 6: phone, iphone, nokia, new, like, money, one, much, better, would\n",
      "Topic 7: phone, good, product, works, working, work, service, fine, worked, new\n",
      "Topic 8: phone, great, love, use, easy, like, works, recommend, would, everything\n",
      "----------------------------------------------------------------------------\n",
      "Model #9 Coherence Score: 0.4166528935165106\n",
      "Topic 1: phone, one, bought, got, like, wanted, old, get, really, love\n",
      "Topic 2: money, memory, card, worth, thank, value, sd, white, friend, pleased\n",
      "Topic 3: mobile, pros, sony, cons, best, solid, design, dual, seen, front\n",
      "Topic 4: good, phone, camera, quality, great, screen, battery, life, nice, sound\n",
      "Topic 5: phone, battery, one, get, time, use, would, got, work, screen\n",
      "Topic 6: phone, use, great, easy, love, works, nice, good, like, well\n",
      "Topic 7: phone, product, good, great, sim, works, new, recommend, would, price\n",
      "Topic 8: phone, nokia, iphone, like, lg, android, great, love, apps, windows\n",
      "Topic 9: phones, phone, best, one, iphone, samsung, ever, htc, years, smartphone\n",
      "----------------------------------------------------------------------------\n"
     ]
    }
   ],
   "source": [
    "# Gensim LDA Model - topics\n",
    "val = 0\n",
    "model_num = 3\n",
    "for model in model_list:\n",
    "    print(\"Model #{} Coherence Score: {}\".format(model_num, coh_val[val]))\n",
    "    topics = model.show_topics(formatted=False)\n",
    "    for topic, word_list in topics:\n",
    "        topic_num = topic + 1\n",
    "        result_list = []\n",
    "        for word, word_prob in word_list:\n",
    "            result_list.append(word)\n",
    "        print(\"Topic {}: {}\".format(topic_num, ', '.join(result_list)))\n",
    "    model_num += 1\n",
    "    val += 1\n",
    "    print('----------------------------------------------------------------------------')"
   ]
  },
  {
   "cell_type": "code",
   "execution_count": 37,
   "metadata": {
    "ExecuteTime": {
     "end_time": "2020-02-27T20:04:47.411386Z",
     "start_time": "2020-02-27T20:04:47.236140Z"
    }
   },
   "outputs": [],
   "source": [
    "import pickle \n",
    "\n",
    "###@@@@@@@@@ THIS IS TO ***SAVE*** THE GENSIM MODELS FROM ABOVE @@@@@@@@@###\n",
    "pickle.dump(model_list, open(\"gensim_models.pkl\", \"wb\"))\n",
    "\n",
    "###@@@@@@@@@ THIS IS TO ***OPEN*** THE GENSIM MODELS FROM THE STORED PICKLE FILE @@@@@@@@@###\n",
    "### CHECKPOINT - can just load the pickle file and start running your analysis\n",
    "# gensim_models = pickle.load(open(\"gensim_models.pkl\", \"rb\"))"
   ]
  },
  {
   "cell_type": "markdown",
   "metadata": {},
   "source": [
    "## Mallet LDA Model"
   ]
  },
  {
   "cell_type": "code",
   "execution_count": 38,
   "metadata": {
    "ExecuteTime": {
     "end_time": "2020-02-27T22:06:39.757935Z",
     "start_time": "2020-02-27T20:04:47.415334Z"
    }
   },
   "outputs": [
    {
     "name": "stdout",
     "output_type": "stream",
     "text": [
      "Topic 3 Score: 0.40153661259582235\n",
      "Topic 4 Score: 0.39716823484276176\n",
      "Topic 5 Score: 0.43003942023445385\n",
      "Topic 6 Score: 0.46741532979935946\n",
      "Topic 7 Score: 0.4791484852124435\n",
      "Topic 8 Score: 0.4865505900403278\n",
      "Topic 9 Score: 0.494983106220992\n"
     ]
    }
   ],
   "source": [
    "import gensim\n",
    "import os \n",
    "\n",
    "os.environ.update({'MALLET_HOME':r'D:\\\\Softwares\\\\mallet-2.0.8'})\n",
    "mallet_path = r'D:\\\\Softwares\\\\mallet-2.0.8\\\\bin\\\\mallet'\n",
    "\n",
    "model_list_mallet = []\n",
    "coh_val_mallet = []\n",
    "\n",
    "for num_topic in range(3, 10):\n",
    "    extract_lda_mallet = gensim.models.wrappers.LdaMallet(mallet_path, corpus=extract_vecs, id2word=extract_dict, num_topics=num_topic)\n",
    "    coh_model_mallet = CoherenceModel(model=extract_lda_mallet, texts=extract_words, dictionary=extract_dict, coherence='c_v')\n",
    "    model_list_mallet.append(extract_lda_mallet)\n",
    "    coh_val_mallet.append(coh_model_mallet.get_coherence())\n",
    "    print(\"Topic \" + str(num_topic) + \" Score: \" + str(coh_model_mallet.get_coherence()))"
   ]
  },
  {
   "cell_type": "code",
   "execution_count": 39,
   "metadata": {
    "ExecuteTime": {
     "end_time": "2020-02-27T22:06:40.177889Z",
     "start_time": "2020-02-27T22:06:39.762920Z"
    }
   },
   "outputs": [
    {
     "data": {
      "image/png": "[encoded data removed]",
      "text/plain": [
       "<Figure size 432x288 with 1 Axes>"
      ]
     },
     "metadata": {
      "needs_background": "light"
     },
     "output_type": "display_data"
    }
   ],
   "source": [
    "import matplotlib.pyplot as plt\n",
    "\n",
    "x = range(3, 10)\n",
    "plt.plot(x, coh_val_mallet)\n",
    "plt.xlabel(\"Num Topics\")\n",
    "plt.ylabel(\"Coherence score\")\n",
    "plt.legend((\"coherence_values\"), loc='best')\n",
    "plt.show()"
   ]
  },
  {
   "cell_type": "code",
   "execution_count": 43,
   "metadata": {
    "ExecuteTime": {
     "end_time": "2020-02-28T06:37:10.440676Z",
     "start_time": "2020-02-28T06:37:10.382831Z"
    }
   },
   "outputs": [
    {
     "name": "stdout",
     "output_type": "stream",
     "text": [
      "Model #3 Coherence Score: 0.40153661259582235\n",
      "Topic 1: good, great, battery, camera, price, quality, product, nice, mobile, life\n",
      "Topic 2: phone, love, screen, phones, samsung, iphone, easy, galaxy, great, android\n",
      "Topic 3: phone, bought, works, time, buy, work, back, months, sim, working\n",
      "----------------------------------------------------------------------------\n",
      "Model #4 Coherence Score: 0.39716823484276176\n",
      "Topic 1: battery, phone, time, work, product, back, life, problem, months, apps\n",
      "Topic 2: good, camera, great, price, screen, quality, nice, features, mobile, excellent\n",
      "Topic 3: phone, great, love, easy, screen, works, lot, smart, touch, ca\n",
      "Topic 4: phone, bought, phones, samsung, iphone, android, galaxy, happy, nokia, years\n",
      "----------------------------------------------------------------------------\n",
      "Model #5 Coherence Score: 0.43003942023445385\n",
      "Topic 1: price, product, samsung, mobile, iphone, buy, features, android, galaxy, money\n",
      "Topic 2: phone, work, time, problem, working, months, back, apps, bad, problems\n",
      "Topic 3: phone, bought, phones, nokia, years, year, smart, purchased, wanted, lg\n",
      "Topic 4: phone, great, love, screen, works, easy, sim, card, perfect, size\n",
      "Topic 5: good, battery, camera, quality, nice, life, fast, awesome, amazing, excellent\n",
      "----------------------------------------------------------------------------\n",
      "Model #6 Coherence Score: 0.46741532979935946\n",
      "Topic 1: phone, great, screen, love, features, easy, nice, perfect, recommend, amazing\n",
      "Topic 2: phone, bought, product, buy, problem, working, happy, money, back, mobile\n",
      "Topic 3: good, battery, camera, quality, price, life, excellent, awesome, mobile, fast\n",
      "Topic 4: phones, samsung, iphone, android, galaxy, device, nokia, smartphone, years, htc\n",
      "Topic 5: phone, works, work, apps, sim, card, memory, fine, cell, unlocked\n",
      "Topic 6: phone, time, day, problems, thing, charge, call, months, calls, long\n",
      "----------------------------------------------------------------------------\n",
      "Model #7 Coherence Score: 0.4791484852124435\n",
      "Topic 1: phone, works, bought, sim, work, happy, card, memory, service, cell\n",
      "Topic 2: phone, back, months, working, call, problems, ca, calls, charger, text\n",
      "Topic 3: samsung, android, apps, galaxy, device, features, nokia, smartphone, user, internet\n",
      "Topic 4: great, screen, love, phone, easy, touch, perfect, nice, size, big\n",
      "Topic 5: phone, phones, iphone, years, year, smart, htc, wanted, lg, bought\n",
      "Topic 6: phone, battery, product, mobile, buy, life, time, problem, day, money\n",
      "Topic 7: good, camera, price, quality, excellent, awesome, nice, display, performance, fast\n",
      "----------------------------------------------------------------------------\n",
      "Model #8 Coherence Score: 0.4865505900403278\n",
      "Topic 1: phone, bought, product, buy, happy, money, purchased, purchase, worth, received\n",
      "Topic 2: screen, phone, easy, nice, touch, size, big, design, bit, small\n",
      "Topic 3: good, camera, quality, price, excellent, awesome, nice, fast, display, performance\n",
      "Topic 4: phone, apps, sim, card, memory, thing, ca, lot, slow, things\n",
      "Topic 5: phone, great, love, samsung, features, galaxy, price, works, amazing, recommend\n",
      "Topic 6: phone, work, works, calls, service, cell, unlocked, internet, text, wanted\n",
      "Topic 7: battery, life, time, mobile, problem, months, working, day, days, back\n",
      "Topic 8: phones, iphone, android, device, nokia, smartphone, years, htc, lg, user\n",
      "----------------------------------------------------------------------------\n",
      "Model #9 Coherence Score: 0.494983106220992\n",
      "Topic 1: phone, bought, happy, year, purchased, ago, review, weeks, purchase, wanted\n",
      "Topic 2: phone, easy, recommend, smart, calls, make, people, internet, text, find\n",
      "Topic 3: time, problem, buy, working, money, back, months, day, bad, charge\n",
      "Topic 4: works, product, phone, work, sim, card, service, fine, received, unlocked\n",
      "Topic 5: phone, great, love, features, call, thing, amazing, pictures, music, feature\n",
      "Topic 6: good, battery, camera, quality, life, mobile, excellent, awesome, performance, sound\n",
      "Topic 7: price, android, apps, device, memory, htc, smartphone, mobile, windows, sony\n",
      "Topic 8: phones, samsung, iphone, galaxy, nokia, years, lg, user, note, blackberry\n",
      "Topic 9: screen, nice, fast, touch, perfect, size, big, design, display, small\n",
      "----------------------------------------------------------------------------\n"
     ]
    }
   ],
   "source": [
    "# Mallet LDA Model - topics\n",
    "val = 0\n",
    "mallet_model_num = 3\n",
    "for model in model_list_mallet:\n",
    "    print(\"Model #{} Coherence Score: {}\".format(mallet_model_num, coh_val_mallet[val]))\n",
    "    topics = model.show_topics(formatted=False)\n",
    "    for topic, word_list in topics:\n",
    "        topic_num = topic + 1\n",
    "        result_list = []\n",
    "        for word, word_prob in word_list:\n",
    "            result_list.append(word)\n",
    "        print(\"Topic {}: {}\".format(topic_num, ', '.join(result_list)))\n",
    "    mallet_model_num += 1\n",
    "    val += 1\n",
    "    print('----------------------------------------------------------------------------')"
   ]
  },
  {
   "cell_type": "code",
   "execution_count": 41,
   "metadata": {
    "ExecuteTime": {
     "end_time": "2020-02-27T22:06:40.452944Z",
     "start_time": "2020-02-27T22:06:40.273941Z"
    }
   },
   "outputs": [],
   "source": [
    "import pickle \n",
    "\n",
    "###@@@@@@@@@ THIS IS TO ***SAVE*** THE MALLET MODELS FROM ABOVE @@@@@@@@@###\n",
    "pickle.dump(model_list_mallet, open(\"mallet_models.pkl\", \"wb\"))\n",
    "\n",
    "###@@@@@@@@@ THIS IS TO ***OPEN*** THE GENSIM MODELS FROM THE STORED PICKLE FILE @@@@@@@@@###\n",
    "### CHECKPOINT - can just load the pickle file and start running your analysis\n",
    "# mallet_models = pickle.load(open(\"mallet_models.pkl\", \"rb\"))"
   ]
  },
  {
   "cell_type": "code",
   "execution_count": 46,
   "metadata": {
    "ExecuteTime": {
     "end_time": "2020-02-28T06:42:26.816859Z",
     "start_time": "2020-02-28T06:42:26.808881Z"
    }
   },
   "outputs": [],
   "source": [
    "## Another Gensim run with more words taken out from the stop list \n",
    "import nltk\n",
    "import re\n",
    "import gensim\n",
    "\n",
    "def clean_extract2(extract_data):\n",
    "    stop_list = nltk.corpus.stopwords.words('english')\n",
    "    stop_list += ['phone', 'iphone', 'nokia', 'samsung', 'htc', 'lg', 'galaxy', 'ca', '']\n",
    "    tokenizer = nltk.tokenize.word_tokenize\n",
    "    stemmer = nltk.stem.porter.PorterStemmer()\n",
    "\n",
    "    extract_list  = [tokenizer(extract) for extract in extract_data]\n",
    "    extract_list = [[w.lower() for w in extract] for extract in extract_list]\n",
    "    extract_list = [[w for w in extract if re.search('^[a-z]+$',w)] for extract in extract_list]\n",
    "    extract_list = [[w for w in extract if w not in stop_list] for extract in extract_list]\n",
    "#     extract_list = [[stemmer.stem(w) for w in extract] for extract in extract_list]\n",
    "    return extract_list"
   ]
  },
  {
   "cell_type": "code",
   "execution_count": 47,
   "metadata": {
    "ExecuteTime": {
     "end_time": "2020-02-28T06:45:52.637625Z",
     "start_time": "2020-02-28T06:42:54.823674Z"
    }
   },
   "outputs": [],
   "source": [
    "extract_list2 = cleaned_df['extract'].values.tolist()\n",
    "extract_words2 = clean_extract2(extract_list2)"
   ]
  },
  {
   "cell_type": "code",
   "execution_count": 48,
   "metadata": {
    "ExecuteTime": {
     "end_time": "2020-02-28T06:46:09.410341Z",
     "start_time": "2020-02-28T06:45:52.638623Z"
    }
   },
   "outputs": [],
   "source": [
    "import gensim\n",
    "\n",
    "# Using gensim to create a dictionary object of all the words in all extracts\n",
    "extract_dict2 = gensim.corpora.Dictionary(extract_words2)\n",
    "\n",
    "# Returning the word vector for each extract from the gensim dict of words\n",
    "extract_vecs2 = [extract_dict2.doc2bow(extract) for extract in extract_words2]"
   ]
  },
  {
   "cell_type": "code",
   "execution_count": 49,
   "metadata": {
    "ExecuteTime": {
     "end_time": "2020-02-28T07:24:37.788933Z",
     "start_time": "2020-02-28T06:46:09.411307Z"
    }
   },
   "outputs": [
    {
     "name": "stdout",
     "output_type": "stream",
     "text": [
      "Topic 3 Score: 0.37720979072736577\n",
      "Topic 4 Score: 0.4129551343848196\n",
      "Topic 5 Score: 0.3671427833870802\n",
      "Topic 6 Score: 0.42117797065136936\n",
      "Topic 7 Score: 0.41291882112235495\n",
      "Topic 8 Score: 0.4313795092804904\n",
      "Topic 9 Score: 0.44016334248403677\n"
     ]
    }
   ],
   "source": [
    "# Finding the optimal number of topics\n",
    "from gensim.models import CoherenceModel\n",
    "\n",
    "model_list2 = []\n",
    "coh_val2 = []\n",
    "model_topics2 = []\n",
    "\n",
    "for num_topic in range(3, 10):\n",
    "    extract_lda_gensim2 = gensim.models.ldamodel.LdaModel(corpus=extract_vecs2, id2word=extract_dict2, num_topics=num_topic)\n",
    "    coh_model2 = CoherenceModel(model=extract_lda_gensim2, texts=extract_words2, dictionary=extract_dict2, coherence='c_v')\n",
    "    model_topics2.append(num_topic)\n",
    "    model_list2.append(extract_lda_gensim2)\n",
    "    coh_val2.append(coh_model2.get_coherence())\n",
    "    print(\"Topic \" + str(num_topic) + \" Score: \" + str(coh_model2.get_coherence()))"
   ]
  },
  {
   "cell_type": "code",
   "execution_count": 51,
   "metadata": {
    "ExecuteTime": {
     "end_time": "2020-02-28T07:59:51.431541Z",
     "start_time": "2020-02-28T07:59:51.275958Z"
    }
   },
   "outputs": [
    {
     "data": {
      "image/png": "[encoded data removed]",
      "text/plain": [
       "<Figure size 432x288 with 1 Axes>"
      ]
     },
     "metadata": {
      "needs_background": "light"
     },
     "output_type": "display_data"
    }
   ],
   "source": [
    "import matplotlib.pyplot as plt\n",
    "\n",
    "x = range(3, 10)\n",
    "plt.plot(x, coh_val2)\n",
    "plt.xlabel(\"Num Topics\")\n",
    "plt.ylabel(\"Coherence score\")\n",
    "plt.legend((\"coherence_values\"), loc='best')\n",
    "plt.show()"
   ]
  },
  {
   "cell_type": "code",
   "execution_count": 53,
   "metadata": {
    "ExecuteTime": {
     "end_time": "2020-02-28T08:02:06.178800Z",
     "start_time": "2020-02-28T08:02:06.137910Z"
    }
   },
   "outputs": [
    {
     "name": "stdout",
     "output_type": "stream",
     "text": [
      "Model #3 Coherence Score: 0.37720979072736577\n",
      "Topic 1: battery, work, use, get, screen, one, would, time, got, like\n",
      "Topic 2: one, phones, great, love, bought, new, like, got, first, would\n",
      "Topic 3: good, great, camera, screen, quality, nice, easy, battery, excellent, use\n",
      "----------------------------------------------------------------------------\n",
      "Model #4 Coherence Score: 0.4129551343848196\n",
      "Topic 1: work, would, sim, card, working, get, new, use, back, problem\n",
      "Topic 2: battery, good, screen, camera, quality, life, great, nice, touch, like\n",
      "Topic 3: great, good, love, use, easy, like, works, really, price, everything\n",
      "Topic 4: one, phones, first, best, got, get, bought, years, ever, new\n",
      "----------------------------------------------------------------------------\n",
      "Model #5 Coherence Score: 0.3671427833870802\n",
      "Topic 1: best, ever, mobile, smartphone, owned, phones, one, sony, market, android\n",
      "Topic 2: battery, good, life, card, sim, charge, use, memory, apps, ok\n",
      "Topic 3: great, good, works, product, price, love, would, happy, new, recommend\n",
      "Topic 4: one, get, got, first, bought, would, phones, new, time, work\n",
      "Topic 5: great, good, screen, camera, use, easy, like, love, quality, features\n",
      "----------------------------------------------------------------------------\n",
      "Model #6 Coherence Score: 0.42117797065136936\n",
      "Topic 1: works, sim, card, working, service, work, verizon, unlocked, contract, fine\n",
      "Topic 2: battery, get, would, one, time, got, back, screen, problem, even\n",
      "Topic 3: use, phones, easy, like, apps, many, first, android, great, keyboard\n",
      "Topic 4: one, new, great, got, love, bought, would, like, happy, phones\n",
      "Topic 5: best, screen, ever, one, love, size, design, small, great, recommend\n",
      "Topic 6: good, great, camera, quality, battery, nice, price, life, excellent, works\n",
      "----------------------------------------------------------------------------\n",
      "Model #7 Coherence Score: 0.41291882112235495\n",
      "Topic 1: got, first, battery, one, back, worked, screen, months, time, days\n",
      "Topic 2: one, phones, best, love, years, first, ever, like, android, new\n",
      "Topic 3: good, great, camera, use, battery, easy, quality, screen, life, nice\n",
      "Topic 4: good, great, price, product, works, sim, card, memory, excellent, well\n",
      "Topic 5: screen, pros, like, touch, fine, get, blackberry, motorola, text, use\n",
      "Topic 6: work, bought, problems, working, use, one, problem, got, battery, unlocked\n",
      "Topic 7: would, get, bad, buy, send, want, talk, could, money, calls\n",
      "----------------------------------------------------------------------------\n",
      "Model #8 Coherence Score: 0.4313795092804904\n",
      "Topic 1: calls, text, screen, use, get, work, call, time, internet, slow\n",
      "Topic 2: great, screen, use, easy, good, love, nice, camera, perfect, really\n",
      "Topic 3: good, great, works, card, sim, price, product, memory, ok, well\n",
      "Topic 4: battery, good, life, quality, camera, excellent, pros, sound, cons, charge\n",
      "Topic 5: best, ever, mobile, recommend, money, would, buy, one, great, smartphone\n",
      "Topic 6: work, months, got, would, verizon, unlocked, received, working, bought, blackberry\n",
      "Topic 7: one, new, got, first, bought, phones, years, time, used, old\n",
      "Topic 8: like, better, phones, much, great, really, android, one, features, love\n",
      "----------------------------------------------------------------------------\n",
      "Model #9 Coherence Score: 0.44016334248403677\n",
      "Topic 1: good, battery, life, mobile, money, camera, nice, bad, quality, arrived\n",
      "Topic 2: price, product, good, recommend, great, excellent, buy, would, worth, anyone\n",
      "Topic 3: great, love, like, works, really, well, much, better, worked, features\n",
      "Topic 4: phones, best, one, ever, android, first, unlocked, mobile, smartphone, owned\n",
      "Topic 5: sim, card, dont, started, condition, u, ordered, liked, cant, gets\n",
      "Topic 6: battery, working, work, use, problem, charge, time, even, months, would\n",
      "Topic 7: use, easy, screen, touch, keyboard, text, like, simple, cheap, want\n",
      "Topic 8: good, camera, quality, screen, great, pros, nice, music, memory, sound\n",
      "Topic 9: one, bought, got, new, first, would, get, came, time, wanted\n",
      "----------------------------------------------------------------------------\n"
     ]
    }
   ],
   "source": [
    "# 2nd Gensim LDA Model - topics\n",
    "val2 = 0\n",
    "model_num2 = 3\n",
    "for model in model_list2:\n",
    "    print(\"Model #{} Coherence Score: {}\".format(model_num2, coh_val2[val2]))\n",
    "    topics = model.show_topics(formatted=False)\n",
    "    for topic, word_list in topics:\n",
    "        topic_num = topic + 1\n",
    "        result_list2 = []\n",
    "        for word, word_prob in word_list:\n",
    "            result_list2.append(word)\n",
    "        print(\"Topic {}: {}\".format(topic_num, ', '.join(result_list2)))\n",
    "    model_num2 += 1\n",
    "    val2 += 1\n",
    "    print('----------------------------------------------------------------------------')"
   ]
  },
  {
   "cell_type": "code",
   "execution_count": 54,
   "metadata": {
    "ExecuteTime": {
     "end_time": "2020-02-28T08:03:12.898791Z",
     "start_time": "2020-02-28T08:03:12.815659Z"
    }
   },
   "outputs": [],
   "source": [
    "import pickle \n",
    "\n",
    "###@@@@@@@@@ THIS IS TO ***SAVE*** THE MALLET MODELS FROM ABOVE @@@@@@@@@###\n",
    "pickle.dump(model_list2, open(\"gensim_models2.pkl\", \"wb\"))\n",
    "\n",
    "###@@@@@@@@@ THIS IS TO ***OPEN*** THE GENSIM MODELS FROM THE STORED PICKLE FILE @@@@@@@@@###\n",
    "### CHECKPOINT - can just load the pickle file and start running your analysis\n",
    "# mallet_models = pickle.load(open(\"mallet_models.pkl\", \"rb\"))"
   ]
  },
  {
   "cell_type": "code",
   "execution_count": 55,
   "metadata": {
    "ExecuteTime": {
     "end_time": "2020-02-28T08:54:29.898687Z",
     "start_time": "2020-02-28T08:04:27.954290Z"
    }
   },
   "outputs": [
    {
     "name": "stdout",
     "output_type": "stream",
     "text": [
      "Topic 3 Score: 0.33886764510583456\n",
      "Topic 4 Score: 0.40415441462936047\n",
      "Topic 5 Score: 0.4297441330925132\n",
      "Topic 6 Score: 0.442586226238539\n",
      "Topic 7 Score: 0.44981361903050854\n",
      "Topic 8 Score: 0.4711436807881638\n",
      "Topic 9 Score: 0.49534991688020447\n"
     ]
    }
   ],
   "source": [
    "# 2nd Mallet LDA Model\n",
    "import gensim\n",
    "import os \n",
    "\n",
    "os.environ.update({'MALLET_HOME':r'D:\\\\Softwares\\\\mallet-2.0.8'})\n",
    "mallet_path = r'D:\\\\Softwares\\\\mallet-2.0.8\\\\bin\\\\mallet'\n",
    "\n",
    "model_list_mallet2 = []\n",
    "coh_val_mallet2 = []\n",
    "\n",
    "for num_topic in range(3, 10):\n",
    "    extract_lda_mallet2 = gensim.models.wrappers.LdaMallet(mallet_path, corpus=extract_vecs2, id2word=extract_dict2, num_topics=num_topic)\n",
    "    coh_model_mallet2 = CoherenceModel(model=extract_lda_mallet2, texts=extract_words2, dictionary=extract_dict2, coherence='c_v')\n",
    "    model_list_mallet2.append(extract_lda_mallet2)\n",
    "    coh_val_mallet2.append(coh_model_mallet2.get_coherence())\n",
    "    print(\"Topic \" + str(num_topic) + \" Score: \" + str(coh_model_mallet2.get_coherence()))"
   ]
  },
  {
   "cell_type": "code",
   "execution_count": 56,
   "metadata": {
    "ExecuteTime": {
     "end_time": "2020-02-28T08:54:30.053319Z",
     "start_time": "2020-02-28T08:54:29.901682Z"
    }
   },
   "outputs": [
    {
     "data": {
      "image/png": "[encoded data removed]",
      "text/plain": [
       "<Figure size 432x288 with 1 Axes>"
      ]
     },
     "metadata": {
      "needs_background": "light"
     },
     "output_type": "display_data"
    }
   ],
   "source": [
    "import matplotlib.pyplot as plt\n",
    "\n",
    "x = range(3, 10)\n",
    "plt.plot(x, coh_val_mallet2)\n",
    "plt.xlabel(\"Num Topics\")\n",
    "plt.ylabel(\"Coherence score\")\n",
    "plt.legend((\"coherence_values\"), loc='best')\n",
    "plt.show()"
   ]
  },
  {
   "cell_type": "code",
   "execution_count": 57,
   "metadata": {
    "ExecuteTime": {
     "end_time": "2020-02-28T08:54:30.098200Z",
     "start_time": "2020-02-28T08:54:30.055313Z"
    }
   },
   "outputs": [
    {
     "name": "stdout",
     "output_type": "stream",
     "text": [
      "Model #3 Coherence Score: 0.33886764510583456\n",
      "Topic 1: great, love, battery, bought, phones, product, easy, buy, life, time\n",
      "Topic 2: works, work, back, problem, sim, working, card, bad, problems, months\n",
      "Topic 3: good, camera, screen, price, great, quality, nice, mobile, excellent, fast\n",
      "----------------------------------------------------------------------------\n",
      "Model #4 Coherence Score: 0.40415441462936047\n",
      "Topic 1: good, battery, camera, quality, price, nice, mobile, life, fast, excellent\n",
      "Topic 2: great, product, works, buy, work, apps, sim, happy, card, money\n",
      "Topic 3: screen, love, great, phones, easy, features, android, touch, smartphone, size\n",
      "Topic 4: time, back, bought, months, working, problem, days, problems, year, day\n",
      "----------------------------------------------------------------------------\n",
      "Model #5 Coherence Score: 0.4297441330925132\n",
      "Topic 1: screen, phones, android, device, years, size, big, bit, note, perfect\n",
      "Topic 2: good, camera, price, quality, nice, mobile, excellent, fast, awesome, amazing\n",
      "Topic 3: battery, time, life, problem, back, months, working, day, days, bad\n",
      "Topic 4: bought, product, works, work, sim, buy, happy, card, purchased, service\n",
      "Topic 5: great, love, easy, features, apps, smart, lot, recommend, make, user\n",
      "----------------------------------------------------------------------------\n",
      "Model #6 Coherence Score: 0.442586226238539\n",
      "Topic 1: good, battery, camera, quality, life, awesome, excellent, display, fast, nice\n",
      "Topic 2: great, screen, love, easy, features, nice, touch, perfect, size, big\n",
      "Topic 3: time, months, work, back, day, problems, call, calls, make, month\n",
      "Topic 4: great, works, price, android, apps, sim, card, device, memory, unlocked\n",
      "Topic 5: phones, years, bought, smart, smartphone, wanted, user, year, note, made\n",
      "Topic 6: product, buy, mobile, bought, working, happy, money, problem, bad, charge\n",
      "----------------------------------------------------------------------------\n",
      "Model #7 Coherence Score: 0.44981361903050854\n",
      "Topic 1: great, love, features, easy, perfect, smartphone, recommend, smart, small, size\n",
      "Topic 2: bought, phones, years, year, purchased, happy, wanted, months, blackberry, owned\n",
      "Topic 3: works, work, sim, card, fine, service, purchase, received, unlocked, charger\n",
      "Topic 4: time, working, problem, problems, back, call, calls, months, internet, make\n",
      "Topic 5: battery, great, life, fast, android, apps, day, device, days, charge\n",
      "Topic 6: screen, camera, touch, nice, display, memory, amazing, design, back, light\n",
      "Topic 7: good, price, quality, product, mobile, excellent, buy, nice, camera, money\n",
      "----------------------------------------------------------------------------\n",
      "Model #8 Coherence Score: 0.4711436807881638\n",
      "Topic 1: good, camera, quality, fast, nice, awesome, amazing, display, sound, light\n",
      "Topic 2: time, call, calls, make, internet, people, slow, text, keyboard, thing\n",
      "Topic 3: great, price, product, works, excellent, buy, happy, money, recommend, worth\n",
      "Topic 4: phones, bought, years, year, wanted, back, owned, made, ago, months\n",
      "Topic 5: battery, good, mobile, life, problem, day, days, bad, charge, long\n",
      "Topic 6: work, working, months, month, problems, back, service, received, unlocked, charger\n",
      "Topic 7: screen, love, easy, features, touch, nice, size, big, great, small\n",
      "Topic 8: android, apps, sim, card, device, memory, smartphone, lot, review, music\n",
      "----------------------------------------------------------------------------\n",
      "Model #9 Coherence Score: 0.49534991688020447\n",
      "Topic 1: product, works, excellent, buy, happy, recommend, purchase, received, charger, expected\n",
      "Topic 2: bought, phones, years, year, wanted, note, owned, ago, review, upgrade\n",
      "Topic 3: easy, touch, calls, make, internet, text, find, blackberry, keyboard, music\n",
      "Topic 4: time, months, back, apps, problems, thing, bad, slow, times, issues\n",
      "Topic 5: great, screen, love, size, big, features, design, perfect, feel, edge\n",
      "Topic 6: work, sim, working, card, money, buy, service, cell, worked, month\n",
      "Topic 7: good, battery, mobile, life, day, problem, days, charge, long, memory\n",
      "Topic 8: price, android, device, smartphone, user, windows, sony, features, update, apple\n",
      "Topic 9: camera, good, quality, nice, awesome, fast, amazing, display, sound, light\n",
      "----------------------------------------------------------------------------\n"
     ]
    }
   ],
   "source": [
    "# Mallet LDA Model - topics\n",
    "val = 0\n",
    "mallet_model_num = 3\n",
    "for model in model_list_mallet2:\n",
    "    print(\"Model #{} Coherence Score: {}\".format(mallet_model_num, coh_val_mallet2[val]))\n",
    "    topics = model.show_topics(formatted=False)\n",
    "    for topic, word_list in topics:\n",
    "        topic_num = topic + 1\n",
    "        result_list = []\n",
    "        for word, word_prob in word_list:\n",
    "            result_list.append(word)\n",
    "        print(\"Topic {}: {}\".format(topic_num, ', '.join(result_list)))\n",
    "    mallet_model_num += 1\n",
    "    val += 1\n",
    "    print('----------------------------------------------------------------------------')"
   ]
  },
  {
   "cell_type": "code",
   "execution_count": 58,
   "metadata": {
    "ExecuteTime": {
     "end_time": "2020-02-28T08:54:30.170102Z",
     "start_time": "2020-02-28T08:54:30.099232Z"
    }
   },
   "outputs": [],
   "source": [
    "import pickle \n",
    "\n",
    "###@@@@@@@@@ THIS IS TO ***SAVE*** THE MALLET MODELS FROM ABOVE @@@@@@@@@###\n",
    "pickle.dump(model_list_mallet2, open(\"mallet_models2.pkl\", \"wb\"))\n",
    "\n",
    "###@@@@@@@@@ THIS IS TO ***OPEN*** THE GENSIM MODELS FROM THE STORED PICKLE FILE @@@@@@@@@###\n",
    "### CHECKPOINT - can just load the pickle file and start running your analysis\n",
    "# mallet_models = pickle.load(open(\"mallet_models.pkl\", \"rb\"))"
   ]
  },
  {
   "cell_type": "code",
   "execution_count": null,
   "metadata": {},
   "outputs": [],
   "source": [
    "## Another Gensim run with more words taken out from the stop list \n",
    "import nltk\n",
    "import re\n",
    "import gensim\n",
    "\n",
    "def clean_extract2(extract_data):\n",
    "    stop_list = nltk.corpus.stopwords.words('english')\n",
    "    stop_list += ['phone', 'iphone', 'nokia', 'samsung', 'htc', 'lg', 'galaxy', 'ca', '']\n",
    "    tokenizer = nltk.tokenize.word_tokenize\n",
    "    stemmer = nltk.stem.porter.PorterStemmer()\n",
    "\n",
    "    extract_list  = [tokenizer(extract) for extract in extract_data]\n",
    "    extract_list = [[w.lower() for w in extract] for extract in extract_list]\n",
    "    extract_list = [[w for w in extract if re.search('^[a-z]+$',w)] for extract in extract_list]\n",
    "    extract_list = [[w for w in extract if w not in stop_list] for extract in extract_list]\n",
    "#     extract_list = [[stemmer.stem(w) for w in extract] for extract in extract_list]\n",
    "    return extract_list"
   ]
  },
  {
   "cell_type": "code",
   "execution_count": 60,
   "metadata": {
    "ExecuteTime": {
     "end_time": "2020-02-28T13:53:25.610183Z",
     "start_time": "2020-02-28T13:53:25.588019Z"
    }
   },
   "outputs": [],
   "source": [
    "import nltk\n",
    "import re\n",
    "\n",
    "new_query = 'Good phone screen good battery life'\n",
    "tokenizer = nltk.tokenize.word_tokenize\n",
    "cleaned_query = tokenizer(new_query)\n",
    "cleaned_query = [w.lower() for w in cleaned_query]\n",
    "cleaned_query = [w for w in cleaned_query if re.search('^[a-z]+$',w)]"
   ]
  },
  {
   "cell_type": "code",
   "execution_count": 62,
   "metadata": {
    "ExecuteTime": {
     "end_time": "2020-02-28T13:55:16.679144Z",
     "start_time": "2020-02-28T13:55:16.669792Z"
    }
   },
   "outputs": [],
   "source": [
    "import gensim\n",
    "\n",
    "# Returning the word vector for each extract from the gensim dict of words\n",
    "query_vecs = extract_dict2.doc2bow(cleaned_query)"
   ]
  },
  {
   "cell_type": "code",
   "execution_count": 65,
   "metadata": {
    "ExecuteTime": {
     "end_time": "2020-02-28T14:07:49.950126Z",
     "start_time": "2020-02-28T14:06:13.143996Z"
    }
   },
   "outputs": [
    {
     "name": "stdout",
     "output_type": "stream",
     "text": [
      "[(0, 0.12987012987012989), (1, 0.12987012987012989), (2, 0.12987012987012989), (3, 0.12987012987012989), (4, 0.1662337662337662), (5, 0.14805194805194802), (6, 0.1662337662337662)]\n"
     ]
    }
   ],
   "source": [
    "output = list(model_list_mallet2[4][query_vecs])\n",
    "\n",
    "print(output)"
   ]
  }
 ],
 "metadata": {
  "kernelspec": {
   "display_name": "Python 3",
   "language": "python",
   "name": "python3"
  },
  "language_info": {
   "codemirror_mode": {
    "name": "ipython",
    "version": 3
   },
   "file_extension": ".py",
   "mimetype": "text/x-python",
   "name": "python",
   "nbconvert_exporter": "python",
   "pygments_lexer": "ipython3",
   "version": "3.6.5"
  }
 },
 "nbformat": 4,
 "nbformat_minor": 2
}
