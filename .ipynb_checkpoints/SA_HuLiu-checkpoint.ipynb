{
 "cells": [
  {
   "cell_type": "code",
   "execution_count": 64,
   "metadata": {},
   "outputs": [
    {
     "data": {
      "text/html": [
       "<div>\n",
       "<style scoped>\n",
       "    .dataframe tbody tr th:only-of-type {\n",
       "        vertical-align: middle;\n",
       "    }\n",
       "\n",
       "    .dataframe tbody tr th {\n",
       "        vertical-align: top;\n",
       "    }\n",
       "\n",
       "    .dataframe thead th {\n",
       "        text-align: right;\n",
       "    }\n",
       "</style>\n",
       "<table border=\"1\" class=\"dataframe\">\n",
       "  <thead>\n",
       "    <tr style=\"text-align: right;\">\n",
       "      <th></th>\n",
       "      <th>date</th>\n",
       "      <th>lang</th>\n",
       "      <th>country</th>\n",
       "      <th>source</th>\n",
       "      <th>domain</th>\n",
       "      <th>score</th>\n",
       "      <th>score_max</th>\n",
       "      <th>extract</th>\n",
       "      <th>author</th>\n",
       "      <th>product</th>\n",
       "      <th>phone_model</th>\n",
       "    </tr>\n",
       "  </thead>\n",
       "  <tbody>\n",
       "    <tr>\n",
       "      <th>0</th>\n",
       "      <td>5/2/2017</td>\n",
       "      <td>en</td>\n",
       "      <td>us</td>\n",
       "      <td>Verizon Wireless</td>\n",
       "      <td>verizonwireless.com</td>\n",
       "      <td>10.0</td>\n",
       "      <td>10.0</td>\n",
       "      <td>As a diehard Samsung fan who has had every Samsung phone since before the S series started, this has been my favorite upgrade so far. I am amazed at some of the reviews and think people may just have a defective device that needs to be replaced. The battery life is amazing.</td>\n",
       "      <td>CarolAnn35</td>\n",
       "      <td>Samsung Galaxy S8</td>\n",
       "      <td>Samsung Galaxy S8</td>\n",
       "    </tr>\n",
       "    <tr>\n",
       "      <th>1</th>\n",
       "      <td>4/28/2017</td>\n",
       "      <td>en</td>\n",
       "      <td>us</td>\n",
       "      <td>Phone Arena</td>\n",
       "      <td>phonearena.com</td>\n",
       "      <td>10.0</td>\n",
       "      <td>10.0</td>\n",
       "      <td>Love the phone. the phone is sleek and smooth and beautiful I highly recommend the phone you will not regret getting this phone.</td>\n",
       "      <td>james0923</td>\n",
       "      <td>Samsung Galaxy S8</td>\n",
       "      <td>Samsung Galaxy S8</td>\n",
       "    </tr>\n",
       "    <tr>\n",
       "      <th>2</th>\n",
       "      <td>5/4/2017</td>\n",
       "      <td>en</td>\n",
       "      <td>us</td>\n",
       "      <td>Amazon</td>\n",
       "      <td>amazon.com</td>\n",
       "      <td>6.0</td>\n",
       "      <td>10.0</td>\n",
       "      <td>Adequate feel. Nice heft. Processor's still sluggish for the few apps that I have installed. Samsung wants to vacuum all of your data with their apps that requires more access than needed. What else is new.</td>\n",
       "      <td>R. Craig</td>\n",
       "      <td>Samsung Galaxy S8 (64GB) G950U 5.8\" 4G LTE Unlocked (GSM + CDMA, US WARRANTY) (Orchid Gray)</td>\n",
       "      <td>Samsung Galaxy S8</td>\n",
       "    </tr>\n",
       "    <tr>\n",
       "      <th>3</th>\n",
       "      <td>5/2/2017</td>\n",
       "      <td>en</td>\n",
       "      <td>us</td>\n",
       "      <td>Samsung</td>\n",
       "      <td>samsung.com</td>\n",
       "      <td>9.2</td>\n",
       "      <td>10.0</td>\n",
       "      <td>Never disappointed. One of the reasons I've been a long Samsung (product) consumer, they're ability to impress me with each product release. I've owned, or maintained, all Samsung smartphones starting with the S4 and the S8 is the best one yet.</td>\n",
       "      <td>Buster2020</td>\n",
       "      <td>Samsung Galaxy S8 64GB (AT&amp;T)</td>\n",
       "      <td>Samsung Galaxy S8</td>\n",
       "    </tr>\n",
       "    <tr>\n",
       "      <th>4</th>\n",
       "      <td>5/11/2017</td>\n",
       "      <td>en</td>\n",
       "      <td>us</td>\n",
       "      <td>Verizon Wireless</td>\n",
       "      <td>verizonwireless.com</td>\n",
       "      <td>4.0</td>\n",
       "      <td>10.0</td>\n",
       "      <td>I've now found that i'm in a group of people that have carried their phone in their pocket without problems until the S8. Day one screen has crack from being in my pocket. Bluetooth on my 1st trip struggles to stay connected. Good news.....battery life is great and lots of great features.</td>\n",
       "      <td>S Ate Mine</td>\n",
       "      <td>Samsung Galaxy S8</td>\n",
       "      <td>Samsung Galaxy S8</td>\n",
       "    </tr>\n",
       "  </tbody>\n",
       "</table>\n",
       "</div>"
      ],
      "text/plain": [
       "        date lang country            source               domain  score  \\\n",
       "0   5/2/2017   en      us  Verizon Wireless  verizonwireless.com   10.0   \n",
       "1  4/28/2017   en      us       Phone Arena       phonearena.com   10.0   \n",
       "2   5/4/2017   en      us            Amazon           amazon.com    6.0   \n",
       "3   5/2/2017   en      us           Samsung          samsung.com    9.2   \n",
       "4  5/11/2017   en      us  Verizon Wireless  verizonwireless.com    4.0   \n",
       "\n",
       "   score_max  \\\n",
       "0       10.0   \n",
       "1       10.0   \n",
       "2       10.0   \n",
       "3       10.0   \n",
       "4       10.0   \n",
       "\n",
       "                                                                                                                                                                                                                                                                                             extract  \\\n",
       "0                 As a diehard Samsung fan who has had every Samsung phone since before the S series started, this has been my favorite upgrade so far. I am amazed at some of the reviews and think people may just have a defective device that needs to be replaced. The battery life is amazing.   \n",
       "1                                                                                                                                                                   Love the phone. the phone is sleek and smooth and beautiful I highly recommend the phone you will not regret getting this phone.   \n",
       "2                                                                                     Adequate feel. Nice heft. Processor's still sluggish for the few apps that I have installed. Samsung wants to vacuum all of your data with their apps that requires more access than needed. What else is new.   \n",
       "3                                               Never disappointed. One of the reasons I've been a long Samsung (product) consumer, they're ability to impress me with each product release. I've owned, or maintained, all Samsung smartphones starting with the S4 and the S8 is the best one yet.   \n",
       "4  I've now found that i'm in a group of people that have carried their phone in their pocket without problems until the S8. Day one screen has crack from being in my pocket. Bluetooth on my 1st trip struggles to stay connected. Good news.....battery life is great and lots of great features.   \n",
       "\n",
       "        author  \\\n",
       "0   CarolAnn35   \n",
       "1    james0923   \n",
       "2     R. Craig   \n",
       "3  Buster2020    \n",
       "4   S Ate Mine   \n",
       "\n",
       "                                                                                       product  \\\n",
       "0                                                                            Samsung Galaxy S8   \n",
       "1                                                                            Samsung Galaxy S8   \n",
       "2  Samsung Galaxy S8 (64GB) G950U 5.8\" 4G LTE Unlocked (GSM + CDMA, US WARRANTY) (Orchid Gray)   \n",
       "3                                                                Samsung Galaxy S8 64GB (AT&T)   \n",
       "4                                                                            Samsung Galaxy S8   \n",
       "\n",
       "         phone_model  \n",
       "0  Samsung Galaxy S8  \n",
       "1  Samsung Galaxy S8  \n",
       "2  Samsung Galaxy S8  \n",
       "3  Samsung Galaxy S8  \n",
       "4  Samsung Galaxy S8  "
      ]
     },
     "execution_count": 64,
     "metadata": {},
     "output_type": "execute_result"
    }
   ],
   "source": [
    "import pandas as pd\n",
    "import nltk\n",
    "import re\n",
    "from nltk.corpus import PlaintextCorpusReader\n",
    "from nltk.corpus import stopwords\n",
    "from nltk.stem.porter import *\n",
    "\n",
    "cleaned_df = pd.read_csv(\"cleaned_phone_data.csv\") \n",
    "cleaned_df.head()"
   ]
  },
  {
   "cell_type": "code",
   "execution_count": 65,
   "metadata": {},
   "outputs": [
    {
     "name": "stdout",
     "output_type": "stream",
     "text": [
      "type person never would complet sold phone realli samsung galaxi nexu googl phone got time fri made sens\n"
     ]
    }
   ],
   "source": [
    "import nltk\n",
    "import re\n",
    "import gensim\n",
    "\n",
    "def clean_extract(extract_data):\n",
    "    stop_list = nltk.corpus.stopwords.words('english')\n",
    "    tokenizer = nltk.tokenize.word_tokenize\n",
    "    stemmer = nltk.stem.porter.PorterStemmer()\n",
    "    \n",
    "    extract_list  = [tokenizer(extract) for extract in extract_data]\n",
    "    extract_list = [[w.lower() for w in extract] for extract in extract_list]\n",
    "    extract_list = [[w for w in extract if re.search('^[a-z]+$',w)] for extract in extract_list]\n",
    "    extract_list = [[w for w in extract if w not in stop_list] for extract in extract_list]\n",
    "    extract_list = [[stemmer.stem(w) for w in extract] for extract in extract_list]\n",
    "    \n",
    "    return extract_list\n",
    "\n",
    "extract_list = cleaned_df['extract'].values.tolist()\n",
    "extract_words = clean_extract(extract_list)\n",
    "extract_sent = [' '.join(extract) for extract in extract_words]\n",
    "\n",
    "\n",
    "print(extract_sent[5])"
   ]
  },
  {
   "cell_type": "code",
   "execution_count": 66,
   "metadata": {},
   "outputs": [
    {
     "name": "stdout",
     "output_type": "stream",
     "text": [
      "['Love the phone. the phone is sleek and smooth and beautiful I highly recommend the phone you will not regret getting this phone.', \"Adequate feel. Nice heft. Processor's still sluggish for the few apps that I have installed. Samsung wants to vacuum all of your data with their apps that requires more access than needed. What else is new.\", \"Never disappointed. One of the reasons I've been a long Samsung (product) consumer, they're ability to impress me with each product release. I've owned, or maintained, all Samsung smartphones starting with the S4 and the S8 is the best one yet.\"]\n",
      "['love phone phone sleek smooth beauti highli recommend phone regret get phone', 'adequ feel nice heft processor still sluggish app instal samsung want vacuum data app requir access need els new', 'never disappoint one reason long samsung product consum abil impress product releas own maintain samsung smartphon start best one yet']\n"
     ]
    }
   ],
   "source": [
    "print(extract_list[1:4])\n",
    "print(extract_sent[1:4])"
   ]
  },
  {
   "cell_type": "code",
   "execution_count": 67,
   "metadata": {},
   "outputs": [
    {
     "name": "stdout",
     "output_type": "stream",
     "text": [
      "['a+', 'abound', 'abounds', 'abundance', 'abundant', 'accessable', 'accessible', 'acclaim', 'acclaimed', 'acclamation']\n",
      "['2-faced', '2-faces', 'abnormal', 'abolish', 'abominable', 'abominably', 'abominate', 'abomination', 'abort', 'aborted']\n"
     ]
    }
   ],
   "source": [
    "poswords_df = pd.read_csv('huliu_positive-words.txt', sep=\" \", header=None, encoding='latin-1')\n",
    "#poswords_df.head()\n",
    "poswords_list = poswords_df[0].values.tolist()\n",
    "\n",
    "negwords_df = pd.read_csv('huliu_negative-words.txt', sep=\" \", header=None, encoding='latin-1')\n",
    "#negwords_df.head()\n",
    "negwords_list = negwords_df[0].values.tolist()\n",
    "\n",
    "print(poswords_list[0:10])\n",
    "print(negwords_list[0:10])"
   ]
  },
  {
   "cell_type": "markdown",
   "metadata": {},
   "source": [
    "## TRAIL ONE (WITH YL'S CLEANING)"
   ]
  },
  {
   "cell_type": "code",
   "execution_count": 68,
   "metadata": {},
   "outputs": [
    {
     "data": {
      "text/plain": [
       "[-1, 3, 0, 1]"
      ]
     },
     "execution_count": 68,
     "metadata": {},
     "output_type": "execute_result"
    }
   ],
   "source": [
    "#nltk.download('opinion_lexicon')\n",
    "from nltk.corpus import opinion_lexicon\n",
    "from nltk import word_tokenize\n",
    "\n",
    "def simple_sentiment(text):\n",
    "    pos_words = 0\n",
    "    neg_words = 0\n",
    "    tokens = [word.lower() for word in word_tokenize(text)]\n",
    "\n",
    "    for word in tokens:\n",
    "        if word in opinion_lexicon.positive():\n",
    "            pos_words += 1\n",
    "        elif word in opinion_lexicon.negative():\n",
    "            neg_words += 1\n",
    "        \n",
    "    return pos_words-neg_words\n",
    "\n",
    "#    if pos_words > neg_words:\n",
    "#        return 'Positive'\n",
    "#    elif pos_words < neg_words:\n",
    "#        return 'Negative'\n",
    "#    elif pos_words == neg_words:\n",
    "#        return 'Neutral'\n",
    "    \n",
    "#for sentence in extract_sent[1:4]:\n",
    "#    print(simple_sentiment(sentence))\n",
    "\n",
    "sentence_positivity_counts=[]\n",
    "for sentence in extract_sent[0:4]:\n",
    "    sentence_positivity_counts.append(simple_sentiment(sentence))\n",
    "\n",
    "sentence_positivity_counts"
   ]
  },
  {
   "cell_type": "code",
   "execution_count": 69,
   "metadata": {},
   "outputs": [
    {
     "name": "stdout",
     "output_type": "stream",
     "text": [
      "                                                                                                                                            sentence  \\\n",
      "0  diehard samsung fan everi samsung phone sinc seri start favorit upgrad far amaz review think peopl may defect devic need replac batteri life amaz   \n",
      "1                                                                       love phone phone sleek smooth beauti highli recommend phone regret get phone   \n",
      "2                                   adequ feel nice heft processor still sluggish app instal samsung want vacuum data app requir access need els new   \n",
      "3              never disappoint one reason long samsung product consum abil impress product releas own maintain samsung smartphon start best one yet   \n",
      "\n",
      "   sentiment  \n",
      "0         -1  \n",
      "1          3  \n",
      "2          0  \n",
      "3          1  \n"
     ]
    }
   ],
   "source": [
    "result = pd.DataFrame(\n",
    "    {'sentence': extract_sent[0:4],\n",
    "     'sentiment': sentence_positivity_counts\n",
    "    })\n",
    "\n",
    "pd.set_option('max_colwidth', 800)\n",
    "\n",
    "print(result[0:10])"
   ]
  },
  {
   "cell_type": "markdown",
   "metadata": {},
   "source": [
    "## TRAIL TWO (WITHOUT YL'S CLEANING)"
   ]
  },
  {
   "cell_type": "code",
   "execution_count": 70,
   "metadata": {},
   "outputs": [
    {
     "data": {
      "text/plain": [
       "[2, 4, 1, 1]"
      ]
     },
     "execution_count": 70,
     "metadata": {},
     "output_type": "execute_result"
    }
   ],
   "source": [
    "from nltk.corpus import opinion_lexicon\n",
    "from nltk import word_tokenize\n",
    "\n",
    "def simple_sentiment(text):\n",
    "    pos_words = 0\n",
    "    neg_words = 0\n",
    "    tokens = [word.lower() for word in word_tokenize(text)]\n",
    "\n",
    "    for word in tokens:\n",
    "        if word in opinion_lexicon.positive():\n",
    "            pos_words += 1\n",
    "        elif word in opinion_lexicon.negative():\n",
    "            neg_words += 1\n",
    "        \n",
    "    return pos_words-neg_words\n",
    "\n",
    "sentence_positivity_counts_2=[]\n",
    "for sentence in extract_list[0:4]:\n",
    "    sentence_positivity_counts_2.append(simple_sentiment(sentence))\n",
    "\n",
    "sentence_positivity_counts_2"
   ]
  },
  {
   "cell_type": "code",
   "execution_count": 71,
   "metadata": {},
   "outputs": [
    {
     "name": "stdout",
     "output_type": "stream",
     "text": [
      "                                                                                                                                                                                                                                                                             sentence  \\\n",
      "0  As a diehard Samsung fan who has had every Samsung phone since before the S series started, this has been my favorite upgrade so far. I am amazed at some of the reviews and think people may just have a defective device that needs to be replaced. The battery life is amazing.   \n",
      "1                                                                                                                                                    Love the phone. the phone is sleek and smooth and beautiful I highly recommend the phone you will not regret getting this phone.   \n",
      "2                                                                      Adequate feel. Nice heft. Processor's still sluggish for the few apps that I have installed. Samsung wants to vacuum all of your data with their apps that requires more access than needed. What else is new.   \n",
      "3                                Never disappointed. One of the reasons I've been a long Samsung (product) consumer, they're ability to impress me with each product release. I've owned, or maintained, all Samsung smartphones starting with the S4 and the S8 is the best one yet.   \n",
      "\n",
      "   sentiment  \n",
      "0          2  \n",
      "1          4  \n",
      "2          1  \n",
      "3          1  \n"
     ]
    }
   ],
   "source": [
    "result2 = pd.DataFrame(\n",
    "    {'sentence': extract_list[0:4],\n",
    "     'sentiment': sentence_positivity_counts_2\n",
    "    })\n",
    "\n",
    "\n",
    "print(result2[0:10])"
   ]
  }
 ],
 "metadata": {
  "kernelspec": {
   "display_name": "Python 3",
   "language": "python",
   "name": "python3"
  },
  "language_info": {
   "codemirror_mode": {
    "name": "ipython",
    "version": 3
   },
   "file_extension": ".py",
   "mimetype": "text/x-python",
   "name": "python",
   "nbconvert_exporter": "python",
   "pygments_lexer": "ipython3",
   "version": "3.6.8"
  }
 },
 "nbformat": 4,
 "nbformat_minor": 2
}
